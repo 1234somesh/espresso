{
 "metadata": {
  "name": "",
  "signature": "sha256:9531fc4e4967d12c3f21b0a83141f73c8315d73157b848f14f881cbef1e1a5fe"
 },
 "nbformat": 3,
 "nbformat_minor": 0,
 "worksheets": [
  {
   "cells": [
    {
     "cell_type": "heading",
     "level": 1,
     "metadata": {},
     "source": [
      "Tutorial 1: Lennard-Jones Liquid"
     ]
    },
    {
     "cell_type": "markdown",
     "metadata": {},
     "source": [
      "# Table of Contents\n",
      "1. [Introduction](#Introduction)\n",
      "2. [Background](#Background)\n",
      "3. [The Lennard-Jones Potential](#The-Lennard-Jones-Potential)\n",
      "4. [Units](#Units)\n",
      "5. [Python versions](#Python-versions)\n",
      "6. [First steps](#First-steps)\n",
      "7. [Overview of a simulation script](#Overview-of-a-simulation-script)\n",
      "    1. [System setup](#System-setup)\n",
      "    2. [Choosing the thermodynamic ensemble, thermostat](#Choosing-the-thermodynamic-ensemble,-thermostat)\n",
      "    3. [Placing and accessing particles](#Placing-and-accessing-particles)\n",
      "    4. [Setting up non-bonded interactions](#Setting-up-non-bonded-interactions)\n",
      "    5. [Warmup](#Warmup)\n",
      "    6. [Integrating equations of motion and taking measurements](#Integrating-equations-of-motion-and-taking-measurements)\n",
      "    7. [Simple Error Estimation on Time Series Data](#Simple-Error-Estimation-on-Time-Series-Data)\n",
      "8. [Exercises](#Exercises)\n",
      "    1. [Binary Lennard-Jones Liquid](#Binary-Lennard-Jones-Liquid)\n",
      "9. [References](#References)\n",
      "    "
     ]
    },
    {
     "cell_type": "heading",
     "level": 2,
     "metadata": {},
     "source": [
      "Introduction"
     ]
    },
    {
     "cell_type": "markdown",
     "metadata": {},
     "source": [
      "Welcome to the basic ESPResSo tutorial!\n",
      "\n",
      "In this tutorial, you will learn, how to use the ESPResSo package for your \n",
      "research. We will cover the basics of ESPResSo, i.e., how to set up and modify a physical system, how to run a simulation, and how to load, save and analyze the produced simulation data.\n",
      "\n",
      "More advanced features and algorithms available in the ESPResSo package are \n",
      "described in additional tutorials."
     ]
    },
    {
     "cell_type": "heading",
     "level": 2,
     "metadata": {},
     "source": [
      "Background"
     ]
    },
    {
     "cell_type": "markdown",
     "metadata": {},
     "source": [
      "Today's research on Soft Condensed Matter has brought the needs for having a flexible, extensible, reliable, and efficient (parallel) molecular simulation package. For this reason ESPResSo (Extensible Simulation Package for Research on Soft matter) [1] has been developed at Max Planck Institute for Polymer Research, Mainz, and Institute for Computational Physics at the University of Stuttgart in  the group of Prof. Dr. Christian Holm [2,3]. The Espresso package is probably the most flexible and extensible simulation package in the market. It is specially developed for coarse-grained molecular dynamics (MD) simulation of polyelectrolytes but is not necessarily limited to this. For example, it could also be used to simulate granular media. ESPResSo has been nominated for the Heinz-Billing-Preis for Scientific Computing in 2003 [4]."
     ]
    },
    {
     "cell_type": "heading",
     "level": 2,
     "metadata": {},
     "source": [
      "The Lennard-Jones Potential"
     ]
    },
    {
     "cell_type": "markdown",
     "metadata": {},
     "source": [
      "A pair  of  neutral  atoms  or  molecules  is  subject  to  two  distinct  forces  in  the  limit  of large separation and small separation:  an attractive force at long ranges (van der Waals force, or dispersion force) and a repulsive force at short ranges (the result of overlapping electron  orbitals,  referred  to  as  Pauli  repulsion  from  Pauli  exclusion principle). The Lennard-Jones potential (also  referred  to  as  the  L-J potential, 6-12 potential  or, less commonly, 12-6 potential) is a simple mathematical model that represents this behavior. It  was  proposed  in  1924  by  John  Lennard-Jones. The  L-J  potential  is  of  the  form $V(r) = 4\\epsilon \\left[ \\left( \\dfrac{\\sigma}{r} \\right)^{12} - \\left( \\dfrac{\\sigma}{r} \\right)^{6} \\right]$ where $\\epsilon$ is the depth of the potential well and $\\sigma$ is the (finite) distance at which the inter-particle potential is zero and $r$ is the distance between the particles. The $\\left(\\frac{1}{r}\\right)^{12}$ term describes repulsion and the $(\\frac{1}{r})^{6}$  term describes attraction. The Lennard-Jones potential is an\n",
      "approximation. The form of the repulsion term has no theoretical justification; the repulsion force should depend exponentially on the distance, but the repulsion term of the L-J formula is more convenient due to the ease and efficiency of computing $r^{12}$ as the square of $r^6$.\n",
      "\n",
      "In practice, the L-J potential is cutoff beyond a specified distance $r_{c}$ and the potential at the cutoff distance is zero."
     ]
    },
    {
     "cell_type": "markdown",
     "metadata": {},
     "source": [
      "<figure>\n",
      "<img src='figures/lennard-jones-potential.png' alt='missing' style='width: 600px;'/>\n",
      "<center>\n",
      "<figcaption> Figure 1: Lennard-Jones potential\n",
      "</figure>"
     ]
    },
    {
     "cell_type": "heading",
     "level": 2,
     "metadata": {},
     "source": [
      "Units"
     ]
    },
    {
     "cell_type": "markdown",
     "metadata": {},
     "source": [
      "Novice users must understand that Espresso has no fixed unit system. The unit \n",
      "system is set by the user. Conventionally, reduced units are employed, in other \n",
      "words LJ units."
     ]
    },
    {
     "cell_type": "heading",
     "level": 2,
     "metadata": {},
     "source": [
      "Python versions"
     ]
    },
    {
     "cell_type": "markdown",
     "metadata": {},
     "source": [
      "Espresso can be used both, with python 2 and python 3. In these tutorials, we use python 3 print syntax. If you are on python 2, issue the following command to activate it:"
     ]
    },
    {
     "cell_type": "code",
     "collapsed": false,
     "input": [
      "from __future__ import print_function"
     ],
     "language": "python",
     "metadata": {},
     "outputs": []
    },
    {
     "cell_type": "heading",
     "level": 2,
     "metadata": {},
     "source": [
      "First steps"
     ]
    },
    {
     "cell_type": "markdown",
     "metadata": {},
     "source": [
      "What is ESPResSo? It is an extensible, efficient Molecular Dynamics package specially powerful on simulating charged systems. In depth information about the package can be found in the relevant sources [1,4,2,3].\n",
      "\n",
      "ESPResSo consists of two components. The simulation engine is written in C and C++ for the sake of computational efficiency. The steering or control\n",
      "level is interfaced to the kernel via an interpreter of the Python scripting languages.\n",
      "\n",
      "The kernel performs all computationally demanding tasks. Before all, integration of Newton's equations of motion, including calculation of energies and forces. It also takes care of internal organization of data, storing the data about particles, communication between different processors or cells of the cell-system.\n",
      "\n",
      "The scripting interface (Python) is used to setup the system (particles, boundary conditions, interactions etc.), control the simulation, run analysis, and store and load results. The user has at hand the full reliability and functionality of the scripting language. For instance, it is possible to use the SciPy package for analysis and PyPlot for plotting.\n",
      "With a certain overhead in efficiency, it can also be bused to reject/accept new configurations in combined MD/MC schemes. In principle, any parameter which is accessible from the scripting level can be changed at any moment of runtime. In this way methods like thermodynamic integration become readily accessible.\n",
      "\n",
      "_Note: This tutorial assumes that you already have a working ESPResSo\n",
      "installation on your system. If this is not the case, please consult the first chapters of the user's guide for installation instructions._\n",
      "\n",
      "Python simulation scripts can be run conveniently:"
     ]
    },
    {
     "cell_type": "code",
     "collapsed": false,
     "input": [
      "import espressomd\n",
      "print(espressomd.features())"
     ],
     "language": "python",
     "metadata": {},
     "outputs": [
      {
       "output_type": "stream",
       "stream": "stdout",
       "text": [
        "['CONSTRAINTS', 'CUDA', 'ELECTROSTATICS', 'EXTERNAL_FORCES', 'FFTW', 'H5MD', 'LATTICE', 'LB', 'LB_BOUNDARIES', 'LB_BOUNDARIES_GPU', 'LB_GPU', 'LENNARD_JONES', 'P3M', 'PARTIAL_PERIODIC', 'ROTATION']\n"
       ]
      }
     ],
     "prompt_number": 2
    },
    {
     "cell_type": "heading",
     "level": 2,
     "metadata": {},
     "source": [
      "Overview of a simulation script"
     ]
    },
    {
     "cell_type": "markdown",
     "metadata": {},
     "source": [
      "Typically, a simulation script consists of the following parts\n",
      "\n",
      "* System setup (box geometry, thermodynamic ensemble, integrator parameters)\n",
      "* Placing the particles\n",
      "* Setup of interactions between particles\n",
      "* Warm up (bringing the system into a state suitable for measurements)\n",
      "* Integration loop (propagate the system in time and record measurements)"
     ]
    },
    {
     "cell_type": "heading",
     "level": 3,
     "metadata": {},
     "source": [
      "System setup"
     ]
    },
    {
     "cell_type": "markdown",
     "metadata": {},
     "source": [
      "The functionality of ESPResSo for python is provided via a python module called <tt>espressomd</tt>. At the beginning of the simulation script, it has to be imported."
     ]
    },
    {
     "cell_type": "code",
     "collapsed": false,
     "input": [
      "import espressomd\n",
      "\n",
      "# Importing other relevant python modules\n",
      "import numpy as np"
     ],
     "language": "python",
     "metadata": {},
     "outputs": [],
     "prompt_number": 3
    },
    {
     "cell_type": "markdown",
     "metadata": {},
     "source": [
      "The next step would be to create an instance of the System class. This instance is used as a handle to the simulation system. At any time, only one instance of the System class can exist."
     ]
    },
    {
     "cell_type": "code",
     "collapsed": false,
     "input": [
      "system = espressomd.System()"
     ],
     "language": "python",
     "metadata": {},
     "outputs": [],
     "prompt_number": 4
    },
    {
     "cell_type": "markdown",
     "metadata": {},
     "source": [
      "It can be used to manipulate the crucial system parameters like the time step and the size of the simulation box (<tt>time_step</tt>, and <tt>box_l</tt>)."
     ]
    },
    {
     "cell_type": "code",
     "collapsed": false,
     "input": [
      "# System parameters\n",
      "n_part = 500\n",
      "density = 0.1442\n",
      "\n",
      "skin = 0.4\n",
      "time_step = 0.01\n",
      "eq_tstep = 0.001\n",
      "temperature = 0.728\n",
      "\n",
      "box_l_x = box_l_y = box_l_z = np.power(n_part/density, 1.0/3.0)\n",
      "\n",
      "system.time_step = time_step\n",
      "system.box_l = [box_l_x, box_l_y, box_l_z]"
     ],
     "language": "python",
     "metadata": {},
     "outputs": [],
     "prompt_number": 5
    },
    {
     "cell_type": "heading",
     "level": 3,
     "metadata": {},
     "source": [
      "Choosing the thermodynamic ensemble, thermostat"
     ]
    },
    {
     "cell_type": "markdown",
     "metadata": {},
     "source": [
      "Simulations can be carried out in different thermodynamic ensembles such as NVE (particle __N__umber, __V__olume, __E__nergy), NVT (particle __N__umber, __V__olume, __T__emperature) or NPT-isotropic (particle __N__umber, __P__ressure, __T__emperature).\n",
      "\n",
      "The NVE ensemble is simulated without a thermostat. A previously enabled thermostat can be swtiched off as follows:"
     ]
    },
    {
     "cell_type": "code",
     "collapsed": false,
     "input": [
      "system.thermostat.turn_off()"
     ],
     "language": "python",
     "metadata": {},
     "outputs": [
      {
       "metadata": {},
       "output_type": "pyout",
       "prompt_number": 6,
       "text": [
        "True"
       ]
      }
     ],
     "prompt_number": 6
    },
    {
     "cell_type": "markdown",
     "metadata": {},
     "source": [
      "The NVT and NPT ensembles require a thermostat. In this tutorial, we use the Langevin thermostat.\n",
      "\n",
      "In ESPResSo, the thermostat is set as follows:"
     ]
    },
    {
     "cell_type": "code",
     "collapsed": false,
     "input": [
      "system.thermostat.set_langevin(kT=temperature, gamma=1.0)"
     ],
     "language": "python",
     "metadata": {},
     "outputs": [],
     "prompt_number": 7
    },
    {
     "cell_type": "markdown",
     "metadata": {},
     "source": [
      "Use a Langevin thermostat (NVT or NPT ensemble) with temperature set to 1.0 and damping coefficient to 0.5.  Alternatively, the thermostat can be turned off using"
     ]
    },
    {
     "cell_type": "heading",
     "level": 3,
     "metadata": {},
     "source": [
      "Placing and accessing particles"
     ]
    },
    {
     "cell_type": "markdown",
     "metadata": {},
     "source": [
      "Particles in the simulation can be added and accessed via the <tt>part</tt> property of the System class. Individual  particles  are  referred  to  by  an  integer  id, e.g., <tt>system.part[0]</tt>. If <tt>id</tt> is unspecified, an unused particle id is automatically assigned. It  is  also possible to use common python iterators and slicing operations to add or access several particles at once.\n",
      "\n",
      "Particles can be grouped into several types, so that, e.g., a binary fluid can be simulated. Particle types are identified by integer ids, which are set via the particles' <tt>type</tt> attribute. If it is not specified, zero is implied."
     ]
    },
    {
     "cell_type": "code",
     "collapsed": false,
     "input": [
      "# Add particles to the simulation box at random positions\n",
      "for i in range(n_part):\n",
      "    system.part.add(id=i, type=0, pos=np.random.random(3) * system.box_l)\n",
      "    \n",
      "# Acess position of a single particle\n",
      "print(system.part[0].pos)\n",
      "\n",
      "# Iterate over the first five particles for the purpose of demonstration.\n",
      "# For accessing all particles, do not splice system.part\n",
      "for p in system.part[:5]:\n",
      "    print(p.pos)\n",
      "    print(p.v)\n",
      "    \n",
      "# Obtain all particle positions\n",
      "cur_pos = system.part[:].pos"
     ],
     "language": "python",
     "metadata": {},
     "outputs": [
      {
       "output_type": "stream",
       "stream": "stdout",
       "text": [
        "[ 13.30273402   1.89223812   7.08113053]\n",
        "[ 13.30273402   1.89223812   7.08113053]\n",
        "[ 0.  0.  0.]\n",
        "[ 15.13471792   4.31511117  15.07766481]\n",
        "[ 0.  0.  0.]\n",
        "[ 13.87456128   4.60522167   4.67007508]\n",
        "[ 0.  0.  0.]\n",
        "[ 9.20256907  8.71834636  3.06705077]\n",
        "[ 0.  0.  0.]\n",
        "[ 12.23173618   5.1287372    2.17368522]\n",
        "[ 0.  0.  0.]\n"
       ]
      }
     ],
     "prompt_number": 8
    },
    {
     "cell_type": "markdown",
     "metadata": {},
     "source": [
      "Many objects in ESPResSo have a string representation, and thus can be displayed via python's <tt>print</tt> function:"
     ]
    },
    {
     "cell_type": "code",
     "collapsed": false,
     "input": [
      "print(system.part[0])"
     ],
     "language": "python",
     "metadata": {},
     "outputs": [
      {
       "output_type": "stream",
       "stream": "stdout",
       "text": [
        "ParticleHandle([('id', 0), ('pos', (13.302734024413297, 1.8922381155338732, 7.0811305294509435)), ('bonds', ()), ('director', (0.0, 0.0, 1.0)), ('ext_force', (0.0, 0.0, 0.0)), ('ext_torque', (0.0, 0.0, 0.0)), ('f', (0.0, 0.0, 0.0)), ('fix', (0, 0, 0)), ('mass', 1.0), ('mol_id', 0), ('omega_body', (0.0, 0.0, 0.0)), ('omega_lab', (0.0, 0.0, 0.0)), ('q', 0.0), ('quat', (1.0, 0.0, 0.0, 0.0)), ('rotation', (0.0, 0.0, 0.0)), ('torque_lab', (0.0, 0.0, 0.0)), ('type', 0), ('v', (0.0, 0.0, 0.0))])\n"
       ]
      }
     ],
     "prompt_number": 9
    },
    {
     "cell_type": "heading",
     "level": 3,
     "metadata": {},
     "source": [
      "Setting up non-bonded interactions"
     ]
    },
    {
     "cell_type": "markdown",
     "metadata": {},
     "source": [
      "Non-bonded interactions act between all particles of a given combination of particle types. In this tutorial, we use the Lennard-Jones non-bonded interaction. The interaction of two particles of type 0 can be setup as follows:"
     ]
    },
    {
     "cell_type": "code",
     "collapsed": false,
     "input": [
      "lj_eps = 1.0\n",
      "lj_sig = 1.0\n",
      "lj_cut = 2.5*lj_sig\n",
      "lj_cap = 5\n",
      "system.non_bonded_inter[0, 0].lennard_jones.set_params(epsilon=lj_eps, sigma=lj_sig,\n",
      "cutoff=lj_cut, shift='auto')\n",
      "system.non_bonded_inter.set_force_cap(lj_cap)"
     ],
     "language": "python",
     "metadata": {},
     "outputs": [],
     "prompt_number": 10
    },
    {
     "cell_type": "heading",
     "level": 3,
     "metadata": {},
     "source": [
      "Warmup"
     ]
    },
    {
     "cell_type": "markdown",
     "metadata": {},
     "source": [
      "In many cases, including this tutorial, particles are initially placed randomly in the simulation box. It is therefore possible that particles overlap, resulting in a huge repulsive force between them. In this case, integrating the equations of motion would not be numerically stable. Hence, it is necessary to remove this overlap. This is done by limiting the maximum force between two particles, integrating the equations of motion, and increasing the force limit step by step as follows:"
     ]
    },
    {
     "cell_type": "code",
     "collapsed": false,
     "input": [
      "warm_steps  = 100\n",
      "warm_n_time = 2000\n",
      "min_dist    = 0.87\n",
      "\n",
      "i = 0\n",
      "act_min_dist = system.analysis.mindist()\n",
      "while i < warm_n_time and act_min_dist < min_dist :\n",
      "    system.integrator.run(warm_steps)\n",
      "    act_min_dist = system.analysis.mindist()\n",
      "    i+=1\n",
      "    lj_cap += 1.0\n",
      "    system.non_bonded_inter.set_force_cap(lj_cap)"
     ],
     "language": "python",
     "metadata": {},
     "outputs": [],
     "prompt_number": 11
    },
    {
     "cell_type": "heading",
     "level": 3,
     "metadata": {},
     "source": [
      "Integrating equations of motion and taking measurements"
     ]
    },
    {
     "cell_type": "markdown",
     "metadata": {},
     "source": [
      "Once warmup is done, the force capping is switched off by setting it to zero."
     ]
    },
    {
     "cell_type": "code",
     "collapsed": false,
     "input": [
      "system.non_bonded_inter.set_force_cap(0)"
     ],
     "language": "python",
     "metadata": {},
     "outputs": [],
     "prompt_number": 12
    },
    {
     "cell_type": "markdown",
     "metadata": {},
     "source": [
      "At this point, we have set the necessary environment and warmed up our system. Now, we integrate the equations of motion and take measurements. We first plot the radial distribution function which describes how the density varies as a function of distance from a tagged particle. The radial distribution function is averaged over several measurements to reduce noise.\n",
      "\n",
      "The potential and kinetic energies can be monitored using the analysis method <tt>system.analysis.energy()</tt>. <tt>kinetic_temperature</tt> here refers to the measured temperature obtained from kinetic energy and the number of degrees of freedom in the system. It should fluctuate around the preset temperature of the thermostat.\n",
      "\n",
      "The particles' mean square displacement,\n",
      "\\begin{equation}\n",
      "\\mathrm{msd}(t) =\\langle (x(t_0+t) -x(t_0))^2\\rangle,\n",
      "\\end{equation}\n",
      "can be calculated using \"observables and correlators\". An observable is an object which takes a measurement on the system. It can depend on parameters specified when the observable is instanced, such as the ids of the particles to be considered."
     ]
    },
    {
     "cell_type": "code",
     "collapsed": false,
     "input": [
      "# Integration parameters\n",
      "sampling_interval       = 100\n",
      "sampling_iterations     = 100\n",
      "\n",
      "from espressomd.observables import ParticlePositions\n",
      "# Pass the ids of the particles to be tracked to the observable.\n",
      "part_pos=ParticlePositions(ids=range(n_part))\n",
      "# Initialize MSD correlator\n",
      "msd_corr=Correlator(obs1=part_pos,\n",
      "                tau_lin=10,dt=10*time_step,\n",
      "                tau_max=10000*time_step,\n",
      "                corr_operation=\"square_distance_componentwise\")\n",
      "# Calculate results automatically during the integration\n",
      "system.auto_update_correlators.add(msd_corr)\n",
      "\n",
      "# Set parameters for the radial distribution function\n",
      "r_bins = 50\n",
      "r_min  = 0.0\n",
      "r_max  = system.box_l[0]/2.0\n",
      "\n",
      "avg_rdf=np.zeros((r_bins,))\n",
      "\n",
      "# Take measurements\n",
      "time = np.zeros(sampling_iterations)\n",
      "measured_temperature = np.zeros(sampling_iterations)\n",
      "etotal = np.zeros(sampling_iterations)\n",
      "\n",
      "for i in range(1, sampling_iterations + 1):\n",
      "    system.integrator.run(sampling_interval)\n",
      "    # Measure radial distribution function\n",
      "    r, rdf = system.analysis.rdf(rdf_type=\"rdf\", type_list_a=[0], type_list_b=[0], r_min=r_min, r_max=r_max, r_bins=r_bins)\n",
      "    avg_rdf+= rdf/sampling_iterations\n",
      "    \n",
      "    # Measure energies\n",
      "    energies = system.analysis.energy()\n",
      "    kinetic_temperature = energies['kinetic']/( 1.5 * n_part)\n",
      "    etotal[i-1] = energies['total']\n",
      "    time[i-1] = system.time\n",
      "    measured_temperature[i-1] = kinetic_temperature\n",
      "    \n",
      "# Finalize the correlator and obtain the results\n",
      "msd_corr.finalize()\n",
      "msd=msd_corr.result()"
     ],
     "language": "python",
     "metadata": {},
     "outputs": [],
     "prompt_number": 33
    },
    {
     "cell_type": "markdown",
     "metadata": {},
     "source": [
      "We now use the plotting library <tt>matplotlib</tt> available in Python to visualize the measurements."
     ]
    },
    {
     "cell_type": "code",
     "collapsed": false,
     "input": [
      "%matplotlib inline\n",
      "import matplotlib.pyplot as plt\n",
      "plt.figure(num=None, figsize=(10, 6), dpi=80, facecolor='w', edgecolor='k')\n",
      "plt.plot(r, avg_rdf,'-', color=\"#A60628\", linewidth=2, alpha=1)\n",
      "plt.xlabel('$r$',fontsize=20)\n",
      "plt.ylabel('$g(r)$',fontsize=20)\n",
      "plt.show()"
     ],
     "language": "python",
     "metadata": {},
     "outputs": [
      {
       "metadata": {},
       "output_type": "display_data",
       "png": "[encoded data removed]",
       "text": [
        "<matplotlib.figure.Figure at 0x2b6ea31d79d0>"
       ]
      }
     ],
     "prompt_number": 17
    },
    {
     "cell_type": "code",
     "collapsed": false,
     "input": [
      "plt.figure(num=None, figsize=(10, 6), dpi=80, facecolor='w', edgecolor='k')\n",
      "plt.plot(time, measured_temperature,'-', color=\"red\", linewidth=2, alpha=0.5, label='Measured Temperature')\n",
      "plt.plot([min(time),max(time)], [temperature]*2,'-', color=\"#348ABD\", linewidth=2, alpha=1, label='Set Temperature')\n",
      "plt.xlabel('Time',fontsize=20)\n",
      "plt.ylabel('Temperature',fontsize=20)\n",
      "plt.legend(fontsize=16,loc=0)\n",
      "plt.show()"
     ],
     "language": "python",
     "metadata": {},
     "outputs": [
      {
       "metadata": {},
       "output_type": "display_data",
       "png": "[encoded data removed]",
       "text": [
        "<matplotlib.figure.Figure at 0x2b6ea0a12110>"
       ]
      }
     ],
     "prompt_number": 24
    },
    {
     "cell_type": "code",
     "collapsed": false,
     "input": [
      "plt.figure(num=None, figsize=(10, 6), dpi=80, facecolor='w', edgecolor='k')\n",
      "plt.plot(msd[0], msd[2]+msd[3]+msd[4],'-', color=\"#348ABD\", linewidth=2, alpha=1)\n",
      "plt.xlabel('Time',fontsize=20)\n",
      "plt.ylabel('Mean squared displacement',fontsize=20)\n",
      "plt.show()"
     ],
     "language": "python",
     "metadata": {},
     "outputs": [
      {
       "metadata": {},
       "output_type": "display_data",
       "png": "[encoded data removed]",
       "text": [
        "<matplotlib.figure.Figure at 0x2b6e41657d10>"
       ]
      }
     ],
     "prompt_number": 53
    },
    {
     "cell_type": "heading",
     "level": 3,
     "metadata": {},
     "source": [
      "Simple Error Estimation on Time Series Data"
     ]
    },
    {
     "cell_type": "markdown",
     "metadata": {},
     "source": [
      "A simple way to estimate the error of an observable is to use the common standard\n",
      "deviation ($\\sqrt{\\sigma}$) and the standard error of the mean (SE) for $N$\n",
      "_uncorrelated_ samples:\n",
      "\\begin{equation}\n",
      "    \\sigma  = \\langle x^2 - \\langle x\\rangle^2 \\rangle \\\\\n",
      "\\end{equation}\n",
      "\\begin{equation}\n",
      "    SE      = \\sqrt{\\frac{\\sigma}{N}}\n",
      "\\end{equation}"
     ]
    },
    {
     "cell_type": "code",
     "collapsed": false,
     "input": [
      "# calculate the variance of the total energy using numpy\n",
      "error_total_energy=np.sqrt(etotal.var())/np.sqrt(sampling_iterations)\n",
      "print(error_total_energy)"
     ],
     "language": "python",
     "metadata": {},
     "outputs": [
      {
       "output_type": "stream",
       "stream": "stdout",
       "text": [
        "4.73210003349\n"
       ]
      }
     ],
     "prompt_number": 47
    },
    {
     "cell_type": "heading",
     "level": 2,
     "metadata": {},
     "source": [
      "Exercises"
     ]
    },
    {
     "cell_type": "heading",
     "level": 3,
     "metadata": {},
     "source": [
      "Binary Lennard-Jones Liquid"
     ]
    },
    {
     "cell_type": "markdown",
     "metadata": {},
     "source": [
      "A two-component Lennard Jones liquid can be simulated by placing particles of two types (0 and 1) into the system. Depending on the Lennard-Jones parameters, the two components either mix or separate."
     ]
    },
    {
     "cell_type": "markdown",
     "metadata": {},
     "source": [
      "1. Modify the code such that half of the particles are of <tt>type=1</tt>. Type 0 is implied for the remaining particles.\n",
      "2. Specify Lennard-Jones interactions between type 0 particles with other type 0 particles, type 1 particles with other type 1 particles, and type 0 particles with type 1 particles (set parameters for <tt>system.non_bonded_inter[i,j].lennard_jones</tt> where <tt>{i,j}</tt> can be <tt>{0,0}</tt>, <tt>{1,1}</tt>, and <tt>{0,1}</tt>. Use the same Lennard-Jones parameters for interactions within a component, but use a different <tt>lj_cut_mixed</tt> parameter for the cutoff of the Lennard-Jones interaction between particles of type 0 and particles of type 1. Set this parameter to $2^{\\frac16}\\sigma$ to get de-mixing or to $2.5\\sigma$ to get mixing between the two components.\n",
      "3. Record the radial distribution functions separately for particles of type 0 around particles of type 0, type 1 around particles of type 1, and type 0 around particles of type 1. This can be done by changing the <tt>type_list</tt> arguments of the <tt>system.analysis.rdf()</tt> command. You can record all three radial distribution functions in a single simulation. It is also possible to write them as several columns into a single file.\n",
      "4. Plot the radial distribution functions for all three combinations of particle types. The mixed case will differ significantly, depending on your choice of <tt>lj_cut_mixed</tt>. Explain these differences."
     ]
    },
    {
     "cell_type": "heading",
     "level": 2,
     "metadata": {},
     "source": [
      "References"
     ]
    },
    {
     "cell_type": "markdown",
     "metadata": {},
     "source": [
      "[1] <a href=\"http://espressomd.org\">http://espressomd.org</a>\n",
      "\n",
      "[2] HJ Limbach, A. Arnold, and B. Mann. ESPResSo; an extensible simulation package for research on soft matter systems. Computer Physics Communications, 174(9):704\u2013727, 2006.\n",
      "\n",
      "[3]  A. Arnold, O. Lenz, S.  Kesselheim, R. Weeber, F. Fahrenberger, D. Rohm, P. Kosovan, and C. Holm. ESPResSo 3.1 \u2014 molecular dynamics software for coarse-grained  models. In  M. Griebel  and  M. A. Schweitzer,  editors, Meshfree  Methods for Partial Differential Equations VI, volume 89 of Lecture Notes in Computational Science and Engineering, pages 1\u201323. Springer Berlin Heidelberg, 2013.\n",
      "\n",
      "[4]  A. Arnold, BA Mann, HJ Limbach, and C. Holm. ESPResSo\u2013An Extensible Simulation Package for Research on Soft Matter Systems. Forschung und wissenschaftliches Rechnen, 63:43\u201359, 2003."
     ]
    }
   ],
   "metadata": {}
  }
 ]
}