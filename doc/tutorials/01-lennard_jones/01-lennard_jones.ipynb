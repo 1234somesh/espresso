{
 "cells": [
  {
   "cell_type": "markdown",
   "metadata": {},
   "source": [
    "# Tutorial 1: Lennard-Jones Liquid"
   ]
  },
  {
   "cell_type": "markdown",
   "metadata": {},
   "source": [
    "## Table of Contents\n",
    "1. [Introduction](#Introduction)\n",
    "2. [Background](#Background)\n",
    "3. [The Lennard-Jones Potential](#The-Lennard-Jones-Potential)\n",
    "4. [Units](#Units)\n",
    "5. [First steps](#First-steps)\n",
    "6. [Overview of a simulation script](#Overview-of-a-simulation-script)\n",
    "    1. [System setup](#System-setup)\n",
    "    2. [Choosing the thermodynamic ensemble, thermostat](#Choosing-the-thermodynamic-ensemble,-thermostat)\n",
    "    3. [Placing and accessing particles](#Placing-and-accessing-particles)\n",
    "    4. [Setting up non-bonded interactions](#Setting-up-non-bonded-interactions)\n",
    "    5. [Warmup](#Warmup)\n",
    "    6. [Integrating equations of motion and taking measurements](#Integrating-equations-of-motion-and-taking-measurements)\n",
    "    7. [Simple Error Estimation on Time Series Data](#Simple-Error-Estimation-on-Time-Series-Data)\n",
    "7. [Exercises](#Exercises)\n",
    "    1. [Binary Lennard-Jones Liquid](#Binary-Lennard-Jones-Liquid)\n",
    "8. [Comparison with the literature](#Comparison-with-the-literature)\n",
    "9. [References](#References)\n"
   ]
  },
  {
   "cell_type": "markdown",
   "metadata": {},
   "source": [
    "## Introduction\n",
    "\n",
    "Welcome to the basic ESPResSo tutorial!\n",
    "\n",
    "In this tutorial, you will learn, how to use the ESPResSo package for your \n",
    "research. We will cover the basics of ESPResSo, i.e., how to set up and modify a physical system, how to run a simulation, and how to load, save and analyze the produced simulation data.\n",
    "\n",
    "More advanced features and algorithms available in the ESPResSo package are \n",
    "described in additional tutorials."
   ]
  },
  {
   "cell_type": "markdown",
   "metadata": {},
   "source": [
    "## Background\n",
    "\n",
    "Today's research on Soft Condensed Matter has brought the needs for having a flexible, extensible, reliable, and efficient (parallel) molecular simulation package. For this reason ESPResSo (Extensible Simulation Package for Research on Soft Matter Systems) <a href='#[1]'>[1]</a> has been developed at the Max Planck Institute for Polymer Research, Mainz, and at the Institute for Computational Physics at the University of Stuttgart in  the group of Prof. Dr. Christian Holm <a href='#[2]'>[2,3]</a>. The ESPResSo package is probably the most flexible and extensible simulation package in the market. It is specifically developed for coarse-grained molecular dynamics (MD) simulation of polyelectrolytes but is not necessarily limited to this. For example, it could also be used to simulate granular media. ESPResSo has been nominated for the Heinz-Billing-Preis for Scientific Computing in 2003 <a href='#[4]'>[4]</a>."
   ]
  },
  {
   "cell_type": "markdown",
   "metadata": {},
   "source": [
    "## The Lennard-Jones Potential\n",
    "\n",
    "A pair  of  neutral  atoms  or  molecules  is  subject  to  two  distinct  forces  in  the  limit  of large separation and small separation:  an attractive force at long ranges (van der Waals force, or dispersion force) and a repulsive force at short ranges (the result of overlapping electron  orbitals,  referred  to  as  Pauli  repulsion  from  the Pauli  exclusion principle). The Lennard-Jones potential (also  referred  to  as  the  L-J potential, 6-12 potential  or, less commonly, 12-6 potential) is a simple mathematical model that represents this behavior. It  was  proposed  in  1924  by  John  Lennard-Jones. The  L-J  potential  is  of  the  form\n",
    "\n",
    "\\begin{equation}\n",
    "V(r) = 4\\epsilon \\left[ \\left( \\dfrac{\\sigma}{r} \\right)^{12} - \\left( \\dfrac{\\sigma}{r} \\right)^{6} \\right]\n",
    "\\end{equation}\n",
    "\n",
    "where $\\epsilon$ is the depth of the potential well and $\\sigma$ is the (finite) distance at which the inter-particle potential is zero and $r$ is the distance between the particles. The $\\left(\\frac{1}{r}\\right)^{12}$ term describes repulsion and the $(\\frac{1}{r})^{6}$  term describes attraction. The Lennard-Jones potential is an\n",
    "approximation. The form of the repulsion term has no theoretical justification; the repulsion force should depend exponentially on the distance, but the repulsion term of the L-J formula is more convenient due to the ease and efficiency of computing $r^{12}$ as the square of $r^6$.\n",
    "\n",
    "In practice, the L-J potential is cutoff beyond a specified distance $r_{c}$ and the potential at the cutoff distance is zero.\n",
    "\n",
    "<figure>\n",
    "<img src='figures/lennard-jones-potential.png' alt='missing' style='width: 600px;'/>\n",
    "<center>\n",
    "<figcaption>Figure 1: Lennard-Jones potential</figcaption>\n",
    "</center>\n",
    "</figure>"
   ]
  },
  {
   "cell_type": "markdown",
   "metadata": {},
   "source": [
    "## Units\n",
    "\n",
    "Novice users must understand that ESPResSo has no fixed unit system. The unit \n",
    "system is set by the user. Conventionally, reduced units are employed, in other \n",
    "words LJ units."
   ]
  },
  {
   "cell_type": "markdown",
   "metadata": {},
   "source": [
    "## First steps\n",
    "\n",
    "What is ESPResSo? It is an extensible, efficient Molecular Dynamics package specially powerful on simulating charged systems. In depth information about the package can be found in the relevant sources <a href='#[1]'>[1,4,2,3]</a>.\n",
    "\n",
    "ESPResSo consists of two components. The simulation engine is written in C and C++ for the sake of computational efficiency. The steering or control\n",
    "level is interfaced to the kernel via an interpreter of the Python scripting languages.\n",
    "\n",
    "The kernel performs all computationally demanding tasks. Before all, integration of Newton's equations of motion, including calculation of energies and forces. It also takes care of internal organization of data, storing the data about particles, communication between different processors or cells of the cell-system.\n",
    "\n",
    "The scripting interface (Python) is used to setup the system (particles, boundary conditions, interactions etc.), control the simulation, run analysis, and store and load results. The user has at hand the full reliability and functionality of the scripting language. For instance, it is possible to use the SciPy package for analysis and PyPlot for plotting.\n",
    "With a certain overhead in efficiency, it can also be bused to reject/accept new configurations in combined MD/MC schemes. In principle, any parameter which is accessible from the scripting level can be changed at any moment of runtime. In this way methods like thermodynamic integration become readily accessible.\n",
    "\n",
    "_Note: This tutorial assumes that you already have a working ESPResSo\n",
    "installation on your system. If this is not the case, please consult the first chapters of the user's guide for installation instructions._\n",
    "\n",
    "Python simulation scripts can be run conveniently:"
   ]
  },
  {
   "cell_type": "code",
   "execution_count": null,
   "metadata": {},
   "outputs": [],
   "source": [
    "import espressomd\n",
    "required_features = [\"LENNARD_JONES\"]\n",
    "espressomd.assert_features(required_features)"
   ]
  },
  {
   "cell_type": "markdown",
   "metadata": {},
   "source": [
    "## Overview of a simulation script\n",
    "\n",
    "Typically, a simulation script consists of the following parts:\n",
    "\n",
    "* System setup (box geometry, thermodynamic ensemble, integrator parameters)\n",
    "* Placing the particles\n",
    "* Setup of interactions between particles\n",
    "* Warm up (bringing the system into a state suitable for measurements)\n",
    "* Integration loop (propagate the system in time and record measurements)"
   ]
  },
  {
   "cell_type": "markdown",
   "metadata": {},
   "source": [
    "### System setup\n",
    "\n",
    "The functionality of ESPResSo for python is provided via a python module called <tt>espressomd</tt>. At the beginning of the simulation script, it has to be imported."
   ]
  },
  {
   "cell_type": "code",
   "execution_count": null,
   "metadata": {},
   "outputs": [],
   "source": [
    "# Importing other relevant python modules\n",
    "import numpy as np\n",
    "# System parameters\n",
    "N_PART = 100\n",
    "DENSITY = 0.5\n",
    "\n",
    "BOX_L = np.power(N_PART / DENSITY, 1.0 / 3.0) * np.ones(3)"
   ]
  },
  {
   "cell_type": "markdown",
   "metadata": {},
   "source": [
    "The next step would be to create an instance of the System class. This instance is used as a handle to the simulation system. At any time, only one instance of the System class can exist."
   ]
  },
  {
   "cell_type": "markdown",
   "metadata": {
    "solution2": "hidden",
    "solution2_first": true
   },
   "source": [
    "**Exercise:**\n",
    "\n",
    "* Create an instance of an espresso system and store it in a variable called <tt>system</tt>;\n",
    "  use <tt>BOX_L</tt> as box length.\n",
    "\n",
    "See [ESPResSo documentation](http://espressomd.org/html/doc/system_setup.html) and [module documentation](http://espressomd.org/html/doc/espressomd.html#module-espressomd.system)."
   ]
  },
  {
   "cell_type": "markdown",
   "metadata": {
    "solution2": "hidden"
   },
   "source": [
    "```python\n",
    "system = espressomd.System(box_l=BOX_L)\n",
    "```"
   ]
  },
  {
   "cell_type": "code",
   "execution_count": null,
   "metadata": {},
   "outputs": [],
   "source": []
  },
  {
   "cell_type": "code",
   "execution_count": null,
   "metadata": {
    "code_folding": []
   },
   "outputs": [],
   "source": [
    "# Test solution of Exercise 1\n",
    "assert(isinstance(system, espressomd.System))"
   ]
  },
  {
   "cell_type": "markdown",
   "metadata": {},
   "source": [
    "It can be used to manipulate the crucial system parameters like the time step and the size of the simulation box (<tt>time_step</tt>, and <tt>box_l</tt>)."
   ]
  },
  {
   "cell_type": "code",
   "execution_count": null,
   "metadata": {},
   "outputs": [],
   "source": [
    "SKIN = 0.4\n",
    "TIME_STEP = 0.01\n",
    "\n",
    "TEMPERATURE = 0.728\n",
    "GAMMA=1.0\n",
    "\n",
    "system.time_step = TIME_STEP\n",
    "system.cell_system.skin = SKIN"
   ]
  },
  {
   "cell_type": "markdown",
   "metadata": {},
   "source": [
    "### Placing and accessing particles\n",
    "\n",
    "Particles in the simulation can be added and accessed via the <tt>part</tt> property of the System class. Individual  particles  are  referred  to  by  an  integer  id, e.g., <tt>system.part[0]</tt>. If <tt>id</tt> is unspecified, an unused particle id is automatically assigned. It  is  also possible to use common python iterators and slicing operations to add or access several particles at once.\n",
    "\n",
    "Particles can be grouped into several types, so that, e.g., a binary fluid can be simulated. Particle types are identified by integer ids, which are set via the particles' <tt>type</tt> attribute. If it is not specified, zero is implied."
   ]
  },
  {
   "cell_type": "markdown",
   "metadata": {
    "solution2": "hidden",
    "solution2_first": true
   },
   "source": [
    "**Exercise:**\n",
    "\n",
    "* Create <tt>N_PART</tt> particles at random positions.\n",
    "\n",
    "  Use [system.part.add()](link).\n",
    "  \n",
    "  Either write a loop or use an (<tt>N_PART</tt> x 3) array for positions.\n",
    "  Use <tt>numpy.random.random()</tt> to generate random numbers."
   ]
  },
  {
   "cell_type": "markdown",
   "metadata": {
    "solution2": "hidden"
   },
   "source": [
    "```python\n",
    "# Add particles to the simulation box at random positions\n",
    "system.part.add(type=[0]*N_PART, pos=np.random.random((N_PART,3)) * system.box_l)\n",
    "```"
   ]
  },
  {
   "cell_type": "code",
   "execution_count": null,
   "metadata": {},
   "outputs": [],
   "source": []
  },
  {
   "cell_type": "code",
   "execution_count": null,
   "metadata": {},
   "outputs": [],
   "source": [
    "# Test that now we have indeed N_PART particles in the system\n",
    "assert(len(system.part) == N_PART)"
   ]
  },
  {
   "cell_type": "markdown",
   "metadata": {},
   "source": [
    "The particle properties can be accessed using standard numpy slicing syntax:"
   ]
  },
  {
   "cell_type": "code",
   "execution_count": null,
   "metadata": {},
   "outputs": [],
   "source": [
    "# Access position of a single particle\n",
    "print(\"position of particle with id 0:\", system.part[0].pos)\n",
    "\n",
    "# Iterate over the first five particles for the purpose of demonstration.\n",
    "# For accessing all particles, do not splice system.part\n",
    "for i in range(5):\n",
    "    print(\"id\", i ,\"position:\", system.part[i].pos)\n",
    "    print(\"id\", i ,\"velocity:\", system.part[i].v)\n",
    "\n",
    "# Obtain all particle positions\n",
    "cur_pos = system.part[:].pos"
   ]
  },
  {
   "cell_type": "markdown",
   "metadata": {},
   "source": [
    "Many objects in ESPResSo have a string representation, and thus can be displayed via python's <tt>print</tt> function:"
   ]
  },
  {
   "cell_type": "code",
   "execution_count": null,
   "metadata": {},
   "outputs": [],
   "source": [
    "print(system.part[0])"
   ]
  },
  {
   "cell_type": "markdown",
   "metadata": {},
   "source": [
    "### Setting up non-bonded interactions\n",
    "\n",
    "Non-bonded interactions act between all particles of a given combination of particle types. In this tutorial, we use the Lennard-Jones non-bonded interaction. The interaction of two particles of type 0 can be setup as follows:"
   ]
  },
  {
   "cell_type": "code",
   "execution_count": null,
   "metadata": {},
   "outputs": [],
   "source": [
    "LJ_EPS = 1.0\n",
    "LJ_SIG = 1.0\n",
    "LJ_CUT = 2.5 * LJ_SIG"
   ]
  },
  {
   "cell_type": "markdown",
   "metadata": {
    "solution2": "hidden",
    "solution2_first": true
   },
   "source": [
    "**Exercise:**\n",
    "\n",
    "* Setup a Lennard-Jones interaction with $\\epsilon=$<textt>LJ_EPS</textt> and $\\sigma=$<textt>LJ_SIG</textt> which are cut and shifted to zero at $r_\\mathrm{c}=$<textt>LJ_CUT</textt>$\\times\\sigma$.\n",
    "\n",
    "  *Hint:* Use the <textt>[espressomd.system](http://espressomd.org/html/doc/espressomd.html#module-espressomd.system).non_bonded_inter</textt> handle object to instantiate a [espressomd.interactions.LennardJonesInteraction](http://espressomd.org/html/doc/espressomd.html#module-espressomd.interactions)."
   ]
  },
  {
   "cell_type": "markdown",
   "metadata": {
    "solution2": "hidden"
   },
   "source": [
    "```python\n",
    "system.non_bonded_inter[0, 0].lennard_jones.set_params(\n",
    "    epsilon=LJ_EPS, sigma=LJ_SIG, cutoff=LJ_CUT, shift='auto')\n",
    "```"
   ]
  },
  {
   "cell_type": "code",
   "execution_count": null,
   "metadata": {},
   "outputs": [],
   "source": []
  },
  {
   "cell_type": "markdown",
   "metadata": {},
   "source": [
    "### Energy minimization\n",
    "\n",
    "In many cases, including this tutorial, particles are initially placed randomly in the simulation box. It is therefore possible that particles overlap, resulting in a huge repulsive force between them. In this case, integrating the equations of motion would not be numerically stable. Hence, it is necessary to remove this overlap. This is typically done by performing a steepest descent minimization of the potential energy until a maximal force criterion is reached.\n",
    "\n",
    "**Note:**\n",
    "Making sure a system is well equilibrated highly depends on the system's details.\n",
    "In most cases a relative convergence criterion on the forces and/or energies works well but you might have to make sure that the total force is smaller than a threshold value <tt>f_max</tt> at the end of the minimization.\n",
    "Depending on the simulated system other strategies like simulations with small time step or capped forces might be necessary."
   ]
  },
  {
   "cell_type": "code",
   "execution_count": null,
   "metadata": {},
   "outputs": [],
   "source": [
    "F_TOL = 1e-2\n",
    "E_TOL = 1e-5\n",
    "DAMPING = 30\n",
    "MAX_STEPS = 10000\n",
    "MAX_DISPLACEMENT = 0.01 * LJ_SIG\n",
    "EMSTEP = 10"
   ]
  },
  {
   "cell_type": "markdown",
   "metadata": {
    "solution2": "hidden",
    "solution2_first": true
   },
   "source": [
    "**Exercise:**\n",
    "\n",
    "* Use <tt>[espressomd.integrate](http://espressomd.org/html/doc/espressomd.html#module-espressomd.minimize_energy).set_steepest_descent</tt> to relax the initial configuration.\n",
    "  Use a maximal displacement to <tt>MAX_DISPLACEMENT</tt>.\n",
    "  A damping constant <tt>gamma = DAMPING</tt> usually is a good choice.\n",
    "* Use the relative change of the system total energy and the maximal force as a convergence criterion.\n",
    "  See the [<tt>espressomd.analyze</tt>](http://espressomd.org/html/doc/espressomd.html#module-espressomd.analyze) documentation on how to obtain energies and the [<tt>espressomd.particle_data</tt> module](http://espressomd.org/html/doc/espressomd.html#module-espressomd.particle_data) for the forces.\n",
    "  The steepest descent has converged if the relative force change < <tt>F_TOL</tt>\n",
    "* Break the minimization loop after a maximal number of <tt>MAX_STEPS</tt> steps or if convergence is achieved.\n",
    "  Check for convergence every <tt>EMSTEP</tt> steps.\n",
    "  \n",
    "***Hint:*** To obtain the initial fores one has to initialize integrator using <tt>integ_steps=0</tt>."
   ]
  },
  {
   "cell_type": "code",
   "execution_count": null,
   "metadata": {
    "solution2": "hidden"
   },
   "outputs": [],
   "source": [
    "# Set up steepest descent integration\n",
    "system.integrator.set_steepest_descent(f_max=0, # use a relative convergence criterion only\n",
    "                                       gamma=DAMPING,\n",
    "                                       max_displacement=MAX_DISPLACEMENT)\n",
    "# Initialize integrator to obtain initial forces\n",
    "system.integrator.run(0)\n",
    "\n",
    "i = 0\n",
    "while i < MAX_STEPS//EMSTEP:\n",
    "    prev_maxforce = maxforce\n",
    "    prev_energy = system.analysis.energy()['total']\n",
    "    system.integrator.run(EMSTEP)\n",
    "    maxforce = np.max(np.linalg.norm(system.part[:].f, axis=1))\n",
    "    relforce = np.abs((maxforce-prev_maxforce)/prev_maxforce)\n",
    "    energy = system.analysis.energy()['total']\n",
    "    relener = np.abs((energy-prev_energy)/prev_energy)\n",
    "    print(\"minimization step: {:4.0f}\\tmax. rel. force change:{:+3.3e}\\trel. energy change:{:+3.3e}\".format((i+1)*EMSTEP,relforce, relener))\n",
    "    if relforce < F_TOL or relener < E_TOL:\n",
    "        break\n",
    "    i += 1"
   ]
  },
  {
   "cell_type": "code",
   "execution_count": null,
   "metadata": {},
   "outputs": [],
   "source": []
  },
  {
   "cell_type": "code",
   "execution_count": null,
   "metadata": {},
   "outputs": [],
   "source": [
    "# check that after the exercise the total energy is negative\n",
    "assert(system.analysis.energy()['total'] < 0)"
   ]
  },
  {
   "cell_type": "markdown",
   "metadata": {},
   "source": [
    "### Choosing the thermodynamic ensemble, thermostat\n",
    "\n",
    "Simulations can be carried out in different thermodynamic ensembles such as NVE (particle __N__umber, __V__olume, __E__nergy), NVT (particle __N__umber, __V__olume, __T__emperature) or NPT-isotropic (particle __N__umber, __P__ressure, __T__emperature).\n",
    "\n",
    "The NVE ensemble is simulated without a thermostat. A previously enabled thermostat can be switched off as follows:\n",
    "\n",
    "``` python\n",
    "system.thermostat.turn_off()\n",
    "```\n",
    "\n",
    "The NVT and NPT ensembles require a thermostat. In this tutorial, we use the Langevin thermostat.\n",
    "\n",
    "In ESPResSo, the thermostat is set as follows:"
   ]
  },
  {
   "cell_type": "markdown",
   "metadata": {
    "solution2": "hidden",
    "solution2_first": true
   },
   "source": [
    "**Exercise:**\n",
    "\n",
    "* Use <tt>system.thermostat.set_langevin()</tt> to turn on the Langevin thermostat.\n",
    "\n",
    "  Set the temperature to <tt>TEMPERATURE</tt> and damping coefficient to <tt>GAMMA</tt>.\n",
    "\n",
    "For details see the [online documentation](http://espressomd.org/html/doc/espressomd.html#module-espressomd.thermostat)."
   ]
  },
  {
   "cell_type": "markdown",
   "metadata": {
    "solution2": "hidden"
   },
   "source": [
    "```python\n",
    "system.thermostat.set_langevin(kT=TEMPERATURE, gamma=GAMMA, seed=42)\n",
    "```"
   ]
  },
  {
   "cell_type": "code",
   "execution_count": null,
   "metadata": {},
   "outputs": [],
   "source": []
  },
  {
   "cell_type": "markdown",
   "metadata": {},
   "source": [
    "### Integrating equations of motion and taking measurements\n",
    "\n",
    "At this point, we have set the necessary environment and warmed up our system. Now, we integrate the equations of motion and take measurements. We first plot the radial distribution function which describes how the density varies as a function of distance from a tagged particle. The radial distribution function is averaged over several measurements to reduce noise.\n",
    "\n",
    "The potential and kinetic energies can be monitored using the analysis method <tt>system.analysis.energy()</tt>.\n",
    "Here <tt>kinetic_temperature</tt> refers to the measured temperature obtained from kinetic energy and the number\n",
    "of degrees of freedom in the system. It should fluctuate around the preset temperature of the thermostat.\n",
    "\n",
    "The mean square displacement of particle $i$ is given by:\n",
    "\n",
    "\\begin{equation}\n",
    "\\mathrm{msd}_i(t) =\\langle (\\vec{x}_i(t_0+t) -\\vec{x}_i(t_0))^2\\rangle,\n",
    "\\end{equation}\n",
    "\n",
    "and can be calculated using \"observables and correlators\". An observable is an object which takes a measurement on the system. It can depend on parameters specified when the observable is instanced, such as the ids of the particles to be considered."
   ]
  },
  {
   "cell_type": "code",
   "execution_count": null,
   "metadata": {},
   "outputs": [],
   "source": [
    "# Integration parameters\n",
    "sampling_interval = 100\n",
    "sampling_iterations = 200\n",
    "\n",
    "from espressomd.observables import ParticlePositions, RDF\n",
    "from espressomd.accumulators import Correlator, MeanVarianceCalculator\n",
    "# Pass the ids of the particles to be tracked to the observable.\n",
    "part_pos = ParticlePositions(ids=range(N_PART))\n",
    "# Initialize MSD correlator\n",
    "msd_corr = Correlator(obs1=part_pos,\n",
    "                      tau_lin=10, delta_N=10,\n",
    "                      tau_max=1000 * TIME_STEP,\n",
    "                      corr_operation=\"square_distance_componentwise\")\n",
    "# Calculate results automatically during the integration\n",
    "system.auto_update_accumulators.add(msd_corr)\n",
    "\n",
    "# Set parameters for the radial distribution function\n",
    "r_bins = 100\n",
    "r_min = 0.0\n",
    "r_max = system.box_l[0] / 2.0\n",
    "# Initialize RDF accumulator\n",
    "rdf_obs = RDF(ids1=system.part[:].id, min_r=r_min, max_r=r_max, n_r_bins=r_bins)\n",
    "rdf_acc = MeanVarianceCalculator(obs=rdf_obs, delta_N=sampling_interval)\n",
    "# Accumulate results automatically during the integration\n",
    "system.auto_update_accumulators.add(rdf_acc)\n",
    "\n",
    "# Take measurements\n",
    "time = np.zeros(sampling_iterations)\n",
    "instantaneous_temperature = np.zeros(sampling_iterations)\n",
    "etotal = np.zeros(sampling_iterations)\n",
    "\n",
    "for i in range(sampling_iterations):\n",
    "    system.integrator.run(sampling_interval)\n",
    "    # Measure energies\n",
    "    energies = system.analysis.energy()\n",
    "    kinetic_temperature = energies['kinetic'] / (1.5 * N_PART)\n",
    "    etotal[i] = energies['total']\n",
    "    time[i] = system.time\n",
    "    instantaneous_temperature[i] = kinetic_temperature\n",
    "\n",
    "# Finalize the correlator and obtain the results\n",
    "msd_corr.finalize()\n",
    "msd = msd_corr.result()\n",
    "\n",
    "# Finalize the accumulator and obtain the results\n",
    "rdf = rdf_acc.get_mean()\n",
    "r = rdf_obs.bin_centers()"
   ]
  },
  {
   "cell_type": "markdown",
   "metadata": {},
   "source": [
    "We now use the plotting library <tt>matplotlib</tt> available in Python to visualize the measurements."
   ]
  },
  {
   "cell_type": "code",
   "execution_count": null,
   "metadata": {},
   "outputs": [],
   "source": [
    "import matplotlib.pyplot as plt\n",
    "plt.ion()"
   ]
  },
  {
   "cell_type": "markdown",
   "metadata": {},
   "source": [
    "Plot the experimental radial distribution."
   ]
  },
  {
   "cell_type": "code",
   "execution_count": null,
   "metadata": {},
   "outputs": [],
   "source": [
    "fig1 = plt.figure(num=None, figsize=(10, 6), dpi=80, facecolor='w', edgecolor='k')\n",
    "fig1.set_tight_layout(False)\n",
    "plt.plot(r, rdf, '-', color=\"#A60628\", linewidth=2, alpha=1)\n",
    "plt.xlabel('$r [\\sigma]$', fontsize=20)\n",
    "plt.ylabel('$g(r)$', fontsize=20)\n",
    "plt.show()"
   ]
  },
  {
   "cell_type": "markdown",
   "metadata": {},
   "source": [
    "Now plot the instantaneous temperature."
   ]
  },
  {
   "cell_type": "code",
   "execution_count": null,
   "metadata": {},
   "outputs": [],
   "source": [
    "fig2 = plt.figure(num=None, figsize=(10, 6), dpi=80, facecolor='w', edgecolor='k')\n",
    "fig2.set_tight_layout(False)\n",
    "plt.plot(time, instantaneous_temperature, '-', color=\"red\", linewidth=2,\n",
    "         alpha=0.5, label='Instantaneous Temperature')\n",
    "plt.plot([min(time), max(time)], [TEMPERATURE] * 2, '-', color=\"#348ABD\",\n",
    "         linewidth=2, alpha=1, label='Set Temperature')\n",
    "plt.xlabel(r'Time [$\\delta t$]', fontsize=20)\n",
    "plt.ylabel(r'$k_B$ Temperature [$k_B T$]', fontsize=20)\n",
    "plt.legend(fontsize=16, loc=0)\n",
    "plt.show()"
   ]
  },
  {
   "cell_type": "markdown",
   "metadata": {},
   "source": [
    "Since the ensemble average $\\langle E_\\text{kin}\\rangle=3/2 N k_B T$ is related to the temperature,\n",
    "we may compute the actual temperature of the system via $k_B T= 2/(3N) \\langle E_\\text{kin}\\rangle$.\n",
    "The temperature is fixed and does not fluctuate in the NVT ensemble! The instantaneous temperature is\n",
    "calculated via $2/(3N) E_\\text{kin}$ (without ensemble averaging), but it is not the temperature of the system."
   ]
  },
  {
   "cell_type": "markdown",
   "metadata": {},
   "source": [
    "The correlator output is stored in the array `msd` and has the following shape:"
   ]
  },
  {
   "cell_type": "code",
   "execution_count": null,
   "metadata": {},
   "outputs": [],
   "source": [
    "print(msd.shape)"
   ]
  },
  {
   "cell_type": "markdown",
   "metadata": {},
   "source": [
    "The first column of this array contains the lag time in units of the time step.\n",
    "The second column contains the number of values used to perform the averaging of the correlation.\n",
    "The next three columns contain the x, y and z mean squared displacement of the msd of the first particle.\n",
    "The next three columns then contain the x, y, z mean squared displacement of the next particle..."
   ]
  },
  {
   "cell_type": "code",
   "execution_count": null,
   "metadata": {},
   "outputs": [],
   "source": [
    "fig3 = plt.figure(num=None, figsize=(10, 6), dpi=80, facecolor='w', edgecolor='k')\n",
    "fig3.set_tight_layout(False)\n",
    "lag_time = msd_corr.lag_times()\n",
    "for i in range(0, N_PART, 30):\n",
    "    msd_particle_i = msd[:, i, 0] + msd[:, i, 1] + msd[:, i, 2]\n",
    "    plt.plot(lag_time, msd_particle_i,\n",
    "             'o-', linewidth=2, label=\"particle id =\" + str(i))\n",
    "plt.xlabel(r'Lag time $\\tau$ [$\\delta t$]', fontsize=20)\n",
    "plt.ylabel(r'Mean squared displacement [$\\sigma^2$]', fontsize=20)\n",
    "plt.xscale('log')\n",
    "plt.yscale('log')\n",
    "plt.legend()\n",
    "plt.show()"
   ]
  },
  {
   "cell_type": "markdown",
   "metadata": {},
   "source": [
    "### Simple Error Estimation on Time Series Data\n",
    "\n",
    "A simple way to estimate the error of an observable is to use the standard error of the mean (SE) for $N$\n",
    "_uncorrelated_ samples:\n",
    "\n",
    "\\begin{equation}\n",
    "    SE      = \\sqrt{\\frac{\\sigma^2}{N}},\n",
    "\\end{equation}\n",
    "\n",
    "where $\\sigma^2$ is the variance\n",
    "\n",
    "\\begin{equation}\n",
    "    \\sigma^2  = \\left\\langle x^2 - \\langle x\\rangle^2 \\right\\rangle\n",
    "\\end{equation}"
   ]
  },
  {
   "cell_type": "code",
   "execution_count": null,
   "metadata": {},
   "outputs": [],
   "source": [
    "# calculate the standard error of the mean of the total energy, assuming uncorrelatedness\n",
    "standard_error_total_energy = np.sqrt(etotal.var()) / np.sqrt(sampling_iterations)\n",
    "print(standard_error_total_energy)"
   ]
  },
  {
   "cell_type": "markdown",
   "metadata": {},
   "source": [
    "## Exercises"
   ]
  },
  {
   "cell_type": "markdown",
   "metadata": {},
   "source": [
    "### Binary Lennard-Jones Liquid\n",
    "\n",
    "A two-component Lennard-Jones liquid can be simulated by placing particles of two types (0 and 1) into the system. Depending on the Lennard-Jones parameters, the two components either mix or separate.\n",
    "\n",
    "1. Modify the code such that half of the particles are of <tt>type=1</tt>. Type 0 is implied for the remaining particles.\n",
    "2. Specify Lennard-Jones interactions between type 0 particles with other type 0 particles, type 1 particles with other type 1 particles, and type 0 particles with type 1 particles (set parameters for <tt>system.non_bonded_inter[i,j].lennard_jones</tt> where <tt>{i,j}</tt> can be <tt>{0,0}</tt>, <tt>{1,1}</tt>, and <tt>{0,1}</tt>. Use the same Lennard-Jones parameters for interactions within a component, but use a different <tt>lj_cut_mixed</tt> parameter for the cutoff of the Lennard-Jones interaction between particles of type 0 and particles of type 1. Set this parameter to $2^{\\frac16}\\sigma$ to get de-mixing or to $2.5\\sigma$ to get mixing between the two components.\n",
    "3. Record the radial distribution functions separately for particles of type 0 around particles of type 0, type 1 around particles of type 1, and type 0 around particles of type 1. This can be done by changing the <tt>ids1</tt>/<tt>ids2</tt> arguments of the <tt>espressomd.observables.RDF</tt> command. You can record all three radial distribution functions in a single simulation. It is also possible to write them as several columns into a single file.\n",
    "4. Plot the radial distribution functions for all three combinations of particle types. The mixed case will differ significantly, depending on your choice of <tt>lj_cut_mixed</tt>. Explain these differences."
   ]
  },
  {
   "cell_type": "markdown",
   "metadata": {},
   "source": [
    "## Comparison with the literature\n",
    "\n",
    "Empirical radial distribution functions have been determined for pure fluids <a href='#[5]'>[5]</a>, mixtures <a href='#[6]'>[6]</a> and confined fluids <a href='#[7]'>[7]</a>. We will compare our distribution $g(r)$ to the theoretical distribution $g(r^*, \\rho^*, T^*)$ of a pure fluid <a href='#[5]'>[5]</a>."
   ]
  },
  {
   "cell_type": "code",
   "execution_count": null,
   "metadata": {
    "scrolled": true
   },
   "outputs": [],
   "source": [
    "# reduced units\n",
    "T_star = TEMPERATURE / LJ_EPS\n",
    "rho_star = DENSITY * LJ_SIG**3\n",
    "# expression of the factors Pi from Equations 2-8 with coefficients qi from Table 1\n",
    "P = lambda q1, q2, q3, q4, q5, q6, q7, q8, q9: q1 + q2 * np.exp(-q3 * T_star) + q4 * np.exp(-q5 * T_star) + q6 / rho_star + q7 / rho_star**2 + q8 * np.exp(-q3 * T_star) / rho_star**3 + q9 * np.exp(-q5 * T_star) / rho_star**4\n",
    "a = P(9.24792, -2.64281, 0.133386, -1.35932, 1.25338, 0.45602, -0.326422, 0.045708, -0.0287681)\n",
    "g = P(0.663161, -0.243089, 1.24749, -2.059, 0.04261, 1.65041, -0.343652, -0.037698, 0.008899)\n",
    "P = lambda q1, q2, q3, q4, q5, q6, q7, q8: q1 + q2 * np.exp(-q3 * T_star) + q4 * rho_star + q5 * rho_star**2 + q6 * rho_star**3 + q7 * rho_star**4 + q8 * rho_star**5\n",
    "c = P(-0.0677912, -1.39505, 0.512625, 36.9323, -36.8061, 21.7353, -7.76671, 1.36342)\n",
    "k = P(16.4821, -0.300612, 0.0937844, -61.744, 145.285, -168.087, 98.2181, -23.0583)\n",
    "P = lambda q1, q2, q3: q1 + q2 * np.exp(-q3 * rho_star)\n",
    "b = P(-8.33289, 2.1714, 1.00063)\n",
    "h = P(0.0325039, -1.28792, 2.5487)\n",
    "P = lambda q1, q2, q3, q4: q1 + q2 * np.exp(-q3 * rho_star) + q4 * rho_star\n",
    "d = P(-26.1615, 27.4846, 1.68124, 6.74296)\n",
    "l = P(-6.7293, -59.5002, 10.2466, -0.43596)\n",
    "P = lambda q1, q2, q3, q4, q5, q6, q7, q8: (q1 + q2 * rho_star + q3 / T_star + q4 / T_star**2 + q5 / T_star**3) / (q6 + q7 * rho_star + q8 * rho_star**2)\n",
    "s = P(1.25225, -1.0179, 0.358564, -0.18533, 0.0482119, 1.27592, -1.78785, 0.634741)\n",
    "P = lambda q1, q2, q3, q4, q5, q6: q1 + q2 * np.exp(-q3 * T_star) + q4 / T_star + q5 * rho_star + q6 * rho_star**2\n",
    "m = P(-5.668, -3.62671, 0.680654, 0.294481, 0.186395, -0.286954)\n",
    "P = lambda q1, q2, q3: q1 + q2 * np.exp(-q3 * T_star)\n",
    "n = P(6.01325, 3.84098, 0.60793)\n",
    "# theoretical curve\n",
    "r_star = np.linspace(0, 3, 301)[1:]\n",
    "r_star_cutoff = 1.02  # slightly more than 1 to smooth out the discontinuity in the range [1.0, 1.02]\n",
    "theo_rdf = 1 + 1 / r_star**2 * (np.exp(-(a * r_star + b)) * np.sin(c * r_star + d) + np.exp(-(g * r_star + h)) * np.cos(k * r_star + l))\n",
    "theo_rdf[np.nonzero(r_star <= r_star_cutoff)] = s * np.exp(-(m * r_star + n)**4)[np.nonzero(r_star <= r_star_cutoff)]\n",
    "# plot\n",
    "fig = plt.figure(num=None, figsize=(10, 6), dpi=80, facecolor='w', edgecolor='k')\n",
    "fig.set_tight_layout(False)\n",
    "plt.plot(r_star, theo_rdf, '-', color=\"blue\", linewidth=2, alpha=1, label=r'theoretical')\n",
    "plt.plot(r, rdf, '-', color=\"#A60628\", linewidth=2, alpha=1, label='simulation')\n",
    "plt.xlabel('r $[\\sigma]$', fontsize='xx-large')\n",
    "plt.ylabel('$g(r)$', fontsize='xx-large')\n",
    "plt.legend(loc='upper right', fontsize='x-large')\n",
    "plt.show()"
   ]
  },
  {
   "cell_type": "markdown",
   "metadata": {},
   "source": [
    "## References\n",
    "\n",
    "<a id='[1]'></a>[1] <a href=\"http://espressomd.org\">http://espressomd.org</a>  \n",
    "<a id='[2]'></a>[2] HJ Limbach, A. Arnold, and B. Mann. ESPResSo: An extensible simulation package for research on soft matter systems. *Computer Physics Communications*, 174(9):704–727, 2006.  \n",
    "<a id='[3]'></a>[3] A. Arnold, O. Lenz, S. Kesselheim, R. Weeber, F. Fahrenberger, D. Rohm, P. Kosovan, and C. Holm. ESPResSo 3.1 — molecular dynamics software for coarse-grained models. In M. Griebel and M. A. Schweitzer, editors, Meshfree  Methods for Partial Differential Equations VI, volume 89 of Lecture Notes in Computational Science and Engineering, pages 1–23. Springer Berlin Heidelberg, 2013.  \n",
    "<a id='[4]'></a>[4] A. Arnold, BA Mann, HJ Limbach, and C. Holm. ESPResSo–An Extensible Simulation Package for Research on Soft Matter Systems. *Forschung und wissenschaftliches Rechnen*, 63:43–59, 2003.  \n",
    "<a id='[5]'></a>[5] Morsali, Goharshadi, Mansoori, Abbaspour. An accurate expression for radial distribution function of the Lennard-Jones fluid. *Chemical Physics*, 310(1–3):11–15, 2005. <small>DOI:</small><a href=\"https://doi.org/10.1016/j.chemphys.2004.09.027\">10.1016/j.chemphys.2004.09.027</a>  \n",
    "<a id='[6]'></a>[6] Matteoli. A simple expression for radial distribution functions of pure fluids and mixtures. *The Journal of Chemical Physics*, 103(11):4672, 1995. <small>DOI:</small><a href=\"https://doi.org/10.1063/1.470654\">10.1063/1.470654</a>  \n",
    "<a id='[7]'></a>[7] Abbaspour, Akbarzadeha, Abroodia. A new and accurate expression for the radial distribution function of confined Lennard-Jones fluid in carbon nanotubes. *RSC Advances*, 5(116): 95781–95787, 2015. <small>DOI:</small><a href=\"https://doi.org/10.1039/C5RA16151G\">10.1039/C5RA16151G</a>  "
   ]
  }
 ],
 "metadata": {
  "kernelspec": {
   "display_name": "Python 3.8.5 64-bit",
   "language": "python",
   "name": "python38564bit31b7b39ba35a4507a8c61be7a2214877"
  },
  "language_info": {
   "codemirror_mode": {
    "name": "ipython",
    "version": 3
   },
   "file_extension": ".py",
   "mimetype": "text/x-python",
   "name": "python",
   "nbconvert_exporter": "python",
   "pygments_lexer": "ipython3",
   "version": "3.8.5"
  },
  "latex_envs": {
   "LaTeX_envs_menu_present": true,
   "autoclose": false,
   "autocomplete": true,
   "bibliofile": "biblio.bib",
   "cite_by": "apalike",
   "current_citInitial": 1,
   "eqLabelWithNumbers": true,
   "eqNumInitial": 1,
   "hotkeys": {
    "equation": "Ctrl-E",
    "itemize": "Ctrl-I"
   },
   "labels_anchors": false,
   "latex_user_defs": false,
   "report_style_numbering": false,
   "user_envs_cfg": false
  }
 },
 "nbformat": 4,
 "nbformat_minor": 1
}
