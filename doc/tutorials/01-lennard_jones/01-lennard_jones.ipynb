{
 "cells": [
  {
   "cell_type": "markdown",
   "metadata": {},
   "source": [
    "# Tutorial 1: Lennard-Jones Liquid"
   ]
  },
  {
   "cell_type": "markdown",
   "metadata": {},
   "source": [
    "## Table of Contents\n",
    "1. [Introduction](#Introduction)\n",
    "2. [Background](#Background)\n",
    "3. [The Lennard-Jones Potential](#The-Lennard-Jones-Potential)\n",
    "4. [Units](#Units)\n",
    "5. [First steps](#First-steps)\n",
    "6. [Overview of a simulation script](#Overview-of-a-simulation-script)\n",
    "    1. [System setup](#System-setup)\n",
    "    2. [Placing and accessing particles](#Placing-and-accessing-particles)\n",
    "    3. [Setting up non-bonded interactions](#Setting-up-non-bonded-interactions)\n",
    "    4. [Energy minimization](#Energy-minimization)\n",
    "    5. [Choosing the thermodynamic ensemble, thermostat](#Choosing-the-thermodynamic-ensemble,-thermostat)\n",
    "    6. [Integrating equations of motion and taking measurements](#Integrating-equations-of-motion-and-taking-measurements)\n",
    "7. [Futher Exercises](#Futher-Exercises)\n",
    "    1. [Binary Lennard-Jones Liquid](#Binary-Lennard-Jones-Liquid)\n",
    "8. [References](#References)\n"
   ]
  },
  {
   "cell_type": "markdown",
   "metadata": {},
   "source": [
    "## Introduction\n",
    "\n",
    "Welcome to the basic ESPResSo tutorial!\n",
    "\n",
    "In this tutorial, you will learn, how to use the ESPResSo package for your \n",
    "research. We will cover the basics of ESPResSo, i.e., how to set up and modify a physical system, how to run a simulation, and how to load, save and analyze the produced simulation data.\n",
    "\n",
    "More advanced features and algorithms available in the ESPResSo package are \n",
    "described in additional tutorials."
   ]
  },
  {
   "cell_type": "markdown",
   "metadata": {},
   "source": [
    "## Background\n",
    "\n",
    "Today's research on Soft Condensed Matter has brought the needs for having a flexible, extensible, reliable, and efficient (parallel) molecular simulation package. For this reason ESPResSo (Extensible Simulation Package for Research on Soft Matter Systems) <a href='#[1]'>[1]</a> has been developed at the Max Planck Institute for Polymer Research, Mainz, and at the Institute for Computational Physics at the University of Stuttgart in  the group of Prof. Dr. Christian Holm <a href='#[2]'>[2,3]</a>. The ESPResSo package is probably the most flexible and extensible simulation package in the market. It is specifically developed for coarse-grained molecular dynamics (MD) simulation of polyelectrolytes but is not necessarily limited to this. For example, it could also be used to simulate granular media. ESPResSo has been nominated for the Heinz-Billing-Preis for Scientific Computing in 2003 <a href='#[4]'>[4]</a>."
   ]
  },
  {
   "cell_type": "markdown",
   "metadata": {},
   "source": [
    "## The Lennard-Jones Potential\n",
    "\n",
    "A pair  of  neutral  atoms  or  molecules  is  subject  to  two  distinct  forces  in  the  limit  of large separation and small separation:  an attractive force at long ranges (van der Waals force, or dispersion force) and a repulsive force at short ranges (the result of overlapping electron  orbitals,  referred  to  as  Pauli  repulsion  from  the Pauli  exclusion principle). The Lennard-Jones potential (also  referred  to  as  the  L-J potential, 6-12 potential  or, less commonly, 12-6 potential) is a simple mathematical model that represents this behavior. It  was  proposed  in  1924  by  John  Lennard-Jones. The  L-J  potential  is  of  the  form\n",
    "\n",
    "\\begin{equation}\n",
    "V(r) = 4\\epsilon \\left[ \\left( \\dfrac{\\sigma}{r} \\right)^{12} - \\left( \\dfrac{\\sigma}{r} \\right)^{6} \\right]\n",
    "\\end{equation}\n",
    "\n",
    "where $\\epsilon$ is the depth of the potential well and $\\sigma$ is the (finite) distance at which the inter-particle potential is zero and $r$ is the distance between the particles. The $\\left(\\frac{1}{r}\\right)^{12}$ term describes repulsion and the $(\\frac{1}{r})^{6}$  term describes attraction. The Lennard-Jones potential is an\n",
    "approximation. The form of the repulsion term has no theoretical justification; the repulsion force should depend exponentially on the distance, but the repulsion term of the L-J formula is more convenient due to the ease and efficiency of computing $r^{12}$ as the square of $r^6$.\n",
    "\n",
    "In practice, the L-J potential is typically cutoff beyond a specified distance $r_{c}$ and the potential at the cutoff distance is zero.\n",
    "\n",
    "<figure>\n",
    "<img src='figures/lennard-jones-potential.png' alt='missing' style='width: 600px;'/>\n",
    "<center>\n",
    "<figcaption>Figure 1: Lennard-Jones potential</figcaption>\n",
    "</center>\n",
    "</figure>"
   ]
  },
  {
   "cell_type": "markdown",
   "metadata": {},
   "source": [
    "## Units\n",
    "\n",
    "Novice users must understand that ESPResSo has no fixed unit system. The unit \n",
    "system is set by the user. Conventionally, reduced units are employed, in other \n",
    "words LJ units."
   ]
  },
  {
   "cell_type": "markdown",
   "metadata": {},
   "source": [
    "## First steps\n",
    "\n",
    "What is ESPResSo? It is an extensible, efficient Molecular Dynamics package specially powerful on simulating charged systems. In depth information about the package can be found in the relevant sources <a href='#[1]'>[1,4,2,3]</a>.\n",
    "\n",
    "ESPResSo consists of two components. The simulation engine is written in C++ for the sake of computational efficiency. The steering or control level is interfaced to the kernel via an interpreter of the Python scripting languages.\n",
    "\n",
    "The kernel performs all computationally demanding tasks. Before all, integration of Newton's equations of motion, including calculation of energies and forces. It also takes care of internal organization of data, storing the data about particles, communication between different processors or cells of the cell-system.\n",
    "\n",
    "The scripting interface (Python) is used to setup the system (particles, boundary conditions, interactions etc.), control the simulation, run analysis, and store and load results. The user has at hand the full reliability and functionality of the scripting language. For instance, it is possible to use the SciPy package for analysis and PyPlot for plotting.\n",
    "With a certain overhead in efficiency, it can also be bused to reject/accept new configurations in combined MD/MC schemes. In principle, any parameter which is accessible from the scripting level can be changed at any moment of runtime. In this way methods like thermodynamic integration become readily accessible.\n",
    "\n",
    "_Note: This tutorial assumes that you already have a working ESPResSo\n",
    "installation on your system. If this is not the case, please consult the first chapters of the user's guide for installation instructions._\n",
    "\n",
    "Python simulation scripts can be run conveniently:"
   ]
  },
  {
   "cell_type": "code",
   "execution_count": null,
   "metadata": {},
   "outputs": [],
   "source": [
    "import espressomd\n",
    "required_features = [\"LENNARD_JONES\"]\n",
    "espressomd.assert_features(required_features)"
   ]
  },
  {
   "cell_type": "markdown",
   "metadata": {},
   "source": [
    "## Overview of a simulation script\n",
    "\n",
    "Typically, a simulation script consists of the following parts:\n",
    "\n",
    "* System setup (box geometry, thermodynamic ensemble, integrator parameters)\n",
    "* Placing the particles\n",
    "* Setup of interactions between particles\n",
    "* Warm up (bringing the system into a state suitable for measurements)\n",
    "* Integration loop (propagate the system in time and record measurements)"
   ]
  },
  {
   "cell_type": "markdown",
   "metadata": {},
   "source": [
    "### System setup\n",
    "\n",
    "The functionality of ESPResSo for python is provided via a python module called <tt>espressomd</tt>. At the beginning of the simulation script, it has to be imported."
   ]
  },
  {
   "cell_type": "code",
   "execution_count": null,
   "metadata": {},
   "outputs": [],
   "source": [
    "# Importing other relevant python modules\n",
    "import numpy as np"
   ]
  },
  {
   "cell_type": "code",
   "execution_count": null,
   "metadata": {},
   "outputs": [],
   "source": [
    "# System parameters\n",
    "N_PART = 200\n",
    "DENSITY = 0.75\n",
    "\n",
    "BOX_L = np.power(N_PART / DENSITY, 1.0 / 3.0) * np.ones(3)"
   ]
  },
  {
   "cell_type": "markdown",
   "metadata": {},
   "source": [
    "The next step would be to create an instance of the System class. This instance is used as a handle to the simulation system. At any time, only one instance of the System class can exist."
   ]
  },
  {
   "cell_type": "markdown",
   "metadata": {
    "solution2": "hidden",
    "solution2_first": true
   },
   "source": [
    "**Exercise:**\n",
    "\n",
    "* Create an instance of an espresso system and store it in a variable called <tt>system</tt>;\n",
    "  use <tt>BOX_L</tt> as box length.\n",
    "\n",
    "See [ESPResSo documentation](http://espressomd.org/html/doc/system_setup.html) and [module documentation](http://espressomd.org/html/doc/espressomd.html#module-espressomd.system)."
   ]
  },
  {
   "cell_type": "markdown",
   "metadata": {
    "solution2": "hidden"
   },
   "source": [
    "```python\n",
    "system = espressomd.System(box_l=BOX_L)\n",
    "```"
   ]
  },
  {
   "cell_type": "code",
   "execution_count": null,
   "metadata": {},
   "outputs": [],
   "source": []
  },
  {
   "cell_type": "code",
   "execution_count": null,
   "metadata": {
    "code_folding": []
   },
   "outputs": [],
   "source": [
    "# Test solution of Exercise 1\n",
    "assert(isinstance(system, espressomd.System))"
   ]
  },
  {
   "cell_type": "markdown",
   "metadata": {},
   "source": [
    "It can be used to manipulate the crucial system parameters like the time step and the size of the simulation box (<tt>time_step</tt>, and <tt>box_l</tt>)."
   ]
  },
  {
   "cell_type": "code",
   "execution_count": null,
   "metadata": {},
   "outputs": [],
   "source": [
    "SKIN = 0.4\n",
    "TIME_STEP = 0.01\n",
    "\n",
    "system.time_step = TIME_STEP\n",
    "system.cell_system.skin = SKIN"
   ]
  },
  {
   "cell_type": "markdown",
   "metadata": {},
   "source": [
    "### Placing and accessing particles\n",
    "\n",
    "Particles in the simulation can be added and accessed via the <tt>part</tt> property of the System class. Individual  particles  are  referred  to  by  an  integer  id, e.g., <tt>system.part[0]</tt>. If <tt>id</tt> is unspecified, an unused particle id is automatically assigned. It  is  also possible to use common python iterators and slicing operations to add or access several particles at once.\n",
    "\n",
    "Particles can be grouped into several types, so that, e.g., a binary fluid can be simulated. Particle types are identified by integer ids, which are set via the particles' <tt>type</tt> attribute. If it is not specified, zero is implied."
   ]
  },
  {
   "cell_type": "markdown",
   "metadata": {
    "solution2": "hidden",
    "solution2_first": true
   },
   "source": [
    "<!-- **Exercise:** -->\n",
    "\n",
    "* Create <tt>N_PART</tt> particles at random positions.\n",
    "\n",
    "  Use [system.part.add()](http://espressomd.org/html/doc/espressomd.html#espressomd.particle_data.ParticleList).\n",
    "  \n",
    "  Either write a loop or use an (<tt>N_PART</tt> x 3) array for positions.\n",
    "  Use <tt>numpy.random.random()</tt> to generate random numbers."
   ]
  },
  {
   "cell_type": "markdown",
   "metadata": {
    "solution2": "hidden"
   },
   "source": [
    "```python\n",
    "# Add particles to the simulation box at random positions\n",
    "system.part.add(type=[0]*N_PART, pos=np.random.random((N_PART,3)) * system.box_l)\n",
    "```"
   ]
  },
  {
   "cell_type": "code",
   "execution_count": null,
   "metadata": {},
   "outputs": [],
   "source": []
  },
  {
   "cell_type": "code",
   "execution_count": null,
   "metadata": {},
   "outputs": [],
   "source": [
    "# Test that now we have indeed N_PART particles in the system\n",
    "assert(len(system.part) == N_PART)"
   ]
  },
  {
   "cell_type": "markdown",
   "metadata": {},
   "source": [
    "The particle properties can be accessed using standard numpy slicing syntax:"
   ]
  },
  {
   "cell_type": "code",
   "execution_count": null,
   "metadata": {},
   "outputs": [],
   "source": [
    "# Access position of a single particle\n",
    "print(\"position of particle with id 0:\", system.part[0].pos)\n",
    "\n",
    "# Iterate over the first five particles for the purpose of demonstration.\n",
    "# For accessing all particles, do not splice system.part\n",
    "for i in range(5):\n",
    "    print(\"id\", i ,\"position:\", system.part[i].pos)\n",
    "    print(\"id\", i ,\"velocity:\", system.part[i].v)\n",
    "\n",
    "# Obtain all particle positions\n",
    "cur_pos = system.part[:].pos"
   ]
  },
  {
   "cell_type": "markdown",
   "metadata": {},
   "source": [
    "Many objects in ESPResSo have a string representation, and thus can be displayed via python's <tt>print</tt> function:"
   ]
  },
  {
   "cell_type": "code",
   "execution_count": null,
   "metadata": {},
   "outputs": [],
   "source": [
    "print(system.part[0])"
   ]
  },
  {
   "cell_type": "markdown",
   "metadata": {},
   "source": [
    "### Setting up non-bonded interactions\n",
    "\n",
    "Non-bonded interactions act between all particles of a given combination of particle types. In this tutorial, we use the Lennard-Jones non-bonded interaction. The interaction of two particles of type 0 can be setup as follows:"
   ]
  },
  {
   "cell_type": "code",
   "execution_count": null,
   "metadata": {},
   "outputs": [],
   "source": [
    "# use LJ units: EPS=SIG=1\n",
    "LJ_EPS = 1.0\n",
    "LJ_SIG = 1.0\n",
    "LJ_CUT = 2.5 * LJ_SIG"
   ]
  },
  {
   "cell_type": "markdown",
   "metadata": {},
   "source": [
    "In a periodic system it is in general not straight forward to calculate all non-bonded interactions. Due to the periodicity and to speed up calculations usually a cut-off for short-ranged potentials like Lennard-Jones is applied. The potential can be shifted to zero at the cutoff value to ensure consistent thermodynamics using the <tt>shift='auto'</tt> option of [espressomd.interactions.LennardJonesInteraction](http://espressomd.org/html/doc/espressomd.html#module-espressomd.interactions).\n",
    "Alternatively, for an isotropic system one can assume that the density is homogeneous behind the cutoff, which allows to calculate the so-called long-range corrections to the energy and pressure,\n",
    "$$V_\\mathrm{lr} = 12 N \\rho \\int_{r_\\mathrm{c}}^\\infty 4 \\pi r^2 g(r) V(r) \\,\\mathrm{d}r,$$\n",
    "where $N=$<tt>N_PART</tt> is the particle number and $r_\\mathrm{c}=$<tt>LJ_CUT</tt> is the cutoff distance.\n",
    "Using that the radial distribution function $g(r)=1$ for $r>r_\\mathrm{cut}$ and considering only the dispersion (attractive) part of the LJ potential, one obtains\n",
    "$$V_\\mathrm{lr} = -\\frac{8}{3}\\pi N \\rho \\varepsilon \\frac{\\sigma^6}{r_\\mathrm{c}^3}.$$\n",
    "Similarly, a long-range contribution to the pressure can be derived <a href='#[5]'>[5]</a>.\n",
    "\n",
    "To avoid spurious self-interactions of particles with their periodic images one usually forces that the shortest box length is at least twice the cutoff distance:"
   ]
  },
  {
   "cell_type": "code",
   "execution_count": null,
   "metadata": {},
   "outputs": [],
   "source": [
    "assert((BOX_L-2*SKIN > LJ_CUT).all())"
   ]
  },
  {
   "cell_type": "markdown",
   "metadata": {
    "solution2": "hidden",
    "solution2_first": true
   },
   "source": [
    "<!-- **Exercise:** -->\n",
    "\n",
    "* Setup a Lennard-Jones interaction with $\\epsilon=$<tt>LJ_EPS</tt> and $\\sigma=$<tt>LJ_SIG</tt> which are cut and shifted to zero at $r_\\mathrm{c}=$<tt>LJ_CUT</tt>$\\times\\sigma$.\n",
    "  To allow for comparison with the fundamental work on MD simulations of LJ systems <a href='#[6]'>[6]</a> we don't shift the potential to zero at the cutoff and add $V_\\mathrm{lr}$ later. However, keep in mind that this choice will influence the thermodynamics of your simulation system!\n",
    "\n",
    "\n",
    "  *Hint:* Use the <textt>[espressomd.system](http://espressomd.org/html/doc/espressomd.html#module-espressomd.system).non_bonded_inter</textt> handle object to instantiate a [espressomd.interactions.LennardJonesInteraction](http://espressomd.org/html/doc/espressomd.html#module-espressomd.interactions)."
   ]
  },
  {
   "cell_type": "markdown",
   "metadata": {
    "solution2": "hidden"
   },
   "source": [
    "```python\n",
    "system.non_bonded_inter[0, 0].lennard_jones.set_params(\n",
    "    epsilon=LJ_EPS, sigma=LJ_SIG, cutoff=LJ_CUT, shift=0)\n",
    "```"
   ]
  },
  {
   "cell_type": "code",
   "execution_count": null,
   "metadata": {},
   "outputs": [],
   "source": []
  },
  {
   "cell_type": "markdown",
   "metadata": {},
   "source": [
    "### Energy minimization\n",
    "\n",
    "In many cases, including this tutorial, particles are initially placed randomly in the simulation box. It is therefore possible that particles overlap, resulting in a huge repulsive force between them. In this case, integrating the equations of motion would not be numerically stable. Hence, it is necessary to remove this overlap. This is typically done by performing a steepest descent minimization of the potential energy until a maximal force criterion is reached.\n",
    "\n",
    "**Note:**\n",
    "Making sure a system is well equilibrated highly depends on the system's details.\n",
    "In most cases a relative convergence criterion on the forces and/or energies works well but you might have to make sure that the total force is smaller than a threshold value <tt>f_max</tt> at the end of the minimization.\n",
    "Depending on the simulated system other strategies like simulations with small time step or capped forces might be necessary."
   ]
  },
  {
   "cell_type": "code",
   "execution_count": null,
   "metadata": {},
   "outputs": [],
   "source": [
    "F_TOL = 1e-2\n",
    "DAMPING = 30\n",
    "MAX_STEPS = 10000\n",
    "MAX_DISPLACEMENT = 0.01 * LJ_SIG\n",
    "EM_STEP = 10"
   ]
  },
  {
   "cell_type": "markdown",
   "metadata": {
    "solution2": "hidden",
    "solution2_first": true
   },
   "source": [
    "**Exercise:**\n",
    "\n",
    "* Use [<tt>espressomd.integrate.set_steepest_descent</tt>](http://espressomd.org/html/doc/running.html#steepest-descent) to relax the initial configuration.\n",
    "  Use a maximal displacement to <tt>MAX_DISPLACEMENT</tt>.\n",
    "  A damping constant <tt>gamma = DAMPING</tt> usually is a good choice.\n",
    "* Use the relative change of the system total energy and the maximal force as a convergence criterion.\n",
    "  See the [<tt>espressomd.analyze</tt>](http://espressomd.org/html/doc/espressomd.html#module-espressomd.analyze) documentation on how to obtain energies and the [<tt>espressomd.particle_data</tt> module](http://espressomd.org/html/doc/espressomd.html#module-espressomd.particle_data) for the forces.\n",
    "  The steepest descent has converged if the relative force change < <tt>F_TOL</tt>\n",
    "* Break the minimization loop after a maximal number of <tt>MAX_STEPS</tt> steps or if convergence is achieved.\n",
    "  Check for convergence every <tt>EMSTEP</tt> steps.\n",
    "  \n",
    "***Hint:*** To obtain the initial fores one has to initialize integrator using <tt>integ_steps=0</tt>, i.e. call <tt>system.integrator.run(0)</tt> before the force array can be accessed."
   ]
  },
  {
   "cell_type": "markdown",
   "metadata": {
    "code_folding": [],
    "solution2": "hidden"
   },
   "source": [
    "```python\n",
    "# Set up steepest descent integration\n",
    "system.integrator.set_steepest_descent(f_max=0, # use a relative convergence criterion only\n",
    "                                       gamma=DAMPING,\n",
    "                                       max_displacement=MAX_DISPLACEMENT)\n",
    "\n",
    "# Initialize integrator to obtain initial forces\n",
    "system.integrator.run(0)\n",
    "max_force = np.max(np.linalg.norm(system.part[:].f, axis=1))\n",
    "\n",
    "i = 0\n",
    "while i < MAX_STEPS//EM_STEP:\n",
    "    prev_max_force = max_force\n",
    "    system.integrator.run(EM_STEP)\n",
    "    max_force = np.max(np.linalg.norm(system.part[:].f, axis=1))\n",
    "    rel_force = np.abs((max_force-prev_max_force)/prev_max_force)\n",
    "    print(\"minimization step: {:4.0f}\\tmax. rel. force change:{:+3.3e}\".format((i+1)*EM_STEP,rel_force))\n",
    "    if rel_force < F_TOL:\n",
    "        break\n",
    "    i += 1\n",
    "```"
   ]
  },
  {
   "cell_type": "code",
   "execution_count": null,
   "metadata": {},
   "outputs": [],
   "source": []
  },
  {
   "cell_type": "code",
   "execution_count": null,
   "metadata": {},
   "outputs": [],
   "source": [
    "# check that after the exercise the total energy is negative\n",
    "assert(system.analysis.energy()['total'] < 0)"
   ]
  },
  {
   "cell_type": "markdown",
   "metadata": {},
   "source": [
    "### Choosing the thermodynamic ensemble, thermostat\n",
    "\n",
    "Simulations can be carried out in different thermodynamic ensembles such as NVE (particle __N__umber, __V__olume, __E__nergy), NVT (particle __N__umber, __V__olume, __T__emperature) or NpT-isotropic (particle __N__umber, __p__ressure, __T__emperature).\n",
    "\n",
    "The NVE ensemble is simulated without a thermostat. A previously enabled thermostat can be switched off as follows:\n",
    "\n",
    "``` python\n",
    "system.thermostat.turn_off()\n",
    "```\n",
    "\n",
    "The NVT and NpT ensembles require a thermostat. In this tutorial, we use the Langevin thermostat.\n",
    "\n",
    "In ESPResSo, the thermostat is set as follows:"
   ]
  },
  {
   "cell_type": "code",
   "execution_count": null,
   "metadata": {},
   "outputs": [],
   "source": [
    "# Parameters for the Langevin thermostat\n",
    "# reduced temperature T* = k_B T / LJ_EPS\n",
    "TEMPERATURE = 0.827 # value from Tab. 1 in [6]\n",
    "GAMMA = 1.0"
   ]
  },
  {
   "cell_type": "markdown",
   "metadata": {
    "solution2": "hidden",
    "solution2_first": true
   },
   "source": [
    "**Exercise:**\n",
    "\n",
    "* Use <tt>system.integrator.set_vv()</tt> to use a Velocity Verlet integration scheme and\n",
    "  <tt>system.thermostat.set_langevin()</tt> to turn on the Langevin thermostat.\n",
    "\n",
    "  Set the temperature to <tt>TEMPERATURE</tt> and damping coefficient to <tt>GAMMA</tt>.\n",
    "\n",
    "For details see the [online documentation](http://espressomd.org/html/doc/espressomd.html#module-espressomd.thermostat)."
   ]
  },
  {
   "cell_type": "markdown",
   "metadata": {
    "solution2": "hidden"
   },
   "source": [
    "```python\n",
    "system.integrator.set_vv()\n",
    "system.thermostat.set_langevin(kT=TEMPERATURE, gamma=GAMMA, seed=42)\n",
    "```"
   ]
  },
  {
   "cell_type": "code",
   "execution_count": null,
   "metadata": {},
   "outputs": [],
   "source": []
  },
  {
   "cell_type": "markdown",
   "metadata": {},
   "source": [
    "### Integrating equations of motion and taking measurements\n",
    "\n",
    "At this point, we have set the necessary environment and warmed up our system. \n",
    "Now, we integrate the equations of motion and take measurements and simultaneously\n",
    "take measurements of relevant quantities.\n",
    "\n",
    "In general, observables extract properties of the particles and the LB fluid and \n",
    "return either the raw data or a statistic derived from them.\n",
    "We exemplarily calculate the [radial distribution function](https://en.wikipedia.org/wiki/Radial_distribution_function),\n",
    "for which we create an [observable](http://espressomd.org/html/doc/espressomd.html#espressomd.observables.RDF) (i.e. a timeseries of radial distribution functions) that are averaged using ESPresSo's [mean-variance calculator](http://espressomd.org/html/doc/analysis.html#mean-variance-calculator).\n",
    "\n",
    "In order to measure the mean squared particle displacement (related to diffusion), we employ a\n",
    "[correlator](http://espressomd.org/html/doc/analysis.html#correlations). The latter takes one or two observables, obtains values from them during the simulation and finally uses a fast correlation algorithm which enables efficient computation of correlation functions spanning many orders of magnitude in the lag time."
   ]
  },
  {
   "cell_type": "code",
   "execution_count": null,
   "metadata": {
    "code_folding": []
   },
   "outputs": [],
   "source": [
    "# Integration parameters\n",
    "SAMPLING_INTERVAL = 20\n",
    "SAMPLING_ITERATIONS = 200\n",
    "\n",
    "# Parameters for the radial distribution function\n",
    "R_BINS = 100\n",
    "R_MIN= 0.0\n",
    "R_MAX = system.box_l[0] / 2.0"
   ]
  },
  {
   "cell_type": "markdown",
   "metadata": {
    "solution2": "hidden",
    "solution2_first": true
   },
   "source": [
    "**Exercise:**\n",
    "\n",
    "**Part I:**\n",
    "* Set up the main integration loop.\n",
    "  Take <tt>SAMPLING_ITERATIONS</tt> measurements every <tt>SAMPLING_INTERVAL</tt> integration steps.\n",
    "* Monitor the potential and kinetic energies using the analysis method [<tt>system.analysis.energy()</tt>](http://espressomd.org/html/doc/espressomd.html#module-espressomd.analyze).\n",
    "  The total energy time series should be stored in a <tt>numpy.array e_total</tt>\n",
    "  and the kinetic energy in <tt>e_kin</tt>. Plot the timeseries of the total energy and\n",
    "  of the instantaneous temperature $T = 3/2 \\times E_\\mathrm{kin}$/<tt>N_PART</tt>.\n",
    "  Here $T$ refers to the measured temperature obtained from kinetic energy and the number\n",
    "  of degrees of freedom in the system. It should fluctuate around the preset temperature of the thermostat.\n",
    "  Use the corresponding simulation time stored in <tt>time</tt>.\n",
    "* Plot the instantaneous temperature and total energy versus time.\n",
    "* Estimate the correlation time of the system from the autocorrelation function of the total energy.\n",
    "* Make sure to use only uncorrelated samples to measure the total energy per particle including the long-range correction.\n",
    "  Provide a confidence interval and compare your results to the value given in Ref. <a href='#[6]'>[6]</a>.\n",
    "\n",
    "**Part II:**\n",
    "* Extend the integration loop to include the calculation of the radial distribution function which describes how the density varies as a function of distance from a tagged particle. \n",
    "  The radial distribution function (RDF) is averaged over several measurements to reduce noise.\n",
    "  To this end add an observable <tt>rdf_obs</tt> for the radial distirbution function.\n",
    "  Use min_r=R_MIN, max_r=R_MAX, n_r_bins=R_BINS and create a corresponding [<tt>espressomd.accumulators.MeanVarianceCalculator</tt>](http://espressomd.org/html/doc/espressomd.html#espressomd.accumulators.MeanVarianceCalculator)\n",
    "  that gets updated every SAMPLING_INTERVAL timesteps.\n",
    "  Plot the RDF using the mean of the accumulator.\n",
    "  *Hint*: The radial coordinates can be obtained using the <tt>bin_centers()</tt> method of the <tt>espressomd.observables.RDF</tt> observable."
   ]
  },
  {
   "cell_type": "markdown",
   "metadata": {
    "code_folding": [],
    "solution2": "hidden"
   },
   "source": [
    "```python\n",
    "e_total = np.zeros(SAMPLING_ITERATIONS)\n",
    "e_kin = np.zeros(SAMPLING_ITERATIONS)\n",
    "time = np.zeros(SAMPLING_ITERATIONS)\n",
    "\n",
    "from espressomd.observables import RDF\n",
    "from espressomd.accumulators import Correlator, MeanVarianceCalculator\n",
    "\n",
    "# Initialize RDF accumulator\n",
    "rdf_obs = RDF(ids1=system.part[:].id, min_r=R_MIN, max_r=R_MAX, n_r_bins=R_BINS)\n",
    "rdf_acc = MeanVarianceCalculator(obs=rdf_obs, delta_N=SAMPLING_INTERVAL)\n",
    "# Accumulate results automatically during the integration\n",
    "system.auto_update_accumulators.add(rdf_acc)\n",
    "\n",
    "for i in range(SAMPLING_ITERATIONS):\n",
    "    \n",
    "    time[i] = system.time\n",
    "    print(i,'/',SAMPLING_ITERATIONS,end=\"\\r\")\n",
    "    \n",
    "    system.integrator.run(SAMPLING_INTERVAL)\n",
    "    \n",
    "    # Measure energies\n",
    "    energies = system.analysis.energy()\n",
    "    e_total[i] = energies['total']\n",
    "    e_kin[i] = energies['kinetic']\n",
    "    \n",
    "# Finalize the accumulator and obtain the results\n",
    "rdf = rdf_acc.get_mean()\n",
    "r = rdf_obs.bin_centers()\n",
    "```"
   ]
  },
  {
   "cell_type": "markdown",
   "metadata": {
    "code_folding": [],
    "solution2": "hidden"
   },
   "source": [
    "```python\n",
    "# Plot total energy and instantaneous temperature\n",
    "import matplotlib.pyplot as plt\n",
    "\n",
    "fig1,ax = plt.subplots(num=None, figsize=(10, 6),\n",
    "                       dpi=80, facecolor='w', edgecolor='k')\n",
    "fig1.set_tight_layout(False)\n",
    "\n",
    "t = np.arange(0,SAMPLING_ITERATIONS*SAMPLING_INTERVAL,SAMPLING_INTERVAL)\n",
    "ax.plot(t,e_total, lw=2, label='e_total')\n",
    "ax.set_xlabel('time step', fontsize=20)\n",
    "ax.set_ylabel('total energy', fontsize=20)\n",
    "ax.legend(fontsize=16)\n",
    "ax.tick_params(axis='both', labelsize=16)\n",
    "ax2 = ax.twinx()\n",
    "ax2.plot(t,e_kin/ (1.5 * N_PART), color='r', ls='--', lw=2,\n",
    "         label='instantaneous temperature')\n",
    "ax2.axhline(TEMPERATURE, ls='-.', lw=3, color='k')\n",
    "ax2.set_ylabel('instantaneous temperature', fontsize=20)\n",
    "ax2.legend(fontsize=16)\n",
    "ax2.tick_params(axis='both', labelsize=16)\n",
    "print(\"average simulation temperature: {:1.3f}\".format(np.round(e_kin.mean()/ (1.5 * N_PART),3)),\n",
    "     \"\\t(which differs by {:1.3f}% from TEMPERATURE)\".format(np.round(((e_kin.mean()/ (1.5 * N_PART) - TEMPERATURE) / TEMPERATURE)*100,3)))\n",
    "```"
   ]
  },
  {
   "cell_type": "markdown",
   "metadata": {
    "solution2": "hidden"
   },
   "source": [
    "Since the ensemble average $\\langle E_\\text{kin}\\rangle=3/2 N k_B T$ is related to the temperature,\n",
    "we may compute the actual temperature of the system via $k_B T= 2/(3N) \\langle E_\\text{kin}\\rangle$.\n",
    "The temperature is fixed and does not fluctuate in the NVT ensemble! The instantaneous temperature is\n",
    "calculated via $2/(3N) E_\\text{kin}$ (without ensemble averaging), but it is not the temperature of the system."
   ]
  },
  {
   "cell_type": "markdown",
   "metadata": {
    "code_folding": [],
    "solution2": "hidden"
   },
   "source": [
    "``` python\n",
    "# autocorrelation using numpy.correlate\n",
    "def autocor(x):\n",
    "    mean=x.mean()\n",
    "    var=np.var(x)\n",
    "    xp=x-mean\n",
    "    corr=np.correlate(xp,xp,'full')[len(x)-1:]/var/len(x)\n",
    "    return corr\n",
    "\n",
    "fig2,ax = plt.subplots(num=None, figsize=(10, 6),\n",
    "                       dpi=80, facecolor='w', edgecolor='k')\n",
    "fig2.set_tight_layout(False)\n",
    "\n",
    "acf = autocor(e_total)\n",
    "ax.plot(time/(system.time_step*SAMPLING_INTERVAL), acf, lw=2, color='b')\n",
    "# ax.plot(time,-acf, lw=2, color='b', ls='--')\n",
    "\n",
    "from scipy.optimize import curve_fit\n",
    "fitfn = lambda x,a,t: a*np.exp(-x/t)\n",
    "popt,pcov = curve_fit(fitfn, time/(system.time_step*SAMPLING_INTERVAL), acf)\n",
    "tcor = popt[1]\n",
    "x = np.linspace(0,5)\n",
    "ax.plot(x,np.exp(-x/tcor), lw=2, color='r', ls='-.')\n",
    "# ax.set_yscale('log')\n",
    "# ax.set_ylim(bottom=1e-3)\n",
    "ax.set_xlim(0,5)\n",
    "ax.tick_params(axis='both', labelsize=16)\n",
    "ax.set_ylabel('normalized ACF', fontsize=20)\n",
    "ax.set_xlabel(r'time / $\\tau_\\mathrm{S}$', fontsize=20)\n",
    "ax.axhline(1./np.exp(1))\n",
    "\n",
    "print (\"Estimated correlation time:\", np.round(tcor,2))\n",
    "```"
   ]
  },
  {
   "cell_type": "markdown",
   "metadata": {
    "solution2": "hidden"
   },
   "source": [
    "From the roughly exponential decay of the correlation function it dawns that only every second sample should be used to calculate statistically independent averages."
   ]
  },
  {
   "cell_type": "markdown",
   "metadata": {
    "solution2": "hidden"
   },
   "source": [
    "```python\n",
    "corrected_energy = (e_total-e_kin)[::2]/N_PART - 2/3 * np.pi * DENSITY * (4* LJ_EPS * LJ_SIG**6) / LJ_CUT**3\n",
    "sim_energy = corrected_energy.mean()\n",
    "dsim_energy = corrected_energy.std()/np.sqrt(len(corrected_energy)-1)\n",
    "print(\"The obtained potential energy per particle is {:1.3f} +/- {:1.3f}, which agrees well with\\\n",
    "the value -5.38 given in [6]\".format(*np.round(np.array([sim_energy,dsim_energy]),3)))\n",
    "```"
   ]
  },
  {
   "cell_type": "markdown",
   "metadata": {
    "solution2": "hidden"
   },
   "source": [
    "We now plot the experimental radial distribution.\n",
    "Empirical radial distribution functions have been determined for pure fluids <a href='#[7]'>[7]</a>, mixtures <a href='#[8]'>[8]</a> and confined fluids <a href='#[9]'>[9]</a>. We will compare our distribution $g(r)$ to the theoretical distribution $g(r^*, \\rho^*, T^*)$ of a pure fluid <a href='#[7]'>[7]</a>."
   ]
  },
  {
   "cell_type": "markdown",
   "metadata": {
    "code_folding": [],
    "solution2": "hidden"
   },
   "source": [
    "```python\n",
    "fig3 = plt.figure(num=None, figsize=(10, 6),\n",
    "                  dpi=80, facecolor='w', edgecolor='k')\n",
    "fig3.set_tight_layout(False)\n",
    "plt.plot(r, rdf, '-', color=\"#A60628\", linewidth=3, alpha=1, label='simulated')\n",
    "\n",
    "# Comparison to literature\n",
    "# ========================\n",
    "\n",
    "# reduced units\n",
    "T_star = TEMPERATURE / LJ_EPS\n",
    "rho_star = DENSITY * LJ_SIG**3\n",
    "\n",
    "# expression of the factors Pi from Equations 2-8 with coefficients qi from Table 1\n",
    "# expression for a,g\n",
    "P = lambda q1, q2, q3, q4, q5, q6, q7, q8, q9: \\\n",
    "        q1 + q2 * np.exp(-q3 * T_star) + q4 * np.exp(-q5 * T_star) + q6 / rho_star \\\n",
    "        + q7 / rho_star**2 + q8 * np.exp(-q3 * T_star) / rho_star**3 + q9 * np.exp(-q5 * T_star) / rho_star**4\n",
    "a = P(9.24792, -2.64281, 0.133386, -1.35932, 1.25338, 0.45602, -0.326422, 0.045708, -0.0287681)\n",
    "g = P(0.663161, -0.243089, 1.24749, -2.059, 0.04261, 1.65041, -0.343652, -0.037698, 0.008899)\n",
    "\n",
    "# expression for c,k\n",
    "P = lambda q1, q2, q3, q4, q5, q6, q7, q8: \\\n",
    "        q1 + q2 * np.exp(-q3 * T_star) + q4 * rho_star + q5 * rho_star**2 + q6 * rho_star**3 \\\n",
    "        + q7 * rho_star**4 + q8 * rho_star**5\n",
    "c = P(-0.0677912, -1.39505, 0.512625, 36.9323, -36.8061, 21.7353, -7.76671, 1.36342)\n",
    "k = P(16.4821, -0.300612, 0.0937844, -61.744, 145.285, -168.087, 98.2181, -23.0583)\n",
    "\n",
    "# expression for b,h\n",
    "P = lambda q1, q2, q3: q1 + q2 * np.exp(-q3 * rho_star)\n",
    "b = P(-8.33289, 2.1714, 1.00063)\n",
    "h = P(0.0325039, -1.28792, 2.5487)\n",
    "\n",
    "# expression for d,l\n",
    "P = lambda q1, q2, q3, q4: q1 + q2 * np.exp(-q3 * rho_star) + q4 * rho_star\n",
    "d = P(-26.1615, 27.4846, 1.68124, 6.74296)\n",
    "l = P(-6.7293, -59.5002, 10.2466, -0.43596)\n",
    "\n",
    "# expression for s\n",
    "P = lambda q1, q2, q3, q4, q5, q6, q7, q8: \\\n",
    "        (q1 + q2 * rho_star + q3 / T_star + q4 / T_star**2 + q5 / T_star**3) \\\n",
    "        / (q6 + q7 * rho_star + q8 * rho_star**2)\n",
    "s = P(1.25225, -1.0179, 0.358564, -0.18533, 0.0482119, 1.27592, -1.78785, 0.634741)\n",
    "\n",
    "# expression for m\n",
    "P = lambda q1, q2, q3, q4, q5, q6: \\\n",
    "        q1 + q2 * np.exp(-q3 * T_star) + q4 / T_star + q5 * rho_star + q6 * rho_star**2\n",
    "m = P(-5.668, -3.62671, 0.680654, 0.294481, 0.186395, -0.286954)\n",
    "\n",
    "# expression for n\n",
    "P = lambda q1, q2, q3: q1 + q2 * np.exp(-q3 * T_star)\n",
    "n = P(6.01325, 3.84098, 0.60793)\n",
    "\n",
    "# plot fitted expression (=theoretical curve)\n",
    "theo_rdf_cutoff = 1.02  # slightly more than 1 to smooth out the discontinuity in the range [1.0, 1.02]\n",
    "\n",
    "theo_rdf = 1 + 1 / r**2 * (np.exp(-(a * r + b)) * np.sin(c * r + d) \\\n",
    "                                + np.exp(-(g * r + h)) * np.cos(k * r + l))\n",
    "theo_rdf[np.nonzero(r <= theo_rdf_cutoff)] = \\\n",
    "                            s * np.exp(-(m * r + n)**4)[np.nonzero(r <= theo_rdf_cutoff)]\n",
    "\n",
    "plt.plot(r, theo_rdf, '-', color=\"blue\", linewidth=2, alpha=1, ls='--', label=r'theoretical')\n",
    "\n",
    "plt.xlabel('$r [\\sigma]$', fontsize=20)\n",
    "plt.ylabel('$g(r)$', fontsize=20)\n",
    "plt.gca().tick_params(axis='both', labelsize=16)\n",
    "```"
   ]
  },
  {
   "cell_type": "markdown",
   "metadata": {},
   "source": [
    "## Futher Exercises"
   ]
  },
  {
   "cell_type": "markdown",
   "metadata": {},
   "source": [
    "### Binary Lennard-Jones Liquid\n",
    "\n",
    "A two-component Lennard-Jones liquid can be simulated by placing particles of two types (0 and 1) into the system. Depending on the Lennard-Jones parameters, the two components either mix or separate.\n",
    "\n",
    "1. Modify the code such that half of the particles are of <tt>type=1</tt>. Type 0 is implied for the remaining particles.\n",
    "2. Specify Lennard-Jones interactions between type 0 particles with other type 0 particles, type 1 particles with other type 1 particles, and type 0 particles with type 1 particles (set parameters for <tt>system.non_bonded_inter[i,j].lennard_jones</tt> where <tt>{i,j}</tt> can be <tt>{0,0}</tt>, <tt>{1,1}</tt>, and <tt>{0,1}</tt>. Use the same Lennard-Jones parameters for interactions within a component, but use a different <tt>lj_cut_mixed</tt> parameter for the cutoff of the Lennard-Jones interaction between particles of type 0 and particles of type 1. Set this parameter to $2^{\\frac{1}{6}}\\sigma$ to get de-mixing or to $2.5\\sigma$ to get mixing between the two components.\n",
    "3. Record the radial distribution functions separately for particles of type 0 around particles of type 0, type 1 around particles of type 1, and type 0 around particles of type 1. This can be done by changing the <tt>ids1</tt>/<tt>ids2</tt> arguments of the <tt>espressomd.observables.RDF</tt> command. You can record all three radial distribution functions in a single simulation. It is also possible to write them as several columns into a single file.\n",
    "4. Plot the radial distribution functions for all three combinations of particle types. The mixed case will differ significantly, depending on your choice of <tt>lj_cut_mixed</tt>. Explain these differences."
   ]
  },
  {
   "cell_type": "markdown",
   "metadata": {},
   "source": [
    "## References\n",
    "\n",
    "<a id='[1]'></a>[1] <a href=\"http://espressomd.org\">http://espressomd.org</a>  \n",
    "<a id='[2]'></a>[2] HJ Limbach, A. Arnold, and B. Mann. ESPResSo: An extensible simulation package for research on soft matter systems. *Computer Physics Communications*, 174(9):704–727, 2006.  \n",
    "<a id='[3]'></a>[3] A. Arnold, O. Lenz, S. Kesselheim, R. Weeber, F. Fahrenberger, D. Rohm, P. Kosovan, and C. Holm. ESPResSo 3.1 — molecular dynamics software for coarse-grained models. In M. Griebel and M. A. Schweitzer, editors, Meshfree  Methods for Partial Differential Equations VI, volume 89 of Lecture Notes in Computational Science and Engineering, pages 1–23. Springer Berlin Heidelberg, 2013.  \n",
    "<a id='[4]'></a>[4] A. Arnold, BA Mann, HJ Limbach, and C. Holm. ESPResSo–An Extensible Simulation Package for Research on Soft Matter Systems. *Forschung und wissenschaftliches Rechnen*, 63:43–59, 2003.  \n",
    "<a id='[5]'></a>[5] W. P. Allen & D. J. Tildesley. Computer Simulation of Liquids. Oxford University Press, 2017.  \n",
    "<a id='[6]'></a>[6] L. Verlet, “Computer ‘Experiments’ on Classical Fluids. I. Thermodynamical Properties of Lennard-Jones Molecules, *Phys. Rev.*, 159(1):98–103, 1967. <small>DOI:</small><a href=\"https://doi.org/10.1103/PhysRev.159.98\">10.1103/PhysRev.159.98</a>   \n",
    "<a id='[7]'></a>[6] Morsali, Goharshadi, Mansoori, Abbaspour. An accurate expression for radial distribution function of the Lennard-Jones fluid. *Chemical Physics*, 310(1–3):11–15, 2005. <small>DOI:</small><a href=\"https://doi.org/10.1016/j.chemphys.2004.09.027\">10.1016/j.chemphys.2004.09.027</a>  \n",
    "<a id='[8]'></a>[7] Matteoli. A simple expression for radial distribution functions of pure fluids and mixtures. *The Journal of Chemical Physics*, 103(11):4672, 1995. <small>DOI:</small><a href=\"https://doi.org/10.1063/1.470654\">10.1063/1.470654</a>  \n",
    "<a id='[9]'></a>[8] Abbaspour, Akbarzadeha, Abroodia. A new and accurate expression for the radial distribution function of confined Lennard-Jones fluid in carbon nanotubes. *RSC Advances*, 5(116): 95781–95787, 2015. <small>DOI:</small><a href=\"https://doi.org/10.1039/C5RA16151G\">10.1039/C5RA16151G</a>  "
   ]
  }
 ],
 "metadata": {
  "kernelspec": {
   "display_name": "Python 3.8.5 64-bit",
   "language": "python",
   "name": "python38564bit31b7b39ba35a4507a8c61be7a2214877"
  },
  "language_info": {
   "codemirror_mode": {
    "name": "ipython",
    "version": 3
   },
   "file_extension": ".py",
   "mimetype": "text/x-python",
   "name": "python",
   "nbconvert_exporter": "python",
   "pygments_lexer": "ipython3",
   "version": "3.8.5"
  },
  "latex_envs": {
   "LaTeX_envs_menu_present": true,
   "autoclose": false,
   "autocomplete": true,
   "bibliofile": "biblio.bib",
   "cite_by": "apalike",
   "current_citInitial": 1,
   "eqLabelWithNumbers": true,
   "eqNumInitial": 1,
   "hotkeys": {
    "equation": "Ctrl-E",
    "itemize": "Ctrl-I"
   },
   "labels_anchors": false,
   "latex_user_defs": false,
   "report_style_numbering": false,
   "user_envs_cfg": false
  }
 },
 "nbformat": 4,
 "nbformat_minor": 1
}
