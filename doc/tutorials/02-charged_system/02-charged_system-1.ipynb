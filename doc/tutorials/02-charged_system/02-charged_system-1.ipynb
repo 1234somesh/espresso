{
 "metadata": {
  "name": "",
  "signature": "sha256:dfbcec952db4d6769e0683e4a76830b0ff826002568289c5c217688e8097dfe2"
 },
 "nbformat": 3,
 "nbformat_minor": 0,
 "worksheets": [
  {
   "cells": [
    {
     "cell_type": "heading",
     "level": 1,
     "metadata": {},
     "source": [
      "Tutorial 2: A Simple Charged System, Part 1"
     ]
    },
    {
     "cell_type": "heading",
     "level": 2,
     "metadata": {},
     "source": [
      "1 Introduction"
     ]
    },
    {
     "cell_type": "markdown",
     "metadata": {},
     "source": [
      "This tutorial introduces some of the basic features of **ESPResSo** for charged systems by constructing a simulation script for a simple salt crystal. In the subsequent task, we use a more realistic force-field for a NaCl crystal. Finally, we introduce constraints and 2D-Electrostatics to simulate a molten salt in a parallel plate capacitor. We assume that the reader is familiar with the basic concepts of Python and MD simulations.  Compile espresso with the following features in your *myconfig.hpp* to be set throughout the whole tutorial:\n"
     ]
    },
    {
     "cell_type": "code",
     "collapsed": false,
     "input": [
      "    #define EXTERNAL_FORCES  \n",
      "    #define MASS  \n",
      "    #define ELECTROSTATICS  \n",
      "    #define LENNARD_JONES "
     ],
     "language": "python",
     "metadata": {},
     "outputs": [],
     "prompt_number": 1
    },
    {
     "cell_type": "heading",
     "level": 2,
     "metadata": {},
     "source": [
      "2 Basic Set Up"
     ]
    },
    {
     "cell_type": "markdown",
     "metadata": {},
     "source": [
      "The script for the tutorial can be found in your build directory at <tt>/doc/tutorials/02-charged_system/scripts/nacl.py</tt>.\n",
      "We start with importing numpy, pyplot, and the espressomd features and setting up all\n",
      "the relevant simulation parameters in one place:"
     ]
    },
    {
     "cell_type": "code",
     "collapsed": false,
     "input": [
      "from espressomd import System, electrostatics, features\n",
      "import espressomd\n",
      "import numpy\n",
      "import matplotlib.pyplot as plt\n",
      "\n",
      "# Print enabled features\n",
      "required_features = [\"EXTERNAL_FORCES\", \"MASS\", \"ELECTROSTATICS\", \"LENNARD_JONES\"]\n",
      "espressomd.assert_features(required_features)\n",
      "print(espressomd.features())\n",
      "\n",
      "# System Parameters\n",
      "n_part = 200\n",
      "n_ionpairs = n_part/2\n",
      "density = 0.5\n",
      "time_step = 0.01\n",
      "temp = 1.0\n",
      "gamma = 1.0\n",
      "l_bjerrum = 7.0\n",
      "\n",
      "num_steps_equilibration = 1000\n",
      "num_configs = 100\n",
      "integ_steps_per_config = 1000\n",
      "\n",
      "# Particle Parameters\n",
      "types       = {\"Anion\":          0, \"Cation\": 1}\n",
      "numbers     = {\"Anion\": n_ionpairs, \"Cation\": n_ionpairs}\n",
      "charges     = {\"Anion\":       -1.0, \"Cation\": 1.0}\n",
      "lj_sigmas   = {\"Anion\":        1.0, \"Cation\": 1.0}\n",
      "lj_epsilons = {\"Anion\":        1.0, \"Cation\": 1.0}\n",
      "\n",
      "WCA_cut = 2.**(1. / 6.)\n",
      "lj_cuts     = {\"Anion\":  WCA_cut * lj_sigmas[\"Anion\"], \n",
      "               \"Cation\": WCA_cut * lj_sigmas[\"Cation\"]}\n"
     ],
     "language": "python",
     "metadata": {},
     "outputs": [
      {
       "output_type": "stream",
       "stream": "stdout",
       "text": [
        "['CUDA', 'ELECTROSTATICS', 'EXTERNAL_FORCES', 'FFTW', 'GSL', 'H5MD', 'LATTICE', 'LB_GPU', 'LENNARD_JONES', 'MASS', 'P3M', 'ROTATION', 'ROTATIONAL_INERTIA', 'VIRTUAL_SITES', 'VIRTUAL_SITES_RELATIVE']\n"
       ]
      }
     ],
     "prompt_number": 2
    },
    {
     "cell_type": "markdown",
     "metadata": {},
     "source": [
      "These variables do not change anything in the simulation engine, but\n",
      "are just standard Python variables. They are used to increase the\n",
      "readability and flexibility of the script. The box length is not a\n",
      "parameter of this simulation, it is calculated from the number of\n",
      "particles and the system density. This allows to change the parameters\n",
      "later easily, e. g. to simulate a bigger system.\n",
      "We use dictionaries for all particle related parameters, which is less error-prone and\n",
      "readable as we will see later when we actually need the values. The parameters here define a purely repulsive, \n",
      "equally sized, monovalent salt.\n",
      "\n",
      "The simulation engine itself is modified by changing the\n",
      "espressomd.System() properties. We create an instance <tt>system</tt> and\n",
      "set the box length, periodicity and time step. The skin depth <tt>skin</tt> \n",
      "is a parameter for the link--cell system which tunes its\n",
      "performance, but shall not be discussed here. Further, we activate the Langevin thermostat\n",
      "for our NVT ensemble with temperature <tt>temp</tt> and friction coefficient <tt>gamma</tt>. "
     ]
    },
    {
     "cell_type": "code",
     "collapsed": false,
     "input": [
      "# Setup System\n",
      "box_l = (n_part / density)**(1. / 3.)\n",
      "system = System(box_l = [box_l, box_l, box_l])\n",
      "system.seed=42\n",
      "system.periodicity = [1, 1, 1]\n",
      "system.time_step = time_step\n",
      "system.cell_system.skin = 0.3\n",
      "system.thermostat.set_langevin(kT=temp, gamma=gamma)"
     ],
     "language": "python",
     "metadata": {},
     "outputs": [],
     "prompt_number": 3
    },
    {
     "cell_type": "markdown",
     "metadata": {},
     "source": [
      "We now fill this simulation box with particles at random positions, using type and charge from our dictionaries.\n",
      "Using the length of the particle list <tt>system.part</tt> for the id, we make sure that our particles are numbered consecutively.\n",
      "The particle type is used to link non-bonded interactions to a certain group of particles."
     ]
    },
    {
     "cell_type": "code",
     "collapsed": false,
     "input": [
      "for i in range(int(n_ionpairs)):\n",
      "    system.part.add(\n",
      "            id=len(system.part), \n",
      "            type=types[\"Anion\"],  \n",
      "            pos=numpy.random.random(3) * box_l, \n",
      "            q=charges[\"Anion\"])\n",
      "for i in range(int(n_ionpairs)):\n",
      "    system.part.add(\n",
      "            id=len(system.part), \n",
      "            type=types[\"Cation\"], \n",
      "            pos=numpy.random.random(3) * box_l, \n",
      "            q=charges[\"Cation\"])"
     ],
     "language": "python",
     "metadata": {},
     "outputs": [],
     "prompt_number": 4
    },
    {
     "cell_type": "markdown",
     "metadata": {},
     "source": [
      "Before we can really start the simulation, we have to specify the\n",
      "interactions between our particles. We already defined the Lennard-Jones parameters at the beginning,\n",
      "what is left is to specify the combination rule and to iterate over particle type pairs. For simplicity, \n",
      "we implement only the *Lorentz-Berthelot* rules. \n",
      "We pass our interaction pair to <tt>system.non_bonded_inter[\\*,\\*]</tt> and set the \n",
      "pre-calculated LJ parameters <tt>epsilon</tt>, <tt>sigma</tt> and <tt>cutoff</tt>. With <tt>shift=\"auto\"</tt>,\n",
      "we shift the interaction potential to the cutoff so that $U_\\mathrm{LJ}(r_\\mathrm{cutoff})=0$."
     ]
    },
    {
     "cell_type": "code",
     "collapsed": false,
     "input": [
      "def combination_rule_epsilon(rule, eps1, eps2):\n",
      "    if rule==\"Lorentz\":\n",
      "        return (eps1*eps2)**0.5\n",
      "    else:\n",
      "        return ValueError(\"No combination rule defined\")\n",
      "\n",
      "def combination_rule_sigma(rule, sig1, sig2):\n",
      "    if rule==\"Berthelot\":\n",
      "        return (sig1+sig2)*0.5\n",
      "    else:\n",
      "        return ValueError(\"No combination rule defined\")\n",
      "\n",
      "# Lennard-Jones interactions parameters \n",
      "for s in [[\"Anion\", \"Cation\"], [\"Anion\", \"Anion\"], [\"Cation\", \"Cation\"]]:\n",
      "        lj_sig = combination_rule_sigma(\"Berthelot\",lj_sigmas[s[0]], lj_sigmas[s[1]])\n",
      "        lj_cut = combination_rule_sigma(\"Berthelot\", lj_cuts[s[0]], lj_cuts[s[1]])\n",
      "        lj_eps = combination_rule_epsilon(\"Lorentz\", lj_epsilons[s[0]],lj_epsilons[s[1]])\n",
      "\n",
      "        system.non_bonded_inter[types[s[0]], types[s[1]]].lennard_jones.set_params(\n",
      "            epsilon=lj_eps, sigma=lj_sig, cutoff=lj_cut, shift=\"auto\")"
     ],
     "language": "python",
     "metadata": {},
     "outputs": [],
     "prompt_number": 5
    },
    {
     "cell_type": "heading",
     "level": 2,
     "metadata": {},
     "source": [
      "3 Equilibration"
     ]
    },
    {
     "cell_type": "markdown",
     "metadata": {},
     "source": [
      "With randomly positioned particles, we most likely have huge overlap and the strong repulsion will\n",
      "cause the simulation to crash. The next step in our script therefore is a suitable LJ equilibration.\n",
      "This is known to be a tricky part of a simulation and several approaches exist to reduce the particle overlap.\n",
      "Here, we use a highly damped system (large gamma in the thermostat) and cap the forces of the LJ interaction.\n",
      "We use <tt>system.analysis.mindist</tt> to get the minimal distance between all particles pairs. This value\n",
      "is used to progressively increase the force capping. This results in a slow increase of the force capping at\n",
      "strong overlap. At the end, we reset our thermostat to the target values and deactivate the force cap by setting \n",
      "it to zero."
     ]
    },
    {
     "cell_type": "code",
     "collapsed": false,
     "input": [
      "# Lennard Jones Equilibration\n",
      "max_sigma = max(lj_sigmas.values())\n",
      "min_dist = 0.0\n",
      "cap = 10.0\n",
      "# Warmup Helper: Cold, highly damped system\n",
      "system.thermostat.set_langevin(kT=temp*0.1, gamma=gamma*50.0)\n",
      "\n",
      "while min_dist < max_sigma:\n",
      "    #Warmup Helper: Cap max. force, increase slowly for overlapping particles\n",
      "    min_dist = system.analysis.min_dist([types[\"Anion\"],types[\"Cation\"]],[types[\"Anion\"],types[\"Cation\"]])\n",
      "    cap += min_dist\n",
      "#print min_dist, cap\n",
      "    system.force_cap=cap\n",
      "    system.integrator.run(10)\n",
      "\n",
      "# Don't forget to reset thermostat, timestep and force cap\n",
      "system.thermostat.set_langevin(kT=temp, gamma=gamma)\n",
      "system.force_cap=0   "
     ],
     "language": "python",
     "metadata": {},
     "outputs": [],
     "prompt_number": 6
    },
    {
     "cell_type": "markdown",
     "metadata": {},
     "source": [
      "**ESPResSo** uses so-called <tt>actors</tt> for electrostatics, magnetostatics and hydrodynamics. This ensures that unphysical combinations of algorithms are\n",
      "avoided, for example simultaneous usage of two electrostatic interactions.\n",
      "Adding an actor to the system also activates the method and calls necessary\n",
      "initialization routines. Here, we define a P$^3$M object with parameters Bjerrum\n",
      "length and rms force error . This automatically starts a\n",
      "tuning function which tries to find optimal parameters for P$^3$M and prints them\n",
      "to the screen:"
     ]
    },
    {
     "cell_type": "code",
     "collapsed": false,
     "input": [
      "%%capture \n",
      "# Suppress Output\n",
      "\n",
      "# Tuning Electrostatics\n",
      "p3m = electrostatics.P3M(prefactor=l_bjerrum*temp, \n",
      "                         accuracy=1e-3)\n",
      "system.actors.add(p3m)"
     ],
     "language": "python",
     "metadata": {},
     "outputs": [],
     "prompt_number": 7
    },
    {
     "cell_type": "markdown",
     "metadata": {},
     "source": [
      "Before the production part of the simulation, we do a quick temperature \n",
      "equilibration. For the output, we gather all energies with <tt>system.analysis.energy()</tt>, calculate the \"current\" temperature from the ideal part and print it to the screen along with the total and Coulomb energies. Note that for the ideal gas the temperature is given via $1/2 m \\sqrt{\\langle v^2 \\rangle}=3/2 k_BT$, where $\\langle \\cdot \\rangle$ denotes the ensemble average. Calculating some kind of \"current temperature\" via $T_\\text{cur}=\\frac{m}{3 k_B} \\sqrt{ v^2 }$ you do not obtain the temperature in the system. Only when averaging the squared velocities first one would obtain the temperature for the ideal gas. $T$ is a fixed quantity and does not fluctuate in the canonical ensemble.\n",
      "\n",
      "We integrate for a certain amount of steps with <tt>system.integrator.run(100)<tt/>.\n"
     ]
    },
    {
     "cell_type": "code",
     "collapsed": false,
     "input": [
      "# Temperature Equilibration\n",
      "system.time = 0.0\n",
      "for i in range(int(num_steps_equilibration/50)):\n",
      "    energy = system.analysis.energy()\n",
      "    temp_measured = energy['kinetic'] / ((3.0 / 2.0) * n_part)\n",
      "    print(\"t={0:.1f}, E_total={1:.2f}, E_coulomb={2:.2f},T={3:.4f}\".format(system.time, energy['total'], \n",
      "                                                                           energy['coulomb'], temp_measured))\n",
      "    system.integrator.run(200)"
     ],
     "language": "python",
     "metadata": {},
     "outputs": [
      {
       "output_type": "stream",
       "stream": "stdout",
       "text": [
        "t=0.0, E_total=-202.73, E_coulomb=-229.99,T=0.0380\n",
        "t=2.0, E_total=-465.06, E_coulomb=-852.70,T=1.0145"
       ]
      },
      {
       "output_type": "stream",
       "stream": "stdout",
       "text": [
        "\n",
        "t=4.0, E_total=-451.00, E_coulomb=-840.86,T=1.0753"
       ]
      },
      {
       "output_type": "stream",
       "stream": "stdout",
       "text": [
        "\n",
        "t=6.0, E_total=-499.43, E_coulomb=-861.30,T=0.9790"
       ]
      },
      {
       "output_type": "stream",
       "stream": "stdout",
       "text": [
        "\n",
        "t=8.0, E_total=-467.32, E_coulomb=-854.06,T=1.0509"
       ]
      },
      {
       "output_type": "stream",
       "stream": "stdout",
       "text": [
        "\n",
        "t=10.0, E_total=-518.02, E_coulomb=-844.75,T=0.8903"
       ]
      },
      {
       "output_type": "stream",
       "stream": "stdout",
       "text": [
        "\n",
        "t=12.0, E_total=-492.55, E_coulomb=-848.71,T=0.9718"
       ]
      },
      {
       "output_type": "stream",
       "stream": "stdout",
       "text": [
        "\n",
        "t=14.0, E_total=-461.15, E_coulomb=-824.59,T=1.0132"
       ]
      },
      {
       "output_type": "stream",
       "stream": "stdout",
       "text": [
        "\n",
        "t=16.0, E_total=-490.89, E_coulomb=-855.40,T=1.0070"
       ]
      },
      {
       "output_type": "stream",
       "stream": "stdout",
       "text": [
        "\n",
        "t=18.0, E_total=-479.34, E_coulomb=-854.79,T=1.0068"
       ]
      },
      {
       "output_type": "stream",
       "stream": "stdout",
       "text": [
        "\n",
        "t=20.0, E_total=-460.15, E_coulomb=-863.46,T=1.1408"
       ]
      },
      {
       "output_type": "stream",
       "stream": "stdout",
       "text": [
        "\n",
        "t=22.0, E_total=-493.75, E_coulomb=-850.56,T=0.9531"
       ]
      },
      {
       "output_type": "stream",
       "stream": "stdout",
       "text": [
        "\n",
        "t=24.0, E_total=-475.68, E_coulomb=-859.88,T=1.0096"
       ]
      },
      {
       "output_type": "stream",
       "stream": "stdout",
       "text": [
        "\n",
        "t=26.0, E_total=-493.63, E_coulomb=-858.17,T=0.9766"
       ]
      },
      {
       "output_type": "stream",
       "stream": "stdout",
       "text": [
        "\n",
        "t=28.0, E_total=-457.62, E_coulomb=-846.04,T=1.0531"
       ]
      },
      {
       "output_type": "stream",
       "stream": "stdout",
       "text": [
        "\n",
        "t=30.0, E_total=-490.20, E_coulomb=-857.67,T=0.9867"
       ]
      },
      {
       "output_type": "stream",
       "stream": "stdout",
       "text": [
        "\n",
        "t=32.0, E_total=-494.93, E_coulomb=-874.08,T=1.0096"
       ]
      },
      {
       "output_type": "stream",
       "stream": "stdout",
       "text": [
        "\n",
        "t=34.0, E_total=-493.10, E_coulomb=-856.48,T=0.9674"
       ]
      },
      {
       "output_type": "stream",
       "stream": "stdout",
       "text": [
        "\n",
        "t=36.0, E_total=-468.43, E_coulomb=-864.61,T=1.0492"
       ]
      },
      {
       "output_type": "stream",
       "stream": "stdout",
       "text": [
        "\n",
        "t=38.0, E_total=-470.21, E_coulomb=-857.79,T=1.0855"
       ]
      },
      {
       "output_type": "stream",
       "stream": "stdout",
       "text": [
        "\n"
       ]
      }
     ],
     "prompt_number": 8
    },
    {
     "cell_type": "markdown",
     "metadata": {},
     "source": [
      "<figure>\n",
      "<img src='figures/salt.png' alt='missing' style=\"width: 300px;\"/>\n",
      "<center>\n",
      "<figcaption>Figure 1: VMD Snapshot of the Salt System</figcaption>\n",
      "</figure>"
     ]
    },
    {
     "cell_type": "heading",
     "level": 2,
     "metadata": {},
     "source": [
      "4 Running the Simulation"
     ]
    },
    {
     "cell_type": "markdown",
     "metadata": {},
     "source": [
      "Now we can integrate the particle trajectories for a couple of time\n",
      "steps. Our integration loop basically looks like the equilibration:"
     ]
    },
    {
     "cell_type": "code",
     "collapsed": false,
     "input": [
      "%%capture \n",
      "# Suppress Output\n",
      "\n",
      "# Integration\n",
      "system.time = 0.0\n",
      "for i in range(num_configs):\n",
      "    energy = system.analysis.energy()\n",
      "    temp_measured = energy['kinetic'] / ((3.0 / 2.0) * n_part)\n",
      "    print(\"t={0:.1f}, E_total={1:.2f}, E_coulomb={2:.2f}, T={3:.4f}\".format(system.time, energy['total'],\n",
      "                                                                            energy['coulomb'], temp_measured))\n",
      "    system.integrator.run(integ_steps_per_config)\n",
      "\n",
      "    # Internally append particle configuration\n",
      "    system.analysis.append()"
     ],
     "language": "python",
     "metadata": {},
     "outputs": [],
     "prompt_number": 9
    },
    {
     "cell_type": "markdown",
     "metadata": {},
     "source": [
      "Additionally, we append all particle configurations in the core with <tt>system.analysis.append()</tt> for a very convenient analysis later on."
     ]
    },
    {
     "cell_type": "heading",
     "level": 2,
     "metadata": {},
     "source": [
      "5 Analysis"
     ]
    },
    {
     "cell_type": "markdown",
     "metadata": {},
     "source": [
      "Now, we want to calculate the averaged radial distribution functions\n",
      "$g_{++}(r)$ and $g_{+-}(r)$ with the <tt>rdf()</tt> command from <tt>system.analysis</tt>: "
     ]
    },
    {
     "cell_type": "code",
     "collapsed": false,
     "input": [
      "# Analysis\n",
      "# Calculate the averaged rdfs\n",
      "rdf_bins = 100\n",
      "r_min  = 0.0\n",
      "r_max  = system.box_l[0]/2.0\n",
      "r,rdf_00 = system.analysis.rdf(rdf_type='<rdf>', \n",
      "                            type_list_a=[types[\"Anion\"]],\n",
      "                            type_list_b=[types[\"Anion\"]], \n",
      "                            r_min=r_min,\n",
      "                            r_max=r_max, \n",
      "                            r_bins=rdf_bins)\n",
      "r,rdf_01 = system.analysis.rdf(rdf_type='<rdf>',\n",
      "                            type_list_a=[types[\"Anion\"]],\n",
      "                            type_list_b=[types[\"Cation\"]], \n",
      "                            r_min=r_min, r_max=r_max, r_bins=rdf_bins)"
     ],
     "language": "python",
     "metadata": {},
     "outputs": [],
     "prompt_number": 10
    },
    {
     "cell_type": "markdown",
     "metadata": {},
     "source": [
      "The shown <tt>rdf()</tt> commands return the radial distribution functions for\n",
      "equally and oppositely charged particles for specified radii and number of bins. \n",
      "In this case, we calculate the averaged rdf of the stored\n",
      "configurations, denoted by the chevrons in <tt>rdf_type='$<\\mathrm{rdf}>$'</tt>. Using <tt>rdf_type='rdf'</tt> would simply calculate the rdf of the current particle\n",
      "configuration. The results are two NumPy arrays containing the $r$ and $g(r)$\n",
      "values. We can then write the data into a file with standard python output routines."
     ]
    },
    {
     "cell_type": "code",
     "collapsed": false,
     "input": [
      "with open('rdf.data', 'w') as rdf_fp:\n",
      "    for i in range(rdf_bins):\n",
      "        rdf_fp.write(\"%1.5e %1.5e %1.5e\\n\" % \n",
      "                (r[i], rdf_00[i], rdf_01[i]))"
     ],
     "language": "python",
     "metadata": {},
     "outputs": [],
     "prompt_number": 11
    },
    {
     "cell_type": "markdown",
     "metadata": {},
     "source": [
      "Finally we can plot the two radial distribution functions using pyplot."
     ]
    },
    {
     "cell_type": "code",
     "collapsed": false,
     "input": [
      "# Plot the distribution functions\n",
      "%matplotlib inline\n",
      "plt.figure(figsize=(10,6), dpi=80)\n",
      "plt.plot(r[:],rdf_00[:], label='$g(r)_{++}$')\n",
      "plt.plot(r[:],rdf_01[:], label='$g(r)_{+-}$')\n",
      "plt.xlabel('$r$', fontsize=20)\n",
      "plt.ylabel('$g(r)$', fontsize=20)\n",
      "plt.legend(fontsize=20)\n",
      "plt.show()"
     ],
     "language": "python",
     "metadata": {},
     "outputs": [
      {
       "metadata": {},
       "output_type": "display_data",
       "png": "[encoded data removed]",
       "text": [
        "<matplotlib.figure.Figure at 0x2ae2ee45c150>"
       ]
      }
     ],
     "prompt_number": 12
    },
    {
     "cell_type": "heading",
     "level": 2,
     "metadata": {},
     "source": [
      "6 Task - Real Units"
     ]
    },
    {
     "cell_type": "markdown",
     "metadata": {},
     "source": [
      "So far, the system has arbitrary units and is not connected to any real physical system.\n",
      "Simulate a proper NaCl crystal with the force field parameter taken from:"
     ]
    },
    {
     "cell_type": "markdown",
     "metadata": {},
     "source": [
      "R. Fuentes-Azcatl and M. Barbosa, *Sodium Chloride, NaCl/$\\epsilon$ : New Force Field*, J. Phys. Chem. B, 2016, 120(9), pp 2460-2470"
     ]
    },
    {
     "cell_type": "markdown",
     "metadata": {},
     "source": [
      "|  | $q/\\mathrm{e}$ | $\\sigma/\\mathrm{\\mathring{A}}$ | $(\\epsilon/\\mathrm{k_B})/\\mathrm{K}$ | $m/\\mathrm{u}$ |\n",
      "| ------------- | ------------- |------------- |------------- |------------- |\n",
      "| Na   | +1   &nbsp;&nbsp;&nbsp; | 2.52  &nbsp;&nbsp;&nbsp;    | 17.44  &nbsp;&nbsp;&nbsp;&nbsp;&nbsp;&nbsp;&nbsp;&nbsp;&nbsp;&nbsp;&nbsp;&nbsp; | 22.99  |\n",
      "| Cl | -1 | 3.85  | 192.45  | 35.453 |"
     ]
    },
    {
     "cell_type": "markdown",
     "metadata": {},
     "source": [
      "Use the following system parameters:"
     ]
    },
    {
     "cell_type": "markdown",
     "metadata": {},
     "source": [
      "| Parameter | Value |\n",
      "| --- | --- |\n",
      "| Temperature | $298\\ \\mathrm{K}$ | \n",
      "| Fiction Coeff. | $ 10\\ \\mathrm{ps}^{-1}$ | \n",
      "| Density | $1.5736\\ \\mathrm{ \\mu \\mathring{A}}^{-3}$ |\n",
      "| Bjerrum Length (298 K) | $439.2\\ \\mathrm{\\mathring{A}}$ | \n",
      "| Time Step | $2\\ \\mathrm{fs}$ |\n"
     ]
    },
    {
     "cell_type": "markdown",
     "metadata": {},
     "source": [
      "To make your life more easy, don't try to equilibrate randomly positioned particles,\n",
      "but set them up in a crystal structure close to equilibrium. If you do it right,\n",
      "you don't even need the Lennard-Jones equilibration. \n",
      "To speed things up, don't go further than 1000 particles and use a P$^3$M accuracy of $10^{-2}$.\n",
      "Your RDF should look like the plot in figure 2. When you get stuck,\n",
      "you can look at the solution script <tt>/doc/tutorials/02-charged_system/scripts/nacl_units.py</tt> (or <tt>nacl_units_vis.py</tt> with visualization)."
     ]
    },
    {
     "cell_type": "markdown",
     "metadata": {},
     "source": [
      "<figure>\n",
      "    <img src='figures/nacl_units.jpg' alt='missing' style=\"width: 600px;\"/>\n",
      "    <center>\n",
      "    <figcaption>Figure 2: Snapshot and RDF of the parameterized NaCl crystal.</figcaption>\n",
      "</figure>"
     ]
    },
    {
     "cell_type": "code",
     "collapsed": false,
     "input": [],
     "language": "python",
     "metadata": {},
     "outputs": [],
     "prompt_number": 12
    }
   ],
   "metadata": {}
  }
 ]
}