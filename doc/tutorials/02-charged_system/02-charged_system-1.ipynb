{
 "cells": [
  {
   "cell_type": "markdown",
   "metadata": {},
   "source": [
    "# Tutorial 2: Charged Systems: Counterion Condensation\n",
    "\n",
    "## Table of contents\n",
    "* [Introduction](#Introduction)\n",
    "* [System setup](#System-setup)\n",
    "* [First runs and system cleanup](#First-runs-and-system-cleanup)\n",
    "* [Production run and analysis](#Production-run-and-analysis)\n",
    "* [Overcharging by added salt](#Overcharging-by-added-salt)\n",
    "\n"
   ]
  },
  {
   "cell_type": "markdown",
   "metadata": {},
   "source": [
    "## Introduction\n",
    "\n",
    "In this tutorial, we simulate a charged system consisting of a fixed charged rod with ions around it. This setup represents a simplified model for polyelectrolyte gels. We will investigate the condensation of ions onto the oppositely charged rod and compare the results to a meanfield analytical solution obtained from Poisson-Boltzmann (PB) theory.\n",
    "Finally we will go beyond the expected applicability of PB and add concentrated additional salt ions to observe an overcharging effect.\n",
    "\n",
    "The tutorial follows \"Deserno, Markus, Christian Holm, and Sylvio May. \"Fraction of condensed counterions around a charged rod: Comparison of Poisson− Boltzmann theory and computer simulations. Macromolecules 33.1 (2000): 199-206, [10.1021/ma990897o](https://doi.org/10.1021/ma990897o)\". We refer to that publication for further reading."
   ]
  },
  {
   "cell_type": "code",
   "execution_count": null,
   "metadata": {},
   "outputs": [],
   "source": [
    "from espressomd import System, interactions, electrostatics\n",
    "\n",
    "import numpy as np\n",
    "from scipy import optimize\n",
    "%matplotlib inline\n",
    "import matplotlib.pyplot as plt\n",
    "\n",
    "np.random.seed(41)"
   ]
  },
  {
   "cell_type": "markdown",
   "metadata": {},
   "source": [
    "# System setup\n",
    "\n",
    "After importing the necessary **ESPResSo** features and external modules, we define the cubical system geometry and some physical parameters (which define our unit system)."
   ]
  },
  {
   "cell_type": "code",
   "execution_count": null,
   "metadata": {},
   "outputs": [],
   "source": [
    "# system parameters\n",
    "rod_length = 50\n",
    "bjerrum_length = 1.0\n",
    "\n",
    "# we assume a unit system where the elementary charge and the thermal energy are both 1\n",
    "system = System(box_l=3*[rod_length])\n",
    "kT = 1.\n",
    "q_e = 1.\n",
    "\n",
    "system.time_step = 0.01\n",
    "system.cell_system.skin = 0.4"
   ]
  },
  {
   "cell_type": "markdown",
   "metadata": {},
   "source": [
    "We will build the charged rod from individual particles that are fixed in space. With this, we can use the particle-based electrostatics methods of **ESPResSo**. For analysis, we give the rod particles a different type than the counterions."
   ]
  },
  {
   "cell_type": "code",
   "execution_count": null,
   "metadata": {},
   "outputs": [],
   "source": [
    "# interaction parameters\n",
    "wca_epsilon = 1.0\n",
    "ion_diameter = 1.0\n",
    "rod_radius = 1.0\n",
    "# particle types \n",
    "rod_type = 1\n",
    "counterion_type = 2"
   ]
  },
  {
   "cell_type": "markdown",
   "metadata": {
    "solution2": "hidden",
    "solution2_first": true
   },
   "source": [
    "**Exercise:**\n",
    "\n",
    "* Setup the purely repulsive Weeks-Chandler-Anderson (WCA) interaction ([Non-bonded Interactions](http://espressomd.org/html/doc/inter_non-bonded.html)) between the ions and between the ions and the rod particles. Use the parameters introduced in the cell above.\n",
    "\n",
    "**Hints:**\n",
    "* The WCA potential uses the same parameters as the Lennard-Jones potential, but the cutoff and shift are calculated automatically\n",
    "* Use the Lorentz combining rule (arithmetic mean) to determine the ``sigma`` parameter of the interaction between the rod particles and the ions"
   ]
  },
  {
   "cell_type": "markdown",
   "metadata": {
    "solution2": "hidden"
   },
   "source": [
    "```python\n",
    "#ion-ion interaction\n",
    "system.non_bonded_inter[counterion_type,counterion_type].wca.set_params(\n",
    "      epsilon=wca_epsilon, sigma=ion_diameter)\n",
    "\n",
    "# ion-rod interaction\n",
    "system.non_bonded_inter[counterion_type,rod_type].wca.set_params(\n",
    "      epsilon=wca_epsilon, sigma=ion_diameter/2. + rod_radius)\n",
    "```"
   ]
  },
  {
   "cell_type": "code",
   "execution_count": null,
   "metadata": {},
   "outputs": [],
   "source": []
  },
  {
   "cell_type": "markdown",
   "metadata": {
    "solution2": "hidden",
    "solution2_first": true
   },
   "source": [
    "Now we need to place the particles in the box\n",
    "\n",
    "**Exercise:**\n",
    "* Implement a function to place the rod particles along the $x_3$ axis in the middle of the simulation box and the ions randomly distributed \n",
    "* Use the signature ``setup_rod_and_counterions(system, ion_valency, counterion_type, rod_charge_dens, N_rod_beads, rod_type) ``\n",
    "* determine the number of counterions from the condition of neutrality for the whole system (the rod should be positive, the counterions negative)\n",
    "* Assign the rod particles and cointerions their correct ``type``\n",
    "* Give the counterions a charge ``q`` according to their ``ion_valency``\n",
    "* Give the rod particles a charge such that the ``rod_charge_dens`` is uniformely distributed along the ``N_rod_beads`` individual particles\n",
    "* Fix the rod particles in space so they do not get moved if forces act upon them\n",
    "\n",
    "**Hints:**\n",
    "* Look into [Eespresso particle properties](http://espressomd.org/html/doc/espressomd.html?#module-espressomd.particle_data) to find the keywords to set charges and fix particles\n",
    "* use np.random.random() to generate the counterion positions"
   ]
  },
  {
   "cell_type": "markdown",
   "metadata": {
    "solution2": "hidden"
   },
   "source": [
    "```python\n",
    "def setup_rod_and_counterions(system, ion_valency, counterion_type,\n",
    "                 rod_charge_dens, N_rod_beads, rod_type):\n",
    "\n",
    "    # calculate charge of the single rod beads\n",
    "    rod_length = system.box_l[2]\n",
    "    total_rod_charge = rod_charge_dens*rod_length\n",
    "    rod_charge_per_bead = total_rod_charge/N_rod_beads\n",
    "\n",
    "    # number of counterions\n",
    "    N_ions = int(total_rod_charge/ion_valency)\n",
    "    \n",
    "    rod_zs = np.linspace(0,rod_length,num = N_rod_beads,endpoint = False)\n",
    "    rod_positions = np.column_stack(([system.box_l[0]/2.]*N_rod_beads, \n",
    "                                    [system.box_l[1]/2.]*N_rod_beads,\n",
    "                                     rod_zs))\n",
    "    \n",
    "    system.part.add(pos = rod_positions,type=[rod_type]*N_rod_beads, \n",
    "                    q=[rod_charge_per_bead]*N_rod_beads, \n",
    "                    fix=[3*[True]]*N_rod_beads)\n",
    "    \n",
    "    ion_positions = np.random.random((N_ions,3)) * system.box_l\n",
    "   \n",
    "    counter_ions = system.part.add(pos = ion_positions,type=[counterion_type]*N_ions, q=[-ion_valency]*N_ions)\n",
    "\n",
    "    return counter_ions\n",
    "```"
   ]
  },
  {
   "cell_type": "code",
   "execution_count": null,
   "metadata": {},
   "outputs": [],
   "source": []
  },
  {
   "cell_type": "code",
   "execution_count": null,
   "metadata": {},
   "outputs": [],
   "source": [
    "counterion_valency = 1\n",
    "rod_charge_dens = 2\n",
    "\n",
    "# number of beads that make up the rod\n",
    "N_rod_beads = 50\n",
    "\n",
    "setup_rod_and_counterions(system, counterion_valency, counterion_type,\n",
    "             rod_charge_dens, N_rod_beads, rod_type)\n",
    "\n",
    "#check that the particle setup was done correctly\n",
    "assert(abs(sum(system.part[:].q))<1e-10)\n",
    "assert(np.all(system.part.select(type=rod_type).fix))"
   ]
  },
  {
   "cell_type": "markdown",
   "metadata": {},
   "source": [
    "Now we set up the electrostatics method to calculate the forces and energies from the longrange coulomb interaction. **ESPResSo** uses so-called <tt>actors</tt> for electrostatics, magnetostatics and hydrodynamics. This ensures that unphysical combinations of algorithms are avoided, for example simultaneous usage of two electrostatic interactions. Adding an actor to the system also activates the method and calls necessary initialization routines. Here, we define a P$^3$M object using the Bjerrum length and rms force error. This automatically starts a tuning function which tries to find optimal parameters for P$^3$M and prints them to the screen. For more details, see the [Espresso documentation](http://espressomd.org/html/doc/electrostatics.html)."
   ]
  },
  {
   "cell_type": "code",
   "execution_count": null,
   "metadata": {},
   "outputs": [],
   "source": [
    "p3m_params = {'prefactor':kT*bjerrum_length*q_e**2,\n",
    "              'accuracy':1e-3}"
   ]
  },
  {
   "cell_type": "markdown",
   "metadata": {},
   "source": [
    "For the accuracy, **ESPResSo** estimates the relative error in the force calculation introduced by the approximations of $P^3M$. We choose a relatively poor accuracy (large value) for this tutorial to make it run faster. For your own production simulations you should reduce that number."
   ]
  },
  {
   "cell_type": "markdown",
   "metadata": {
    "solution2": "hidden",
    "solution2_first": true
   },
   "source": [
    "**Exercise:**\n",
    "* Set up a ``p3m`` instance and add it to the ``actors`` of the system"
   ]
  },
  {
   "cell_type": "markdown",
   "metadata": {
    "solution2": "hidden"
   },
   "source": [
    "```python\n",
    "p3m = electrostatics.P3M(**p3m_params)\n",
    "system.actors.add(p3m)\n",
    "```"
   ]
  },
  {
   "cell_type": "code",
   "execution_count": null,
   "metadata": {},
   "outputs": [],
   "source": []
  },
  {
   "cell_type": "markdown",
   "metadata": {},
   "source": [
    "Before we can start the simulation, we need to remove the overlap between particles to avoid large forces which would crash the simulation. For this, we use the steepest descent integrator with a relative convergence criterium for forces and energies."
   ]
  },
  {
   "cell_type": "code",
   "execution_count": null,
   "metadata": {},
   "outputs": [],
   "source": [
    "def remove_overlap(system, sd_params):   \n",
    "    # Removes overlap by steepest descent until forces or energies converge\n",
    "    # Set up steepest descent integration\n",
    "    system.integrator.set_steepest_descent(f_max=0,\n",
    "                                           gamma=sd_params['damping'],\n",
    "                                           max_displacement=sd_params['max_displacement'])\n",
    "    \n",
    "    # Initialize integrator to obtain initial forces\n",
    "    system.integrator.run(0)\n",
    "    maxforce = np.max(np.linalg.norm(system.part[:].f, axis = 1))\n",
    "    energy = system.analysis.energy()['total']\n",
    "    \n",
    "    i = 0\n",
    "    while i < sd_params['max_steps']//sd_params['emstep']:\n",
    "        prev_maxforce = maxforce\n",
    "        prev_energy = energy\n",
    "        print(prev_energy)\n",
    "        system.integrator.run(sd_params['emstep'])\n",
    "        maxforce = np.max(np.linalg.norm(system.part[:].f, axis = 1))\n",
    "        relforce = np.abs((maxforce-prev_maxforce)/prev_maxforce)\n",
    "        energy = system.analysis.energy()['total']\n",
    "        relener = np.abs((energy-prev_energy)/prev_energy)\n",
    "        print(\"minimization step: {:4.0f}\\tmax. rel. force change:{:+3.3e}\\trel. energy change:{:+3.3e}\".format((i+1)*sd_params['emstep'],relforce, relener))\n",
    "        if relforce < sd_params['f_tol'] or relener < sd_params['e_tol']:\n",
    "            break\n",
    "        i += 1\n",
    "        \n",
    "    system.integrator.set_vv()"
   ]
  },
  {
   "cell_type": "code",
   "execution_count": null,
   "metadata": {},
   "outputs": [],
   "source": [
    "steepest_descent_params = {'f_tol':1e-2,\n",
    "                          'e_tol':1e-5,\n",
    "                          'damping':30,\n",
    "                          'max_steps':10000,\n",
    "                          'max_displacement':0.01,\n",
    "                          'emstep':10}\n",
    "\n",
    "remove_overlap(system,steepest_descent_params)"
   ]
  },
  {
   "cell_type": "markdown",
   "metadata": {},
   "source": [
    "After the overlap is removed, we activate a thermostat to simulate the system at a given temperature."
   ]
  },
  {
   "cell_type": "code",
   "execution_count": null,
   "metadata": {},
   "outputs": [],
   "source": [
    "langevin_params = {'kT':kT,\n",
    "                   'gamma':0.5,\n",
    "                   'seed':42}\n",
    "system.thermostat.set_langevin(**langevin_params)"
   ]
  },
  {
   "cell_type": "markdown",
   "metadata": {
    "solution2": "hidden",
    "solution2_first": true
   },
   "source": [
    "## First runs and system cleanup\n",
    "\n",
    "Now we are ready to implement the integration loop. As we are interested in the condensation of counterions on the rod, the physical quantity of interest is the density $\\rho(r)$ of charges around the rod, where $r$ is the distance from the rod. We need many samples (frames) to calculate the density from histograms.\n",
    "The samples should be taken from an equilibrated system and not be correlated to each other.\n",
    "\n",
    "**Exercise:**\n",
    "\n",
    "* Write a function to integrate the system and return the total energy and the radial distance of the ions from the rod\n",
    "* Use the signature ``integrate_calc_observables(system, N_frames, steps_per_frame, ion_types)``\n",
    "* ``N_frames`` is the total number of samples taken from the system\n",
    "* ``steps_per_frame`` is the the number of integration steps between consecutive frames\n",
    "* ``ion_types`` is a list of types for which the radial distances should be calculated. For the moment we only have counterions, but later we will also add additional salt ions for which we would like to calculate the density\n",
    "* return a list of the total system energy as well as a dictionary of the radial positions sorted by ion type, e.g. ``radial_distances[counterion_type] = [1.1,4.5,2.7,...]``\n",
    "\n",
    "**Hints:**\n",
    "* We are only interested in the distance from the rod, so the $x_3$ coordinate is irrelevant\n",
    "* Use ``system.part.select(type=...)`` to get only the particles of a specific type\n",
    "* The system energy can be calculated using **ESPReSso**'s [analysis module](http://espressomd.org/html/doc/espressomd.html?#module-espressomd.analyze), the radial distance has to be computed manually\n",
    "* Particles will likely move through different periodic images of the system. Use the folded positions for distance calculations"
   ]
  },
  {
   "cell_type": "markdown",
   "metadata": {
    "solution2": "hidden"
   },
   "source": [
    "```python\n",
    "def integrate_calc_observables(system, N_frames, steps_per_frame, ion_types):\n",
    "    energies = []\n",
    "    radial_distances = []\n",
    "\n",
    "    particles_by_type = {}\n",
    "    radial_distances = {}\n",
    "    for ion_type in ion_types:\n",
    "        particles_by_type[ion_type] = system.part.select(type=ion_type)\n",
    "        radial_distances[ion_type] = []\n",
    "\n",
    "    system_center = np.array(system.box_l)/2.\n",
    "\n",
    "    for frame_idx in range(N_frames):\n",
    "\n",
    "        print(f'progress={frame_idx/N_frames*100:.0f}%', end='\\r')\n",
    "\n",
    "        system.integrator.run(steps_per_frame)\n",
    "\n",
    "        energies.append(system.analysis.energy()['total'])\n",
    "\n",
    "        for ion_type, ions in particles_by_type.items():\n",
    "            for ion in ions:\n",
    "                radial_distances[ion_type].append(np.linalg.norm(ion.pos_folded[0:2]-system_center[0:2]))\n",
    "    print('progress=100%')\n",
    "    return energies, radial_distances\n",
    "```\n",
    "\n"
   ]
  },
  {
   "cell_type": "code",
   "execution_count": null,
   "metadata": {},
   "outputs": [],
   "source": []
  },
  {
   "cell_type": "markdown",
   "metadata": {},
   "source": [
    "Before running the simulations for the histograms, we need to decide how long we need to equilibrate the system. For this we plot the total energy vs the time steps."
   ]
  },
  {
   "cell_type": "code",
   "execution_count": null,
   "metadata": {},
   "outputs": [],
   "source": [
    "# number of samples taken\n",
    "N_frames = 500\n",
    "\n",
    "# number of timesteps per frame\n",
    "steps_per_frame = 20\n",
    "energies_first_run, _ = integrate_calc_observables(system, N_frames, \n",
    "                                         steps_per_frame, [counterion_type])"
   ]
  },
  {
   "cell_type": "code",
   "execution_count": null,
   "metadata": {
    "scrolled": true
   },
   "outputs": [],
   "source": [
    "#plot time in time_steps so we can judge the number of warmup steps and the steps per frame for uncorrelated data\n",
    "ts = np.linspace(0,N_frames*steps_per_frame, num = N_frames)\n",
    "fig1 = plt.figure()\n",
    "plt.plot(ts, energies_first_run)\n",
    "plt.xlabel('time steps')\n",
    "plt.ylabel('system total energy')"
   ]
  },
  {
   "cell_type": "code",
   "execution_count": null,
   "metadata": {},
   "outputs": [],
   "source": [
    "warmup_steps = 5000\n",
    "steps_per_frame = 100"
   ]
  },
  {
   "cell_type": "markdown",
   "metadata": {
    "solution2": "hidden",
    "solution2_first": true
   },
   "source": [
    "To run the simulation with different parameters, we need a way to reset the system and return it to an empty state before setting it up again.\n",
    "\n",
    "**Exercise:**\n",
    "* write a function ``clear_system(system)`` that\n",
    "    * turns off the thermostat\n",
    "    * removes all particles\n",
    "    * resets the system clock\n",
    "\n",
    "**Hints:**\n",
    "* the relevant parts of the documentation can be found here: [Thermostats](http://espressomd.org/html/doc/system_setup.html#thermostats), [Particle List](http://espressomd.org/html/doc/espressomd.html#espressomd.particle_data.ParticleList), [System properties](http://espressomd.org/html/doc/espressomd.html#module-espressomd.system)"
   ]
  },
  {
   "cell_type": "markdown",
   "metadata": {
    "solution2": "hidden"
   },
   "source": [
    "```python\n",
    "def clear_system(system):\n",
    "    system.thermostat.turn_off()\n",
    "    system.part.clear()\n",
    "    system.time = 0.\n",
    "```"
   ]
  },
  {
   "cell_type": "code",
   "execution_count": null,
   "metadata": {},
   "outputs": [],
   "source": []
  },
  {
   "cell_type": "code",
   "execution_count": null,
   "metadata": {},
   "outputs": [],
   "source": [
    "clear_system(system)"
   ]
  },
  {
   "cell_type": "markdown",
   "metadata": {},
   "source": [
    "## Production run and analysis\n",
    "Now we are finally ready to run the simulations and produce the data we can compare to the Poisson-Boltzmann predictions. First we define the parameters and then loop over them."
   ]
  },
  {
   "cell_type": "code",
   "execution_count": null,
   "metadata": {},
   "outputs": [],
   "source": [
    "runs = [{'params':{'counterion_valency':2, 'rod_charge_dens':1},\n",
    "         'distances':None},\n",
    "        {'params':{'counterion_valency':1, 'rod_charge_dens':2},\n",
    "         'distances':None}\n",
    "       ]\n",
    "N_frames = 1000"
   ]
  },
  {
   "cell_type": "markdown",
   "metadata": {
    "solution2": "hidden",
    "solution2_first": true
   },
   "source": [
    "**Exercise:**\n",
    "* run the simulation for the parameters given in the cell above and save the radial distances in the corresponding dictionary for analysis\n",
    "\n",
    "**Hints:**\n",
    "* Don't forget to clear the system once one parameter set is finished and redo the complete setup\n",
    "* Don't forget to ``tune()`` the ``p3m`` instance after each change of parameters. If we reuse the p3m that was tuned before, likely the desired accuracy will not be achieved. "
   ]
  },
  {
   "cell_type": "markdown",
   "metadata": {
    "solution2": "hidden"
   },
   "source": [
    "```python\n",
    "clear_system(system)\n",
    "for run in runs:\n",
    "    setup_rod_and_counterions(system, run['params']['counterion_valency'], counterion_type,\n",
    "                 run['params']['rod_charge_dens'], N_rod_beads, rod_type)\n",
    "    p3m.tune()\n",
    "    remove_overlap(system, steepest_descent_params)\n",
    "    system.thermostat.set_langevin(**langevin_params)\n",
    "    system.integrator.run(warmup_steps)\n",
    "    print('setup and warmup done, starting simulation')\n",
    "    energies, distances = integrate_calc_observables(system, N_frames, \n",
    "                                       steps_per_frame, [counterion_type])\n",
    "    clear_system(system)\n",
    "    run['distances'] = distances[counterion_type]\n",
    "    print('simulation for parameters {} done\\n'.format(run['params']))\n",
    "```"
   ]
  },
  {
   "cell_type": "code",
   "execution_count": null,
   "metadata": {},
   "outputs": [],
   "source": []
  },
  {
   "cell_type": "markdown",
   "metadata": {
    "solution2": "hidden",
    "solution2_first": true
   },
   "source": [
    "**Question**\n",
    "* Why does the second simulation take much longer than the first one?"
   ]
  },
  {
   "cell_type": "markdown",
   "metadata": {
    "solution2": "hidden"
   },
   "source": [
    "The rod charge density is doubled, so the total charge of the counterions needs to be doubled, too. Since their valency is only half of the one in the first run, there will be four times more counterions in the second run"
   ]
  },
  {
   "cell_type": "markdown",
   "metadata": {},
   "source": [
    "We plot the density of counterions around the rod as the normalized integrated radial counterion charge distribution function $P(r)$, meaning the integrated probability to find an amount of charge within the radius $r$. We express the rod charge density $\\lambda$ in terms of the dimensionless Manning parameter $\\xi = \\lambda l_B / e$ where $l_B$ is the Bjerrum length and $e$ the elementary charge"
   ]
  },
  {
   "cell_type": "code",
   "execution_count": null,
   "metadata": {},
   "outputs": [],
   "source": [
    "def calc_cum_hist(values, bins, normalize = True):\n",
    "    hist, _ = np.histogram(values, bins=log_bins)\n",
    "    cum_hist = np.cumsum(hist)\n",
    "    if normalize:\n",
    "        cum_hist = cum_hist/cum_hist[-1]\n",
    "    return cum_hist"
   ]
  },
  {
   "cell_type": "code",
   "execution_count": null,
   "metadata": {},
   "outputs": [],
   "source": [
    "r_min = rod_radius+ion_diameter/2.\n",
    "r_max = system.box_l[0]/2.\n",
    "log_bins=np.logspace(np.log10(r_min), np.log10(r_max),num=30)\n",
    "\n",
    "fig, ax = plt.subplots()\n",
    "for run in runs:\n",
    "    cum_hist = calc_cum_hist(run['distances'], log_bins)\n",
    "    manning_xi = run['params']['rod_charge_dens'] * bjerrum_length / q_e\n",
    "    ax.plot(log_bins[1:],cum_hist, label = r'$\\xi ={}, \\nu = {}$'.format(manning_xi, \n",
    "                                                                 run['params']['counterion_valency']))\n",
    "    \n",
    "ax.set_xscale('log')\n",
    "ax.legend()\n",
    "plt.xlabel('r')\n",
    "plt.ylabel('P(r)')"
   ]
  },
  {
   "cell_type": "markdown",
   "metadata": {},
   "source": [
    "In the semilogarithmic plot we see an inflection point of the cumulative charge distribution which is the indicator for ion condensation. To compare to the meanfield approach of PB, we calculate the solution of the analytical expressions given in [10.1021/ma990897o](https://doi.org/10.1021/ma990897o)"
   ]
  },
  {
   "cell_type": "code",
   "execution_count": null,
   "metadata": {},
   "outputs": [],
   "source": [
    "def eq_to_solve_for_gamma(gamma, manning_parameter, rod_radius, max_radius):\n",
    "    #eq 7 - eq 6 from 10.1021/ma990897o\n",
    "    return gamma*np.log(max_radius/rod_radius) - np.arctan(1/gamma) + np.arctan((1-manning_parameter)/gamma)\n",
    "\n",
    "def calc_manning_radius(gamma,max_radius):\n",
    "    #eq 7 from 10.1021/ma990897o\n",
    "    return max_radius*np.exp(-np.arctan(1./gamma)/gamma)  \n",
    "\n",
    "def calc_PB_probability(r, manning_parameter, gamma, manning_radius):\n",
    "    #eq 8 and 9 from 10.1021/ma990897o\n",
    "    return 1./manning_parameter + gamma/manning_parameter * np.tan(gamma*np.log(r/manning_radius))\n"
   ]
  },
  {
   "cell_type": "markdown",
   "metadata": {},
   "source": [
    "For multivalent counterions, the manning parameter $\\xi$ has to be multiplied by the valency $\\nu$. The result depends only on the product of ``rod_charge_dens`` and ``ion_velancy``, so we only need one curve"
   ]
  },
  {
   "cell_type": "code",
   "execution_count": null,
   "metadata": {},
   "outputs": [],
   "source": [
    "rod_charge_density = runs[0]['params']['rod_charge_dens']\n",
    "ion_valency = runs[0]['params']['counterion_valency']\n",
    "manning_parameter_times_valency = bjerrum_length*rod_charge_density*ion_valency\n",
    "\n",
    "gamma = optimize.fsolve(eq_to_solve_for_gamma, 1, args = (manning_parameter_times_valency,r_min,r_max))\n",
    "manning_radius = calc_manning_radius(gamma, r_max)\n",
    "\n",
    "PB_probability = calc_PB_probability(log_bins, manning_parameter_times_valency,gamma, manning_radius)\n",
    "\n",
    "ax.plot(log_bins, PB_probability, label = r'PB $\\xi \\cdot \\nu$ = {}'.format(manning_parameter_times_valency))\n",
    "ax.legend()\n",
    "ax.set_xscale('log')\n",
    "fig"
   ]
  },
  {
   "cell_type": "markdown",
   "metadata": {},
   "source": [
    "We see a good correspondence of the PB solution with the simulation results in the case where the counterion valence is 1, but there are stronger deviations if the counterions are more charged. \n",
    "\n",
    "Poisson Boltzmann makes two simplifying assumptions: Particles are points and there are no correlations between the particles. Both is not given in the simulation. Excluded volume effects can only lower the density, but we see in the figure that the simulated density is always larger that the calculated one. This means that correlation effects cause the discrepancy"
   ]
  },
  {
   "cell_type": "markdown",
   "metadata": {},
   "source": [
    "## Overcharging by added salt\n",
    "\n",
    "Above simulations were performed for a system where all ions come from dissociation off the polyelectrolyte. We can also investigate systems where there are additional salt ions present."
   ]
  },
  {
   "cell_type": "code",
   "execution_count": null,
   "metadata": {},
   "outputs": [],
   "source": [
    "def add_salt(system, anion_params, cation_params):  \n",
    "    \n",
    "    N_anions = anion_params['number']\n",
    "    N_cations = cation_params['number']\n",
    "    \n",
    "    anion_positions = np.random.random((N_anions,3)) * system.box_l\n",
    "    cation_positions = np.random.random((N_cations,3)) * system.box_l\n",
    "   \n",
    "   \n",
    "    anions = system.part.add(pos = anion_positions,type=[anion_params['type']]*N_anions, \n",
    "                    q=[-anion_params['valency']]*N_anions)\n",
    "    cations = system.part.add(pos = cation_positions,type=[cation_params['type']]*N_cations, \n",
    "                    q=[cation_params['valency']]*N_cations) \n",
    "    \n",
    "    return anions, cations"
   ]
  },
  {
   "cell_type": "code",
   "execution_count": null,
   "metadata": {},
   "outputs": [],
   "source": [
    "anion_params = {'type':3,\n",
    "                'valency':2,\n",
    "                'number':500}\n",
    "cation_params = {'type':4,\n",
    "                 'valency':2,\n",
    "                 'number':500}\n",
    "rod_length = 21\n",
    "\n",
    "steps_per_frame_salt = 20\n",
    "N_frames_salt = 1000\n",
    "\n",
    "counterion_valency = 1 \n",
    "rod_charge_dens = 1\n",
    "\n",
    "all_ion_types = [counterion_type, anion_params['type'],cation_params['type'] ]"
   ]
  },
  {
   "cell_type": "code",
   "execution_count": null,
   "metadata": {},
   "outputs": [],
   "source": [
    "#set interactions of salt with the rod and all ions\n",
    "for salt_type in [anion_params['type'], cation_params['type']]:\n",
    "    system.non_bonded_inter[salt_type,rod_type].wca.set_params(\n",
    "          epsilon=wca_epsilon, sigma=ion_diameter/2. + rod_radius)\n",
    "    for ion_type in all_ion_types:\n",
    "        system.non_bonded_inter[salt_type,ion_type].wca.set_params(\n",
    "          epsilon=wca_epsilon, sigma=ion_diameter)"
   ]
  },
  {
   "cell_type": "code",
   "execution_count": null,
   "metadata": {},
   "outputs": [],
   "source": [
    "clear_system(system)\n",
    "system.box_l = 3*[rod_length]\n",
    "setup_rod_and_counterions(system, counterion_valency, counterion_type,\n",
    "                   rod_charge_dens, N_rod_beads, rod_type)\n",
    "anions, cations = add_salt(system, anion_params, cation_params)\n",
    "assert( abs(sum(anions.q)+sum(cations.q))<1e-10 )\n",
    "p3m.tune()\n",
    "remove_overlap(system, steepest_descent_params)\n",
    "system.thermostat.set_langevin(**langevin_params)\n",
    "system.integrator.run(warmup_steps)\n",
    "print('setup and warmup done, starting simulation')\n",
    "energies, distances = integrate_calc_observables(system, N_frames_salt, \n",
    "                                   steps_per_frame_salt, all_ion_types)\n",
    "print('simulation done')\n"
   ]
  },
  {
   "cell_type": "markdown",
   "metadata": {
    "solution2": "hidden",
    "solution2_first": true
   },
   "source": [
    "**Exercise:**\n",
    "* Create the cumulative charge histogram normalized by the negative of the rod charge\n",
    "\n",
    "\n",
    "\n",
    "**Hints**\n",
    "* create cumulative histograms for each type of ion in the system\n",
    "* Add them together weighted by their valency to get the cumulative charge distribution\n",
    "* use ``calc_cum_hist(...,normalize = False)`` to account for the fact that there are a different number of ions depending on their type"
   ]
  },
  {
   "cell_type": "markdown",
   "metadata": {
    "solution2": "hidden"
   },
   "source": [
    "```python\n",
    "counterion_hist = calc_cum_hist(distances[counterion_type], log_bins, normalize = False)\n",
    "anion_hist = calc_cum_hist(distances[anion_params['type']], log_bins, normalize = False)\n",
    "cation_hist = calc_cum_hist(distances[cation_params['type']], log_bins, normalize = False)\n",
    "\n",
    "charge_hist = cation_params['valency'] * cation_hist - anion_params['valency'] * anion_hist - counterion_valency * counterion_hist\n",
    "charge_hist = charge_hist/charge_hist[-1]\n",
    "```"
   ]
  },
  {
   "cell_type": "code",
   "execution_count": null,
   "metadata": {},
   "outputs": [],
   "source": []
  },
  {
   "cell_type": "code",
   "execution_count": null,
   "metadata": {},
   "outputs": [],
   "source": [
    "r_max = system.box_l[0]/2.\n",
    "log_bins=np.logspace(np.log10(r_min), \n",
    "                     np.log10(r_max),\n",
    "                     num=30)\n",
    "fig2, ax2 = plt.subplots()\n",
    "ax2.plot(log_bins[1:], charge_hist)\n",
    "ax2.set_xscale('log')\n",
    "plt.xlabel('r')\n",
    "plt.ylabel('P(r)')"
   ]
  },
  {
   "cell_type": "markdown",
   "metadata": {},
   "source": [
    "Sampling is insufficient to adequately resolve the bigger distances,but you should observe a pronounced overcharging effect at short distances."
   ]
  }
 ],
 "metadata": {
  "kernelspec": {
   "display_name": "Python 3",
   "language": "python",
   "name": "python3"
  },
  "language_info": {
   "codemirror_mode": {
    "name": "ipython",
    "version": 3
   },
   "file_extension": ".py",
   "mimetype": "text/x-python",
   "name": "python",
   "nbconvert_exporter": "python",
   "pygments_lexer": "ipython3",
   "version": "3.6.9"
  }
 },
 "nbformat": 4,
 "nbformat_minor": 4
}
