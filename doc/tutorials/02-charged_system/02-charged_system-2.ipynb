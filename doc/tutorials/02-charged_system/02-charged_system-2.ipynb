{
 "cells": [
  {
   "cell_type": "markdown",
   "metadata": {},
   "source": [
    "# Tutorial 2: Charged Systems: Confined 2D Electrostatics"
   ]
  },
  {
   "cell_type": "markdown",
   "metadata": {},
   "source": [
    "## Introduction\n",
    "\n",
    "In this section, we use a parametrized NaCl system to simulate a molten salt in a\n",
    "parallel plate capacitor with and without applied electric field."
   ]
  },
  {
   "cell_type": "code",
   "execution_count": null,
   "metadata": {},
   "outputs": [],
   "source": [
    "from espressomd import System, electrostatics, electrostatic_extensions, shapes\n",
    "import espressomd\n",
    "import numpy as np\n",
    "required_features = [\"EXTERNAL_FORCES\", \"MASS\", \"ELECTROSTATICS\", \"LENNARD_JONES\"]\n",
    "espressomd.assert_features(required_features)\n",
    "print(espressomd.features())"
   ]
  },
  {
   "cell_type": "markdown",
   "metadata": {},
   "source": [
    "### Parameters\n",
    "\n",
    "For our molten NaCl, we use a temperature $100 \\ \\mathrm{K}$ above the melting point ($1198.3 \\ \\mathrm{K}$) \n",
    "and an approximated density of $\\rho = 1.1138 \\ \\mathrm{u \\mathring{A}}$$^{-3}$ found in [1]. We define our system size by the number of particles and the density."
   ]
  },
  {
   "cell_type": "code",
   "execution_count": null,
   "metadata": {},
   "outputs": [],
   "source": [
    "n_part = 1000\n",
    "n_ionpairs = n_part / 2\n",
    "density = 1.1138\n",
    "time_step = 0.001823\n",
    "temp = 1198.3\n",
    "gamma = 50\n",
    "k_B = 1.380649e-23  # units of [J/K]\n",
    "q_e = 1.602176634e-19  # units of [C]\n",
    "epsilon_0 = 8.8541878128e-12  # units of [C^2/J/m]\n",
    "coulomb_prefactor = q_e**2 / (4 * np.pi * epsilon_0) * 1e10\n",
    "l_bjerrum = 0.885**2 * coulomb_prefactor / (k_B * temp)\n",
    "wall_margin = 0.5\n",
    "Ez = 0\n",
    "\n",
    "num_steps_equilibration = 3000\n",
    "num_configs = 200\n",
    "integ_steps_per_config = 100"
   ]
  },
  {
   "cell_type": "markdown",
   "metadata": {},
   "source": [
    "We save the force field parameters in python dictionaries, now with parameters for the walls:"
   ]
  },
  {
   "cell_type": "code",
   "execution_count": null,
   "metadata": {},
   "outputs": [],
   "source": [
    "# Particle parameters\n",
    "types       = {\"Cl\":          0, \"Na\": 1, \"Electrode\": 2}\n",
    "numbers     = {\"Cl\": n_ionpairs, \"Na\": n_ionpairs}\n",
    "charges     = {\"Cl\":       -1.0, \"Na\": 1.0}\n",
    "lj_sigmas   = {\"Cl\":       3.85, \"Na\": 2.52,  \"Electrode\": 3.37}\n",
    "lj_epsilons = {\"Cl\":     192.45, \"Na\": 17.44, \"Electrode\": 24.72}\n",
    "\n",
    "lj_cuts     = {\"Cl\":        3.0 * lj_sigmas[\"Cl\"],\n",
    "               \"Na\":        3.0 * lj_sigmas[\"Na\"],\n",
    "               \"Electrode\": 3.0 * lj_sigmas[\"Electrode\"]}\n",
    "\n",
    "masses      = {\"Cl\":  35.453, \"Na\": 22.99, \"Electrode\": 12.01}"
   ]
  },
  {
   "cell_type": "markdown",
   "metadata": {},
   "source": [
    "To finally calculate the box size, we take into account the diameter of the electrode interaction.\n",
    "Additionally, ELC needs a particle-free gap in the $z$-direction behind the wall."
   ]
  },
  {
   "cell_type": "code",
   "execution_count": null,
   "metadata": {},
   "outputs": [],
   "source": [
    "box_l = (n_ionpairs * sum(masses.values()) / density)**(1. / 3.)\n",
    "box_z = box_l + 2.0 * (lj_sigmas[\"Electrode\"] + wall_margin)\n",
    "elc_gap = box_z * 0.15\n",
    "system = System(box_l=[box_l, box_l, box_z + elc_gap])\n",
    "box_volume = np.prod([box_l, box_l, box_z])\n",
    "\n",
    "system.periodicity = 3*[True]\n",
    "system.time_step = time_step\n",
    "system.cell_system.skin = 0.3"
   ]
  },
  {
   "cell_type": "markdown",
   "metadata": {
    "solution2": "hidden",
    "solution2_first": true
   },
   "source": [
    "### Confinement\n",
    "\n",
    "**ESPResSo** features a number of basic shapes like cylinders, walls or spheres to simulate confined systems.\n",
    "Here, we use two walls  for the parallel plate setup.\n",
    "\n",
    "**Exercise:**\n",
    "* Add two walls to the system on top and bottom ($z$-direction) of the simulation box\n",
    "* Keep a distance of ``wall_margin`` to the box faces and have the normal point inward. Assign the electrode type to the wall so that we can use it to set up the interaction with the particles\n",
    "\n",
    "**Hints:**\n",
    "* Have a look at the [Espresso documentation](http://espressomd.org/html/doc/constraints.html#adding-shape-based-constraints-to-the-system) \n"
   ]
  },
  {
   "cell_type": "markdown",
   "metadata": {
    "solution2": "hidden"
   },
   "source": [
    "```python\n",
    "system.constraints.add(shape=shapes.Wall(dist=wall_margin, normal=[0, 0, 1]),\n",
    "                       particle_type=types[\"Electrode\"])\n",
    "system.constraints.add(shape=shapes.Wall(dist=-(box_z - wall_margin), normal=[0, 0, -1]),\n",
    "                       particle_type=types[\"Electrode\"])\n",
    "```"
   ]
  },
  {
   "cell_type": "code",
   "execution_count": null,
   "metadata": {},
   "outputs": [],
   "source": []
  },
  {
   "cell_type": "markdown",
   "metadata": {},
   "source": [
    "Now we place the particles at random position without overlap with the walls:"
   ]
  },
  {
   "cell_type": "code",
   "execution_count": null,
   "metadata": {},
   "outputs": [],
   "source": [
    "# Place particles\n",
    "for i in range(int(n_ionpairs)):\n",
    "    p = np.random.random(3) * box_l\n",
    "    p[2] += lj_sigmas[\"Electrode\"]\n",
    "    system.part.add(id=len(system.part), type=types[\"Cl\"],\n",
    "                    pos=p, q=charges[\"Cl\"], mass=masses[\"Cl\"])\n",
    "for i in range(int(n_ionpairs)):\n",
    "    p = np.random.random(3) * box_l\n",
    "    p[2] += lj_sigmas[\"Electrode\"]\n",
    "    system.part.add(id=len(system.part), type=types[\"Na\"],\n",
    "                    pos=p, q=charges[\"Na\"], mass=masses[\"Na\"])"
   ]
  },
  {
   "cell_type": "markdown",
   "metadata": {},
   "source": [
    "The scheme to set up the Lennard-Jones interaction uses the Lorentz and Berthelot combination rules for mixtures:"
   ]
  },
  {
   "cell_type": "code",
   "execution_count": null,
   "metadata": {},
   "outputs": [],
   "source": [
    "# Lennard-Jones interactions parameters\n",
    "\n",
    "def combination_rule_epsilon(rule, eps1, eps2):\n",
    "    if rule == \"Lorentz\":\n",
    "        return (eps1 * eps2)**0.5\n",
    "    else:\n",
    "        return ValueError(\"No combination rule defined\")\n",
    "\n",
    "def combination_rule_sigma(rule, sig1, sig2):\n",
    "    if rule == \"Berthelot\":\n",
    "        return (sig1 + sig2) * 0.5\n",
    "    else:\n",
    "        return ValueError(\"No combination rule defined\")\n",
    "\n",
    "for s in [[\"Cl\", \"Na\"], [\"Cl\", \"Cl\"], [\"Na\", \"Na\"],\n",
    "          [\"Na\", \"Electrode\"], [\"Cl\", \"Electrode\"]]:\n",
    "    lj_sig = combination_rule_sigma(\"Berthelot\",\n",
    "                                    lj_sigmas[s[0]], lj_sigmas[s[1]])\n",
    "    lj_cut = combination_rule_sigma(\"Berthelot\",\n",
    "                                    lj_cuts[s[0]], lj_cuts[s[1]])\n",
    "    lj_eps = combination_rule_epsilon(\"Lorentz\",\n",
    "                                      lj_epsilons[s[0]], lj_epsilons[s[1]])\n",
    "\n",
    "    system.non_bonded_inter[types[s[0]], types[s[1]]].lennard_jones.set_params(\n",
    "        epsilon=lj_eps, sigma=lj_sig, cutoff=lj_cut, shift=\"auto\")"
   ]
  },
  {
   "cell_type": "markdown",
   "metadata": {},
   "source": [
    "Next is the removal of overlap between the particles, followed by activating the thermostat:"
   ]
  },
  {
   "cell_type": "code",
   "execution_count": null,
   "metadata": {},
   "outputs": [],
   "source": [
    "def remove_overlap(system, sd_params):   \n",
    "    # Removes overlap by steepest descent until forces or energies converge\n",
    "    # Set up steepest descent integration\n",
    "    system.integrator.set_steepest_descent(f_max=0,\n",
    "                                           gamma=sd_params['damping'],\n",
    "                                           max_displacement=sd_params['max_displacement'])\n",
    "    \n",
    "    # Initialize integrator to obtain initial forces\n",
    "    system.integrator.run(0)\n",
    "    maxforce = np.max(np.linalg.norm(system.part[:].f, axis = 1))\n",
    "    energy = system.analysis.energy()['total']\n",
    "    \n",
    "    i = 0\n",
    "    while i < sd_params['max_steps']//sd_params['emstep']:\n",
    "        prev_maxforce = maxforce\n",
    "        prev_energy = energy\n",
    "        print(prev_energy)\n",
    "        system.integrator.run(sd_params['emstep'])\n",
    "        maxforce = np.max(np.linalg.norm(system.part[:].f, axis = 1))\n",
    "        relforce = np.abs((maxforce-prev_maxforce)/prev_maxforce)\n",
    "        energy = system.analysis.energy()['total']\n",
    "        relener = np.abs((energy-prev_energy)/prev_energy)\n",
    "        print(\"minimization step: {:4.0f}\\tmax. rel. force change:{:+3.3e}\\trel. energy change:{:+3.3e}\".format((i+1)*sd_params['emstep'],relforce, relener))\n",
    "        if relforce < sd_params['f_tol'] or relener < sd_params['e_tol']:\n",
    "            break\n",
    "        i += 1\n",
    "        \n",
    "    system.integrator.set_vv()"
   ]
  },
  {
   "cell_type": "code",
   "execution_count": null,
   "metadata": {},
   "outputs": [],
   "source": [
    "steepest_descent_params = {'f_tol':1e-2,\n",
    "                          'e_tol':1e-5,\n",
    "                          'damping':30,\n",
    "                          'max_steps':10000,\n",
    "                          'max_displacement':0.01,\n",
    "                          'emstep':10}\n",
    "\n",
    "remove_overlap(system,steepest_descent_params)"
   ]
  },
  {
   "cell_type": "code",
   "execution_count": null,
   "metadata": {},
   "outputs": [],
   "source": [
    "system.thermostat.set_langevin(kT=temp, gamma=gamma, seed=42)\n",
    "\n",
    "p3m_accuracy = 1e-2\n",
    "elc_max_pairwise_error = 1e-3"
   ]
  },
  {
   "cell_type": "markdown",
   "metadata": {
    "solution2": "hidden",
    "solution2_first": true
   },
   "source": [
    "### Nonperiodic Electrostatics\n",
    "\n",
    "**ESPResSo** also has a number of ways to account for the unwanted electrostatic interaction in the now non-periodic $z$-dimension.\n",
    "Here we use the 3D-periodic P$^3$M algorithm in combination with the Electrostatic Layer Correction (ELC). \n",
    "ELC subtracts the forces caused by the periodic images in the $z$-dimension. (Another way would be to use the explicit 2D-electrostatics algorithm MMM2D, also available in **ESPResSo**)\n",
    "\n",
    "**Exercise:**\n",
    "* Instantiate a ``p3m`` object and add it to the ``system.actors``\n",
    "* Instantiate an ``ELC`` object and add it to the ``system.actors``\n",
    "\n",
    "**Hints:**\n",
    "* Look up [p3m](http://espressomd.org/html/doc/espressomd.html#espressomd.electrostatics.P3M) and [ELC](http://espressomd.org/html/doc/electrostatics.html#electrostatic-layer-correction-elc) in the **ESPResSo** docs. \n",
    "* use the accuracy variables defined in the cell above as well as ``coulomb_prefactor`` and ``elc_gap``."
   ]
  },
  {
   "cell_type": "markdown",
   "metadata": {
    "solution2": "hidden"
   },
   "source": [
    "```python\n",
    "p3m = electrostatics.P3M(prefactor=coulomb_prefactor,\n",
    "                         accuracy=p3m_accuracy)\n",
    "system.actors.add(p3m)\n",
    "elc = electrostatic_extensions.ELC(gap_size=elc_gap,\n",
    "                                   maxPWerror=elc_max_pairwise_error)\n",
    "system.actors.add(elc)\n",
    "```"
   ]
  },
  {
   "cell_type": "code",
   "execution_count": null,
   "metadata": {},
   "outputs": [],
   "source": []
  },
  {
   "cell_type": "markdown",
   "metadata": {
    "solution2": "hidden",
    "solution2_first": true
   },
   "source": [
    "### External Electric Field\n",
    "\n",
    "The simple geometry of the system allows us to treat an electric field in $z$-direction as a homogeneous force.\n",
    "Note that we use inert walls here and don't take into account the dielectric contrast caused by metal electrodes.\n",
    "\n",
    "**Exercise:**\n",
    "* set an external force on each particle according to the electric field ``Ez`` and the particle charge"
   ]
  },
  {
   "cell_type": "markdown",
   "metadata": {
    "solution2": "hidden"
   },
   "source": [
    "```python\n",
    "for p in system.part:\n",
    "    p.ext_force = [0, 0, Ez * p.q]\n",
    "```"
   ]
  },
  {
   "cell_type": "code",
   "execution_count": null,
   "metadata": {},
   "outputs": [],
   "source": []
  },
  {
   "cell_type": "markdown",
   "metadata": {},
   "source": [
    "This is followed by standard temperature equilibration:"
   ]
  },
  {
   "cell_type": "code",
   "execution_count": null,
   "metadata": {},
   "outputs": [],
   "source": [
    "system.time = 0.0\n",
    "for i in range(int(num_steps_equilibration / 100)):\n",
    "    energy = system.analysis.energy()\n",
    "    temp_measured = energy['kinetic'] / ((3.0 / 2.0) * n_part)\n",
    "    print(\"progress={:.0f}%, t={:.1f}, E_total={:.2f}, E_coulomb={:.2f}, T={:.4f}\"\n",
    "          .format(i * 100. / int(num_steps_equilibration / 100 - 1), system.time,\n",
    "                  energy['total'], energy['coulomb'], temp_measured), end='\\r')\n",
    "    system.integrator.run(100)\n",
    "print()"
   ]
  },
  {
   "cell_type": "markdown",
   "metadata": {},
   "source": [
    "In the integration loop, we like to measure the density profile for both ion species along the $z$-direction.\n",
    "We use a simple histogram analysis to accumulate the density data. Integration takes a while."
   ]
  },
  {
   "cell_type": "code",
   "execution_count": null,
   "metadata": {},
   "outputs": [],
   "source": [
    "bins = 100\n",
    "z_dens_na = np.zeros(bins)\n",
    "z_dens_cl = np.zeros(bins)\n",
    "system.time = 0.0\n",
    "cnt = 0\n",
    "\n",
    "for i in range(num_configs):\n",
    "    print('progress: {:>3.0f}%'.format(i * 100. / num_configs), end='\\r')\n",
    "    energy = system.analysis.energy()\n",
    "    temp_measured = energy['kinetic'] / ((3.0 / 2.0) * n_part)\n",
    "    system.integrator.run(integ_steps_per_config)\n",
    "\n",
    "    for p in system.part:\n",
    "        bz = int(p.pos[2] / box_z * bins)\n",
    "        if p.type == types[\"Na\"]:\n",
    "            z_dens_na[bz] += 1.0\n",
    "        elif p.type == types[\"Cl\"]:\n",
    "            z_dens_cl[bz] += 1.0\n",
    "    cnt += 1\n",
    "\n",
    "print('progress: 100%')"
   ]
  },
  {
   "cell_type": "markdown",
   "metadata": {},
   "source": [
    "## Analysis\n",
    "\n",
    "Finally, we calculate the average, normalize the data with the bin volume and save it to\n",
    "a file using NumPy's <tt>savetxt</tt> command."
   ]
  },
  {
   "cell_type": "code",
   "execution_count": null,
   "metadata": {},
   "outputs": [],
   "source": [
    "# Average / Normalize with Volume\n",
    "z_dens_na /= (cnt * box_volume / bins)\n",
    "z_dens_cl /= (cnt * box_volume / bins)\n",
    "z_values = np.linspace(0, box_l, num=bins)\n",
    "res = np.column_stack((z_values, z_dens_na, z_dens_cl))\n",
    "np.savetxt(\"z_density.data\", res,\n",
    "              header=\"#z rho_na(z) rho_cl(z)\")"
   ]
  },
  {
   "cell_type": "markdown",
   "metadata": {},
   "source": [
    "We can plot the density of the ions."
   ]
  },
  {
   "cell_type": "code",
   "execution_count": null,
   "metadata": {},
   "outputs": [],
   "source": [
    "import matplotlib.pyplot as plt\n",
    "plt.ion()"
   ]
  },
  {
   "cell_type": "code",
   "execution_count": null,
   "metadata": {},
   "outputs": [],
   "source": [
    "plt.figure(figsize=(10, 6), dpi=80)\n",
    "plt.plot(z_values, z_dens_na, label='Na')\n",
    "plt.plot(z_values, z_dens_cl, label='Cl')\n",
    "plt.xlabel('$z$-axis $(\\\\mathrm{\\\\AA})$', fontsize=20)\n",
    "plt.ylabel('Density $(\\\\mathrm{u\\\\AA}^{-3})$', fontsize=20)\n",
    "plt.legend(fontsize=16)\n",
    "plt.show()"
   ]
  },
  {
   "cell_type": "markdown",
   "metadata": {},
   "source": [
    "The resulting density plot is very noisy due to insufficient sampling, but should show a slight depletion of the smaller Na atoms\n",
    "at the walls. Now try to put in an electric field that represents an applied voltage of $15 \\ \\mathrm{V}$ between the walls and compare the results.\n",
    "The density data should show strong layering at the walls, decaying towards the system center.\n",
    "The complete script is at <tt>/doc/tutorials/02-charged_system/scripts/nacl_units_confined.py.</tt>\n",
    "In the interactive script <tt>nacl_units_confined_vis.py</tt>, you can increase/decrease the electric field with the keys *u/j* (at your own risk)."
   ]
  },
  {
   "cell_type": "markdown",
   "metadata": {},
   "source": [
    "<figure>\n",
    "    <img src='figures/nacl_units_confined.jpg' alt='missing' style=\"width: 800px;\"/>\n",
    "    <center>\n",
    "    <figcaption>Figure 4: Snapshot and densities along the $z$-axis with applied electric field for the ion species.</figcaption>\n",
    "    </center>\n",
    "</figure>"
   ]
  },
  {
   "cell_type": "markdown",
   "metadata": {},
   "source": [
    "## References\n",
    "\n",
    "[1] Janz, G. J., Thermodynamic and Transport Properties of Molten Salts: Correlation Equations for Critically Evaluated Density, Surface Tension, Electrical Conductance, and Viscosity Data, *J. Phys. Chem. Ref. Data, 17*, Suppl. 2, 1988"
   ]
  }
 ],
 "metadata": {
  "kernelspec": {
   "display_name": "Python 3",
   "language": "python",
   "name": "python3"
  },
  "language_info": {
   "codemirror_mode": {
    "name": "ipython",
    "version": 3
   },
   "file_extension": ".py",
   "mimetype": "text/x-python",
   "name": "python",
   "nbconvert_exporter": "python",
   "pygments_lexer": "ipython3",
   "version": "3.6.9"
  }
 },
 "nbformat": 4,
 "nbformat_minor": 1
}
