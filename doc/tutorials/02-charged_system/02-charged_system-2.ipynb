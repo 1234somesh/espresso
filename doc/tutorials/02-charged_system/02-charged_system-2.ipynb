{
 "metadata": {
  "name": "",
  "signature": "sha256:53ff887aad35119f6bb8e5f3c92da86cace8ae652cf07eb128dbb4991a6288c0"
 },
 "nbformat": 3,
 "nbformat_minor": 0,
 "worksheets": [
  {
   "cells": [
    {
     "cell_type": "heading",
     "level": 1,
     "metadata": {},
     "source": [
      "Tutorial 2: A Simple Charged System, Part 2"
     ]
    },
    {
     "cell_type": "heading",
     "level": 2,
     "metadata": {},
     "source": [
      "7 2D Electrostatics and Constraints"
     ]
    },
    {
     "cell_type": "markdown",
     "metadata": {},
     "source": [
      "In this section, we use the parametrized NaCl system from the last task to simulate a molten salt in a\n",
      "parallel plate capacitor with and without applied electric field. We have to extend our simulation by several aspects:"
     ]
    },
    {
     "cell_type": "heading",
     "level": 3,
     "metadata": {},
     "source": [
      "Confinement"
     ]
    },
    {
     "cell_type": "markdown",
     "metadata": {},
     "source": [
      "**ESPResSo** features a number of basic shapes like cylinders, walls or spheres to simulate confined systems.\n",
      "Here, we use to walls at $z = 0$ and $z = L_z$ for the parallel plate setup ($L_z$: Box length in z-direction)"
     ]
    },
    {
     "cell_type": "heading",
     "level": 3,
     "metadata": {},
     "source": [
      "2D-Electrostatics"
     ]
    },
    {
     "cell_type": "markdown",
     "metadata": {},
     "source": [
      "**ESPResSo** also has a number of ways to account for the unwanted electrostatic interaction in the now non-periodic z-dimension.\n",
      "We use the 3D-periodic P$^3$M algorithm in combination with the Electrostatic Layer Correction (ELC). \n",
      "ELC subtracts the forces caused by the periodic images in the z-dimension. Another way would be to use the explicit 2D-electrostatics algorithm\n",
      "MMM2D, also available in **ESPResSo**."
     ]
    },
    {
     "cell_type": "heading",
     "level": 3,
     "metadata": {},
     "source": [
      "Electric Field"
     ]
    },
    {
     "cell_type": "markdown",
     "metadata": {},
     "source": [
      "The simple geometry of the system allows us to treat an electric field in z-direction as a homogeneous force.\n",
      "Note that we use inert walls here and don't take into account the dielectric contrast caused by metal electrodes."
     ]
    },
    {
     "cell_type": "heading",
     "level": 3,
     "metadata": {},
     "source": [
      "Parameters"
     ]
    },
    {
     "cell_type": "markdown",
     "metadata": {},
     "source": [
      "For our molten NaCl, we use a temperature $100 \\ \\mathrm{K}$ above the melting point ($1198.3 \\ \\mathrm{K}$) \n",
      "and an approximated density of $\\rho = 1.1138 \\ \\mathrm{u \\mathring{A}}$$^{-3}$ found in Janz, G. J., Thermodynamic and Transport Properties of Molten Salts: Correlation Equations for Critically Evaluated Density, Surface Tension,\n",
      "Electrical Conductance, and Viscosity Data, *J. Phys. Chem. Ref. Data, 17*, Suppl. 2, 1988.\n",
      "\n",
      "Let's walk through the python script. We need additional imports for the wall shapes and the ELC algorithm:"
     ]
    },
    {
     "cell_type": "code",
     "collapsed": false,
     "input": [
      "from espressomd import System, assert_features, electrostatics, electrostatic_extensions\n",
      "from espressomd.shapes import Wall\n",
      "import espressomd\n",
      "import numpy"
     ],
     "language": "python",
     "metadata": {},
     "outputs": [],
     "prompt_number": 1
    },
    {
     "cell_type": "markdown",
     "metadata": {},
     "source": [
      "If we target a liquid system, we should not set up the particles in a lattice, \n",
      "as this introduces unwanted structure in the starting configuration.\n",
      "We define our system size by the number of particles and the density.\n",
      "The system parameters lead to the following values:"
     ]
    },
    {
     "cell_type": "code",
     "collapsed": false,
     "input": [
      "required_features = [\"EXTERNAL_FORCES\", \"MASS\", \"ELECTROSTATICS\", \"LENNARD_JONES\"]\n",
      "espressomd.assert_features(required_features)\n",
      "print(espressomd.features())\n",
      "\n",
      "# System parameters\n",
      "n_part = 1000\n",
      "n_ionpairs = n_part/2\n",
      "density = 1.1138\n",
      "time_step = 0.001823\n",
      "temp = 1198.3\n",
      "gamma = 50\n",
      "#l_bjerrum = 0.885^2 * e^2/(4*pi*epsilon_0*k_B*T)\n",
      "l_bjerrum = 130878.0 / temp\n",
      "wall_margin = 0.5\n",
      "Ez = 0\n",
      "\n",
      "num_steps_equilibration = 3000\n",
      "num_configs = 200\n",
      "integ_steps_per_config = 100"
     ],
     "language": "python",
     "metadata": {},
     "outputs": [
      {
       "output_type": "stream",
       "stream": "stdout",
       "text": [
        "['CUDA', 'ELECTROSTATICS', 'EXTERNAL_FORCES', 'FFTW', 'GSL', 'H5MD', 'LATTICE', 'LB_GPU', 'LENNARD_JONES', 'MASS', 'P3M', 'ROTATION', 'ROTATIONAL_INERTIA', 'VIRTUAL_SITES', 'VIRTUAL_SITES_RELATIVE']\n"
       ]
      }
     ],
     "prompt_number": 2
    },
    {
     "cell_type": "markdown",
     "metadata": {},
     "source": [
      "We save the force field parameters in python dictionaries, now with parameters for the walls:"
     ]
    },
    {
     "cell_type": "code",
     "collapsed": false,
     "input": [
      "# Particle parameters\n",
      "types       = {\"Cl\":          0, \"Na\": 1, \"Electrode\": 2}\n",
      "numbers     = {\"Cl\": n_ionpairs, \"Na\": n_ionpairs}\n",
      "charges     = {\"Cl\":       -1.0, \"Na\": 1.0}\n",
      "lj_sigmas   = {\"Cl\":       3.85, \"Na\": 2.52,  \"Electrode\": 3.37}\n",
      "lj_epsilons = {\"Cl\":     192.45, \"Na\": 17.44, \"Electrode\": 24.72}\n",
      "\n",
      "lj_cuts     = {\"Cl\":        3.0 * lj_sigmas[\"Cl\"], \n",
      "               \"Na\":        3.0 * lj_sigmas[\"Na\"],\n",
      "               \"Electrode\": 3.0 * lj_sigmas[\"Electrode\"]}\n",
      "\n",
      "masses      = {\"Cl\":  35.453, \"Na\": 22.99, \"Electrode\": 12.01}"
     ],
     "language": "python",
     "metadata": {},
     "outputs": [],
     "prompt_number": 3
    },
    {
     "cell_type": "markdown",
     "metadata": {},
     "source": [
      "To finally calculate the box size, we take into account the diameter of the electrode interaction.\n",
      "Additionally, ELC needs a particle-free gap in the z-direction behind the wall."
     ]
    },
    {
     "cell_type": "code",
     "collapsed": false,
     "input": [
      "# Setup System\n",
      "box_l = (n_ionpairs * sum(masses.values()) / density)**(1. / 3.)\n",
      "box_z = box_l + 2.0 * (lj_sigmas[\"Electrode\"]+wall_margin)\n",
      "elc_gap = box_z * 0.15\n",
      "system = System(box_l=[box_l,box_l, box_z+elc_gap])\n",
      "system.seed=42\n",
      "box_volume = numpy.prod([box_l,box_l, box_z])\n",
      "\n",
      "system.periodicity = [1, 1, 1]\n",
      "system.time_step = time_step\n",
      "system.cell_system.skin = 0.3\n",
      "system.thermostat.set_langevin(kT=temp, gamma=gamma)"
     ],
     "language": "python",
     "metadata": {},
     "outputs": [],
     "prompt_number": 4
    },
    {
     "cell_type": "markdown",
     "metadata": {},
     "source": [
      "In the next snippet, we add the walls to our system. Our constraint takes two arguments: \n",
      "First the <tt>shape</tt>, in our case a simple plane defined by its normal vector and the distance from the origin, \n",
      "second the <tt>particle_type</tt>, which is used to set up the interaction between particles and constraints."
     ]
    },
    {
     "cell_type": "code",
     "collapsed": false,
     "input": [
      "# Walls   \n",
      "system.constraints.add(shape=Wall(dist=wall_margin,\n",
      "            normal=[0,0,1]),particle_type=types[\"Electrode\"])\n",
      "system.constraints.add(shape=Wall(dist=-(box_z-wall_margin),\n",
      "            normal=[0,0,-1]),particle_type=types[\"Electrode\"])"
     ],
     "language": "python",
     "metadata": {},
     "outputs": [
      {
       "metadata": {},
       "output_type": "pyout",
       "prompt_number": 5,
       "text": [
        "<espressomd.constraints.ScriptInterfaceHelper at 0x2acd07f3f8d0>"
       ]
      }
     ],
     "prompt_number": 5
    },
    {
     "cell_type": "markdown",
     "metadata": {},
     "source": [
      "Now we place the particles at random position without overlap with the walls:"
     ]
    },
    {
     "cell_type": "code",
     "collapsed": false,
     "input": [
      "# Place particles\n",
      "for i in range(int(n_ionpairs)):\n",
      "    p = numpy.random.random(3)*box_l\n",
      "    p[2] += lj_sigmas[\"Electrode\"]\n",
      "    system.part.add(id=len(system.part), \n",
      "                    type=types[\"Cl\"],  pos=p, q=charges[\"Cl\"], mass=masses[\"Cl\"])\n",
      "for i in range(int(n_ionpairs)):\n",
      "    p = numpy.random.random(3)*box_l\n",
      "    p[2] += lj_sigmas[\"Electrode\"]\n",
      "    system.part.add(id=len(system.part), \n",
      "                    type=types[\"Na\"],  pos=p, q=charges[\"Na\"], mass=masses[\"Na\"])"
     ],
     "language": "python",
     "metadata": {},
     "outputs": [],
     "prompt_number": 6
    },
    {
     "cell_type": "markdown",
     "metadata": {},
     "source": [
      "The scheme to set up the Lennard-Jones interaction is the same as before, \n",
      "extended by the Electrode-Ion interactions:"
     ]
    },
    {
     "cell_type": "code",
     "collapsed": false,
     "input": [
      "# Lennard-Jones interactions parameters \n",
      "\n",
      "def combination_rule_epsilon(rule, eps1, eps2):\n",
      "    if rule==\"Lorentz\":\n",
      "        return (eps1*eps2)**0.5\n",
      "    else:\n",
      "        return ValueError(\"No combination rule defined\")\n",
      "\n",
      "def combination_rule_sigma(rule, sig1, sig2):\n",
      "    if rule==\"Berthelot\":\n",
      "        return (sig1+sig2)*0.5\n",
      "    else:\n",
      "        return ValueError(\"No combination rule defined\")\n",
      "\n",
      "for s in [[\"Cl\", \"Na\"], [\"Cl\", \"Cl\"], [\"Na\", \"Na\"], [\"Na\", \"Electrode\"], [\"Cl\", \"Electrode\"]]:\n",
      "        lj_sig = combination_rule_sigma(\"Berthelot\", \n",
      "                lj_sigmas[s[0]], lj_sigmas[s[1]])\n",
      "        lj_cut = combination_rule_sigma(\"Berthelot\", \n",
      "                lj_cuts[s[0]], lj_cuts[s[1]])\n",
      "        lj_eps = combination_rule_epsilon(\"Lorentz\", \n",
      "                lj_epsilons[s[0]],lj_epsilons[s[1]])\n",
      "\n",
      "        system.non_bonded_inter[types[s[0]], types[s[1]]].lennard_jones.set_params(\n",
      "epsilon=lj_eps, sigma=lj_sig, cutoff=lj_cut, shift=\"auto\")"
     ],
     "language": "python",
     "metadata": {},
     "outputs": [],
     "prompt_number": 7
    },
    {
     "cell_type": "markdown",
     "metadata": {},
     "source": [
      "Next is the Lennard-Jones Equilibration: Here we use an alternative way to get rid of the overlap: **ESPResSo** features a routine for energy\n",
      "minimization with similar features as in the manual implementation used before. Basically it \n",
      "caps the forces and limits the displacement during integration."
     ]
    },
    {
     "cell_type": "code",
     "collapsed": false,
     "input": [
      "energy = system.analysis.energy()\n",
      "print(\"Before Minimization: E_total=\", energy['total'])\n",
      "system.minimize_energy.init(f_max = 10, gamma = 10, max_steps = 2000,\n",
      "                            max_displacement= 0.1)\n",
      "system.minimize_energy.minimize()\n",
      "energy = system.analysis.energy()\n",
      "print(\"After Minimization: E_total=\", energy['total'])"
     ],
     "language": "python",
     "metadata": {},
     "outputs": [
      {
       "output_type": "stream",
       "stream": "stdout",
       "text": [
        "('Before Minimization: E_total=', 2773544096076517.5)\n",
        "('After Minimization: E_total=', 17015.503389126792)"
       ]
      },
      {
       "output_type": "stream",
       "stream": "stdout",
       "text": [
        "\n"
       ]
      }
     ],
     "prompt_number": 8
    },
    {
     "cell_type": "markdown",
     "metadata": {},
     "source": [
      "As described, we use P$^3$M in combination with ELC to account for the 2D-periodicity. \n",
      "ELC is also added to the <tt>actors</tt> of the system and takes *gap size* and *maximum\n",
      "pairwise errors* as arguments."
     ]
    },
    {
     "cell_type": "code",
     "collapsed": false,
     "input": [
      "%%capture\n",
      "\n",
      "# Tuning Electrostatics\n",
      "p3m = electrostatics.P3M(prefactor=l_bjerrum*temp, \n",
      "        accuracy=1e-2)\n",
      "system.actors.add(p3m)\n",
      "elc = electrostatic_extensions.ELC(gap_size = elc_gap, \n",
      "        maxPWerror = 1e-3)\n",
      "system.actors.add(elc)"
     ],
     "language": "python",
     "metadata": {},
     "outputs": [],
     "prompt_number": 9
    },
    {
     "cell_type": "markdown",
     "metadata": {},
     "source": [
      "For now, our electric field is zero, but we want to switch it on later.\n",
      "Here we run over all particles and set an external force on the charges caused \n",
      "by the field:"
     ]
    },
    {
     "cell_type": "code",
     "collapsed": false,
     "input": [
      "for p in system.part:\n",
      "    p.ext_force = [0,0,Ez * p.q]"
     ],
     "language": "python",
     "metadata": {},
     "outputs": [],
     "prompt_number": 10
    },
    {
     "cell_type": "markdown",
     "metadata": {},
     "source": [
      "This is followed by our standard temperature equilibration:"
     ]
    },
    {
     "cell_type": "code",
     "collapsed": false,
     "input": [
      "# Temperature Equilibration\n",
      "system.time = 0.0\n",
      "for i in range(int(num_steps_equilibration/100)):\n",
      "    energy = system.analysis.energy()\n",
      "    temp_measured = energy['kinetic'] / ((3.0 / 2.0) * n_part)\n",
      "    print(\"t={0:.1f}, E_total={1:.2f}, E_coulomb={2:.2f}, T={3:.4f}\".format(system.time,\n",
      "                                                                            energy['total'], energy['coulomb'], temp_measured))\n",
      "    system.integrator.run(100)"
     ],
     "language": "python",
     "metadata": {},
     "outputs": [
      {
       "output_type": "stream",
       "stream": "stdout",
       "text": [
        "t=0.0, E_total=-10474522.50, E_coulomb=-10491538.00, T=0.0000\n",
        "t=0.2, E_total=-17455092.11, E_coulomb=-32595623.20, T=7539.9242"
       ]
      },
      {
       "output_type": "stream",
       "stream": "stdout",
       "text": [
        "\n",
        "t=0.4, E_total=-22349610.99, E_coulomb=-33477813.91, T=5290.8437"
       ]
      },
      {
       "output_type": "stream",
       "stream": "stdout",
       "text": [
        "\n",
        "t=0.5, E_total=-25707635.08, E_coulomb=-34544726.10, T=3993.0007"
       ]
      },
      {
       "output_type": "stream",
       "stream": "stdout",
       "text": [
        "\n",
        "t=0.7, E_total=-27895464.20, E_coulomb=-35094545.40, T=3124.6681"
       ]
      },
      {
       "output_type": "stream",
       "stream": "stdout",
       "text": [
        "\n",
        "t=0.9, E_total=-29496238.56, E_coulomb=-35297124.98, T=2442.0850"
       ]
      },
      {
       "output_type": "stream",
       "stream": "stdout",
       "text": [
        "\n",
        "t=1.1, E_total=-30635108.04, E_coulomb=-35805486.82, T=2093.7747"
       ]
      },
      {
       "output_type": "stream",
       "stream": "stdout",
       "text": [
        "\n",
        "t=1.3, E_total=-31261497.67, E_coulomb=-36029794.91, T=1855.2119"
       ]
      },
      {
       "output_type": "stream",
       "stream": "stdout",
       "text": [
        "\n",
        "t=1.5, E_total=-31677371.77, E_coulomb=-36231960.74, T=1782.1587"
       ]
      },
      {
       "output_type": "stream",
       "stream": "stdout",
       "text": [
        "\n",
        "t=1.6, E_total=-32135246.84, E_coulomb=-36468172.64, T=1567.5278"
       ]
      },
      {
       "output_type": "stream",
       "stream": "stdout",
       "text": [
        "\n",
        "t=1.8, E_total=-32459815.01, E_coulomb=-36497248.46, T=1497.2663"
       ]
      },
      {
       "output_type": "stream",
       "stream": "stdout",
       "text": [
        "\n",
        "t=2.0, E_total=-32652779.76, E_coulomb=-36579174.12, T=1434.9409"
       ]
      },
      {
       "output_type": "stream",
       "stream": "stdout",
       "text": [
        "\n",
        "t=2.2, E_total=-32823987.59, E_coulomb=-36691156.61, T=1386.9200"
       ]
      },
      {
       "output_type": "stream",
       "stream": "stdout",
       "text": [
        "\n",
        "t=2.4, E_total=-32992230.69, E_coulomb=-36725909.63, T=1322.4203"
       ]
      },
      {
       "output_type": "stream",
       "stream": "stdout",
       "text": [
        "\n",
        "t=2.6, E_total=-33088938.89, E_coulomb=-36869349.34, T=1337.8681"
       ]
      },
      {
       "output_type": "stream",
       "stream": "stdout",
       "text": [
        "\n",
        "t=2.7, E_total=-33197692.54, E_coulomb=-36842395.03, T=1255.8650"
       ]
      },
      {
       "output_type": "stream",
       "stream": "stdout",
       "text": [
        "\n",
        "t=2.9, E_total=-33265167.36, E_coulomb=-36872463.35, T=1258.5354"
       ]
      },
      {
       "output_type": "stream",
       "stream": "stdout",
       "text": [
        "\n",
        "t=3.1, E_total=-33268756.46, E_coulomb=-36830902.49, T=1234.0203"
       ]
      },
      {
       "output_type": "stream",
       "stream": "stdout",
       "text": [
        "\n",
        "t=3.3, E_total=-33280787.35, E_coulomb=-36862913.66, T=1246.7145"
       ]
      },
      {
       "output_type": "stream",
       "stream": "stdout",
       "text": [
        "\n",
        "t=3.5, E_total=-33347965.84, E_coulomb=-36915000.39, T=1221.0059"
       ]
      },
      {
       "output_type": "stream",
       "stream": "stdout",
       "text": [
        "\n",
        "t=3.6, E_total=-33362134.98, E_coulomb=-36958708.33, T=1225.9392"
       ]
      },
      {
       "output_type": "stream",
       "stream": "stdout",
       "text": [
        "\n",
        "t=3.8, E_total=-33424133.65, E_coulomb=-36863867.71, T=1218.9229"
       ]
      },
      {
       "output_type": "stream",
       "stream": "stdout",
       "text": [
        "\n",
        "t=4.0, E_total=-33425981.85, E_coulomb=-36899993.59, T=1206.3150"
       ]
      },
      {
       "output_type": "stream",
       "stream": "stdout",
       "text": [
        "\n",
        "t=4.2, E_total=-33584075.86, E_coulomb=-37068909.67, T=1226.9161"
       ]
      },
      {
       "output_type": "stream",
       "stream": "stdout",
       "text": [
        "\n",
        "t=4.4, E_total=-33562690.81, E_coulomb=-37084853.76, T=1204.9293"
       ]
      },
      {
       "output_type": "stream",
       "stream": "stdout",
       "text": [
        "\n",
        "t=4.6, E_total=-33539051.59, E_coulomb=-36952543.90, T=1176.5274"
       ]
      },
      {
       "output_type": "stream",
       "stream": "stdout",
       "text": [
        "\n",
        "t=4.7, E_total=-33542527.72, E_coulomb=-37186617.47, T=1222.8268"
       ]
      },
      {
       "output_type": "stream",
       "stream": "stdout",
       "text": [
        "\n",
        "t=4.9, E_total=-33469340.67, E_coulomb=-37036036.37, T=1241.9009"
       ]
      },
      {
       "output_type": "stream",
       "stream": "stdout",
       "text": [
        "\n",
        "t=5.1, E_total=-33569470.76, E_coulomb=-37067677.27, T=1186.6515"
       ]
      },
      {
       "output_type": "stream",
       "stream": "stdout",
       "text": [
        "\n",
        "t=5.3, E_total=-33541970.05, E_coulomb=-36995634.16, T=1173.3409"
       ]
      },
      {
       "output_type": "stream",
       "stream": "stdout",
       "text": [
        "\n"
       ]
      }
     ],
     "prompt_number": 11
    },
    {
     "cell_type": "markdown",
     "metadata": {},
     "source": [
      "In the integration loop, we like to measure the density profile for both ion species along the z-direction.\n",
      "We use a simple histogram analysis to accumulate the density data. Integration takes a while."
     ]
    },
    {
     "cell_type": "code",
     "collapsed": false,
     "input": [
      "# Integration\n",
      "bins=100\n",
      "z_dens_na = numpy.zeros(bins)\n",
      "z_dens_cl = numpy.zeros(bins)\n",
      "system.time = 0.0\n",
      "cnt = 0\n",
      "\n",
      "for i in range(num_configs):\n",
      "    energy = system.analysis.energy()\n",
      "    temp_measured = energy['kinetic'] / ((3.0 / 2.0) * n_part)\n",
      "    system.integrator.run(integ_steps_per_config)\n",
      "\n",
      "    for p in system.part:\n",
      "        bz = int(p.pos[2]/box_z*bins)\n",
      "        if p.type == types[\"Na\"]:\n",
      "            z_dens_na[bz] += 1.0\n",
      "        elif p.type == types[\"Cl\"]:\n",
      "            z_dens_cl[bz] += 1.0\n",
      "    cnt += 1"
     ],
     "language": "python",
     "metadata": {},
     "outputs": [],
     "prompt_number": 12
    },
    {
     "cell_type": "markdown",
     "metadata": {},
     "source": [
      "Finally, we calculate the average, normalize the data with the bin volume and save it to\n",
      "a file using NumPy's <tt>savetxt</tt> command."
     ]
    },
    {
     "cell_type": "code",
     "collapsed": false,
     "input": [
      "# Analysis\n",
      "\n",
      "# Average / Normalize with Volume\n",
      "z_dens_na /= (cnt * box_volume/bins)\n",
      "z_dens_cl /= (cnt * box_volume/bins)\n",
      "z_values = numpy.linspace(0,box_l,num=bins)\n",
      "res = numpy.column_stack((z_values,z_dens_na,z_dens_cl))\n",
      "numpy.savetxt(\"z_density.data\",res,\n",
      "        header=\"#z rho_na(z) rho_cl(z)\")"
     ],
     "language": "python",
     "metadata": {},
     "outputs": [],
     "prompt_number": 13
    },
    {
     "cell_type": "markdown",
     "metadata": {},
     "source": [
      "Finally we can plot the density of the ions."
     ]
    },
    {
     "cell_type": "code",
     "collapsed": false,
     "input": [
      "%matplotlib inline\n",
      "\n",
      "import matplotlib.pyplot as plt\n",
      "\n",
      "plt.figure(figsize=(10,6), dpi=80)\n",
      "plt.plot(z_values,z_dens_na, label='Na')\n",
      "plt.plot(z_values,z_dens_cl, label='Cl')\n",
      "plt.xlabel('$z$', fontsize=20)\n",
      "plt.ylabel('Density', fontsize=20)\n",
      "plt.legend(fontsize=16)\n",
      "plt.show()"
     ],
     "language": "python",
     "metadata": {},
     "outputs": [
      {
       "metadata": {},
       "output_type": "display_data",
       "png": "[encoded data removed]",
       "text": [
        "<matplotlib.figure.Figure at 0x2accc28a5b90>"
       ]
      }
     ],
     "prompt_number": 14
    },
    {
     "cell_type": "markdown",
     "metadata": {},
     "source": [
      "The resulting density plot is very noisy due to insufficient sampling, but should show a slight depletion of the smaller Na atoms\n",
      "at the walls. Now try to put in an electric field that represents an applied voltage of $15 \\ \\mathrm{V}$ between the walls and compare the results.\n",
      "The density data should show strong layering at the walls, decaying towards the system center.\n",
      "The complete script is at <tt>/doc/tutorials/02-charged_system/scripts/nacl_units_confined.py.</tt>\n",
      "In the interactive script <tt>nacl_units_confined_vis.py</tt>, you can increase/decrease the electric field with the keys *u/j* (at your own risk)."
     ]
    },
    {
     "cell_type": "markdown",
     "metadata": {},
     "source": [
      "<figure>\n",
      "    <img src='figures/nacl_units_confined.jpg' alt='missing' style=\"width: 800px;\"/>\n",
      "    <center>\n",
      "    <figcaption>Figure 4: Snapshot and densities along the z-Axis with applied electric field for the ion species.</figcaption>\n",
      "</figure>"
     ]
    },
    {
     "cell_type": "code",
     "collapsed": false,
     "input": [],
     "language": "python",
     "metadata": {},
     "outputs": [],
     "prompt_number": 14
    }
   ],
   "metadata": {}
  }
 ]
}