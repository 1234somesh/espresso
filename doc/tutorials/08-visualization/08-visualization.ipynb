{
 "cells": [
  {
   "cell_type": "markdown",
   "metadata": {},
   "source": [
    "# Tutorial 8: Visualization"
   ]
  },
  {
   "cell_type": "markdown",
   "metadata": {},
   "source": [
    "## Introduction\n",
    "\n",
    "When you are running a simulation, it is often useful to see what is going on\n",
    "by visualizing particles in a 3D view or by plotting observables over time.\n",
    "That way, you can easily determine things like whether your choice of parameters\n",
    "has led to a stable simulation or whether your system has equilibrated. You may\n",
    "even be able to do your complete data analysis in real time as the simulation progresses.\n",
    "\n",
    "Thanks to **ESPResSo**'s Python interface, we can make use of standard libraries\n",
    "like Mayavi or OpenGL (for interactive 3D views) and Matplotlib (for line graphs)\n",
    "for this purpose. We will also use NumPy, which both of these libraries depend on,\n",
    "to store data and perform some basic analysis."
   ]
  },
  {
   "cell_type": "markdown",
   "metadata": {},
   "source": [
    "## Simulation\n",
    "\n",
    "First, we need to set up a simulation.\n",
    "We simulate a simple Lennard-Jones liquid in this tutorial using the script <tt>/doc/tutorials/08-visualization/scripts/simulation.py</tt>."
   ]
  },
  {
   "cell_type": "markdown",
   "metadata": {},
   "source": [
    "## Live plotting\n",
    "\n",
    "Let's have a look at the total energy of the simulation.\n",
    "We can determine the individual energies in the system using"
   ]
  },
  {
   "cell_type": "code",
   "execution_count": null,
   "metadata": {},
   "outputs": [],
   "source": [
    "print (system.analysis.energy())"
   ]
  },
  {
   "cell_type": "markdown",
   "metadata": {},
   "source": [
    "to get"
   ]
  },
  {
   "cell_type": "code",
   "execution_count": null,
   "metadata": {},
   "outputs": [],
   "source": [
    "OrderedDict([\n",
    "        ('total', 1840.118038871784),\n",
    "        ('ideal', 1358.743742464325),\n",
    "        ('bonded', 0.0), \n",
    "        (('nonBonded', 0, 0), 481.374296407459), \n",
    "        ('nonBonded', 481.374296407459), \n",
    "        ('coulomb', 0.0)])"
   ]
  },
  {
   "cell_type": "markdown",
   "metadata": {},
   "source": [
    "Write that command right after the call to <tt>main()</tt> and see if you can get a similar result.\n",
    "Now we want to store the total energy over time in a NumPy array.\n",
    "To do that, modify the <tt>main</tt> function definition to be the following:"
   ]
  },
  {
   "cell_type": "code",
   "execution_count": null,
   "metadata": {},
   "outputs": [],
   "source": [
    "energies = numpy.empty((int_steps,2))\n",
    "def main():\n",
    "    for i in range(0, int_n_times):\n",
    "        print(\"run %d at time=%f \" % (i, system.time))\n",
    "        system.integrator.run(int_steps)\n",
    "        energies[i] = (system.time, system.analysis.energy()['total'])"
   ]
  },
  {
   "cell_type": "markdown",
   "metadata": {},
   "source": [
    "Now we can do some analysis on the stored energies.\n",
    "For example, let us calculate the time-averaged energy:"
   ]
  },
  {
   "cell_type": "code",
   "execution_count": null,
   "metadata": {},
   "outputs": [],
   "source": [
    "print (\"Average energy: %.6g\" % energies[:,1].mean())"
   ]
  },
  {
   "cell_type": "markdown",
   "metadata": {},
   "source": [
    "We can also plot the energy over time by adding"
   ]
  },
  {
   "cell_type": "code",
   "execution_count": null,
   "metadata": {},
   "outputs": [],
   "source": [
    "pyplot.xlabel(\"time\")\n",
    "pyplot.ylabel(\"energy\")\n",
    "pyplot.plot(energies[:,0],energies[:,1])\n",
    "pyplot.show()"
   ]
  },
  {
   "cell_type": "markdown",
   "metadata": {},
   "source": [
    "to the end of the script. Of course, this plot only gets shown after the entire simulation is completed.\n",
    "To get an interactive plot, we update it from within the integration loop."
   ]
  },
  {
   "cell_type": "code",
   "execution_count": null,
   "metadata": {},
   "outputs": [],
   "source": [
    "energies = numpy.empty((int_steps,2))\n",
    "current_time = -1\n",
    "pyplot.xlabel(\"time\")\n",
    "pyplot.ylabel(\"energy\")\n",
    "plot, = pyplot.plot([0],[0])\n",
    "pyplot.show(block=False)\n",
    "def update_plot():\n",
    "    if current_time < 0:\n",
    "        return\n",
    "    i = current_time\n",
    "    plot.set_xdata(energies[:i+1,0])\n",
    "    plot.set_ydata(energies[:i+1,1])\n",
    "    pyplot.xlim(0, energies[i,0])\n",
    "    pyplot.ylim(energies[:i+1,1].min(), energies[:i+1,1].max())\n",
    "    pyplot.draw()\n",
    "    pyplot.pause(0.01)\n",
    "def main():\n",
    "    global current_time\n",
    "    for i in range(0, int_n_times):\n",
    "        print(\"run %d at time=%f \" % (i, system.time))\n",
    "        system.integrator.run(int_steps)\n",
    "        energies[i] = (system.time, system.analysis.energy()['total'])\n",
    "        current_time = i\n",
    "        update_plot()"
   ]
  },
  {
   "cell_type": "markdown",
   "metadata": {},
   "source": [
    "One shortcoming of this simple method is that one cannot interact with the controls of the plot window (e.g. resize the window or zoom around in the graph).\n",
    "This will be resolved using multiple threads when we combine the plotting with the 3D visualization in the next section."
   ]
  },
  {
   "cell_type": "markdown",
   "metadata": {},
   "source": [
    "## Live visualization\n",
    "\n",
    "In order to be able to interact with the live visualization, we need to move the main integration loop into a secondary thread and run the visualization in the main thread (note that visualization or plotting cannot be run in secondary threads). First, let's revert to the main loop without plotting:"
   ]
  },
  {
   "cell_type": "code",
   "execution_count": null,
   "metadata": {},
   "outputs": [],
   "source": [
    "energies = numpy.empty((int_steps,2))\n",
    "def main():\n",
    "    for i in range(0, int_n_times):\n",
    "        print(\"run %d at time=%f \" % (i, system.time))\n",
    "        system.integrator.run(int_steps)\n",
    "        energies[i] = (system.time, system.analysis.energy()['total'])"
   ]
  },
  {
   "cell_type": "markdown",
   "metadata": {},
   "source": [
    "Then, add the following line after the particle setup code:"
   ]
  },
  {
   "cell_type": "code",
   "execution_count": null,
   "metadata": {},
   "outputs": [],
   "source": [
    "visualizer = visualization.openGLLive(system)"
   ]
  },
  {
   "cell_type": "markdown",
   "metadata": {},
   "source": [
    "Now, go to the end of the <tt>main</tt> function definition and add"
   ]
  },
  {
   "cell_type": "code",
   "execution_count": null,
   "metadata": {},
   "outputs": [],
   "source": [
    "visualizer.update()"
   ]
  },
  {
   "cell_type": "markdown",
   "metadata": {},
   "source": [
    "which sends the current simulation state to the visualizer.\n",
    "Now, go to the line where <tt>main()</tt> is called and replace it with the following code, which dispatches the function in a secondary thread, and then opens the visualizer window:"
   ]
  },
  {
   "cell_type": "code",
   "execution_count": null,
   "metadata": {},
   "outputs": [],
   "source": [
    "t = Thread(target=main)\n",
    "t.daemon = True\n",
    "t.start()\n",
    "visualizer.start()"
   ]
  },
  {
   "cell_type": "markdown",
   "metadata": {},
   "source": [
    "To follow the trajectories, try decreasing the integration steps to 1 and the\n",
    "time step to 0.001.  While the simulation is running, you can move and zoom\n",
    "around with your mouse. Alternatively, you can try mayavi by\n",
    "switching the visualizer to:"
   ]
  },
  {
   "cell_type": "code",
   "execution_count": null,
   "metadata": {},
   "outputs": [],
   "source": [
    "visualizer = visualization.mayaviLive(system)"
   ]
  },
  {
   "cell_type": "markdown",
   "metadata": {},
   "source": [
    "In mayavi, explore the buttons in the toolbar to see how the graphical representation can be changed"
   ]
  },
  {
   "cell_type": "markdown",
   "metadata": {},
   "source": [
    "## Combined live visualization and plotting\n",
    "\n",
    "Now let's merge the code from the preceding two sections so we can see the energy graph while viewing the 3D visualization of the particles.\n",
    "Do do that, we copy the <tt>pyplot</tt>-related lines from above:"
   ]
  },
  {
   "cell_type": "code",
   "execution_count": null,
   "metadata": {},
   "outputs": [],
   "source": [
    "current_time = -1\n",
    "pyplot.xlabel(\"time\")\n",
    "pyplot.ylabel(\"energy\")\n",
    "plot, = pyplot.plot([0],[0])\n",
    "pyplot.show(block=False)\n",
    "def update_plot():\n",
    "    if current_time < 0:\n",
    "        return\n",
    "    i = current_time\n",
    "    plot.set_xdata(energies[:i+1,0])\n",
    "    plot.set_ydata(energies[:i+1,1])\n",
    "    pyplot.xlim(0, energies[i,0])\n",
    "    pyplot.ylim(energies[:i+1,1].min(), energies[:i+1,1].max())\n",
    "    pyplot.draw()\n",
    "    pyplot.pause(0.01)"
   ]
  },
  {
   "cell_type": "markdown",
   "metadata": {},
   "source": [
    "Then we merge the <tt>main</tt> function definitions from both the previous sections."
   ]
  },
  {
   "cell_type": "code",
   "execution_count": null,
   "metadata": {},
   "outputs": [],
   "source": [
    "def main():\n",
    "    global current_time\n",
    "    for i in range(0, int_n_times):\n",
    "        print(\"run %d at time=%f \" % (i, system.time))\n",
    "        system.integrator.run(int_steps)\n",
    "        energies[i] = (system.time, system.analysis.energy()['total'])\n",
    "        current_time = i\n",
    "        visualizer.update()\n",
    "        # update_plot() cannot be called from here"
   ]
  },
  {
   "cell_type": "markdown",
   "metadata": {},
   "source": [
    "However, as we now have multiple threads, we cannot simply call <tt>update_plot()</tt> from the <tt>main</tt> function definition.\n",
    "Instead, we register it as a callback with the visualizer before we start up the visualizer GUI:"
   ]
  },
  {
   "cell_type": "code",
   "execution_count": null,
   "metadata": {},
   "outputs": [],
   "source": [
    "t = Thread(target=main)\n",
    "t.daemon = True\n",
    "t.start()\n",
    "visualizer.register_callback(update_plot, interval=500)\n",
    "visualizer.start()"
   ]
  },
  {
   "cell_type": "markdown",
   "metadata": {},
   "source": [
    "## Customizing the OpenGL visualizer\n",
    "\n",
    "Visualization of more advanced features of **ESPResSo** is also possible (e.g.\n",
    "bonds, constraints, Lattice Boltzmann) with the OpenGL\n",
    "visualizer. There are a number of optional keywords that can be used to specify the\n",
    "appearance of the visualization, they are simply stated after\n",
    " <tt>system</tt> when creating the visualizer instance.\n",
    "See the following examples:"
   ]
  },
  {
   "cell_type": "code",
   "execution_count": null,
   "metadata": {},
   "outputs": [],
   "source": [
    "# Enables particle dragging via mouse:\n",
    "visualizer = visualization.openGLLive(system, drag_enabled=True)\n",
    "\n",
    "# Use a white background:\n",
    "visualizer = visualization.openGLLive(system, background_color = [1,1,1])\n",
    "\n",
    "# Use red color for all (uncharged) particles\n",
    "visualizer = visualization.openGLLive(system, particle_type_colors = [[1,0,0]])"
   ]
  },
  {
   "cell_type": "markdown",
   "metadata": {},
   "source": [
    "The visualizer options are stored in the dict <tt>visualizer.specs</tt>,\n",
    "the following snippet prints out the current configuration nicely: "
   ]
  },
  {
   "cell_type": "code",
   "execution_count": null,
   "metadata": {},
   "outputs": [],
   "source": [
    "for k in sorted(visualizer.specs.keys(), key=lambda s: s.lower()): print(\"{:30}  {}\".format(k, visualizer.specs[k]))"
   ]
  },
  {
   "cell_type": "markdown",
   "metadata": {},
   "source": [
    "All keywords are explained in the Online Documentation at\n",
    "http://espressomd.org/html/doc/visualization.html#opengl-visualizer.\n",
    "Specific visualization examples for **ESPResSo** can be found in the <tt>samples</tt>\n",
    "folder. You may need to recompile **ESPResSo** with the required features used in the\n",
    "examples."
   ]
  }
 ],
 "metadata": {
  "kernelspec": {
   "display_name": "Python 2",
   "language": "python",
   "name": "python2"
  },
  "language_info": {
   "codemirror_mode": {
    "name": "ipython",
    "version": 2
   },
   "file_extension": ".py",
   "mimetype": "text/x-python",
   "name": "python",
   "nbconvert_exporter": "python",
   "pygments_lexer": "ipython2",
   "version": "2.7.15rc1"
  }
 },
 "nbformat": 4,
 "nbformat_minor": 1
}
