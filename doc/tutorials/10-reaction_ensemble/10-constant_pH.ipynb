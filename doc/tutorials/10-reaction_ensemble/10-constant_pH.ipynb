{
 "cells": [
  {
   "cell_type": "markdown",
   "metadata": {},
   "source": [
    "## 1 Introduction\n",
    "\n",
    "This tutorial introduces the basic features for simulating titratable systems via the constant pH method.\n",
    "\n",
    "We will consider a homogeneous aqueous solution of a titratable acidic species HA that can dissociate as follows\n",
    "$HA \\Leftrightarrow A^- + H^+\\text{,}$\n",
    "The constant pH method is a Monte Carlo mehtod.\n",
    "If $N_0 = N_{\\text{HA}} + N_{\\text{A}^-}$ is the number of titratable groups in solution, then the degree of dissociation $\\alpha$ can be defined:\n",
    "$\\alpha = \\frac{N_{\\text{A}^-}}{N_0}.$\n",
    "\n",
    "In the constant pH method, the acceptance probability for a reaction is [1]:\n",
    "\n",
    "\n",
    "$ P_{\\mathrm{acc}} = \\mathrm{min}\\left(  1, \\exp(\\beta \\Delta E_\\mathrm{pot} \\pm \\ln{10} (\\mathrm{pH - pK}) ) \\right) $\n",
    "\n",
    "and the proposal probability of a reaction is $P_\\text{acc}=\\frac{N_\\text{HA}}{N0}$ for a dissociation and $P_\\text{acc}=\\frac{N_\\text{A}}{N0}$ for an association reaction [1]. Here $\\Delta E_\\text{pot}$ is the potential energy change due to the reaction, while $\\text{pH - p}K$ is an input parameter composed by two terms, pH and -p$K$.\n",
    "The prefactor $\\pm 1$ defines the direction of the reaction (+1 dissociation, -1 association).\n",
    "When a dissociation move is attempted, the titratable molecule HA is charged and a counterion $H^+$ is randomly placed into the simulation box, while when an association move is attempted, a $A^-$ is neutralized and a random counterion $H^+$ is removed from the cell.\n",
    "Be aware that in the constant pH method the system is coupled to an implicit pH bath. That especially means that the number of $H^+$ ions in the simulation box does not correspond to the chosen pH. This will lead to wrong screening effects when including electrostatic interactions in the system [1]. How to avoid these artifacts of the constant pH method, however, goes beyond the scope of this simple tutorial. We refer the reader to e.g. [1] for futher details."
   ]
  },
  {
   "cell_type": "markdown",
   "metadata": {},
   "source": [
    "## 2 Setup\n",
    "We start by defining some important input parameters and setting the particles randomly inside the box:"
   ]
  },
  {
   "cell_type": "code",
   "execution_count": null,
   "metadata": {},
   "outputs": [],
   "source": [
    "import numpy as np\n",
    "import matplotlib.pyplot as plt\n",
    "plt.ion()\n",
    "\n",
    "import espressomd\n",
    "from espressomd import code_info\n",
    "from espressomd import analyze\n",
    "from espressomd import integrate\n",
    "from espressomd import reaction_ensemble\n",
    "\n",
    "# System parameters\n",
    "#############################################################\n",
    "box_l = 35\n",
    "\n",
    "# Integration parameters\n",
    "#############################################################\n",
    "system = espressomd.System(box_l=[box_l] * 3)\n",
    "system.set_random_state_PRNG()\n",
    "#system.seed = system.cell_system.get_state()['n_nodes'] * [1234]\n",
    "np.random.seed(seed=10)\n",
    "\n",
    "system.time_step = 0.02\n",
    "system.cell_system.skin = 0.4\n",
    "\n",
    "# Particle setup\n",
    "#############################################################\n",
    "# type 0 = HA\n",
    "# type 1 = A-\n",
    "# type 2 = H+\n",
    "\n",
    "N0 = 50  # number of titratable units\n",
    "K = 1e-4\n",
    "\n",
    "\n",
    "for i in range(N0):\n",
    "    system.part.add(id=i, pos=np.random.random(3) * system.box_l, type=1)\n",
    "for i in range(N0, 2 * N0):\n",
    "    system.part.add(id=i, pos=np.random.random(3) * system.box_l, type=2)\n"
   ]
  },
  {
   "cell_type": "markdown",
   "metadata": {},
   "source": [
    "The next step is to define the reaction system and seed the pseudo random number generator which is used for the Monte Carlo steps.\n",
    "Please notice that the order in which the species are written in reactants and products lists is very important because, when a reaction is performed, the first species in the reactants list is replaced by the first species in the product lists, the second reactant species is replaced by the second product species, and so on. Moreover, if the reactant list has more species than the products list, reactant molecules in excess are deleted from the system, while if the products list has more species than the reactants list, product molecules in excess are created and randomly placed inside the simulation box. For example, reversing the order of products in our reaction (i.e. from  product_types=[type_H, type_A] to product_types=[type_A, type_H]), a neutral monomer would be positively charged and a negative monovalent counterion would be randomly placed inside the cell. "
   ]
  },
  {
   "cell_type": "code",
   "execution_count": null,
   "metadata": {},
   "outputs": [],
   "source": [
    "RE = reaction_ensemble.ConstantpHEnsemble(\n",
    "        temperature=1, exclusion_radius=0, seed=77)\n",
    "\n",
    "\n",
    "RE.add_reaction(gamma=K, reactant_types=[0], reactant_coefficients=[1],\n",
    "                product_types=[1, 2], product_coefficients=[1, 1],\n",
    "                default_charges={0: 0, 1: -1, 2: +1})\n",
    "print(RE.get_status())"
   ]
  },
  {
   "cell_type": "markdown",
   "metadata": {},
   "source": [
    "Next we perform simulations at different pH and make sure the system is equilibrated before taking samples"
   ]
  },
  {
   "cell_type": "code",
   "execution_count": null,
   "metadata": {},
   "outputs": [],
   "source": [
    "num_samples=20\n",
    "\n",
    "pHs=np.linspace(1,8,num=13)\n",
    "degrees_of_dissociation=[]\n",
    "std_errs_degree_of_dissociation=[]\n",
    "\n",
    "for pH in pHs:\n",
    "    print(\"pH is \", pH)\n",
    "    RE.constant_pH = pH\n",
    "    RE.reaction(2*N0) #warmup\n",
    "    numAs=[]\n",
    "    for i in range(num_samples):\n",
    "        RE.reaction(3*N0)\n",
    "        numAs.append(system.number_of_particles(type=1))\n",
    "    degrees_of_dissociation.append(np.mean(numAs)/N0)\n",
    "    std_errs_degree_of_dissociation.append(np.std(numAs,ddof=1)/(N0*np.sqrt(len(numAs))))"
   ]
  },
  {
   "cell_type": "markdown",
   "metadata": {},
   "source": [
    "## 3 Results\n",
    "Finally we plot our results and compare it to the well known result for an ideal reacting system. The errors in the simulation can be reduced via increasing num_samples taken at each pH."
   ]
  },
  {
   "cell_type": "code",
   "execution_count": null,
   "metadata": {},
   "outputs": [],
   "source": [
    "def ideal_degree_of_dissociation(pH, pK):\n",
    "    return 1/(1+10**(pK-pH))\n",
    "\n",
    "pK=-np.log10(K)\n",
    "plt.figure(figsize=(10, 6), dpi=80)\n",
    "plt.errorbar(pHs-pK, degrees_of_dissociation, std_errs_degree_of_dissociation, label=r\"simulation\")\n",
    "loc_pHs=np.linspace(1,8)\n",
    "plt.plot(loc_pHs-pK, ideal_degree_of_dissociation(loc_pHs, pK), label=r\"ideal\")\n",
    "plt.xlabel('$pH-pK$', fontsize=20)\n",
    "plt.ylabel(r'$\\alpha$', fontsize=20)\n",
    "plt.legend(fontsize=20)\n",
    "plt.show()"
   ]
  },
  {
   "cell_type": "markdown",
   "metadata": {},
   "source": [
    "## References\n",
    "\n",
    "[1] Landsgesell, Jonas, Christian Holm, and Jens Smiatek. Simulation of weak polyelectrolytes: a comparison between the constant pH and the reaction ensemble method. The European Physical Journal Special Topics 226.4 (2017): 725-736."
   ]
  },
  {
   "cell_type": "code",
   "execution_count": null,
   "metadata": {},
   "outputs": [],
   "source": []
  }
 ],
 "metadata": {
  "kernelspec": {
   "display_name": "Python 3",
   "language": "python",
   "name": "python3"
  },
  "language_info": {
   "codemirror_mode": {
    "name": "ipython",
    "version": 3
   },
   "file_extension": ".py",
   "mimetype": "text/x-python",
   "name": "python",
   "nbconvert_exporter": "python",
   "pygments_lexer": "ipython3",
   "version": "3.6.8"
  }
 },
 "nbformat": 4,
 "nbformat_minor": 2
}
