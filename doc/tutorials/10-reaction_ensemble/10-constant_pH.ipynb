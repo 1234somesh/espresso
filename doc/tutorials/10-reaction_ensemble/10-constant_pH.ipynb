{
 "cells": [
  {
   "cell_type": "markdown",
   "metadata": {},
   "source": [
    "## 1 Introduction\n",
    "\n",
    "This tutorial introduces the basic features for simulating titratable systems via the constant pH method.\n",
    "The constant pH method is a Monte-Carlo method.\n",
    "\n",
    "We will consider a homogeneous aqueous solution of a titratable acidic species $\\mathrm{HA}$ that can dissociate as follows\n",
    "$\\mathrm{HA} \\Leftrightarrow \\mathrm{A}^- + \\mathrm{H}^+$\n",
    "\n",
    "If $N_0 = N_{\\mathrm{HA}} + N_{\\mathrm{A}^-}$ is the number of titratable groups in solution, then the degree of dissociation $\\alpha$ can be defined:\n",
    "$\\alpha = \\frac{N_{\\mathrm{A}^-}}{N_0}.$\n",
    "\n",
    "In the constant pH method, the acceptance probability for a reaction is [1]:\n",
    "\n",
    "$ P_{\\mathrm{acc}} = \\mathrm{min}\\left(  1, \\exp(\\beta \\Delta E_\\mathrm{pot} \\pm \\ln_{10} (\\mathrm{pH - p}K) ) \\right) $\n",
    "\n",
    "and the proposal probability of a reaction is $P_\\text{acc}=\\frac{N_\\mathrm{HA}}{N0}$ for a dissociation and $P_\\text{acc}=\\frac{N_\\mathrm{A}}{N0}$ for an association reaction [1]. Here $\\Delta E_\\text{pot}$ is the potential energy change due to the reaction, while $\\text{pH - p}K$ is an input parameter composed by two terms, pH and $-\\mathrm{p}K$.\n",
    "The prefactor $\\pm 1$ defines the direction of the reaction ($+1$ dissociation, $-1$ association).\n",
    "When a dissociation move is attempted, the titratable molecule $\\mathrm{HA}$ is charged and a counterion $\\mathrm{H}^+$ is randomly placed into the simulation box, while when an association move is attempted, a $\\mathrm{A}^-$ is neutralized and a random counterion $\\mathrm{H}^+$ is removed from the cell.\n",
    "Be aware that in the constant pH method the system is coupled to an implicit pH bath. That especially means that the number of $\\mathrm{H}^+$ ions in the simulation box does not correspond to the chosen pH. This will lead to wrong screening effects when including electrostatic interactions in the system [1]. How to avoid these artifacts of the constant pH method, however, goes beyond the scope of this simple tutorial. We refer the reader to e.g. [1] for further details."
   ]
  },
  {
   "cell_type": "markdown",
   "metadata": {},
   "source": [
    "## 2 Setup\n",
    "We start by defining some important input parameters and setting the particles randomly inside the box:"
   ]
  },
  {
   "cell_type": "code",
   "execution_count": null,
   "metadata": {},
   "outputs": [],
   "source": [
    "import numpy as np\n",
    "import matplotlib.pyplot as plt\n",
    "plt.ion()\n",
    "\n",
    "import espressomd\n",
    "from espressomd import code_info\n",
    "from espressomd import analyze\n",
    "from espressomd import integrate\n",
    "from espressomd import reaction_ensemble\n",
    "\n",
    "# System parameters\n",
    "#############################################################\n",
    "box_l = 35\n",
    "\n",
    "# Integration parameters\n",
    "#############################################################\n",
    "system = espressomd.System(box_l=[box_l] * 3)\n",
    "system.set_random_state_PRNG()\n",
    "np.random.seed(seed=10)\n",
    "\n",
    "system.time_step = 0.02\n",
    "system.cell_system.skin = 0.4\n",
    "\n",
    "# Particle setup\n",
    "#############################################################\n",
    "# type 0 = HA\n",
    "# type 1 = A-\n",
    "# type 2 = H+\n",
    "\n",
    "N0 = 50  # number of titratable units\n",
    "K = 1e-4\n",
    "\n",
    "\n",
    "for i in range(N0):\n",
    "    system.part.add(id=i, pos=np.random.random(3) * system.box_l, type=1)\n",
    "for i in range(N0, 2 * N0):\n",
    "    system.part.add(id=i, pos=np.random.random(3) * system.box_l, type=2)\n"
   ]
  },
  {
   "cell_type": "markdown",
   "metadata": {},
   "source": [
    "The next step is to define the reaction system and the seed of the pseudo-random number generator which is used for the Monte-Carlo steps.\n",
    "Please note that the order in which species are written in the reactants and products lists is very important because, when a reaction is performed, the first species in the reactants list is replaced by the first species in the product lists, the second reactant species is replaced by the second product species, and so on. Moreover, if the reactant list has more species than the products list, reactant molecules in excess are deleted from the system, while if the products list has more species than the reactants list, product molecules in excess are created and randomly placed inside the simulation box. For example, reversing the order of products in our reaction (i.e. from  `product_types=[type_H, type_A]` to `product_types=[type_A, type_H]`), a neutral monomer would be positively charged and a negatively charged monovalent counter-ion would be randomly placed inside the cell. "
   ]
  },
  {
   "cell_type": "code",
   "execution_count": null,
   "metadata": {},
   "outputs": [],
   "source": [
    "RE = reaction_ensemble.ConstantpHEnsemble(\n",
    "        temperature=1, exclusion_radius=0, seed=77)\n",
    "\n",
    "\n",
    "RE.add_reaction(gamma=K, reactant_types=[0], reactant_coefficients=[1],\n",
    "                product_types=[1, 2], product_coefficients=[1, 1],\n",
    "                default_charges={0: 0, 1: -1, 2: +1})\n",
    "print(RE.get_status())"
   ]
  },
  {
   "cell_type": "markdown",
   "metadata": {},
   "source": [
    "Next we perform simulations at different pH values. The system must be equilibrated before taking samples."
   ]
  },
  {
   "cell_type": "code",
   "execution_count": null,
   "metadata": {},
   "outputs": [],
   "source": [
    "num_samples=30\n",
    "\n",
    "pHs=np.linspace(1,8,num=15)\n",
    "degrees_of_dissociation=[]\n",
    "std_dev_degree_of_dissociation=[]\n",
    "\n",
    "for pH in pHs:\n",
    "    print(\"pH is {:.1f}\".format(pH))\n",
    "    RE.constant_pH = pH\n",
    "    RE.reaction(2*N0) #warmup\n",
    "    numAs=[]\n",
    "    for i in range(num_samples):\n",
    "        RE.reaction(3*N0)\n",
    "        numAs.append(system.number_of_particles(type=1))\n",
    "    degrees_of_dissociation.append(np.mean(numAs)/N0)\n",
    "    std_dev_degree_of_dissociation.append(np.std(numAs,ddof=1)/N0)"
   ]
  },
  {
   "cell_type": "markdown",
   "metadata": {},
   "source": [
    "## 3 Results\n",
    "Finally we plot our results and compare it to the well-known result for an ideal reacting system. The errors in the simulation can be reduced by increasing `num_samples` taken at each pH.\n",
    "\n",
    "For simplicity, we will estimate the error of the dissociation constant using the standard error of the mean (SE) for $N$ _uncorrelated_ samples:\n",
    "\n",
    "\\begin{equation}\n",
    "    \\mathrm{SE}      = \\frac{\\sigma_N}{\\sqrt{N}},\n",
    "\\end{equation}\n",
    "\n",
    "where $\\sigma_N$ is the sample standard deviation, defined as:\n",
    "\n",
    "\\begin{equation}\n",
    "    \\sigma_N^2 = \\left\\langle \\alpha^2 - \\langle \\alpha\\rangle_N^2 \\right\\rangle_N\n",
    "\\end{equation}\n",
    "\n",
    "where $\\langle\\alpha\\rangle_N$ is the sample mean. The probability of finding the true mean $\\mu$ (estimated by $\\langle\\alpha\\rangle_N$) within two bounds at 95% is given by:\n",
    "\n",
    "\\begin{equation}\n",
    "    \\operatorname{Pr}\\left( \\langle\\alpha\\rangle_N -z\\cdot\\mathrm{SE} \\leq \\mu \\leq \\langle\\alpha\\rangle_N -z\\cdot\\mathrm{SE}\\right) = 0.95,\n",
    "\\end{equation}\n",
    "\n",
    "where $z \\approx 1.96$ is the two-sided confidence level for the normal distribution at 95%.\n",
    "\n",
    "Because our sample size $n$ is small, we will use the Bessel-corrected sample standard deviation $s$:\n",
    "\n",
    "\\begin{equation}\n",
    "    s = \\sqrt{\\frac{n}{n-1}\\left\\langle \\alpha^2 - \\langle \\alpha\\rangle_n^2 \\right\\rangle_n}\n",
    "\\end{equation}\n",
    "\n",
    "The standard error of the mean (SE) is estimated by $s_{\\bar\\alpha}$:\n",
    "\n",
    "\\begin{equation}\n",
    "    s_{\\bar\\alpha} = \\frac{s}{\\sqrt{n}}\n",
    "\\end{equation}\n",
    "\n",
    "The confidence interval is defined as:\n",
    "\n",
    "\\begin{equation}\n",
    "    \\mathrm{CI}_{95\\%} = \\langle\\alpha\\rangle_n \\pm z \\cdot s_{\\bar\\alpha}\n",
    "\\end{equation}"
   ]
  },
  {
   "cell_type": "code",
   "execution_count": null,
   "metadata": {},
   "outputs": [],
   "source": [
    "import scipy.stats\n",
    "def ideal_degree_of_dissociation(pH, pK):\n",
    "    return 1/(1+10**(pK-pH))\n",
    "\n",
    "z=scipy.stats.norm.interval(0.95, loc=0)[1]\n",
    "ci95=z*np.array(std_dev_degree_of_dissociation) / np.sqrt(num_samples)\n",
    "pK=-np.log10(K)\n",
    "plt.figure(figsize=(10, 6), dpi=80)\n",
    "plt.errorbar(pHs-pK, degrees_of_dissociation, ci95, label=r\"simulation\")\n",
    "plt.plot(pHs-pK, ideal_degree_of_dissociation(pHs, pK), label=r\"ideal\")\n",
    "plt.xlabel('$pH-pK$', fontsize=20)\n",
    "plt.ylabel(r'$\\alpha$', fontsize=20)\n",
    "plt.legend(fontsize=20)\n",
    "plt.show()"
   ]
  },
  {
   "cell_type": "markdown",
   "metadata": {},
   "source": [
    "## References\n",
    "\n",
    "[1] Landsgesell, Jonas, Christian Holm, and Jens Smiatek. Simulation of weak polyelectrolytes: a comparison between the constant pH and the reaction ensemble method. The European Physical Journal Special Topics 226.4 (2017): 725-736."
   ]
  }
 ],
 "metadata": {
  "kernelspec": {
   "display_name": "Python 3",
   "language": "python",
   "name": "python3"
  },
  "language_info": {
   "codemirror_mode": {
    "name": "ipython",
    "version": 3
   },
   "file_extension": ".py",
   "mimetype": "text/x-python",
   "name": "python",
   "nbconvert_exporter": "python",
   "pygments_lexer": "ipython3",
   "version": "3.6.8"
  }
 },
 "nbformat": 4,
 "nbformat_minor": 2
}
