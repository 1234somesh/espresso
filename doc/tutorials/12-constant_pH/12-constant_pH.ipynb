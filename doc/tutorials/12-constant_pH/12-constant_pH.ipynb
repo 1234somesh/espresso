{
 "cells": [
  {
   "cell_type": "markdown",
   "metadata": {},
   "source": [
    "## 1 Introduction\n",
    "\n",
    "This tutorial introduces the basic features for simulating titratable systems via the constant pH method.\n",
    "The constant pH method is one of the methods implemented for simulating systems with chemical reactions within the Reaction Ensemble module. It is a Monte-Carlo method designed to model an acid-base ionization reaction at a given (fixed) value of solution pH.\n",
    "\n",
    "We will consider a homogeneous aqueous solution of a titratable acidic species $\\mathrm{HA}$ that can dissociate in a reaction, that is characterized by the equilibrium constant $\\mathrm{p}K_A=-\\log_{10} K_A$\n",
    "$$\\mathrm{HA} \\Leftrightarrow \\mathrm{A}^- + \\mathrm{H}^+$$\n",
    "\n",
    "\n",
    "If $N_0 = N_{\\mathrm{HA}} + N_{\\mathrm{A}^-}$ is the number of titratable groups in solution, then we define the degree of dissociation $\\alpha$ as:\n",
    "\n",
    "$$\\alpha = \\dfrac{N_{\\mathrm{A}^-}}{N_0}.$$\n",
    "\n",
    "This is one of the key quantities that can be used to describe the acdi-base equilibrium. Usually, the goal of the simulation is to predict the value of $\\alpha$ under given conditions in a complex system with intearctions. In this tutorial, we will simulate only ideal systems (without intermolecular interactions) to show that in such case our simulations reproduce the well-known analytical solutions."
   ]
  },
  {
   "cell_type": "markdown",
   "metadata": {},
   "source": [
    "### 1.1 The Chemical Equilibrium and Reaction Constant\n",
    "\n",
    "The equilibrium reaction constant describes the chemical equilibrium of a given reaction. The values of equilibrium constants for various reactions can be found in tables. For the acid-base ionization reaction, the equilibrium constant is conventionally called the acidity constant, and it is defined as\n",
    "\\begin{equation}\n",
    "K_A = \\frac{a_{\\mathrm{H}^+} a_{\\mathrm{A}^-} } {a_{\\mathrm{HA}}}\n",
    "\\end{equation}\n",
    "where $a_i$ is the activity of species $i$. It is related to the chemical potential and to the concentration\n",
    "\\begin{equation}\n",
    "\\mu_i = k_{\\mathrm{B}}T \\ln a_i\n",
    "\\,,\\qquad\n",
    "a_i = \\frac{c_i \\gamma_i}{c^{\\ominus}}\n",
    "\\end{equation}\n",
    "where $\\gamma_i$ is the activity coefficient, and $c^{0}$ is the (arbitrary) reference cocnentration, often chosen to be the standard concentration, $c^0 = 1\\,\\mathrm{mol\\,dm^{-3}}$.\n",
    "Note that $K$ is a dimensionless quantity but its numerical value depends on the choice of $c^0$.\n",
    "For an ideal system, $\\gamma_i=0$ by definition, whereas for an interacting system $\\gamma_i$ is a non-trivial function of the interactions. Therefore, for an ideal system we can rewrite $K$ in terms of equilibrium concentrations\n",
    "\\begin{equation}\n",
    "K_A \\overset{\\mathrm{ideal}}{=} \\frac{c_{\\mathrm{H}^+} c_{\\mathrm{A}^-} } {c_{\\mathrm{HA}} c^{\\ominus}}\n",
    "\\end{equation}\n",
    "\n",
    "The ionization degree can also be expressed via a ratio of concentrations:\n",
    "\\begin{equation}\n",
    "\\alpha \n",
    "= \\frac{N_{\\mathrm{A}^-}}{N_0} \n",
    "= \\frac{N_{\\mathrm{A}^-}}{N_{\\mathrm{HA}} + N_{\\mathrm{A}^-}}\n",
    "= \\frac{c_{\\mathrm{A}^-}}{c_{\\mathrm{HA}}+c_{\\mathrm{A}^-}}\n",
    "= \\frac{c_{\\mathrm{A}^-}}{c_{0}}.\n",
    "\\end{equation}\n",
    "where $c_0=c_{\\mathrm{HA}}+c_{\\mathrm{A}^-}$ is the total concentration of titratable groups irrespective of their ionization state.\n",
    "Then, we can characterize the acid-base ionization equilibrium using the iniozation degree and pH, defined as\n",
    "\\begin{equation}\n",
    "\\mathrm{pH} = -\\log_{10} a_{\\mathrm{H^{+}}} \\overset{\\mathrm{ideal}}{=} -\\log_{10} (c_{\\mathrm{H^{+}}} / c^{\\ominus})\n",
    "\\end{equation}\n",
    "Substituting for the ionization degree and pH into the expression for $K_A$ we obtain the Henderson-Hasselbalch equation\n",
    "\\begin{equation}\n",
    "\\mathrm{pH}-\\mathrm{p}K_A = \\log_{10} \\frac{\\alpha}{1-\\alpha}\n",
    "\\end{equation}\n",
    "One important implication of the Henderson-Hasselbalch equation is that at a fixed pH value the ionization degree of an ideal acid is independent of concentration. Another important implication is that it does not depend on the absolute values of $\\mathrm{p}K_A$ or $\\mathrm{pH}$, but only on the difference, $\\mathrm{pH}-\\mathrm{p}K_A$."
   ]
  },
  {
   "cell_type": "markdown",
   "metadata": {},
   "source": [
    "### 1.2 Constant pH Method\n",
    "\n",
    "The constant pH method is designed to simulate an acid-base ionization reaction at a given pH. It assumes that the simulated system is coupled to an implicit reservoir of $\\mathrm{H^+}$ ions but \n",
    "exchange of ions with this reservoir is not explicitly simulated. Therefore, the number of $\\mathrm{H}^+$ ions in the simulation box does not correspond to the chosen pH. This may lead to artifacts when simulating interacting systems, especially at high of low pH values. Discussion of these artifacts is beyond the scope of this tutorial (see e.g. Ref.[1] for further details).\n",
    "\n",
    "In Espresso, the forward step of the ionization reaction (from left to right) is implemented by \n",
    "changing the chemical identity (particle type) of a randomly selected $\\mathrm{HA}$ particle to $\\mathrm{A}^-$, and inserting another particle that represents $\\mathrm{H}^+$. In the reverse direction (from right to left), the chemical identity (particle type) of a randomly selected $\\mathrm{A}^{-}$ is changed to $\\mathrm{HA}$, and a randomly selected $\\mathrm{H}^+$ is deleted from the simulation box. The probability of proposing the  forward reaction step is $P_\\text{prop}=N_\\mathrm{HA}/N_0$, and probability of proposing the reseverse step is $P_\\text{prop}=N_\\mathrm{A}/N_0$  [1]. The trial move is accepted with the acceptance probability\n",
    "\n",
    "$$ P_{\\mathrm{acc}} = \\operatorname{min}\\left(1, \\exp(\\beta \\Delta E_\\mathrm{pot} \\pm \\ln_{10} (\\mathrm{pH - p}K_A) ) \\right)$$\n",
    "\n",
    "Here $\\Delta E_\\text{pot}$ is the potential energy change due to the reaction, while $\\text{pH - p}K$ is an input parameter. \n",
    "The signs $\\pm 1$ correspond to the forward and reverse direction of the ionization reaction, respectively. \n",
    "\n"
   ]
  },
  {
   "cell_type": "markdown",
   "metadata": {},
   "source": [
    "## 2 Setup\n",
    "We start by creating a system instance with an arbitrary box length of 35 $\\sigma$ and creating `N0` titratable units (in the associated state)"
   ]
  },
  {
   "cell_type": "code",
   "execution_count": 1,
   "metadata": {},
   "outputs": [],
   "source": [
    "import numpy as np\n",
    "import matplotlib.pyplot as plt\n",
    "plt.ion()\n",
    "\n",
    "import espressomd\n",
    "from espressomd import reaction_ensemble\n",
    "\n",
    "# System parameters\n",
    "#############################################################\n",
    "box_l = 35 # box size is arbitrary (see Henderson-Hasselbalch equation)\n",
    "type_HA = 0\n",
    "type_A = 1\n",
    "type_H = 2\n",
    "\n",
    "N0 = 10  # number of titratable units in the box\n",
    "\n",
    "# Integration parameters\n",
    "#############################################################\n",
    "system = espressomd.System(box_l=[box_l] * 3)\n",
    "system.set_random_state_PRNG()\n",
    "np.random.seed(seed=10)\n",
    "\n",
    "for i in range(N0):\n",
    "    system.part.add(pos=np.random.random(3) * system.box_l, type=type_HA)"
   ]
  },
  {
   "cell_type": "markdown",
   "metadata": {},
   "source": [
    "Next we define some important constants and add particles to the system, like the dissociation constant of the acid. We choose $\\mathrm{p}K=4$ which is close to the value for (poly)acrylic acid."
   ]
  },
  {
   "cell_type": "code",
   "execution_count": null,
   "metadata": {},
   "outputs": [],
   "source": [
    "K = 1e-4\n",
    "pK = -np.log10(K)"
   ]
  },
  {
   "cell_type": "markdown",
   "metadata": {},
   "source": [
    "The next step is to define the reaction system and the seed of the pseudo-random number generator which is used for the Monte-Carlo steps.\n",
    "Please note that the order in which species are written in the reactants and products lists is very important because, when a reaction is performed, the first species in the reactants list is replaced by the first species in the product lists, the second reactant species is replaced by the second product species, and so on. Moreover, if the reactant list has more species than the products list, reactant molecules in excess are deleted from the system, while if the products list has more species than the reactants list, product molecules in excess are created and randomly placed inside the simulation box. For example, reversing the order of products in our reaction (i.e. from  `product_types=[type_H, type_A]` to `product_types=[type_A, type_H]`), a neutral monomer would be positively charged and a negatively charged monovalent counterion would be randomly placed inside the cell.\n",
    "If an interacting system is to be simulated the concept of an exclusion radius is important in order to ensure the sability of the molecular dynamics integrator:\n",
    "If there are diverging interaction potentials it may happen that a Monte Carlo Move is accepted which results in forces which are too big for the chosen timestep of the integrator. Therefore, those moves have to be prevented via the exclusion radius.\n",
    "Since we deal with a noninteracting system we set the exclusion radius to zero.\n",
    "We also assign charges to each type because in general the charge will play a role in simulations with electrostatic interactions. As an easy task for the interested reader we propose to adapt the tutorial to account for electrostatic interactions. Therefore we keep these values for the needed charge assignments in place, although they are not needed for an ideal system."
   ]
  },
  {
   "cell_type": "code",
   "execution_count": null,
   "metadata": {},
   "outputs": [],
   "source": [
    "RE = reaction_ensemble.ConstantpHEnsemble(\n",
    "        temperature=1, exclusion_radius=0.0, seed=77)\n",
    "\n",
    "RE.add_reaction(gamma=K, reactant_types=[type_HA], reactant_coefficients=[1],\n",
    "                product_types=[type_A, type_H], product_coefficients=[1, 1],\n",
    "                default_charges={type_HA: 0, type_A: -1, type_H: +1})\n",
    "print(RE.get_status())"
   ]
  },
  {
   "cell_type": "markdown",
   "metadata": {},
   "source": [
    "Next we perform simulations at different pH values. The system must be equilibrated at each pH before taking samples.\n",
    "Calling `RE.reaction(X)` attempts in total `X` reactions (in back and forward directions).\n",
    "We also plot the acceptance rate for the dissociation reaction and the association reaction for the first pH value which we set."
   ]
  },
  {
   "cell_type": "code",
   "execution_count": null,
   "metadata": {},
   "outputs": [],
   "source": [
    "num_samples = 100\n",
    "\n",
    "pHs = np.linspace(1, 8, num=15)\n",
    "degrees_of_dissociation = []\n",
    "std_dev_degree_of_dissociation = []\n",
    "histograms = []\n",
    "histogram_edges = range(0,N0+1)\n",
    "\n",
    "for pH in pHs:\n",
    "    print(\"pH is {:.1f}\".format(pH))\n",
    "    RE.constant_pH = pH\n",
    "    RE.reaction(4 * N0) # equilibration to the new pH\n",
    "    numAs = []\n",
    "    for i in range(num_samples):\n",
    "        RE.reaction(N0 + 1)\n",
    "        numAs.append(system.number_of_particles(type=type_A))\n",
    "    degrees_of_dissociation.append(np.mean(numAs) / N0)\n",
    "    std_dev_degree_of_dissociation.append(np.std(numAs, ddof=1) / N0)\n",
    "    print(\"occurred particle numbers of type A \", sorted(set(numAs)))\n",
    "    histogram = np.bincount(np.array(numAs).astype(int), minlength=N0 + 1)\n",
    "    histograms.append(histogram / float(len(numAs)))\n",
    "    if(abs(pH - 1.0) < 1e-4):\n",
    "        print(\"acceptance rate dissociation\", RE.get_acceptance_rate_reaction(0))\n",
    "        print(\"acceptance rate association\", RE.get_acceptance_rate_reaction(1))"
   ]
  },
  {
   "cell_type": "markdown",
   "metadata": {},
   "source": [
    "## 3 Results\n",
    "Finally we plot our results and compare it to the well-known result for an ideal reacting system $\\alpha(\\mathrm{pH}, \\mathrm{p}K)$ presented above.\n",
    "### 3.1 Statistical Uncertainty\n",
    "\n",
    "To quantify the simulation uncertainty, we will add error bars to the calculated data points.\n",
    "Since the underlying probability distribution of our data does not follow a well-known function, such as the Gaussian,\n",
    "Binomial, exponential or Poisson distributions, there is no literature to provide us with an analytical form of the\n",
    "confidence interval. Sometimes the analytical form of the underlying probability distribution is also unknown.\n",
    "However, a _statistic_ calculated from a random sample often has a probability distribution different from the\n",
    "sample probability distribution. We will use that to our advantage.\n",
    "\n",
    "In our case, the values of $\\alpha$ are drawn from a random distribution $X(N_{\\mathrm{A}}, N_{\\mathrm{0}})$ with _parameters_ $N_{\\mathrm{A}}$, $N_{\\mathrm{0}}$ and moments $\\mu_\\alpha = \\operatorname{E}(X)$ and $\\sigma_\\alpha = E([E(X)-X]^2)$.\n",
    "The average $\\bar{\\alpha} = \\frac{1}{n}\\sum_{i=1}^n \\alpha_i$ and variance $\\sigma_n^2 = \\frac{1}{n}\\sum_{i=1}^n (\\alpha_i - \\bar{\\alpha})^2$ of a sample of $n$ independent values $\\alpha_i$ are themselves random variables,\n",
    "but they do not have the same probability distribution as $X$. They are called _statistics_ because they are calculated\n",
    "from a sample of the population, and can be used as _estimators_ of the moments $\\mu_\\alpha$ and $\\sigma_\\alpha$.\n",
    "\n",
    "According to the Central Limit Theorem (CLT), the random variable $\\sqrt{n}(\\bar{\\alpha} - \\mu_\\alpha)$ has a probability distribution which converges for large sample sizes $n$ to the probability distribution $\\mathcal{N}(0, \\sigma_n^2)$. This statement can be rewritten as:\n",
    "\n",
    "\\begin{equation}\n",
    "    z = \\frac{\\bar{\\alpha} - \\mu_\\alpha}{\\sigma_n} \\sqrt{n} \\sim \\mathcal{N}(0,1)\n",
    "\\end{equation}\n",
    "\n",
    "in the limit of a large $n$, with $z$ the two-tail $z$-score of the standard Normal distribution.\n",
    "The rate of convergence depends on the underlying probability distribution $X$. For this tutorial,\n",
    "15'000'000 data points were collected and the distribution of $z$ was very close to Normal for $n=100$.\n",
    "\n",
    "The 95% probability of finding the population mean $\\mu$ within two boundaries $w^+$ and $w^-$ _over repeated experiments_ is given by:\n",
    "\n",
    "\\begin{equation}\n",
    "    \\operatorname{Pr}\\left( w^- \\leq \\mu \\leq w^+\\right) = 0.95\n",
    "\\end{equation}\n",
    "\n",
    "For the standard Normal distribution, by definition $\\mu = 0$ and $w^\\pm = \\pm z_{1-0.95/2}$ with $z_{1-0.95/2} \\approx 1.96$, so for the distribution $\\sqrt{n}(\\bar{\\alpha} - \\mu_\\alpha) / \\sigma_n$:\n",
    "\n",
    "\\begin{equation}\n",
    "    w^\\pm = \\bar{\\alpha} \\pm z_{1-0.95/2} \\cdot \\frac{\\sigma_n}{\\sqrt{n}}\n",
    "\\end{equation}\n",
    "\n",
    "To plot the simulated curve with error bars, we need to estimate three parameters: $\\mu_\\alpha$ and $w^\\pm$.\n",
    "The accuracy of our estimation will depend on the sample size `num_samples`. The larger it is, the more\n",
    "$\\sqrt{n}(\\bar{\\alpha} - \\mu_\\alpha)$ converges to $\\mathcal{N}(0, \\sigma_n^2)$ and the smaller the $w^\\pm$ interval gets.\n",
    "\n",
    "The sample mean $\\bar{\\alpha}$ is already an unbiased estimator of $\\mu_\\alpha$.\n",
    "However to estimate $w^\\pm$ we need to estimate $\\sigma_N$, for which the sample standard deviation $s_n$ is a biased estimator. We can account for some of the bias using Bessel's correction:\n",
    "\n",
    "\\begin{equation}\n",
    "    s_{n-1}^2 = \\frac{1}{n-1}\\sum_{i=1}^n (\\alpha_i - \\bar{\\alpha})^2\n",
    "\\end{equation}\n",
    "\n",
    "This correction is required because the sample variance $s_n^2$ is evaluated against $\\bar{\\alpha}$ instead of the\n",
    "population mean $\\mu_\\alpha$. $s_{n-1}^2$ is an unbiased estimator of $\\sigma_n^2$, however taking the square root\n",
    "introduces a new source of bias due to Jensen's inequality. Different approaches exist to correct for this bias,\n",
    "but since it is small, it is common to neglect it. The quantity $w^\\pm$ is estimated by a statistic called the 95% Confidence Interval:\n",
    "\n",
    "\\begin{equation}\n",
    "    \\mathrm{CI}_{95\\%} = \\bar{\\alpha} \\pm z_{1-0.95/2} \\cdot \\frac{s_{n-1}}{\\sqrt{n}}\n",
    "\\end{equation}\n",
    "\n",
    "We will use that estimate to plot the error bars."
   ]
  },
  {
   "cell_type": "code",
   "execution_count": null,
   "metadata": {},
   "outputs": [],
   "source": [
    "import scipy.stats\n",
    "def ideal_degree_of_dissociation(pH, pK):\n",
    "    return 1. / (1 + 10**(pK - pH))\n",
    "\n",
    "z = scipy.stats.norm.interval(1 - 0.05 / 2, loc=0)[1] # two-tail z-score at 95%\n",
    "ci95 = z * np.array(std_dev_degree_of_dissociation) / np.sqrt(num_samples)\n",
    "pK = -np.log10(K)\n",
    "plt.figure(figsize=(10, 6), dpi=80)\n",
    "plt.errorbar(pHs - pK, degrees_of_dissociation, ci95, label=r\"simulation\")\n",
    "pHs2 = np.linspace(0, 8, num=50)\n",
    "plt.plot(pHs2 - pK, ideal_degree_of_dissociation(pHs2, pK), label=r\"ideal\")\n",
    "plt.xlabel('$pH-pK$', fontsize=20)\n",
    "plt.ylabel(r'$\\alpha$', fontsize=20)\n",
    "plt.legend(fontsize=20)\n",
    "plt.show()"
   ]
  },
  {
   "cell_type": "markdown",
   "metadata": {},
   "source": [
    "We now compare the relative frequencies $h$ of observed numbers of particles of type A to the probabilities $p$ which are expected in the constant pH ensemble for a non-interacting system [1]:\n",
    "\n",
    "\\begin{equation}\n",
    "    p(N_\\mathrm{A})=\\frac{{N_0 \\choose N_\\mathrm{A}} 10^{(\\mathrm{pH-p}K)N_\\mathrm{A}}}\n",
    "        {\\sum_{N=0}^{N_0} {N_0 \\choose N} 10^{(\\mathrm{pH}-\\mathrm{p}K)N}}\n",
    "\\end{equation}"
   ]
  },
  {
   "cell_type": "code",
   "execution_count": null,
   "metadata": {},
   "outputs": [],
   "source": [
    "import scipy.special\n",
    "def constant_pH_numA_pmf(numA, pH, pK, N0):\n",
    "        all_NAs = range(N0+1)\n",
    "        return scipy.special.binom(N0, numA) * 10.0**((pH - pK) * numA) / \\\n",
    "            sum(scipy.special.binom(N0, i) * 10**((pH - pK) * i) for i in all_NAs)\n",
    "\n",
    "NAs = range(N0 + 1)\n",
    "\n",
    "from IPython import display\n",
    "import time\n",
    "\n",
    "for index_pH in range(pHs.shape[0]):\n",
    "    fig, ax = plt.subplots(1, 1)\n",
    "    pH = pHs[index_pH]\n",
    "    ax.plot(NAs, constant_pH_numA_pmf(NAs, pH, pK, N0), 'ro', ms=8, mec='r', label=\"Theory pH \"+str(pH))\n",
    "    ax.vlines(NAs, 0, constant_pH_numA_pmf(NAs, pH, pK, N0), colors='r', lw=4)\n",
    "    ax.plot(histogram_edges, histograms[index_pH], 'bo', ms=8, mec='b',\n",
    "            label=\"Simulation pH \" + str(pH))\n",
    "    ax.vlines(histogram_edges, 0, histograms[index_pH], colors='b', lw=1)\n",
    "    ax.legend()\n",
    "    ax.set_xlabel('$N_\\\\mathrm{A}}$')\n",
    "    ax.set_ylabel('$p(N_\\mathrm{A})$ or $h(N_\\mathrm{A})$')\n",
    "    display.clear_output(wait=True)\n",
    "    display.display(plt.gcf())\n",
    "    time.sleep(2.0)"
   ]
  },
  {
   "cell_type": "markdown",
   "metadata": {},
   "source": [
    "## References\n",
    "\n",
    "[1] Landsgesell, Jonas, Christian Holm, and Jens Smiatek. Simulation of weak polyelectrolytes: a comparison between the constant pH and the reaction ensemble method. The European Physical Journal Special Topics 226.4 (2017): 725-736."
   ]
  }
 ],
 "metadata": {
  "kernelspec": {
   "display_name": "Python 3",
   "language": "python",
   "name": "python3"
  },
  "language_info": {
   "codemirror_mode": {
    "name": "ipython",
    "version": 3
   },
   "file_extension": ".py",
   "mimetype": "text/x-python",
   "name": "python",
   "nbconvert_exporter": "python",
   "pygments_lexer": "ipython3",
   "version": "3.6.5"
  }
 },
 "nbformat": 4,
 "nbformat_minor": 2
}
