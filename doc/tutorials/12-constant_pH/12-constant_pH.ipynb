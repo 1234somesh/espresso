{
 "cells": [
  {
   "cell_type": "markdown",
   "metadata": {},
   "source": [
    "## 1 Introduction\n",
    "\n",
    "This tutorial introduces the basic features for simulating titratable systems via the constant pH method.\n",
    "The constant pH method is a Monte-Carlo method which models reactions by randomly adding a charged particle\n",
    "in the system and adding a charge of opposite sign on a neutral particle, or removing a charged particle and\n",
    "neutralizing a particle of the opposite charge.\n",
    "\n",
    "We will consider a homogeneous aqueous solution of a titratable acidic species $\\mathrm{HA}$ that can dissociate as follows\n",
    "$\\mathrm{HA} \\Leftrightarrow \\mathrm{A}^- + \\mathrm{H}^+$\n",
    "\n",
    "If $N_0 = N_{\\mathrm{HA}} + N_{\\mathrm{A}^-}$ is the number of titratable groups in solution, then the degree of dissociation $\\alpha$ can be defined:\n",
    "$\\alpha = \\dfrac{N_{\\mathrm{A}^-}}{N_0}.$\n",
    "\n",
    "### 1.1 Reaction Constants\n",
    "The reaction constant describes the chemical equilibrium and therefore equilibrium concentrations:\n",
    "\n",
    "\\begin{equation}\n",
    "K = \\frac{[\\mathrm{H}^+][\\mathrm{A}^-]}{[\\mathrm{HA}]} \\frac{\\gamma_{\\mathrm{H}^+}\\gamma_{\\mathrm{A}^-}}{\\gamma_{\\mathrm{HA}}}=\\exp(-\\beta \\Delta G^0)\n",
    "\\end{equation}\n",
    "\n",
    "with $[\\mathrm{H}^+]=\\frac{c_{\\mathrm{H}^+}}{c^0}$ the concencentration divided by the standard concentration (typically one mol per liter) and $\\gamma_{\\mathrm{H}^+}$ the activity coefficient of species $\\mathrm{H}^+$.\n",
    "For an ideal system the activity coefficients are unity and $[\\mathrm{H}^+] = 10^{-\\mathrm{pH}}$. In an interacting system the activity coefficients of the species become unity for infinite dilution.\n",
    "\n",
    "The degree of dissociation can also be expressed via a ratio of concentrations:\n",
    "\n",
    "\\begin{equation}\n",
    "\\alpha = \\frac{N_{\\mathrm{A}^-}}{N_0} \\cdot = \\frac{N_{\\mathrm{A}^-}}{N_{\\mathrm{HA}} + N_{\\mathrm{A}^-}} = \\frac{[\\mathrm{A}^-]}{[\\mathrm{HA}]+[\\mathrm{A}^-]}.\n",
    "\\end{equation}\n",
    "\n",
    "Multiplying both the numerator and denominator by $\\dfrac{[\\mathrm{H}^+]}{[\\mathrm{HA}]}$ leads to:\n",
    "\n",
    "\\begin{equation}\n",
    "\\alpha = \\frac{\\frac{[\\mathrm{H}^+][\\mathrm{A}^-]}{[\\mathrm{HA}]}}{\\frac{[\\mathrm{H}^+][\\mathrm{HA}]}{[\\mathrm{HA}]}+\\frac{[\\mathrm{H}^+][\\mathrm{A}^-]}{[\\mathrm{HA}]}} = \\frac{K}{[\\mathrm{H}^+] + K}.\n",
    "\\end{equation}\n",
    "\n",
    "Since $K = 10^{-\\mathrm{p}K}$ we can express $\\alpha$ as a simple function of the pH and $\\mathrm{p}K$:\n",
    "\n",
    "\\begin{equation}\n",
    "\\alpha(pH, pK)= \\frac{1}{\\frac{[\\mathrm{H}^+]}{K} + 1} = \\frac{1}{\\frac{10^{-\\mathrm{pH}}}{10^{-\\mathrm{p}K}} + 1} = \\frac{1}{10^{\\mathrm{p}K-\\mathrm{pH}} + 1}.\n",
    "\\end{equation}\n",
    "\n",
    "### 1.2 Constant pH Method\n",
    "In the constant pH method, the acceptance probability for a reaction is [1]:\n",
    "\n",
    "$ P_{\\mathrm{acc}} = \\operatorname{min}\\left(1, \\exp(\\beta \\Delta E_\\mathrm{pot} \\pm \\ln_{10} (\\mathrm{pH - p}K) ) \\right)$\n",
    "\n",
    "and the proposal probability of a reaction is $P_\\text{acc}=\\frac{N_\\mathrm{HA}}{N_0}$ for a dissociation and $P_\\text{acc}=\\frac{N_\\mathrm{A}}{N_0}$ for an association reaction [1]. Here $\\Delta E_\\text{pot}$ is the potential energy change due to the reaction, while $\\text{pH - p}K$ is an input parameter composed by two terms, pH and $-\\mathrm{p}K$ (the logarithm of the acid dissociation constant $K$).\n",
    "The prefactor $\\pm 1$ defines the direction of the reaction ($+1$ dissociation, $-1$ association).\n",
    "When a dissociation move is attempted, a titratable molecule $\\mathrm{HA}$ is given a negative charge and a counterion $\\mathrm{H}^+$ is randomly placed into the simulation box, while when an association move is attempted, a $\\mathrm{A}^-$ is neutralized and a random counterion $\\mathrm{H}^+$ is removed from the cell.\n",
    "Be aware that in the constant pH method the system is coupled to an implicit pH bath. That especially means that the number of $\\mathrm{H}^+$ ions in the simulation box does not correspond to the chosen pH. This will lead to wrong screening effects when including electrostatic interactions in the system [1]. How to avoid these artifacts of the constant pH method, however, goes beyond the scope of this simple tutorial. We refer the reader to e.g. [1] for further details."
   ]
  },
  {
   "cell_type": "markdown",
   "metadata": {},
   "source": [
    "## 2 Setup\n",
    "We start by creating a system instance with an arbitrary box length of 35 $\\sigma$ and creating `N0` titratable units (in the associated state)"
   ]
  },
  {
   "cell_type": "code",
   "execution_count": null,
   "metadata": {},
   "outputs": [],
   "source": [
    "import numpy as np\n",
    "import matplotlib.pyplot as plt\n",
    "plt.ion()\n",
    "\n",
    "import espressomd\n",
    "from espressomd import code_info\n",
    "from espressomd import analyze\n",
    "from espressomd import integrate\n",
    "from espressomd import reaction_ensemble\n",
    "\n",
    "# System parameters\n",
    "#############################################################\n",
    "box_l = 35 # in units of sigma\n",
    "\n",
    "# Integration parameters\n",
    "#############################################################\n",
    "system = espressomd.System(box_l=[box_l] * 3)\n",
    "system.set_random_state_PRNG()\n",
    "np.random.seed(seed=10)\n",
    "\n",
    "type_HA = 0\n",
    "type_A = 1\n",
    "type_H = 2\n",
    "\n",
    "N0 = 10  # number of titratable units in the box\n",
    "\n",
    "for i in range(N0):\n",
    "    system.part.add(pos=np.random.random(3) * system.box_l, type=type_HA)"
   ]
  },
  {
   "cell_type": "markdown",
   "metadata": {},
   "source": [
    "Next we define some important constants and add particles to the system, like the dissociation constant of the acid. We choose p$K$=4 which is close to the value for (poly)acrylic acid."
   ]
  },
  {
   "cell_type": "code",
   "execution_count": null,
   "metadata": {},
   "outputs": [],
   "source": [
    "K = 1e-4\n",
    "pK = -np.log10(K)"
   ]
  },
  {
   "cell_type": "markdown",
   "metadata": {},
   "source": [
    "The next step is to define the reaction system and the seed of the pseudo-random number generator which is used for the Monte-Carlo steps.\n",
    "Please note that the order in which species are written in the reactants and products lists is very important because, when a reaction is performed, the first species in the reactants list is replaced by the first species in the product lists, the second reactant species is replaced by the second product species, and so on. Moreover, if the reactant list has more species than the products list, reactant molecules in excess are deleted from the system, while if the products list has more species than the reactants list, product molecules in excess are created and randomly placed inside the simulation box. For example, reversing the order of products in our reaction (i.e. from  `product_types=[type_H, type_A]` to `product_types=[type_A, type_H]`), a neutral monomer would be positively charged and a negatively charged monovalent counterion would be randomly placed inside the cell.\n",
    "If an interacting system is to be simulated the concept of an exclusion radius is important in order to ensure the sability of the molecular dynamics integrator:\n",
    "If there are diverging interaction potentials it may happen that a Monte Carlo Move is accepted which results in forces which are too big for the chosen timestep of the integrator. Therefore, those moves have to be prevented via the exclusion radius.\n",
    "Since we deal with a noninteracting system we set the exclusion radius to zero.\n",
    "We also assign charges to each type because in general the charge will play a role in simulations with electrostatic interactions. As an easy task for the interested reader we propose to adapt the tutorial to account for electrostatic interactions. Therefore we keep these values for the needed charge assignments in place, although they are not needed for an ideal system."
   ]
  },
  {
   "cell_type": "code",
   "execution_count": null,
   "metadata": {},
   "outputs": [],
   "source": [
    "RE = reaction_ensemble.ConstantpHEnsemble(\n",
    "        temperature=1, exclusion_radius=0.0, seed=77)\n",
    "\n",
    "RE.add_reaction(gamma=K, reactant_types=[type_HA], reactant_coefficients=[1],\n",
    "                product_types=[type_A, type_H], product_coefficients=[1, 1],\n",
    "                default_charges={type_HA: 0, type_A: -1, type_H: +1})\n",
    "print(RE.get_status())"
   ]
  },
  {
   "cell_type": "markdown",
   "metadata": {},
   "source": [
    "Next we perform simulations at different pH values. The system must be equilibrated at each pH before taking samples.\n",
    "Calling `RE.reaction(X)` attempts in total `X` reactions (in back and forward direction).\n",
    "We also plot the acceptance rate for the dissociation reaction and the association reaction for the first pH value which we set."
   ]
  },
  {
   "cell_type": "code",
   "execution_count": null,
   "metadata": {},
   "outputs": [],
   "source": [
    "num_samples=100\n",
    "\n",
    "pHs = np.linspace(1, 8, num=15)\n",
    "degrees_of_dissociation = []\n",
    "std_dev_degree_of_dissociation = []\n",
    "histograms = []\n",
    "histogram_edges = range(0,N0+1)\n",
    "\n",
    "for pH in pHs:\n",
    "    print(\"pH is {:.1f}\".format(pH))\n",
    "    RE.constant_pH = pH\n",
    "    RE.reaction(4 * N0) # equilibration to the new pH\n",
    "    numAs = []\n",
    "    for i in range(num_samples):\n",
    "        RE.reaction(N0+1)\n",
    "        numAs.append(system.number_of_particles(type=type_A))\n",
    "    degrees_of_dissociation.append(np.mean(numAs) / N0)\n",
    "    std_dev_degree_of_dissociation.append(np.std(numAs, ddof=1) / N0)\n",
    "    print(\"occurred particle numbers of type A \", sorted(set(numAs)))\n",
    "    histogram = np.bincount(np.array(numAs).astype(int), minlength=N0 + 1)\n",
    "    histograms.append(histogram / float(len(numAs)))\n",
    "    if(abs(pH-1.0)<1e-4):\n",
    "        print(\"acceptance rate dissociation\", RE.get_acceptance_rate_reaction(0) )\n",
    "        print(\"acceptance rate association\", RE.get_acceptance_rate_reaction(1) )"
   ]
  },
  {
   "cell_type": "markdown",
   "metadata": {},
   "source": [
    "## 3 Results\n",
    "Finally we plot our results and compare it to the well-known result for an ideal reacting system $\\alpha(pH, pK)$ presented above.\n",
    "### 3.1 Statistical Uncertainty\n",
    "The numerical errors in the simulation can be reduced by increasing `num_samples` taken at each pH. To quantify the simulation uncertainty, we will add error bars to the calculated data points. For simplicity, we will estimate the error of the degree of dissociation using the standard error of the mean (SE) for $N$ _uncorrelated_ samples:\n",
    "\n",
    "\\begin{equation}\n",
    "    \\mathrm{SE}      = \\frac{\\sigma_N}{\\sqrt{N}},\n",
    "\\end{equation}\n",
    "\n",
    "where $\\sigma_N$ is the sample standard deviation, defined as:\n",
    "\n",
    "\\begin{equation}\n",
    "    \\sigma_N^2 = \\left\\langle \\alpha^2 - \\langle \\alpha\\rangle_N^2 \\right\\rangle_N\n",
    "\\end{equation}\n",
    "\n",
    "where $\\langle\\alpha\\rangle_N$ is the sample mean. The probability of finding the true mean $\\mu$ (estimated by $\\langle\\alpha\\rangle_N$) within two bounds at 95% is given by:\n",
    "\n",
    "\\begin{equation}\n",
    "    \\operatorname{Pr}\\left( \\langle\\alpha\\rangle_N -z\\cdot\\mathrm{SE} \\leq \\mu \\leq \\langle\\alpha\\rangle_N -z\\cdot\\mathrm{SE}\\right) = 0.95,\n",
    "\\end{equation}\n",
    "\n",
    "where $z \\approx 1.96$ is the two-sided confidence level for the normal distribution at 95%.\n",
    "\n",
    "Because our sample size $n$ is small, we will use the Bessel-corrected sample standard deviation $s$:\n",
    "\n",
    "\\begin{equation}\n",
    "    s = \\sqrt{\\frac{n}{n-1}\\left\\langle \\alpha^2 - \\langle \\alpha\\rangle_n^2 \\right\\rangle_n}\n",
    "\\end{equation}\n",
    "\n",
    "The standard error of the mean (SE) is estimated by $s_{\\bar\\alpha}$:\n",
    "\n",
    "\\begin{equation}\n",
    "    s_{\\bar\\alpha} = \\frac{s}{\\sqrt{n}}\n",
    "\\end{equation}\n",
    "\n",
    "The confidence interval is defined as:\n",
    "\n",
    "\\begin{equation}\n",
    "    \\mathrm{CI}_{95\\%} = \\langle\\alpha\\rangle_n \\pm z \\cdot s_{\\bar\\alpha}\n",
    "\\end{equation}"
   ]
  },
  {
   "cell_type": "code",
   "execution_count": null,
   "metadata": {},
   "outputs": [],
   "source": [
    "import scipy.stats\n",
    "def ideal_degree_of_dissociation(pH, pK):\n",
    "    return 1. / (1 + 10**(pK - pH))\n",
    "\n",
    "z = scipy.stats.norm.interval(0.95, loc=0)[1]\n",
    "ci95 = z * np.array(std_dev_degree_of_dissociation) / np.sqrt(num_samples)\n",
    "pK = -np.log10(K)\n",
    "plt.figure(figsize=(10, 6), dpi=80)\n",
    "plt.errorbar(pHs - pK, degrees_of_dissociation, ci95, label=r\"simulation\")\n",
    "pHs2 = np.linspace(0, 8, num=50)\n",
    "plt.plot(pHs2 - pK, ideal_degree_of_dissociation(pHs2, pK), label=r\"ideal\")\n",
    "plt.xlabel('$pH-pK$', fontsize=20)\n",
    "plt.ylabel(r'$\\alpha$', fontsize=20)\n",
    "plt.legend(fontsize=20)\n",
    "plt.show()"
   ]
  },
  {
   "cell_type": "markdown",
   "metadata": {},
   "source": [
    "We now compare the relative frequencies $h$ of observed numbers of particles of type A to the probabilities $p$ which are expected in the constant pH ensemble for a non-interacting system [1]:\n",
    "\n",
    "\\begin{equation}\n",
    "    p(N_\\mathrm{A})=\\frac{{N_0 \\choose N_\\mathrm{A}} 10^{(\\mathrm{pH-p}K)N_\\mathrm{A}}}\n",
    "        {\\sum_{N_\\mathrm{A}=0}^{N_0} {N_0 \\choose N_\\mathrm{A}} 10^{(\\mathrm{pH}-\\mathrm{p}K)N_\\mathrm{A}}}\n",
    "\\end{equation}"
   ]
  },
  {
   "cell_type": "code",
   "execution_count": null,
   "metadata": {},
   "outputs": [],
   "source": [
    "import scipy.special\n",
    "def constant_pH_numA_pmf(numA, pH, pK, N0):\n",
    "        all_NAs = range(N0+1)\n",
    "        return scipy.special.binom(N0, numA) * 10.0**((pH - pK) * numA) / \\\n",
    "            sum(scipy.special.binom(N0, i) * 10**((pH - pK) * i) for i in all_NAs)\n",
    "\n",
    "NAs = range(N0 + 1)\n",
    "\n",
    "from IPython import display\n",
    "import time\n",
    "\n",
    "for index_pH in range(pHs.shape[0]):\n",
    "    fig, ax = plt.subplots(1, 1)\n",
    "    pH = pHs[index_pH]\n",
    "    ax.plot(NAs, constant_pH_numA_pmf(NAs, pH, pK, N0), 'ro', ms=8, mec='r', label=\"Theory pH \"+str(pH))\n",
    "    ax.vlines(NAs, 0, constant_pH_numA_pmf(NAs, pH, pK, N0), colors='r', lw=4)\n",
    "    ax.plot(histogram_edges, histograms[index_pH], 'bo', ms=8, mec='b'\n",
    "            , label=\"Simulation pH \"+str(pH))\n",
    "    ax.vlines(histogram_edges, 0, histograms[index_pH], colors='b', lw=1)\n",
    "    ax.legend()\n",
    "    ax.set_xlabel('$N_\\\\mathrm{A}}$')\n",
    "    ax.set_ylabel('$p(N_\\mathrm{A})$ or $h(N_\\mathrm{A})$')\n",
    "    display.clear_output(wait=True)\n",
    "    display.display(plt.gcf())\n",
    "    time.sleep(2.0)"
   ]
  },
  {
   "cell_type": "markdown",
   "metadata": {},
   "source": [
    "## References\n",
    "\n",
    "[1] Landsgesell, Jonas, Christian Holm, and Jens Smiatek. Simulation of weak polyelectrolytes: a comparison between the constant pH and the reaction ensemble method. The European Physical Journal Special Topics 226.4 (2017): 725-736."
   ]
  }
 ],
 "metadata": {
  "kernelspec": {
   "display_name": "Python 3",
   "language": "python",
   "name": "python3"
  },
  "language_info": {
   "codemirror_mode": {
    "name": "ipython",
    "version": 3
   },
   "file_extension": ".py",
   "mimetype": "text/x-python",
   "name": "python",
   "nbconvert_exporter": "python",
   "pygments_lexer": "ipython3",
   "version": "3.6.8"
  }
 },
 "nbformat": 4,
 "nbformat_minor": 2
}
