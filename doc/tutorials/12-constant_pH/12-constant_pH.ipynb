{
 "cells": [
  {
   "cell_type": "markdown",
   "metadata": {},
   "source": [
    "## 1 Introduction\n",
    "\n",
    "This tutorial introduces the basic features for simulating titratable systems via the constant pH method.\n",
    "The constant pH method is one of the methods implemented for simulating systems with chemical reactions within the Reaction Ensemble module. It is a Monte-Carlo method designed to model an acid-base ionization reaction at a given (fixed) value of solution pH.\n",
    "\n",
    "We will consider a homogeneous aqueous solution of a titratable acidic species $\\mathrm{HA}$ that can dissociate in a reaction, that is characterized by the equilibrium constant $\\mathrm{p}K_A=-\\log_{10} K_A$\n",
    "$$\\mathrm{HA} \\Leftrightarrow \\mathrm{A}^- + \\mathrm{H}^+$$\n",
    "\n",
    "\n",
    "If $N_0 = N_{\\mathrm{HA}} + N_{\\mathrm{A}^-}$ is the number of titratable groups in solution, then we define the degree of dissociation $\\alpha$ as:\n",
    "\n",
    "$$\\alpha = \\dfrac{N_{\\mathrm{A}^-}}{N_0}.$$\n",
    "\n",
    "This is one of the key quantities that can be used to describe the acid-base equilibrium. Usually, the goal of the simulation is to predict the value of $\\alpha$ under given conditions in a complex system with interactions. In this tutorial, we will simulate only ideal systems (without intermolecular interactions) to show that in such case our simulations reproduce the well-known analytical solutions."
   ]
  },
  {
   "cell_type": "markdown",
   "metadata": {},
   "source": [
    "### 1.1 The Chemical Equilibrium and Reaction Constant\n",
    "\n",
    "The equilibrium reaction constant describes the chemical equilibrium of a given reaction. The values of equilibrium constants for various reactions can be found in tables. For the acid-base ionization reaction, the equilibrium constant is conventionally called the acidity constant, and it is defined as\n",
    "\\begin{equation}\n",
    "K_A = \\frac{a_{\\mathrm{H}^+} a_{\\mathrm{A}^-} } {a_{\\mathrm{HA}}}\n",
    "\\end{equation}\n",
    "where $a_i$ is the activity of species $i$. It is related to the chemical potential and to the concentration\n",
    "The degree of dissociation can also be expressed via a ratio of concentrations:\n",
    "\n",
    "\\begin{equation}\n",
    "\\mu_i = \\mu_i^\\mathrm{ref} + k_{\\mathrm{B}}T \\ln a_i\n",
    "\\,,\\qquad\n",
    "a_i = \\frac{c_i \\gamma_i}{c^{\\ominus}}\n",
    "\\end{equation}\n",
    "where $\\gamma_i$ is the activity coefficient, and $c^{0}$ is the (arbitrary) reference concentration, often chosen to be the standard concentration, $c^0 = 1\\,\\mathrm{mol\\,dm^{-3}}$ and $\\mu_i^\\mathrm{ref}$ is the reference chemical potential.\n",
    "Note that $K$ is a dimensionless quantity but its numerical value depends on the choice of $c^0$.\n",
    "For an ideal system, $\\gamma_i=1$ by definition, whereas for an interacting system $\\gamma_i$ is a non-trivial function of the interactions. For an ideal system we can rewrite $K$ in terms of equilibrium concentrations\n",
    "\\begin{equation}\n",
    "K_A \\overset{\\mathrm{ideal}}{=} \\frac{c_{\\mathrm{H}^+} c_{\\mathrm{A}^-} } {c_{\\mathrm{HA}} c^{\\ominus}}\n",
    "\\end{equation}\n",
    "\n",
    "The ionization degree can also be expressed via the ratio of concentrations:\n",
    "\\begin{equation}\n",
    "\\alpha \n",
    "= \\frac{N_{\\mathrm{A}^-}}{N_0} \n",
    "= \\frac{N_{\\mathrm{A}^-}}{N_{\\mathrm{HA}} + N_{\\mathrm{A}^-}}\n",
    "= \\frac{c_{\\mathrm{A}^-}}{c_{\\mathrm{HA}}+c_{\\mathrm{A}^-}}\n",
    "= \\frac{c_{\\mathrm{A}^-}}{c_{0}}.\n",
    "\\end{equation}\n",
    "where $c_0=c_{\\mathrm{HA}}+c_{\\mathrm{A}^-}$ is the total concentration of titratable groups irrespective of their ionization state.\n",
    "Then, we can characterize the acid-base ionization equilibrium using the ionization degree and pH, defined as\n",
    "\\begin{equation}\n",
    "\\mathrm{pH} = -\\log_{10} a_{\\mathrm{H^{+}}} \\overset{\\mathrm{ideal}}{=} -\\log_{10} (c_{\\mathrm{H^{+}}} / c^{\\ominus})\n",
    "\\end{equation}\n",
    "Substituting for the ionization degree and pH into the expression for $K_A$ we obtain the Henderson-Hasselbalch equation\n",
    "\\begin{equation}\n",
    "\\mathrm{pH}-\\mathrm{p}K_A = \\log_{10} \\frac{\\alpha}{1-\\alpha}\n",
    "\\end{equation}\n",
    "One important implication of the Henderson-Hasselbalch equation is that at a fixed pH value the ionization degree of an ideal acid is independent of concentration. Another important implication is that it does not depend on the absolute values of $\\mathrm{p}K_A$ or $\\mathrm{pH}$, but only on the difference, $\\mathrm{pH}-\\mathrm{p}K_A$."
   ]
  },
  {
   "cell_type": "markdown",
   "metadata": {},
   "source": [
    "### 1.2 Constant pH Method\n",
    "\n",
    "The constant pH method [Reed1992] is designed to simulate an acid-base ionization reaction at a given pH. It assumes that the simulated system is coupled to an implicit reservoir of $\\mathrm{H^+}$ ions but exchange of ions with this reservoir is not explicitly simulated. Therefore, the number of $\\mathrm{H}^+$ ions in the simulation box does not correspond to the chosen pH. This may lead to artifacts when simulating interacting systems, especially at high of low pH values. Discussion of these artifacts is beyond the scope of this tutorial (see e.g. [Landsgesell2019] for further details).\n",
    "\n",
    "In Espresso, the forward step of the ionization reaction (from left to right) is implemented by \n",
    "changing the chemical identity (particle type) of a randomly selected $\\mathrm{HA}$ particle to $\\mathrm{A}^-$, and inserting another particle that represents $\\mathrm{H}^+$. In the reverse direction (from right to left), the chemical identity (particle type) of a randomly selected $\\mathrm{A}^{-}$ is changed to $\\mathrm{HA}$, and a randomly selected $\\mathrm{H}^+$ is deleted from the simulation box. The probability of proposing the  forward reaction step is $P_\\text{prop}=N_\\mathrm{HA}/N_0$, and probability of proposing the reverse step is $P_\\text{prop}=N_\\mathrm{A}/N_0$. The trial move is accepted with the acceptance probability\n",
    "\n",
    "$$ P_{\\mathrm{acc}} = \\operatorname{min}\\left(1, \\exp(-\\beta \\Delta E_\\mathrm{pot} \\pm \\ln_{10} (\\mathrm{pH - p}K_A) ) \\right)$$\n",
    "\n",
    "Here $\\Delta E_\\text{pot}$ is the potential energy change due to the reaction, while $\\text{pH - p}K$ is an input parameter. \n",
    "The signs $\\pm 1$ correspond to the forward and reverse direction of the ionization reaction, respectively. \n",
    "\n"
   ]
  },
  {
   "cell_type": "markdown",
   "metadata": {},
   "source": [
    "## 2 Setup\n",
    "We start by creating a system instance with an arbitrary box length of 35 $\\sigma$ and creating `N0` titratable units (in the associated state). We set the dissociation constant of the acid to $\\mathrm{p}K_A=4.88$, that is the acidity constant of propionic acid. We choose propionic acid as it resembles the repeating unit of polyacrylic acid."
   ]
  },
  {
   "cell_type": "code",
   "execution_count": null,
   "metadata": {
    "scrolled": true
   },
   "outputs": [],
   "source": [
    "import numpy as np\n",
    "import matplotlib.pyplot as plt\n",
    "\n",
    "import espressomd\n",
    "from espressomd import reaction_ensemble\n",
    "\n",
    "# class for working with SI units (this example works only with a limited set of units)\n",
    "from si_units import SIunits\n",
    "# Initialize the class by supplying the SI values of some internal units\n",
    "# sigma=0.40 nm is a commonly used  particle size in coarse-grained simulations\n",
    "SI=SIunits(sigma_in_nm=0.355, T_in_K=293.15);\n",
    "\n",
    "# System parameters\n",
    "#############################################################\n",
    "C_acid_SI = 0.001 # 0.05 mol/L is a reasonable concentration that could be used in experiments\n",
    "C_salt_SI = 0.002 # additional salt to control the ionic strength\n",
    "# Using the constant-pH method is safe if Ionic_strength > max(10**(-pH), 10**(-pOH) ) and C_salt > C_acid\n",
    "Bjerrum_SI=0.713; # Bjerrum length in nm in water at 300K\n",
    "# concentration in the example is arbitrary (see Henderson-Hasselbalch equation)\n",
    "N_acid = 20  # number of titratable units in the box\n",
    "\n",
    "PROB_REACTION=0.5; # select the reaction move with 50% probability \n",
    "# probability of the reaction is adjustable parameter of the method that affects the speed of convergence\n",
    "\n",
    "# Simulate an interacting system with steric repulsion (Warning: it will be slower than without WCA!)\n",
    "USE_WCA = False;\n",
    "# Simulate an interacting system with electrostatics (Warning: it will be very slow!)\n",
    "USE_ELECTROSTATICS = False;\n",
    "\n",
    "# particle types of different species\n",
    "TYPE_HA = 0; q_HA = 0\n",
    "TYPE_A  = 1; q_A  =-1\n",
    "TYPE_H  = 2; q_H  =+1\n",
    "TYPE_Na = 3; q_Na =+1\n",
    "TYPE_Cl = 4; q_Cl =-1\n",
    "\n",
    "# acidity constant\n",
    "pK = 4.88\n",
    "K = 10**(-pK)\n",
    "offset=2.0; # range of pH values to be used pK +/- offset\n",
    "num_pHs=15 # number of pH values\n",
    "\n",
    "# dependent parameters\n",
    "c_acid_sigma=SI.convert(C_acid_SI,'mol/L','N/sigma^3'); # concentration in number of particles per sigma**3\n",
    "c_salt_sigma=SI.convert(C_salt_SI,'mol/L','N/sigma^3'); # concentration in number of particles per sigma**3\n",
    "Bjerrum_sigma=SI.convert(Bjerrum_SI,'nm','sigma'); # Bjerrum \n",
    "BOX_L= (N_acid/c_acid_sigma)**(1/3.); # box length in units of sigma\n",
    "print (\"c_acid_sigma: {}, c_salt_sigma: {}, BOX_L: {} , Bjerrum_sigma: {}\".format(c_acid_sigma, c_salt_sigma,BOX_L,Bjerrum_sigma))\n",
    "N_salt = int(c_salt_sigma*(BOX_L**3)); # number of salt ion pairs in the box\n",
    "print (\"N_acid: {}, N_salt: {}\".format(N_acid, N_salt))\n",
    "\n",
    "n_blocks=16  # number of block to be used in data analysis\n",
    "desired_block_size = 10  # desired number of samples per block\n",
    "num_samples = int(n_blocks * desired_block_size / PROB_REACTION); # number of reaction samples per each pH value\n",
    "pHmin=pK-offset # lowest pH value to be used\n",
    "pHmax=pK+offset # highest pH value to be used\n",
    "pHs = np.linspace(pHmin, pHmax, num_pHs); # list of pH values\n",
    "  \n",
    "# Initialize the Espresso system\n",
    "##############################################\n",
    "system = espressomd.System(box_l=[BOX_L] * 3)\n",
    "system.set_random_state_PRNG() # initialize random number generator in the Espresso system\n",
    "system.time_step = 0.01\n",
    "system.cell_system.skin = 0.4\n",
    "system.thermostat.set_langevin(kT=1.0, gamma=1.0, seed=7)\n",
    "np.random.seed(seed=10) # initialize the random number generator in numpy\n",
    "\n"
   ]
  },
  {
   "cell_type": "markdown",
   "metadata": {},
   "source": [
    "After defining the simulation parameters, we set up the system that we want to simulate. It is a polyelectrolyte chain with some added salt that is used to control the ionic strength of the solution. For the first run, we set up the system without any steric repulsion and without electrostatic interactions. In the next runs, we will add the steric repulsion and electrostatic interactions to observe their effect on the ionization."
   ]
  },
  {
   "cell_type": "code",
   "execution_count": null,
   "metadata": {},
   "outputs": [],
   "source": [
    "# create the particles\n",
    "##################################################\n",
    "# we need to define bonds before creating polymers\n",
    "from espressomd.interactions import HarmonicBond\n",
    "hb= HarmonicBond(k=30, r_0=1.0)\n",
    "system.bonded_inter.add(hb)\n",
    "\n",
    "# create the polymer composed of ionizable acid groups, initially in the ionized state\n",
    "from espressomd import polymer\n",
    "polymers = polymer.positions(n_polymers=1,\n",
    "                             beads_per_chain=N_acid,\n",
    "                             bond_length=0.9, seed=23)\n",
    "for p in polymers:\n",
    "    for i, m in enumerate(p):\n",
    "       id = len(system.part)\n",
    "       system.part.add(id=id, pos=m, type=TYPE_A, q=q_A)\n",
    "       if i > 0:\n",
    "           system.part[id].add_bond((hb, id - 1))\n",
    "\n",
    "# add the corresponding number of H+ ions\n",
    "for i in range(N_acid):\n",
    "        system.part.add(pos=np.random.random(3)*BOX_L, type=TYPE_H, q=q_H)\n",
    "\n",
    "# add salt ion pairs\n",
    "for i in range(N_salt):\n",
    "        system.part.add(pos=np.random.random(3)*BOX_L, type=TYPE_Na, q=q_Na)\n",
    "        system.part.add(pos=np.random.random(3)*BOX_L, type=TYPE_Cl, q=q_Cl)\n",
    "\n",
    "# set up the WCA interaction between all particle pairs\n",
    "if(USE_WCA):\n",
    "    types=[TYPE_HA, TYPE_A, TYPE_H, TYPE_Na, TYPE_Cl]\n",
    "    for type_1 in types:\n",
    "        for type_2 in types:\n",
    "            system.non_bonded_inter[type_1, type_2].lennard_jones.set_params(\n",
    "                epsilon=1.0, sigma=1.0,\n",
    "                cutoff=2**(1.0 / 6), shift=\"auto\")\n",
    "\n",
    "# run a steepest descent minimization to relax overlaps\n",
    "system.integrator.set_steepest_descent(\n",
    "    f_max=0, gamma=0.1, max_displacement=0.1)\n",
    "system.integrator.run(20)\n",
    "system.integrator.set_vv()  # to switch back to velocity verlet\n",
    "\n",
    "# run a short integration before using the elctrostatics\n",
    "system.integrator.run(steps=1000)\n",
    "\n",
    "# if needed, set up and tune the Coulomb interaction\n",
    "if(USE_ELECTROSTATICS):\n",
    "    print (\"set up and tune p3m, please wait....\");\n",
    "    from espressomd import electrostatics\n",
    "    p3m = electrostatics.P3M(prefactor=Bjerrum_sigma, accuracy=1e-3)\n",
    "    system.actors.add(p3m)\n",
    "    p3m_params = p3m.get_params()\n",
    "    for key in list(p3m_params.keys()):\n",
    "        print(\"{} = {}\".format(key, p3m_params[key]))\n",
    "    print (\"p3m, tuning done\");"
   ]
  },
  {
   "cell_type": "markdown",
   "metadata": {},
   "source": [
    "In the first step, we initialize the reaction ensemble, by setting the temperature, exclusion radius and seed of the random number generator. Because we are simulating an ideal system, \n",
    "we set the temperature to an arbitrary value. In an interacting system the exclusion radius ensures that particle insertions too close to other particles are not attempted. Such insertions would make the subsequent Langevin dynamics integration unstable. If the particles are not interacting, we can set the exclusion radius to $0.0$. Otherwise, $1.0$ is a good value. We set the seed to a constant value to ensure reproducible results."
   ]
  },
  {
   "cell_type": "code",
   "execution_count": null,
   "metadata": {},
   "outputs": [],
   "source": [
    "RE = reaction_ensemble.ConstantpHEnsemble(\n",
    "        temperature=1, exclusion_radius=1.0, seed=77)"
   ]
  },
  {
   "cell_type": "markdown",
   "metadata": {},
   "source": [
    "The next step is to define the reaction system and the seed of the pseudo-random number generator which is used for the Monte-Carlo steps.\n",
    "The order in which species are written in the lists of reactants and products is very important. When a reaction move is performed, identity of the first species in the list of reactants is changed to the first species in the list of products, the second reactant species is changed to the second product species, and so on. If the reactant list has more species than the product list, then excess reactant species are deleted from the system. If the product list has more species than the reactant list, then product the excess product species are created and randomly placed inside the simulation box. This is especially relevant if some of the species belong to a chain-like molecule.\n",
    "\n",
    "In the example below, the order of reactants and produces ensures that identity of $\\mathrm{HA}$ is changed to $\\mathrm{A^{-}}$ and vice versa, while $\\mathrm{H^{+}}$ is inserted/deleted in the reaction move. Reversing the order of products in our reaction (i.e. from  `product_types=[TYPE_H, TYPE_A]` to `product_types=[TYPE_A, TYPE_H]`), would result in a reaction move, where the identity HA would be changed to $\\mathrm{H^{+}}$, while $\\mathrm{A^{-}}$ would be inserted/deleted at a random position in the box.\n",
    "We also assign charges to each type because in general the charge will play a role in simulations with electrostatic interactions. As an easy task for the interested reader we propose to adapt the tutorial to account for electrostatic interactions. Therefore we keep these values for the needed charge assignments in place, although they are not needed for an ideal system."
   ]
  },
  {
   "cell_type": "code",
   "execution_count": null,
   "metadata": {
    "scrolled": true
   },
   "outputs": [],
   "source": [
    "RE.add_reaction(gamma=K, reactant_types=[TYPE_HA], reactant_coefficients=[1],\n",
    "                product_types=[TYPE_A, TYPE_H], product_coefficients=[1, 1],\n",
    "                default_charges={TYPE_HA: q_HA, TYPE_A: q_A, TYPE_H: q_H})\n",
    "print(RE.get_status())"
   ]
  },
  {
   "cell_type": "markdown",
   "metadata": {},
   "source": [
    "Next we perform simulations at different pH values. The system must be equilibrated at each pH before taking samples.\n",
    "Calling `RE.reaction(X)` attempts in total `X` reactions (in back and forward directions).\n",
    "We also plot the acceptance rate for the dissociation reaction and the association reaction for the first pH value which we set."
   ]
  },
  {
   "cell_type": "code",
   "execution_count": null,
   "metadata": {},
   "outputs": [],
   "source": [
    "# the reference data from Henderson-Hasselbalch equation\n",
    "def ideal_alpha(pH, pK):\n",
    "    return 1. / (1 + 10**(pK - pH))\n",
    "\n",
    "# empty lists as placeholders for collecting data\n",
    "numAs = []; # number of A- species observed at each sample\n",
    "\n",
    "#run a productive simulation and collect the data\n",
    "print(\"Simulated pH values: \",pHs)\n",
    "for pH in pHs:\n",
    "    print(\"Run pH {:.2f} ...\".format(pH))\n",
    "    RE.constant_pH = pH\n",
    "    numAs_current = []; # temporary data storage for a given pH\n",
    "    RE.reaction(20*N_acid + 1) # pre-equilibrate to the new pH value\n",
    "    for i in range(num_samples):\n",
    "        if(np.random.random()<PROB_REACTION): \n",
    "            RE.reaction(N_acid + 1) # should be at least one reaction attempt per particle\n",
    "        else:\n",
    "            system.integrator.run(steps=1000);\n",
    "        numAs_current.append(system.number_of_particles(type=TYPE_A))\n",
    "        #print (\"NP: A {}, HA {}\".format(system.number_of_particles(type=TYPE_A),system.number_of_particles(type=TYPE_HA)))\n",
    "    numAs.append(numAs_current) #\n",
    "    print(\"measured number of A-: {0:.2f}, (ideal: {1:.2f})\".format(np.mean(numAs_current),N_acid*ideal_alpha(pH,pK)))\n",
    "print(\"finished\")"
   ]
  },
  {
   "cell_type": "markdown",
   "metadata": {},
   "source": [
    "## 3 Results\n",
    "\n",
    "Finally we plot our results and compare them to the analytical results obtained from the Henderson-Hasselbalch equation.\n",
    "\n",
    "### 3.1 Statistical Uncertainty\n",
    "\n",
    "The molecular simulation produces a sequence of snapshots of the system, that \n",
    "constitute a Markov chain. It is a sequence of realizations of a random process, where\n",
    "the next value in the sequence depends on the preceding one. Therefore,\n",
    "the subsequent values are correlated. To estimate statistical error of the averages\n",
    "determined in the simulation, one needs to correct for the correlations.\n",
    "\n",
    "Here, we will use a rudimentary way of correcting for correlations, termed the binning method.\n",
    "We refer the reader to specialized literature for a more sophisticated discussion [Janke2002]. The general idea is to group a long sequence of correlated values into a rather small number of blocks, and compute an average per each block. If the blocks are big enough, they\n",
    "can be considered uncorrelated, and one can apply the formula for standard error of the mean of uncorrelated values. If the number of blocks is small, then they are uncorrelated but the obtained error estimates has a high uncertainty. If the number of blocks is high, then they are too short to be uncorrelated, and the obtained error estimates are systematically lower than the correct value. Therefore, the method works well only if the sample size is much greater than the autocorrelation time.\n",
    "\n",
    "In the example below, we use a fixed number of 8 blocks to obtain the error estimates. To check for consistency, we estimate the autocorrelation time, and print a warning message if some blocks contain less than 100 uncorrelated values. Intentionally, we make our simulation slightly too short, so that it does not produce enough uncorrelated samples. We encourage the reader to vary the number of blocks or the number of samples to see how the estimated error changes with these parameters."
   ]
  },
  {
   "cell_type": "code",
   "execution_count": null,
   "metadata": {},
   "outputs": [],
   "source": [
    "# statistical analysis of the results\n",
    "def block_analyze(input_data,n_blocks=16):\n",
    "    # statistical analysis of the results\n",
    "    data=np.array(input_data)\n",
    "    block=0;\n",
    "    # this number of blocks is recommended by Janke as a reasonable compromise\n",
    "    # between the conflicing requirements on block size and number of blocks\n",
    "    block_size=int(data.shape[1]/n_blocks);\n",
    "    print(\"block_size:\", block_size);\n",
    "    block_average=np.zeros((n_blocks,data.shape[0])); # initialize the array of per-block averages\n",
    "    # calculate averages per each block\n",
    "    for block in range(0,n_blocks):\n",
    "        block_average[block]=np.average(data[:,block*block_size:(block+1)*block_size],axis=1)\n",
    "    # calculate the average and average of the square\n",
    "    av_data=np.average(data,axis=1)\n",
    "    av2_data=np.average(data*data,axis=1);\n",
    "    # calculate the variance of the block averages\n",
    "    block_var=np.var(block_average,axis=0);\n",
    "    # calculate standard error of the mean\n",
    "    err_data=np.sqrt(block_var/(n_blocks-1));\n",
    "    # estimate autocorrelation time using the formula given by Janke\n",
    "    # this assumes that the errors have been correctly estimated\n",
    "    tau_data=np.zeros(av_data.shape);\n",
    "    for val in range(0,av_data.shape[0]):\n",
    "        if (av_data[val] == 0):\n",
    "            tau_data[val]=-1.0; # unphysical value marks a failure to compute tau\n",
    "        else:\n",
    "            tau_data[val]=0.5*block_size*n_blocks/(n_blocks-1)*block_var[val]/(av2_data[val]-av_data[val]*av_data[val]);\n",
    "    return av_data, err_data, tau_data, block_size;\n",
    "\n",
    "# estimate the statistical error and the autocorrelation time using the formula given by Janke\n",
    "av_numAs, err_numAs, tau, block_size = block_analyze(numAs);\n",
    "print(\"av = \", av_numAs);\n",
    "print(\"err = \", err_numAs);\n",
    "print(\"tau = \", tau);\n",
    "\n",
    "# calculate the average ionization degree\n",
    "av_alpha=av_numAs/N_acid;\n",
    "err_alpha=err_numAs/N_acid;\n",
    "\n",
    "# plot the simulation results compared with the ideal titration curve\n",
    "plt.figure(figsize=(10, 6), dpi=80)\n",
    "plt.errorbar(pHs - pK, av_alpha, err_alpha, marker='o', linestyle='none',\\\n",
    "             label=r\"simulation\")\n",
    "pHs2 = np.linspace(pHmin, pHmax, num=50)\n",
    "plt.plot(pHs2 - pK, ideal_alpha(pHs2, pK), label=r\"ideal\")\n",
    "plt.xlabel('pH-p$K$', fontsize=16)\n",
    "plt.ylabel(r'$\\alpha$', fontsize=16)\n",
    "plt.legend(fontsize=16)\n",
    "plt.show()"
   ]
  },
  {
   "cell_type": "markdown",
   "metadata": {},
   "source": [
    "The simulation results for the non-interacting case very well compare with the analytical solution of Henderson-Hasselbalch equation. There are only minor deviations, and the estimated errors are small too. This situation will change when we introduce interactions.\n",
    "\n",
    "It is useful to check whether the estimated errors are consistent with the assumptions that were used to obtain them. To do this, we follow [Janke2000] to estimate the number of uncorrelated samples per block, and check whether each block contains a sufficient number of uncorrelated samples (we choose 10 uncorrelated samples per block as the threshold value)."
   ]
  },
  {
   "cell_type": "code",
   "execution_count": null,
   "metadata": {
    "scrolled": false
   },
   "outputs": [],
   "source": [
    "# check if the blocks contain enough data for reliable error estimates\n",
    "print(\"uncorrelated samples per block:\\nblock_size/tau = \",\\\n",
    "      block_size/tau);\n",
    "threshold=10.; # block size should be much greater than the correlation time\n",
    "if(np.any(block_size/tau<threshold)):\n",
    "    print(\"\\nWarning: some blocks may contain less than \", threshold, \"uncorrelated samples.\"\\\n",
    "          \"\\nYour error estimated may be unreliable.\"\\\n",
    "          \"\\nPlease, check them using a more sophisticated method or run a longer simulation.\")\n",
    "    print(\"? block_size/tau > threshold ? :\", block_size/tau>threshold);\n",
    "else:\n",
    "    print(\"\\nAll blocks seem to contain more than \", threshold, \"uncorrelated samples.\\\n",
    "    Error estimates should be OK.\");\n"
   ]
  },
  {
   "cell_type": "markdown",
   "metadata": {},
   "source": [
    "To look in more details at the statistical accuracy, it is useful to plot the deviations from the analytical result. This provides another way to check the consistency of error estimates.  For 68% of the results, the deviation from the analytical result should be within the error bar, whereas about 95% of the results should be within two times the error bar. Indeed, if you plot the deviations by running the script below, you should observe that most of the results are within one error bar from the analytical solution, a smaller fraction  of the results is slightly further than one error bar, and one or two might be about two error bars apart.\n",
    "\n",
    "Try increasing the number of samples of in the simulation to see how the estimated error changes, and whether the consistency is still satisfied."
   ]
  },
  {
   "cell_type": "code",
   "execution_count": null,
   "metadata": {
    "scrolled": false
   },
   "outputs": [],
   "source": [
    "# plot the deviations from the ideal result\n",
    "plt.figure(figsize=(10, 6), dpi=80)\n",
    "ylim=np.amax(abs(av_alpha-ideal_alpha(pHs, pK)))\n",
    "plt.ylim((-1.5*ylim,1.5*ylim))\n",
    "plt.errorbar(pHs - pK, av_alpha-ideal_alpha(pHs, pK),\\\n",
    "             err_alpha, marker='o', linestyle='none', label=r\"simulation\")\n",
    "plt.plot(pHs - pK, 0.0*ideal_alpha(pHs, pK), label=r\"ideal\")\n",
    "plt.xlabel('pH-p$K$', fontsize=16)\n",
    "plt.ylabel(r'$\\alpha - \\alpha_{ideal}$', fontsize=16)\n",
    "plt.legend(fontsize=16)\n",
    "plt.show()"
   ]
  },
  {
   "cell_type": "markdown",
   "metadata": {},
   "source": [
    "Finally, we demonstrate that the actual number of H+ ions in the simulation box does not correspond to the pH value that was provided as input of the constant-pH simulation. To do so, we try measure the average pH value using the ionization degree, and compare it with the pH value provided as the input. For an ideal system, $\\mathrm{pH}$ should be equal to $-\\log_{10} (c_{\\mathrm{H^{+}}} / c_0)$, where $c_0=1\\,\\mathrm{mol/L}$ is the reference concentration. Below, we calculate the value of $-\\log_{10} (c_{\\mathrm{H^{+}}} / c_0)$ to show that it is very different than pH that we have set as an input of the simulation."
   ]
  },
  {
   "cell_type": "code",
   "execution_count": null,
   "metadata": {
    "scrolled": false
   },
   "outputs": [],
   "source": [
    "av_c = av_alpha*C_acid_SI; # average concentration of H+ in mol/L\n",
    "err_c = err_alpha*C_acid_SI; # error in the average concentration\n",
    "\n",
    "av_pH = -np.log10(av_c); # average value of -log10(c_H+/c_0)\n",
    "print (\"av_pH:\", av_pH)\n",
    "err_pH = err_c/(av_c*np.log(10.))\n",
    "print (\"err_pH:\", err_pH)\n",
    "\n",
    "# plot the simulation results compared with the ideal titration curve\n",
    "plt.figure(figsize=(10, 6), dpi=80)\n",
    "plt.errorbar(pHs, av_pH, err_pH, marker='o', linestyle='none',\\\n",
    "             label=r\"simulation\")\n",
    "plt.plot(pHs, pHs, label=r\" input pH = measured pH\")\n",
    "plt.xlabel('input pH', fontsize=16)\n",
    "plt.ylabel(r'$-\\log_{10}(c_{\\mathrm{H^+}}/c^{\\ominus})$', fontsize=16)\n",
    "plt.legend(fontsize=16)\n",
    "plt.show()"
   ]
  },
  {
   "cell_type": "markdown",
   "metadata": {},
   "source": [
    "Naively, one would expect the value of $-\\log_{10} (c_{\\mathrm{H^{+}}} / c_0)$ to be equal to the pH value specified as input of the simulation but this is not true. The only $\\mathrm{H^+}$ ions in the simulation box are those that have been generated by the ionization reaction. Therefore, the number of $\\mathrm{H^+}$ ions increases with increasing ionization (increasing pH on the input), and converserly the value of $-\\log_{10} (c_{\\mathrm{H^{+}}} / c_0)$ decreases with increasing pH on the input. Moreover, the value of $-\\log_{10} (c_{\\mathrm{H^{+}}} / c_0)$ depends not only on the ionization degree but also on the total concentration of ionizable species. Therefore, at high pH, the value of $-\\log_{10} (c_{\\mathrm{H^{+}}} / c_0)$ converges to the logarithm of concentration of ionizable species, and does not vary with input pH anymore. This demonstrates, that in the Constant-pH ensemble, the value of $-\\log_{10} (c_{\\mathrm{H^{+}}} / c_0)$, and the pH provided as input, should be viewed as two independent parameters.\n",
    "\n",
    "In an ideal system, this discrepancy between the value of $-\\log_{10} (c_{\\mathrm{H^{+}}} / c_0)$ and input pH values is harmless because the acceptance probability in the constant-pH ensemble does not depend on the actual number of $\\mathrm{H^+}$ ions in the box. In an interacting system, the presence of $\\mathrm{H^+}$ ions in the box affects the properties of other parts of the system. Therefore, in an interacting system this discrepancy is harmless only if $\\mathrm{H^+}$ ions are the minority component among other ionic species. See also [Landsgesell2019] for a more detailed discussion of this issue, and its consequences.\n",
    "\n",
    "### Suggested problems for further work\n",
    "\n",
    "* Try changing the concentration of ionizable species in the non-interacting system. You should observe that it does not affect the obtained titration curve but it affects the pH value measured from the concentration of $\\mathrm{H^+}$ ions in the simulation box\n",
    "\n",
    "* Try changing the number of samples and the number of particles to see how the estimated error and the number of uncorrelated samples will change. Be aware that if the number of uncorrelated samples is low, the error estimation is too optimistic.\n",
    "\n",
    "* Try running the same simulations with steric repulsion and then again with electrostatic interactions. Observe how the ionization equilibrium is affected by various interactions. Warning: simulations with electrostatics are much slower. If you want to obtain your results quickly, then decrease the number of pH values."
   ]
  },
  {
   "cell_type": "markdown",
   "metadata": {},
   "source": [
    "## References\n",
    "\n",
    "[Janke2002] Janke W. Statistical Analysis of Simulations: Data Correlations and Error Estimation,\n",
    "In Quantum Simulations of Complex Many-Body Systems: From Theory to Algorithms, Lecture Notes,\n",
    "J. Grotendorst, D. Marx, A. Muramatsu (Eds.), John von Neumann Institute for Computing, Jülich,\n",
    "NIC Series, Vol. 10, ISBN 3-00-009057-6, pp. 423-445, 2002.\n",
    "\n",
    "[Landsgesell2019] Landsgesell, J.; Nová, L.; Rud, O.; Uhlík, F.; Sean, D.; Hebbeker, P.; Holm, C.; Košovan, P. Simulations of Ionization Equilibria in Weak Polyelectrolyte Solutions and Gels. Soft Matter 2019, 15 (6), 1155–1185. https://doi.org/10.1039/C8SM02085J.,\n",
    "    \n",
    "[Reed1992] Reed, C. E.; Reed, W. F. Monte Carlo Study of Titration of Linear Polyelectrolytes. The Journal of Chemical Physics 1992, 96 (2), 1609–1620. https://doi.org/10.1063/1.462145.\n",
    "\n",
    "[Smith1994] Smith, W. R.; Triska, B. The Reaction Ensemble Method for the Computer Simulation of Chemical and Phase Equilibria. I. Theory and Basic Examples. The Journal of Chemical Physics 1994, 100 (4), 3019–3027. https://doi.org/10.1063/1.466443."
   ]
  },
  {
   "cell_type": "code",
   "execution_count": null,
   "metadata": {},
   "outputs": [],
   "source": []
  }
 ],
 "metadata": {
  "kernelspec": {
   "display_name": "Python 3",
   "language": "python",
   "name": "python3"
  },
  "language_info": {
   "codemirror_mode": {
    "name": "ipython",
    "version": 3
   },
   "file_extension": ".py",
   "mimetype": "text/x-python",
   "name": "python",
   "nbconvert_exporter": "python",
   "pygments_lexer": "ipython3",
   "version": "3.6.5"
  }
 },
 "nbformat": 4,
 "nbformat_minor": 2
}
