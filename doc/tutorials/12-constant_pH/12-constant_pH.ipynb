{
 "cells": [
  {
   "cell_type": "markdown",
   "metadata": {},
   "source": [
    "## Introduction\n",
    "\n",
    "This tutorial introduces the basic features for simulating titratable systems via the constant pH method.\n",
    "The constant pH method is one of the methods implemented for simulating systems with chemical reactions within the Reaction Ensemble module. It is a Monte Carlo method designed to model an acid-base ionization reaction at a given (fixed) value of solution pH.\n",
    "\n",
    "We will consider a homogeneous aqueous solution of a titratable acidic species $\\mathrm{HA}$ that can dissociate in a reaction, that is characterized by the equilibrium constant $\\mathrm{p}K_A=-\\log_{10} K_A$\n",
    "$$\\mathrm{HA} \\Leftrightarrow \\mathrm{A}^- + \\mathrm{H}^+$$\n",
    "\n",
    "\n",
    "If $N_0 = N_{\\mathrm{HA}} + N_{\\mathrm{A}^-}$ is the number of titratable groups in solution, then we define the degree of dissociation $\\alpha$ as:\n",
    "\n",
    "$$\\alpha = \\dfrac{N_{\\mathrm{A}^-}}{N_0}.$$\n",
    "\n",
    "This is one of the key quantities that can be used to describe the acid-base equilibrium. Usually, the goal of the simulation is to predict the value of $\\alpha$ under given conditions in a complex system with interactions."
   ]
  },
  {
   "cell_type": "markdown",
   "metadata": {},
   "source": [
    "### The Chemical Equilibrium and Reaction Constant\n",
    "\n",
    "The equilibrium reaction constant describes the chemical equilibrium of a given reaction. The values of equilibrium constants for various reactions can be found in tables. For the acid-base ionization reaction, the equilibrium constant is conventionally called the acidity constant, and it is defined as\n",
    "\\begin{equation}\n",
    "K_A = \\frac{a_{\\mathrm{H}^+} a_{\\mathrm{A}^-} } {a_{\\mathrm{HA}}}\n",
    "\\end{equation}\n",
    "where $a_i$ is the activity of species $i$. It is related to the chemical potential $\\mu_i$ and to the concentration $c_i$\n",
    "\\begin{equation}\n",
    "\\mu_i = \\mu_i^\\mathrm{ref} + k_{\\mathrm{B}}T \\ln a_i\n",
    "\\,,\\qquad\n",
    "a_i = \\frac{c_i \\gamma_i}{c^{\\ominus}}\\,,\n",
    "\\end{equation}\n",
    "where $\\gamma_i$ is the activity coefficient, and $c^{\\ominus}$ is the (arbitrary) reference concentration, often chosen to be the standard concentration, $c^{\\ominus} = 1\\,\\mathrm{mol/L}$, and $\\mu_i^\\mathrm{ref}$ is the reference chemical potential.\n",
    "Note that $K$ is a dimensionless quantity but its numerical value depends on the choice of $c^0$.\n",
    "For an ideal system, $\\gamma_i=1$ by definition, whereas for an interacting system $\\gamma_i$ is a non-trivial function of the interactions. For an ideal system we can rewrite $K$ in terms of equilibrium concentrations\n",
    "\\begin{equation}\n",
    "K_A \\overset{\\mathrm{ideal}}{=} \\frac{c_{\\mathrm{H}^+} c_{\\mathrm{A}^-} } {c_{\\mathrm{HA}} c^{\\ominus}}\n",
    "\\end{equation}\n",
    "\n",
    "The ionization degree can also be expressed via the ratio of concentrations:\n",
    "\\begin{equation}\n",
    "\\alpha \n",
    "= \\frac{N_{\\mathrm{A}^-}}{N_0} \n",
    "= \\frac{N_{\\mathrm{A}^-}}{N_{\\mathrm{HA}} + N_{\\mathrm{A}^-}}\n",
    "= \\frac{c_{\\mathrm{A}^-}}{c_{\\mathrm{HA}}+c_{\\mathrm{A}^-}}\n",
    "= \\frac{c_{\\mathrm{A}^-}}{c_{\\mathrm{A}}}.\n",
    "\\end{equation}\n",
    "where $c_{\\mathrm{A}}=c_{\\mathrm{HA}}+c_{\\mathrm{A}^-}$ is the total concentration of titratable acid groups irrespective of their ionization state.\n",
    "Then, we can characterize the acid-base ionization equilibrium using the ionization degree and pH, defined as\n",
    "\\begin{equation}\n",
    "\\mathrm{pH} = -\\log_{10} a_{\\mathrm{H^{+}}} \\overset{\\mathrm{ideal}}{=} -\\log_{10} (c_{\\mathrm{H^{+}}} / c^{\\ominus})\n",
    "\\end{equation}\n",
    "Substituting for the ionization degree and pH into the expression for $K_A$ we obtain the Henderson-Hasselbalch equation\n",
    "\\begin{equation}\n",
    "\\mathrm{pH}-\\mathrm{p}K_A = \\log_{10} \\frac{\\alpha}{1-\\alpha}\n",
    "\\end{equation}\n",
    "One result of the Henderson-Hasselbalch equation is that at a fixed pH value the ionization degree of an ideal acid is independent of concentration. Another implication is, that the degree of ionization does not depend on the absolute values of $\\mathrm{p}K_A$ and $\\mathrm{pH}$, but only on their difference, $\\mathrm{pH}-\\mathrm{p}K_A$."
   ]
  },
  {
   "cell_type": "markdown",
   "metadata": {},
   "source": [
    "### Constant pH Method\n",
    "\n",
    "The constant pH method [Reed1992](https://doi.org/10.1063/1.462145) is designed to simulate an acid-base ionization reaction at a given pH. It assumes that the simulated system is coupled to an implicit reservoir of $\\mathrm{H^+}$ ions but exchange of ions with this reservoir is not explicitly simulated. Therefore, the concentration of ions in the simulation box is not equal to the concentration of $\\mathrm{H^+}$ ions at the chosen pH. This may lead to artifacts when simulating interacting systems, especially at high of low pH values. Discussion of these artifacts is beyond the scope of this tutorial (see e.g. [Landsgesell2019](https://doi.org/10.1039/C8SM02085J) for further details).\n",
    "\n",
    "In Espresso, the forward step of the ionization reaction (from left to right) is implemented by \n",
    "changing the chemical identity (particle type) of a randomly selected $\\mathrm{HA}$ particle to $\\mathrm{A}^-$, and inserting another particle that represents a neutralizing counterion. The neutralizing counterion is not necessarily an $\\mathrm{H^+}$ ion. Therefore, we give it a generic name $\\mathrm{B^+}$. In the reverse direction (from right to left), the chemical identity (particle type) of a randomly selected $\\mathrm{A}^{-}$ is changed to $\\mathrm{HA}$, and a randomly selected $\\mathrm{B}^+$ is deleted from the simulation box. The probability of proposing the  forward reaction step is $P_\\text{prop}=N_\\mathrm{HA}/N_0$, and probability of proposing the reverse step is $P_\\text{prop}=N_\\mathrm{A}/N_0$. The trial move is accepted with the acceptance probability\n",
    "\n",
    "$$ P_{\\mathrm{acc}} = \\operatorname{min}\\left(1, \\exp(-\\beta \\Delta E_\\mathrm{pot} \\pm \\ln(10) \\cdot (\\mathrm{pH - p}K_A) ) \\right)$$\n",
    "\n",
    "Here $\\Delta E_\\text{pot}$ is the potential energy change due to the reaction, while $\\text{pH - p}K$ is an input parameter. \n",
    "The signs $\\pm 1$ correspond to the forward and reverse direction of the ionization reaction, respectively. \n",
    "\n"
   ]
  },
  {
   "cell_type": "markdown",
   "metadata": {},
   "source": [
    "## Setup\n",
    "The inputs that we need to define our system in the simulation include\n",
    "* concentration of the titratable units `c_acid`\n",
    "* dissociation constant `pK`\n",
    "* Bjerrum length `Bjerrum`\n",
    "* system size (given by the number of titratable units) `N_acid`\n",
    "* concentration of added salt `c_salt_SI`\n",
    "* pH\n",
    "\n",
    "From the concentration of titratable units and the number of titratable units we calculate the box length.\n",
    "We create a system with this box size.\n",
    "From the salt concentration we calculate the number of additional salt ion pairs that should be present in the system.\n",
    "We set the dissociation constant of the acid to $\\mathrm{p}K_A=4.88$, that is the acidity constant of propionic acid. We choose propionic acid because its structure is closest to the repeating unit of poly(acrylic acid), the most commonly used weak polyacid.\n",
    "\n",
    "We will simulate multiple pH values, the range of which is determined by the parameters `offset` and `num_pHs`."
   ]
  },
  {
   "cell_type": "code",
   "execution_count": 1,
   "metadata": {
    "scrolled": true
   },
   "outputs": [
    {
     "name": "stdout",
     "output_type": "stream",
     "text": [
      "N_salt: 40.0, N_acid: 20.0, N_salt/N_acid: 2.0000000, c_salt/c_acid: 2.0000000 dimensionless\n"
     ]
    }
   ],
   "source": [
    "import numpy as np\n",
    "import matplotlib.pyplot as plt\n",
    "\n",
    "import espressomd\n",
    "from espressomd import reaction_ensemble\n",
    "from espressomd import polymer\n",
    "from espressomd.interactions import HarmonicBond\n",
    "\n",
    "from espressomd import electrostatics\n",
    "\n",
    "import scipy.constants # physical constants\n",
    "import pint # module for working with units and dimensions\n",
    "\n",
    "\n",
    "ureg = pint.UnitRegistry()\n",
    "ureg.define('sigma = 0.355 * nm = sig') # sigma=0.40 nm is a commonly used  particle size in coarse-grained simulations\n",
    "sigma = 1.0 * ureg.sigma # variable that has the value and dimension of one sigma\n",
    "N_A=scipy.constants.N_A/ureg.mole # N_A is the numerical value of Avogadro constant in units 1/mole\n",
    "Bjerrum=0.715 * ureg.nanometer # Bjerrum length at 300K\n",
    "concentration = ureg.Quantity # define that concentration is a quantity that must have a value and a unit\n",
    "\n",
    "# System parameters\n",
    "#############################################################\n",
    "c_acid=concentration(1e-3,'mol/L') # 0.05 mol/L is a reasonable concentration that could be used in experiments\n",
    "# Using the constant-pH method is safe if Ionic_strength > max(10**(-pH), 10**(-pOH) ) and C_salt > C_acid\n",
    "c_salt=concentration(2*c_acid) # additional salt to control the ionic strength\n",
    "# In the ideal system, concentration is arbitrary (see Henderson-Hasselbalch equation)\n",
    "# but it is important in the interacting system\n",
    "N_acid = 20  # number of titratable units in the box\n",
    "\n",
    "PROB_REACTION = 0.5 # select the reaction move with 50% probability \n",
    "# probability of the reaction is adjustable parameter of the method that affects the speed of convergence\n",
    "\n",
    "# Simulate an interacting system with steric repulsion (Warning: it will be slower than without WCA!)\n",
    "USE_WCA = False\n",
    "# Simulate an interacting system with electrostatics (Warning: it will be very slow!)\n",
    "USE_ELECTROSTATICS = False\n",
    "\n",
    "# particle types of different species\n",
    "TYPE_HA = 0 \n",
    "TYPE_A  = 1\n",
    "TYPE_B  = 2 \n",
    "TYPE_Na = 3\n",
    "TYPE_Cl = 4 \n",
    "\n",
    "q_HA =  0\n",
    "q_A  = -1\n",
    "q_B  = +1\n",
    "q_Na = +1\n",
    "q_Cl = -1\n",
    "\n",
    "# acidity constant\n",
    "pK = 4.88\n",
    "K = 10**(-pK)\n",
    "offset=2.0 # range of pH values to be used pK +/- offset\n",
    "num_pHs=15 # number of pH values\n",
    "pKw = 14.0 # autoprotolysis constant of water\n",
    "\n",
    "# dependent parameters\n",
    "Box_V=(N_acid/N_A/c_acid)\n",
    "Box_L=np.cbrt(Box_V.to('m**3'))*ureg('m')\n",
    "Box_L_in_sigma=Box_L.to('sigma').magnitude # we shall often need the numerical value of box length in sigma\n",
    "# unfortunately, pint module cannot handle cube root of m**3, so we need to explicitly set the unit\n",
    "N_salt = int(c_salt*Box_V*N_A) # number of salt ion pairs in the box\n",
    "# print the values of dependent parameters to check for possible rounding errors\n",
    "print (\"N_salt: {0:.1f}, N_acid: {1:.1f}, N_salt/N_acid: {2:.7f}, c_salt/c_acid: {3:.7f}\".format(\n",
    "    N_salt, N_acid, 1.0*N_salt/N_acid, c_salt/c_acid))\n",
    "\n",
    "n_blocks=16  # number of block to be used in data analysis\n",
    "desired_block_size = 10  # desired number of samples per block\n",
    "num_samples = int(n_blocks * desired_block_size / PROB_REACTION) # number of reaction samples per each pH value\n",
    "pHmin=pK-offset # lowest pH value to be used\n",
    "pHmax=pK+offset # highest pH value to be used\n",
    "pHs = np.linspace(pHmin, pHmax, num_pHs) # list of pH values\n",
    "  \n",
    "# Initialize the Espresso system\n",
    "##############################################\n",
    "system = espressomd.System(box_l=[Box_L_in_sigma] * 3)\n",
    "system.time_step = 0.01\n",
    "system.cell_system.skin = 0.4\n",
    "system.thermostat.set_langevin(kT=1.0, gamma=1.0, seed=7)\n",
    "np.random.seed(seed=10) # initialize the random number generator in numpy\n",
    "\n"
   ]
  },
  {
   "cell_type": "markdown",
   "metadata": {},
   "source": [
    "After defining the simulation parameters, we set up the system that we want to simulate. It is a polyelectrolyte chain with some added salt that is used to control the ionic strength of the solution. For the first run, we set up the system without any steric repulsion and without electrostatic interactions. In the next runs, we will add the steric repulsion and electrostatic interactions to observe their effect on the ionization."
   ]
  },
  {
   "cell_type": "code",
   "execution_count": 2,
   "metadata": {},
   "outputs": [
    {
     "name": "stdout",
     "output_type": "stream",
     "text": [
      "Done adding particles and interactions\n"
     ]
    }
   ],
   "source": [
    "# create the particles\n",
    "##################################################\n",
    "# we need to define bonds before creating polymers\n",
    "hb= HarmonicBond(k=30, r_0=1.0)\n",
    "system.bonded_inter.add(hb)\n",
    "\n",
    "# create the polymer composed of ionizable acid groups, initially in the ionized state\n",
    "polymers = polymer.positions(n_polymers=1,\n",
    "                             beads_per_chain=N_acid,\n",
    "                             bond_length=0.9, seed=23)\n",
    "for polymer in polymers:\n",
    "    for index, position in enumerate(polymer):\n",
    "       id = len(system.part)\n",
    "       system.part.add(id=id, pos=position, type=TYPE_A, q=q_A)\n",
    "       if index > 0:\n",
    "           system.part[id].add_bond((hb, id - 1))\n",
    "\n",
    "# add the corresponding number of H+ ions\n",
    "for index in range(N_acid):\n",
    "        system.part.add(pos=np.random.random(3)*Box_L_in_sigma, type=TYPE_B, q=q_B)\n",
    "\n",
    "# add salt ion pairs\n",
    "for index in range(N_salt):\n",
    "        system.part.add(pos=np.random.random(3)*Box_L_in_sigma, type=TYPE_Na, q=q_Na)\n",
    "        system.part.add(pos=np.random.random(3)*Box_L_in_sigma, type=TYPE_Cl, q=q_Cl)\n",
    "\n",
    "# set up the WCA interaction between all particle pairs\n",
    "if USE_WCA:\n",
    "    types=[TYPE_HA, TYPE_A, TYPE_B, TYPE_Na, TYPE_Cl]\n",
    "    for type_1 in types:\n",
    "        for type_2 in types:\n",
    "            system.non_bonded_inter[type_1, type_2].lennard_jones.set_params(\n",
    "                epsilon=1.0, sigma=1.0,\n",
    "                cutoff=2**(1.0 / 6), shift=\"auto\")\n",
    "\n",
    "# run a steepest descent minimization to relax overlaps\n",
    "system.integrator.set_steepest_descent(\n",
    "    f_max=0, gamma=0.1, max_displacement=0.1)\n",
    "system.integrator.run(20)\n",
    "system.integrator.set_vv()  # to switch back to velocity Verlet\n",
    "\n",
    "\n",
    "# short integration to let the system relax\n",
    "system.integrator.run(steps=1000)\n",
    "\n",
    "# if needed, set up and tune the Coulomb interaction\n",
    "if USE_ELECTROSTATICS:\n",
    "    print (\"set up and tune p3m, please wait....\")    \n",
    "    p3m = electrostatics.P3M(prefactor=Bjerrum.to('sigma').magnitude, accuracy=1e-3)\n",
    "    system.actors.add(p3m)\n",
    "    p3m_params = p3m.get_params()\n",
    "#    for key in list(p3m_params.keys()):\n",
    "#        print(\"{} = {}\".format(key, p3m_params[key]))\n",
    "    print(p3m.get_params())\n",
    "    print (\"p3m, tuning done\")\n",
    "else:\n",
    "    # this speeds up the simulation of dilute systems with small particle numbers\n",
    "    system.cell_system.set_n_square()\n",
    "    \n",
    "print(\"Done adding particles and interactions\")"
   ]
  },
  {
   "cell_type": "markdown",
   "metadata": {},
   "source": [
    "After setting creating the particles we initialize the reaction ensemble by setting the temperature, exclusion radius and seed of the random number generator. We set the temperature to unity, that determines that our reduced unit of energy will be $\\varepsilon=1k_{\\mathrm{B}}T$. In an interacting system the exclusion radius ensures that particle insertions too close to other particles are not attempted. Such insertions would make the subsequent Langevin dynamics integration unstable. If the particles are not interacting, we can set the exclusion radius to $0.0$. Otherwise, $1.0$ is a good value. We set the seed to a constant value to ensure reproducible results."
   ]
  },
  {
   "cell_type": "code",
   "execution_count": 3,
   "metadata": {},
   "outputs": [],
   "source": [
    "RE = reaction_ensemble.ConstantpHEnsemble(\n",
    "        temperature=1, exclusion_radius=1.0, seed=77)"
   ]
  },
  {
   "cell_type": "markdown",
   "metadata": {},
   "source": [
    "The next step is to define the reaction system. The order in which species are written in the lists of reactants and products is very important for Espresso. When a reaction move is performed, identity of the first species in the list of reactants is changed to the first species in the list of products, the second reactant species is changed to the second product species, and so on. If the reactant list has more species than the product list, then excess reactant species are deleted from the system. If the product list has more species than the reactant list, then product the excess product species are created and randomly placed inside the simulation box. This convention is especially important if some of the species belong to a chain-like molecule, and cannot be placed at an arbitrary position.\n",
    "\n",
    "In the example below, the order of reactants and products ensures that identity of $\\mathrm{HA}$ is changed to $\\mathrm{A^{-}}$ and vice versa, while $\\mathrm{H^{+}}$ is inserted/deleted in the reaction move. Reversing the order of products in our reaction (i.e. from `product_types=[TYPE_B, TYPE_A]` to `product_types=[TYPE_A, TYPE_B]`), would result in a reaction move, where the identity HA would be changed to $\\mathrm{H^{+}}$, while $\\mathrm{A^{-}}$ would be inserted/deleted at a random position in the box. We also assign charges to each type because the charge will play an important role later, in simulations with electrostatic interactions."
   ]
  },
  {
   "cell_type": "code",
   "execution_count": 4,
   "metadata": {
    "scrolled": true
   },
   "outputs": [
    {
     "name": "stdout",
     "output_type": "stream",
     "text": [
      "{'reactions': [{'reactant_coefficients': [1], 'reactant_types': [0], 'product_types': [1, 2], 'product_coefficients': [1, 1], 'gamma': 1.3182567385564074e-05}, {'reactant_coefficients': [1, 1], 'reactant_types': [1, 2], 'product_types': [0], 'product_coefficients': [1], 'gamma': 75857.75750291836}], 'temperature': 1.0, 'exclusion_radius': 1.0}\n"
     ]
    }
   ],
   "source": [
    "RE.add_reaction(gamma=K, reactant_types=[TYPE_HA], reactant_coefficients=[1],\n",
    "                product_types=[TYPE_A, TYPE_B], product_coefficients=[1, 1],\n",
    "                default_charges={TYPE_HA: q_HA, TYPE_A: q_A, TYPE_B: q_B})\n",
    "print(RE.get_status())"
   ]
  },
  {
   "cell_type": "markdown",
   "metadata": {},
   "source": [
    "Next, we perform simulations at different pH values. The system must be equilibrated at each pH before taking samples.\n",
    "Calling `RE.reaction(X)` attempts in total `X` reactions (in both backward and forward direction)."
   ]
  },
  {
   "cell_type": "code",
   "execution_count": 5,
   "metadata": {},
   "outputs": [
    {
     "name": "stdout",
     "output_type": "stream",
     "text": [
      "Simulated pH values:  [2.88       3.16571429 3.45142857 3.73714286 4.02285714 4.30857143\n",
      " 4.59428571 4.88       5.16571429 5.45142857 5.73714286 6.02285714\n",
      " 6.30857143 6.59428571 6.88      ]\n",
      "Run pH 2.88 ...\n",
      "measured number of A-: 0.24, (ideal: 0.20)\n",
      "Run pH 3.17 ...\n",
      "measured number of A-: 0.39, (ideal: 0.38)\n",
      "Run pH 3.45 ...\n",
      "measured number of A-: 0.69, (ideal: 0.72)\n",
      "Run pH 3.74 ...\n",
      "measured number of A-: 1.30, (ideal: 1.34)\n",
      "Run pH 4.02 ...\n",
      "measured number of A-: 2.60, (ideal: 2.44)\n",
      "Run pH 4.31 ...\n",
      "measured number of A-: 4.21, (ideal: 4.23)\n",
      "Run pH 4.59 ...\n",
      "measured number of A-: 6.82, (ideal: 6.82)\n",
      "Run pH 4.88 ...\n",
      "measured number of A-: 10.14, (ideal: 10.00)\n",
      "Run pH 5.17 ...\n",
      "measured number of A-: 13.03, (ideal: 13.18)\n",
      "Run pH 5.45 ...\n",
      "measured number of A-: 15.52, (ideal: 15.77)\n",
      "Run pH 5.74 ...\n",
      "measured number of A-: 17.47, (ideal: 17.56)\n",
      "Run pH 6.02 ...\n",
      "measured number of A-: 18.73, (ideal: 18.66)\n",
      "Run pH 6.31 ...\n",
      "measured number of A-: 19.36, (ideal: 19.28)\n",
      "Run pH 6.59 ...\n",
      "measured number of A-: 19.51, (ideal: 19.62)\n",
      "Run pH 6.88 ...\n",
      "measured number of A-: 19.76, (ideal: 19.80)\n",
      "finished\n"
     ]
    }
   ],
   "source": [
    "# the reference data from Henderson-Hasselbalch equation\n",
    "def ideal_alpha(pH, pK):\n",
    "    return 1. / (1 + 10**(pK - pH))\n",
    "\n",
    "# empty lists as placeholders for collecting data\n",
    "numAs_at_each_pH = [] # number of A- species observed at each sample\n",
    "\n",
    "#run a productive simulation and collect the data\n",
    "print(\"Simulated pH values: \",pHs)\n",
    "for pH in pHs:\n",
    "    print(\"Run pH {:.2f} ...\".format(pH))\n",
    "    RE.constant_pH = pH\n",
    "    numAs_current = [] # temporary data storage for a given pH\n",
    "    RE.reaction(20*N_acid + 1) # pre-equilibrate to the new pH value\n",
    "    for i in range(num_samples):\n",
    "        if np.random.random() < PROB_REACTION:\n",
    "            RE.reaction(N_acid + 1) # should be at least one reaction attempt per particle\n",
    "        elif USE_WCA:                \n",
    "            system.integrator.run(steps=1000)\n",
    "        numAs_current.append(system.number_of_particles(type=TYPE_A))\n",
    "    numAs_at_each_pH.append(numAs_current) #\n",
    "    print(\"measured number of A-: {0:.2f}, (ideal: {1:.2f})\".format(np.mean(numAs_current),N_acid*ideal_alpha(pH,pK)))\n",
    "print(\"finished\")"
   ]
  },
  {
   "cell_type": "markdown",
   "metadata": {},
   "source": [
    "## Results\n",
    "\n",
    "Finally we plot our results and compare them to the analytical results obtained from the Henderson-Hasselbalch equation.\n",
    "\n",
    "### Statistical Uncertainty\n",
    "\n",
    "The molecular simulation produces a sequence of snapshots of the system, that \n",
    "constitute a Markov chain. It is a sequence of realizations of a random process, where\n",
    "the next value in the sequence depends on the preceding one. Therefore,\n",
    "the subsequent values are correlated. To estimate statistical error of the averages\n",
    "determined in the simulation, one needs to correct for the correlations.\n",
    "\n",
    "Here, we will use a rudimentary way of correcting for correlations, termed the binning method.\n",
    "We refer the reader to specialized literature for a more sophisticated discussion, for example [Janke2002](https://www.physik.uni-leipzig.de/~janke/Paper/nic10_423_2002.pdf). The general idea is to group a long sequence of correlated values into a rather small number of blocks, and compute an average per each block. If the blocks are big enough, they\n",
    "can be considered uncorrelated, and one can apply the formula for standard error of the mean of uncorrelated values. If the number of blocks is small, then they are uncorrelated but the obtained error estimates has a high uncertainty. If the number of blocks is high, then they are too short to be uncorrelated, and the obtained error estimates are systematically lower than the correct value. Therefore, the method works well only if the sample size is much greater than the autocorrelation time, so that it can be divided into a sufficient number of mutually uncorrelated blocks.\n",
    "\n",
    "In the example below, we use a fixed number of 16 blocks to obtain the error estimates."
   ]
  },
  {
   "cell_type": "code",
   "execution_count": 6,
   "metadata": {
    "scrolled": false
   },
   "outputs": [
    {
     "name": "stdout",
     "output_type": "stream",
     "text": [
      "block_size: 20\n",
      "av =  [ 0.24375   0.3875    0.6875    1.3       2.6       4.2125    6.81875\n",
      " 10.1375   13.034375 15.521875 17.465625 18.728125 19.35625  19.5125\n",
      " 19.75625 ]\n",
      "err =  [0.07372175 0.06199798 0.13885694 0.13693064 0.22107691 0.20435366\n",
      " 0.28500274 0.24266318 0.1696024  0.12331943 0.10623468 0.09453491\n",
      " 0.10174263 0.06511208 0.05860798]\n",
      "tau =  [4.15400883 1.6685036  3.46690079 2.45398773 3.27196653 1.83444154\n",
      " 2.43562544 1.92040086 0.98537743 0.83200933 0.87335887 1.52855\n",
      " 2.71255838 1.77996447 2.40954501]\n"
     ]
    },
    {
     "data": {
      "image/png": "[encoded data removed]",
      "text/plain": [
       "<matplotlib.figure.Figure at 0x7f95263049b0>"
      ]
     },
     "metadata": {},
     "output_type": "display_data"
    }
   ],
   "source": [
    "# statistical analysis of the results\n",
    "def block_analyze(input_data, n_blocks=16):\n",
    "    data = np.array(input_data)\n",
    "    block = 0\n",
    "    # this number of blocks is recommended by Janke as a reasonable compromise\n",
    "    # between the conflicting requirements on block size and number of blocks\n",
    "    block_size = int(data.shape[1] / n_blocks)\n",
    "    print(\"block_size:\", block_size)\n",
    "    # initialize the array of per-block averages\n",
    "    block_average = np.zeros((n_blocks, data.shape[0]))\n",
    "    # calculate averages per each block\n",
    "    for block in range(0, n_blocks):\n",
    "        block_average[block] = np.average(\n",
    "            data[:, block * block_size: (block + 1) * block_size], axis=1)\n",
    "    # calculate the average and average of the square\n",
    "    av_data = np.average(data, axis=1)\n",
    "    av2_data = np.average(data * data, axis=1)\n",
    "    # calculate the variance of the block averages\n",
    "    block_var = np.var(block_average, axis=0)\n",
    "    # calculate standard error of the mean\n",
    "    err_data = np.sqrt(block_var / (n_blocks - 1))\n",
    "    # estimate autocorrelation time using the formula given by Janke\n",
    "    # this assumes that the errors have been correctly estimated\n",
    "    tau_data = np.zeros(av_data.shape)\n",
    "    for val in range(0, av_data.shape[0]):\n",
    "        if av_data[val] == 0:\n",
    "            # unphysical value marks a failure to compute tau\n",
    "            tau_data[val] = -1.0\n",
    "        else:\n",
    "            tau_data[val] = 0.5 * block_size * n_blocks / (n_blocks - 1) * block_var[val] \\\n",
    "                / (av2_data[val] - av_data[val] * av_data[val])\n",
    "    return av_data, err_data, tau_data, block_size\n",
    "\n",
    "\n",
    "# estimate the statistical error and the autocorrelation time using the formula given by Janke\n",
    "av_numAs, err_numAs, tau, block_size = block_analyze(numAs_at_each_pH)\n",
    "print(\"av = \", av_numAs)\n",
    "print(\"err = \", err_numAs)\n",
    "print(\"tau = \", tau)\n",
    "\n",
    "# calculate the average ionization degree\n",
    "av_alpha = av_numAs/N_acid\n",
    "err_alpha = err_numAs/N_acid\n",
    "\n",
    "# plot the simulation results compared with the ideal titration curve\n",
    "plt.figure(figsize=(10, 6), dpi=80)\n",
    "plt.errorbar(pHs - pK, av_alpha, err_alpha, marker='o', linestyle='none',\n",
    "             label=r\"simulation\")\n",
    "pHs2 = np.linspace(pHmin, pHmax, num=50)\n",
    "plt.plot(pHs2 - pK, ideal_alpha(pHs2, pK), label=r\"ideal\")\n",
    "plt.xlabel('pH-p$K$', fontsize=16)\n",
    "plt.ylabel(r'$\\alpha$', fontsize=16)\n",
    "plt.legend(fontsize=16)\n",
    "plt.show()"
   ]
  },
  {
   "cell_type": "markdown",
   "metadata": {},
   "source": [
    "The simulation results for the non-interacting case very well compare with the analytical solution of Henderson-Hasselbalch equation. There are only minor deviations, and the estimated errors are small too. This situation will change when we introduce interactions.\n",
    "\n",
    "It is useful to check whether the estimated errors are consistent with the assumptions that were used to obtain them. To do this, we follow [Janke2000] to estimate the number of uncorrelated samples per block, and check whether each block contains a sufficient number of uncorrelated samples (we choose 10 uncorrelated samples per block as the threshold value).\n",
    "\n",
    "Intentionally, we make our simulation slightly too short, so that it does not produce enough uncorrelated samples. We encourage the reader to vary the number of blocks or the number of samples to see how the estimated error changes with these parameters."
   ]
  },
  {
   "cell_type": "code",
   "execution_count": 7,
   "metadata": {
    "scrolled": false
   },
   "outputs": [
    {
     "name": "stdout",
     "output_type": "stream",
     "text": [
      "uncorrelated samples per block:\n",
      "block_size/tau =  [ 4.81462626 11.98678862  5.76884117  8.15        6.11253197 10.90250062\n",
      "  8.2114432  10.4144923  20.29679119 24.03819192 22.90009374 13.08429555\n",
      "  7.37311321 11.23617936  8.30032221]\n",
      "\n",
      "Warning: some blocks may contain less than  10.0 uncorrelated samples.\n",
      "Your error estimated may be unreliable.\n",
      "Please, check them using a more sophisticated method or run a longer simulation.\n",
      "? block_size/tau > threshold ? : [False  True False False False  True False  True  True  True  True  True\n",
      " False  True False]\n"
     ]
    }
   ],
   "source": [
    "# check if the blocks contain enough data for reliable error estimates\n",
    "print(\"uncorrelated samples per block:\\nblock_size/tau = \",\\\n",
    "      block_size/tau)\n",
    "threshold=10. # block size should be much greater than the correlation time\n",
    "if np.any(block_size / tau < threshold):\n",
    "    print(\"\\nWarning: some blocks may contain less than \", threshold, \"uncorrelated samples.\"\\\n",
    "          \"\\nYour error estimated may be unreliable.\"\\\n",
    "          \"\\nPlease, check them using a more sophisticated method or run a longer simulation.\")\n",
    "    print(\"? block_size/tau > threshold ? :\", block_size/tau>threshold)\n",
    "else:\n",
    "    print(\"\\nAll blocks seem to contain more than \", threshold, \"uncorrelated samples.\\\n",
    "    Error estimates should be OK.\")\n"
   ]
  },
  {
   "cell_type": "markdown",
   "metadata": {},
   "source": [
    "To look in more detail at the statistical accuracy, it is useful to plot the deviations from the analytical result. This provides another way to check the consistency of error estimates.  About 68% of the results should be within one error bar from the analytical result, whereas about 95% of the results should be within two times the error bar. Indeed, if you plot the deviations by running the script below, you should observe that most of the results are within one error bar from the analytical solution, a smaller fraction  of the results is slightly further than one error bar, and one or two might be about two error bars apart. Again, this situation will change when we introduce interactions because the ionization of the interacting system should deviate from the Henderson-Hasselbalch equation."
   ]
  },
  {
   "cell_type": "code",
   "execution_count": 8,
   "metadata": {
    "scrolled": false
   },
   "outputs": [
    {
     "data": {
      "image/png": "[encoded data removed]",
      "text/plain": [
       "<matplotlib.figure.Figure at 0x7f9526383390>"
      ]
     },
     "metadata": {},
     "output_type": "display_data"
    }
   ],
   "source": [
    "# plot the deviations from the ideal result\n",
    "plt.figure(figsize=(10, 6), dpi=80)\n",
    "ylim=np.amax(abs(av_alpha-ideal_alpha(pHs, pK)))\n",
    "plt.ylim((-1.5*ylim,1.5*ylim))\n",
    "plt.errorbar(pHs - pK, av_alpha-ideal_alpha(pHs, pK),\\\n",
    "             err_alpha, marker='o', linestyle='none', label=r\"simulation\")\n",
    "plt.plot(pHs - pK, 0.0*ideal_alpha(pHs, pK), label=r\"ideal\")\n",
    "plt.xlabel('pH-p$K$', fontsize=16)\n",
    "plt.ylabel(r'$\\alpha - \\alpha_{ideal}$', fontsize=16)\n",
    "plt.legend(fontsize=16)\n",
    "plt.show()"
   ]
  },
  {
   "cell_type": "code",
   "execution_count": null,
   "metadata": {},
   "outputs": [],
   "source": []
  },
  {
   "cell_type": "markdown",
   "metadata": {},
   "source": [
    "### The Neutralizing Ion $\\mathrm{B^+}$\n",
    "Up to now we did not discuss the chemical nature the neutralizer $\\mathrm{B^+}$. The added salt is not relevant in this context, therefore we omit it from the discussion. The simplest case to consider is what happens if you add the acidic polymer to pure water ($\\mathrm{pH} = 7$). Some of the acid groups dissociate and release $\\mathrm{H^+}$ ions into the solution. The pH decreases to a value that depends on $\\mathrm{p}K_{\\mathrm{A}}$ and on the concentration of ionizable groups. Now, three ionic species are present in the solution: $\\mathrm{H^+}$, $\\mathrm{A^-}$, and $\\mathrm{OH^-}$. Because the reaction generates only one $\\mathrm{B^+}$ ion in the simulation box, we conclude that in this case the $\\mathrm{B^+}$ ions correspond to $\\mathrm{H^+}$ ions. The $\\mathrm{H^+}$ ions neutralize both the $\\mathrm{A^-}$ and the $\\mathrm{OH^-}$ ions. At acidic pH there are only very few $\\mathrm{OH^-}$ ions and nearly all $\\mathrm{H^+}$ ions act as a neutralizer for the $\\mathrm{A^-}$ ions. Therefore, the concentration of $\\mathrm{B^+}$ is very close to the concentration of $\\mathrm{H^+}$ in the real aqueous solution. Only very few $\\mathrm{OH^-}$ ions, and the $\\mathrm{H^+}$ ions needed to neutralize them, are missing in the simulation box, when compared to the real solution.\n",
    "\n",
    "To achieve a more acidic pH (with the same pK and polymer concentration), we need to add an acid to the system. We can do that by adding a strong acid, such as HCl or $\\mathrm{HNO}_3$. We will denote this acid by a generic name $\\mathrm{HX}$ to emphasize that in general its anion can be different from the salt anion $\\mathrm{Cl^{-}}$. Now, there are 4 ionic species in the solution:  $\\mathrm{H^+}$, $\\mathrm{A^-}$, $\\mathrm{OH^-}$, and $\\mathrm{X^-}$ ions. By the same argument as before, we conclude that $\\mathrm{B^+}$ ions correspond to $\\mathrm{H^+}$ ions. The $\\mathrm{H^+}$ ions neutralize the $\\mathrm{A^-}$, $\\mathrm{OH^-}$, and the $\\mathrm{X^-}$ ions. Because the concentration of $\\mathrm{X^-}$ is not negligible anymore, the concentration of $\\mathrm{B^+}$ in the simulation box differs from the $\\mathrm{H^+}$ concentration in the real solution. Now, many more ions are missing in the simulation box, as compared to the real solution: Few $\\mathrm{OH^-}$ ions, many $\\mathrm{X^-}$ ions, and all the $\\mathrm{H^+}$ ions that neutralize them.\n",
    "\n",
    "To achieve a neutral pH we need to add some base to the system to neutralize the polymer.\n",
    "In the simplest case we add an alkali metal hydroxide, such as $\\mathrm{NaOH}$ or $\\mathrm{KOH}$, that we will generically denote as $\\mathrm{MOH}$. Now, there are 4 ionic species in the solution:  $\\mathrm{H^+}$, $\\mathrm{A^-}$, $\\mathrm{OH^-}$, and $\\mathrm{M^+}$. In such situation, we can not clearly attribute a specific chemical identity to the $\\mathrm{B^+}$ ions. However, only very few $\\mathrm{H^+}$ and $\\mathrm{OH^-}$ ions are present in the system at $\\mathrm{pH} = 7$. Therefore, we can make the approximation that at this pH, all $\\mathrm{A^-}$ are neutralized by the $\\mathrm{M^+}$ ions, and the $\\mathrm{B^+}$ correspond to $\\mathrm{M^+}$. Then, the concentration of $\\mathrm{B^+}$ also corresponds to the concentration of $\\mathrm{M^+}$ ions. Now, again only few ions are missing in the simulation box, as compared to the real solution: Few $\\mathrm{OH^-}$ ions, and few $\\mathrm{H^+}$ ions.\n",
    "\n",
    "To achieve a basic pH we need to add even more base to the system to neutralize the polymer.\n",
    "Again, there are 4 ionic species in the solution:  $\\mathrm{H^+}$, $\\mathrm{A^-}$, $\\mathrm{OH^-}$, and $\\mathrm{M^+}$ and we can not clearly attribute a specific chemical identity to the $\\mathrm{B^+}$ ions. Because only very few $\\mathrm{H^+}$ ions should be present in the solution, we can make the approximation that at this pH, all $\\mathrm{A^-}$ ions are neutralized by the $\\mathrm{M^+}$ ions, and therefore $\\mathrm{B^+}$ ions in the simulation correspond to $\\mathrm{M^+}$ ions in the real solution. Because additional $\\mathrm{M^+}$ ions in the real solution neutralize the $\\mathrm{OH^-}$ ions, the concentration of $\\mathrm{B^+}$ does not correspond to the concentration of $\\mathrm{M^+}$ ions. Now, again many ions are missing in the simulation box, as compared to the real solution: Few $\\mathrm{H^+}$ ions, many $\\mathrm{OH^-}$ ions, and a comparable amount of the $\\mathrm{M^+}$ ions.\n",
    "\n",
    "To further illustrate this subject, we compare the concentration of the neutralizer ion $\\mathrm{B^+}$ calculated in the simulation with the expected number of ions of each species. At a given pH and pK we can calculate the expected degree of ionization from the Henderson Hasselbalch equation. Then we apply the electroneutrality condition \n",
    "$$c_\\mathrm{A^-} + c_\\mathrm{OH^-} + c_\\mathrm{X^-} = c_\\mathrm{H^+} + c_\\mathrm{M^+}$$\n",
    "where we use either $c_\\mathrm{X^-}=0$ or $c_\\mathrm{M^+}=0$ because we always only add extra acid or base, but never both. Adding both would be equivalent to adding extra salt $\\mathrm{MX}$.\n",
    "We obtain the concentrations of $\\mathrm{OH^-}$ and $\\mathrm{H^+}$ from the input pH value, and substitute them to the electroneutrality equation to obtain\n",
    "$$\\alpha c_\\mathrm{acid} + 10^{-(\\mathrm{p}K_\\mathrm{w} - \\mathrm{pH})} + 10^{-\\mathrm{pH}} = c_\\mathrm{M^+} - c_\\mathrm{X^-}$$\n",
    "Depending on whether the left-hand side of this equation is positive or negative we know whether we should add $\\mathrm{M^+}$ or $\\mathrm{X^-}$ ions."
   ]
  },
  {
   "cell_type": "code",
   "execution_count": 9,
   "metadata": {
    "scrolled": false
   },
   "outputs": [
    {
     "data": {
      "image/png": "[encoded data removed]",
      "text/plain": [
       "<matplotlib.figure.Figure at 0x7f9524cce358>"
      ]
     },
     "metadata": {},
     "output_type": "display_data"
    }
   ],
   "source": [
    "av_c_Bplus = av_alpha*c_acid # average concentration of B+ is the same as the concentration of A-\n",
    "err_c_Bplus = err_alpha*c_acid # error in the average concentration\n",
    "\n",
    "full_pH_range = np.linspace(2,12,100)\n",
    "ideal_c_Aminus = ideal_alpha(full_pH_range, pK)*c_acid\n",
    "ideal_c_OH = np.power(10.0, -(pKw - full_pH_range))*ureg('mol/L')\n",
    "ideal_c_H = np.power(10.0, -full_pH_range)*ureg('mol/L')\n",
    "# ideal_c_M is calculated from electroneutrality\n",
    "ideal_c_M = np.maximum((ideal_c_Aminus + ideal_c_OH - ideal_c_H).to('mol/L').magnitude, np.zeros_like(full_pH_range))*ureg('mol/L')\n",
    "\n",
    "# plot the simulation results compared with the ideal results of the cations\n",
    "plt.figure(figsize=(10, 6), dpi=80)\n",
    "plt.errorbar(pHs,\n",
    "             av_c_Bplus.to('mol/L').magnitude,\n",
    "             err_c_Bplus.to('mol/L').magnitude,\n",
    "             marker='o', c=\"tab:blue\", linestyle='none',\n",
    "             label=r\"measured $c_{\\mathrm{B^+}}$\", zorder=2)\n",
    "plt.plot(full_pH_range, ideal_c_H.to('mol/L').magnitude, c=\"tab:green\",\n",
    "         label=r\"ideal $c_{\\mathrm{H^+}}$\", zorder=0)\n",
    "plt.plot(full_pH_range, ideal_c_M.to('mol/L').magnitude, c=\"tab:orange\",\n",
    "         label=r\"ideal $c_{\\mathrm{M^+}}$\", zorder=0)\n",
    "plt.plot(full_pH_range, ideal_c_Aminus.to('mol/L').magnitude, c=\"tab:blue\", ls=(0,(5,5)),\n",
    "         label=r\"ideal $c_{\\mathrm{A^-}}$\", zorder=1)\n",
    "plt.yscale(\"log\")\n",
    "plt.ylim(1e-6,)\n",
    "plt.xlabel('input pH', fontsize=16)\n",
    "plt.ylabel(r'$c$ in $\\mathrm{mol/L}$', fontsize=16)\n",
    "plt.legend(fontsize=16)\n",
    "plt.show()"
   ]
  },
  {
   "cell_type": "markdown",
   "metadata": {},
   "source": [
    "The plot shows that at intermediate pH the concentration of $\\mathrm{B^+}$ ions is approximately equal to the concentration of $\\mathrm{M^+}$ ions. Only at one specific $\\mathrm{pH}$ the concentration of $\\mathrm{B^+}$ ions is equal to the concentration of $\\mathrm{M^+}$ ions. This is the pH one obtains when dissolving the weak acid $\\mathrm{A}$ in pure water.\n",
    "\n",
    "In an ideal system, the ions missing in the simulation have no effect on the ionization degree. In an interacting system, the presence of ions in the box affects the properties of other parts of the system. Therefore, in an interacting system this discrepancy is harmless only at intermediate pH. The effect of the small ions on the rest of the system can be estimated from the overall the ionic strength.\n",
    "$$ I = \\frac{1}{2}\\sum_i c_i z_i^2 $$"
   ]
  },
  {
   "cell_type": "code",
   "execution_count": 10,
   "metadata": {},
   "outputs": [
    {
     "data": {
      "image/png": "[encoded data removed]",
      "text/plain": [
       "<matplotlib.figure.Figure at 0x7f9523cca7b8>"
      ]
     },
     "metadata": {},
     "output_type": "display_data"
    }
   ],
   "source": [
    "ideal_c_X = np.maximum(-(ideal_c_Aminus + ideal_c_OH - ideal_c_H).to('mol/L').magnitude, np.zeros_like(full_pH_range))*ureg('mol/L')\n",
    "\n",
    "ideal_ionic_strength = 0.5*(ideal_c_X + ideal_c_M + ideal_c_H + ideal_c_OH + 2*c_salt)\n",
    "cpH_ionic_strength = 0.5*(ideal_c_Aminus + 2*c_salt) # in constant-pH simulation ideal_c_Aminus = ideal_c_Bplus\n",
    "cpH_ionic_strength_measured = 0.5*(av_c_Bplus + 2*c_salt)\n",
    "cpH_error_ionic_strength_measured = 0.5*err_c_Bplus\n",
    "\n",
    "plt.figure(figsize=(10, 6), dpi=80)\n",
    "plt.errorbar(pHs,\n",
    "             cpH_ionic_strength_measured.to('mol/L').magnitude,\n",
    "             cpH_error_ionic_strength_measured.to('mol/L').magnitude,\n",
    "             c=\"tab:blue\",\n",
    "             linestyle='none',marker='o',\n",
    "             label=r\"measured\",zorder=3)\n",
    "plt.plot(full_pH_range,\n",
    "         cpH_ionic_strength.to('mol/L').magnitude,\n",
    "         c=\"tab:blue\",\n",
    "         ls=(0,(5,5)),\n",
    "         label=r\"cpH\",zorder=2)\n",
    "plt.plot(full_pH_range,\n",
    "         ideal_ionic_strength.to('mol/L').magnitude,\n",
    "         c=\"tab:orange\",\n",
    "         linestyle='-',\n",
    "         label=r\"ideal\",zorder=1)\n",
    "\n",
    "\n",
    "plt.yscale(\"log\")\n",
    "plt.xlabel('input pH', fontsize=16)\n",
    "plt.ylabel(r'Ionic Strength [$\\mathrm{mol/L}$]', fontsize=16)\n",
    "plt.legend(fontsize=16)\n",
    "plt.show()"
   ]
  },
  {
   "cell_type": "markdown",
   "metadata": {},
   "source": [
    "We see that the ionic strength in the simulation box significantly deviates from the ionic strength of the real solution only at high or low pH value. If the $\\mathrm{p}K_{\\mathrm{A}}$ value is sufficiently large, then the deviation at very low pH can also be neglected because then the polymer is uncharged in the region where the ionic strength is not correctly represented in the cpH simulation. At a high pH the ionic strength will have an effect on the weak acid, because the it is fully charged. The pH range in which the cpH method uses approximately the right ionic strength depends on salt concentration, weak acid concentration and the $\\mathrm{p}K_{\\mathrm{A}}$ value. See also [Landsgesell2019](https://doi.org/10.1039/C8SM02085J) for a more detailed discussion of this issue, and its consequences.\n"
   ]
  },
  {
   "cell_type": "markdown",
   "metadata": {},
   "source": [
    "## Suggested problems for further work\n",
    "\n",
    "* Try changing the concentration of ionizable species in the non-interacting system. You should observe that it does not affect the obtained titration.\n",
    "\n",
    "* Try changing the number of samples and the number of particles to see how the estimated error and the number of uncorrelated samples will change. Be aware that if the number of uncorrelated samples is low, the error estimation is too optimistic.\n",
    "\n",
    "* Try running the same simulations with steric repulsion and then again with electrostatic interactions. Observe how the ionization equilibrium is affected by various interactions. Warning: simulations with electrostatics are much slower. If you want to obtain your results more quickly, then decrease the number of pH values."
   ]
  },
  {
   "cell_type": "markdown",
   "metadata": {},
   "source": [
    "## References\n",
    "\n",
    "[Janke2002](https://www.physik.uni-leipzig.de/~janke/Paper/nic10_423_2002.pdf) Janke W. Statistical Analysis of Simulations: Data Correlations and Error Estimation,\n",
    "In Quantum Simulations of Complex Many-Body Systems: From Theory to Algorithms, Lecture Notes,\n",
    "J. Grotendorst, D. Marx, A. Muramatsu (Eds.), John von Neumann Institute for Computing, Jülich,\n",
    "NIC Series, Vol. 10, ISBN 3-00-009057-6, pp. 423-445, 2002.\n",
    "\n",
    "[Landsgesell2019](https://doi.org/10.1039/C8SM02085J) Landsgesell, J.; Nová, L.; Rud, O.; Uhlík, F.; Sean, D.; Hebbeker, P.; Holm, C.; Košovan, P. Simulations of Ionization Equilibria in Weak Polyelectrolyte Solutions and Gels. Soft Matter 2019, 15 (6), 1155–1185. \n",
    "    \n",
    "[Reed1992](https://doi.org/10.1063/1.462145) Reed, C. E.; Reed, W. F. Monte Carlo Study of Titration of Linear Polyelectrolytes. The Journal of Chemical Physics 1992, 96 (2), 1609–1620.\n",
    "\n",
    "[Smith1994](https://doi.org/10.1063/1.466443) Smith, W. R.; Triska, B. The Reaction Ensemble Method for the Computer Simulation of Chemical and Phase Equilibria. I. Theory and Basic Examples. The Journal of Chemical Physics 1994, 100 (4), 3019–3027."
   ]
  },
  {
   "cell_type": "code",
   "execution_count": null,
   "metadata": {},
   "outputs": [],
   "source": []
  }
 ],
 "metadata": {
  "kernelspec": {
   "display_name": "Python 3",
   "language": "python",
   "name": "python3"
  },
  "language_info": {
   "codemirror_mode": {
    "name": "ipython",
    "version": 3
   },
   "file_extension": ".py",
   "mimetype": "text/x-python",
   "name": "python",
   "nbconvert_exporter": "python",
   "pygments_lexer": "ipython3",
   "version": "3.6.5"
  }
 },
 "nbformat": 4,
 "nbformat_minor": 2
}
