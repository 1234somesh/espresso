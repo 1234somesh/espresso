{
 "cells": [
  {
   "cell_type": "markdown",
   "metadata": {},
   "source": [
    "## 1 Introduction\n",
    "\n",
    "This tutorial introduces the basic features for simulating titratable systems via the constant pH method.\n",
    "The constant pH method is one of the methods implemented for simulating systems with chemical reactions within the Reaction Ensemble module. It is a Monte-Carlo method designed to model an acid-base ionization reaction at a given (fixed) value of solution pH.\n",
    "\n",
    "We will consider a homogeneous aqueous solution of a titratable acidic species $\\mathrm{HA}$ that can dissociate in a reaction, that is characterized by the equilibrium constant $\\mathrm{p}K_A=-\\log_{10} K_A$\n",
    "$$\\mathrm{HA} \\Leftrightarrow \\mathrm{A}^- + \\mathrm{H}^+$$\n",
    "\n",
    "\n",
    "If $N_0 = N_{\\mathrm{HA}} + N_{\\mathrm{A}^-}$ is the number of titratable groups in solution, then we define the degree of dissociation $\\alpha$ as:\n",
    "\n",
    "$$\\alpha = \\dfrac{N_{\\mathrm{A}^-}}{N_0}.$$\n",
    "\n",
    "This is one of the key quantities that can be used to describe the acdi-base equilibrium. Usually, the goal of the simulation is to predict the value of $\\alpha$ under given conditions in a complex system with intearctions. In this tutorial, we will simulate only ideal systems (without intermolecular interactions) to show that in such case our simulations reproduce the well-known analytical solutions."
   ]
  },
  {
   "cell_type": "markdown",
   "metadata": {},
   "source": [
    "### 1.1 The Chemical Equilibrium and Reaction Constant\n",
    "\n",
    "The equilibrium reaction constant describes the chemical equilibrium of a given reaction. The values of equilibrium constants for various reactions can be found in tables. For the acid-base ionization reaction, the equilibrium constant is conventionally called the acidity constant, and it is defined as\n",
    "\\begin{equation}\n",
    "K_A = \\frac{a_{\\mathrm{H}^+} a_{\\mathrm{A}^-} } {a_{\\mathrm{HA}}}\n",
    "\\end{equation}\n",
    "where $a_i$ is the activity of species $i$. It is related to the chemical potential and to the concentration\n",
    "\\begin{equation}\n",
    "\\mu_i = k_{\\mathrm{B}}T \\ln a_i\n",
    "\\,,\\qquad\n",
    "a_i = \\frac{c_i \\gamma_i}{c^{\\ominus}}\n",
    "\\end{equation}\n",
    "where $\\gamma_i$ is the activity coefficient, and $c^{0}$ is the (arbitrary) reference cocnentration, often chosen to be the standard concentration, $c^0 = 1\\,\\mathrm{mol\\,dm^{-3}}$.\n",
    "Note that $K$ is a dimensionless quantity but its numerical value depends on the choice of $c^0$.\n",
    "For an ideal system, $\\gamma_i=0$ by definition, whereas for an interacting system $\\gamma_i$ is a non-trivial function of the interactions. Therefore, for an ideal system we can rewrite $K$ in terms of equilibrium concentrations\n",
    "\\begin{equation}\n",
    "K_A \\overset{\\mathrm{ideal}}{=} \\frac{c_{\\mathrm{H}^+} c_{\\mathrm{A}^-} } {c_{\\mathrm{HA}} c^{\\ominus}}\n",
    "\\end{equation}\n",
    "\n",
    "The ionization degree can also be expressed via the ratio of concentrations:\n",
    "\\begin{equation}\n",
    "\\alpha \n",
    "= \\frac{N_{\\mathrm{A}^-}}{N_0} \n",
    "= \\frac{N_{\\mathrm{A}^-}}{N_{\\mathrm{HA}} + N_{\\mathrm{A}^-}}\n",
    "= \\frac{c_{\\mathrm{A}^-}}{c_{\\mathrm{HA}}+c_{\\mathrm{A}^-}}\n",
    "= \\frac{c_{\\mathrm{A}^-}}{c_{0}}.\n",
    "\\end{equation}\n",
    "where $c_0=c_{\\mathrm{HA}}+c_{\\mathrm{A}^-}$ is the total concentration of titratable groups irrespective of their ionization state.\n",
    "Then, we can characterize the acid-base ionization equilibrium using the iniozation degree and pH, defined as\n",
    "\\begin{equation}\n",
    "\\mathrm{pH} = -\\log_{10} a_{\\mathrm{H^{+}}} \\overset{\\mathrm{ideal}}{=} -\\log_{10} (c_{\\mathrm{H^{+}}} / c^{\\ominus})\n",
    "\\end{equation}\n",
    "Substituting for the ionization degree and pH into the expression for $K_A$ we obtain the Henderson-Hasselbalch equation\n",
    "\\begin{equation}\n",
    "\\mathrm{pH}-\\mathrm{p}K_A = \\log_{10} \\frac{\\alpha}{1-\\alpha}\n",
    "\\end{equation}\n",
    "One important implication of the Henderson-Hasselbalch equation is that at a fixed pH value the ionization degree of an ideal acid is independent of concentration. Another important implication is that it does not depend on the absolute values of $\\mathrm{p}K_A$ or $\\mathrm{pH}$, but only on the difference, $\\mathrm{pH}-\\mathrm{p}K_A$."
   ]
  },
  {
   "cell_type": "markdown",
   "metadata": {},
   "source": [
    "### 1.2 Constant pH Method\n",
    "\n",
    "The constant pH method [Reed1992] is designed to simulate an acid-base ionization reaction at a given pH. It assumes that the simulated system is coupled to an implicit reservoir of $\\mathrm{H^+}$ ions but exchange of ions with this reservoir is not explicitly simulated. Therefore, the number of $\\mathrm{H}^+$ ions in the simulation box does not correspond to the chosen pH. This may lead to artifacts when simulating interacting systems, especially at high of low pH values. Discussion of these artifacts is beyond the scope of this tutorial (see e.g. [Landsgesell2019] for further details).\n",
    "\n",
    "In Espresso, the forward step of the ionization reaction (from left to right) is implemented by \n",
    "changing the chemical identity (particle type) of a randomly selected $\\mathrm{HA}$ particle to $\\mathrm{A}^-$, and inserting another particle that represents $\\mathrm{H}^+$. In the reverse direction (from right to left), the chemical identity (particle type) of a randomly selected $\\mathrm{A}^{-}$ is changed to $\\mathrm{HA}$, and a randomly selected $\\mathrm{H}^+$ is deleted from the simulation box. The probability of proposing the  forward reaction step is $P_\\text{prop}=N_\\mathrm{HA}/N_0$, and probability of proposing the reseverse step is $P_\\text{prop}=N_\\mathrm{A}/N_0$. The trial move is accepted with the acceptance probability\n",
    "\n",
    "$$ P_{\\mathrm{acc}} = \\operatorname{min}\\left(1, \\exp(\\beta \\Delta E_\\mathrm{pot} \\pm \\ln_{10} (\\mathrm{pH - p}K_A) ) \\right)$$\n",
    "\n",
    "Here $\\Delta E_\\text{pot}$ is the potential energy change due to the reaction, while $\\text{pH - p}K$ is an input parameter. \n",
    "The signs $\\pm 1$ correspond to the forward and reverse direction of the ionization reaction, respectively. \n",
    "\n"
   ]
  },
  {
   "cell_type": "markdown",
   "metadata": {},
   "source": [
    "## 2 Setup\n",
    "We start by creating a system instance with an arbitrary box length of 35 $\\sigma$ and creating `N0` titratable units (in the associated state). We set the dissociation constant of the acid to $\\mathrm{p}K_A=4.25$, that is the acidity constant of acrylic acid."
   ]
  },
  {
   "cell_type": "code",
   "execution_count": 1,
   "metadata": {
    "scrolled": true
   },
   "outputs": [],
   "source": [
    "import numpy as np\n",
    "import matplotlib.pyplot as plt\n",
    "plt.ion()\n",
    "\n",
    "import espressomd\n",
    "from espressomd import reaction_ensemble\n",
    "\n",
    "# System parameters\n",
    "#############################################################\n",
    "BOX_L= 35 # box size is arbitrary (see Henderson-Hasselbalch equation)\n",
    "\n",
    "# particle types of different species\n",
    "TYPE_HA = 0\n",
    "TYPE_A = 1\n",
    "TYPE_H = 2\n",
    "\n",
    "# acidity constant\n",
    "pK = 4.25\n",
    "K = 10**(-pK)\n",
    "\n",
    "# range of pH values to be used in calculations\n",
    "num_pHs=15 # number of pH values\n",
    "num_samples = 50; # number of reaction samples per each pH value\n",
    "offset=2.0; # range of pH values to be used\n",
    "pHmin=pK-offset # lowest pH value to be used\n",
    "pHmax=pK+offset # highest pH value to be used\n",
    "pHs = np.linspace(pHmin, pHmax, num_pHs); # list of pH values\n",
    "\n",
    "N0 = 10  # number of titratable units in the box\n",
    "\n",
    "# Integration parameters\n",
    "#############################################################\n",
    "system = espressomd.System(box_l=[BOX_L] * 3)\n",
    "system.set_random_state_PRNG()\n",
    "np.random.seed(seed=10)\n",
    "\n",
    "for i in range(N0):\n",
    "    system.part.add(pos=np.random.random(3) * system.box_l, type=TYPE_HA)"
   ]
  },
  {
   "cell_type": "markdown",
   "metadata": {},
   "source": [
    "In the first step, we initialize the reaction ensemble, by setting the temperature, exclusion radius and seed of the random number generator. Because we are simulating an ideal system, \n",
    "we set the temperature and exclusion radius to arbitrary values. In an interacting system the exclusion radius ensures that particle insertions too close to other particles are not attempted. Such insertions would make the subsequent Langevin dynamics integration unstable. We set the seed to a constant value to ensure reproducible sequence of random numbers when repeating the exercise. For production runs, one would set the \n",
    "\n",
    "The next step is to define the reaction system and the seed of the pseudo-random number generator which is used for the Monte-Carlo steps.\n",
    "\n",
    "The order in which species are written in the lists of reactants and products is very important. When a reaction move is performed, identity of the first species in the list of reactants is changed to the first species in the list of products, the second reactant species is changed to the second product species, and so on. If the reactant list has more species than the product list, then excess reactant species are deleted from the system. If the product list has more species than the reactant list, then product the excess product species are created and randomly placed inside the simulation box. This is especially relevant if some of the species belong to a cahin-like molecule.\n",
    "\n",
    "In the example below, the order of reactants and produces ensures that identity of $\\mathrm{HA}$ is changed to $\\mathrm{A^{-}}$ and vice versa, while $\\mathrm{H^{+}}$ is inserted/deleted in the reaction move. Reversing the order of products in our reaction (i.e. from  `product_types=[TYPE_H, TYPE_A]` to `product_types=[TYPE_A, TYPE_H]`), would result in a reaction move, where the identity HA would be changed to $\\mathrm{H^{+}}$, while $\\mathrm{A^{-}}$ would be inserted/deleted at a random position in the box.\n",
    "\n",
    "\n",
    "We also assign charges to each type because in general the charge will play a role in simulations with electrostatic interactions. As an easy task for the interested reader we propose to adapt the tutorial to account for electrostatic interactions. Therefore we keep these values for the needed charge assignments in place, although they are not needed for an ideal system."
   ]
  },
  {
   "cell_type": "code",
   "execution_count": 2,
   "metadata": {
    "scrolled": true
   },
   "outputs": [
    {
     "name": "stdout",
     "output_type": "stream",
     "text": [
      "{'reactions': [{'reactant_coefficients': [1], 'reactant_types': [0], 'product_types': [1, 2], 'product_coefficients': [1, 1], 'gamma': 5.623413251903491e-05}, {'reactant_coefficients': [1, 1], 'reactant_types': [1, 2], 'product_types': [0], 'product_coefficients': [1], 'gamma': 17782.79410038923}], 'temperature': 1.0, 'exclusion_radius': 0.0}\n"
     ]
    }
   ],
   "source": [
    "RE = reaction_ensemble.ConstantpHEnsemble(\n",
    "        temperature=1, exclusion_radius=0.0, seed=77)\n",
    "\n",
    "RE.add_reaction(gamma=K, reactant_types=[TYPE_HA], reactant_coefficients=[1],\n",
    "                product_types=[TYPE_A, TYPE_H], product_coefficients=[1, 1],\n",
    "                default_charges={TYPE_HA: 0, TYPE_A: -1, TYPE_H: +1})\n",
    "print(RE.get_status())"
   ]
  },
  {
   "cell_type": "markdown",
   "metadata": {},
   "source": [
    "Next we perform simulations at different pH values. The system must be equilibrated at each pH before taking samples.\n",
    "Calling `RE.reaction(X)` attempts in total `X` reactions (in back and forward directions).\n",
    "We also plot the acceptance rate for the dissociation reaction and the association reaction for the first pH value which we set."
   ]
  },
  {
   "cell_type": "code",
   "execution_count": 3,
   "metadata": {},
   "outputs": [
    {
     "name": "stdout",
     "output_type": "stream",
     "text": [
      "pH is 2.2\n",
      "observed particle numbers of type A  [0, 1]\n",
      "pH is 2.5\n",
      "observed particle numbers of type A  [0, 1]\n",
      "pH is 2.8\n",
      "observed particle numbers of type A  [0, 1, 2]\n",
      "pH is 3.1\n",
      "observed particle numbers of type A  [0, 1, 2]\n",
      "pH is 3.4\n",
      "observed particle numbers of type A  [0, 1, 2, 3, 4, 5]\n",
      "pH is 3.7\n",
      "observed particle numbers of type A  [0, 1, 2, 3, 4]\n",
      "pH is 4.0\n",
      "observed particle numbers of type A  [1, 2, 3, 4, 5, 6, 7, 8]\n",
      "pH is 4.2\n",
      "observed particle numbers of type A  [1, 2, 3, 4, 5, 6, 7, 8]\n",
      "pH is 4.5\n",
      "observed particle numbers of type A  [4, 5, 6, 7, 8, 9]\n",
      "pH is 4.8\n",
      "observed particle numbers of type A  [5, 6, 7, 8, 9, 10]\n",
      "pH is 5.1\n",
      "observed particle numbers of type A  [6, 7, 8, 9, 10]\n",
      "pH is 5.4\n",
      "observed particle numbers of type A  [8, 9, 10]\n",
      "pH is 5.7\n",
      "observed particle numbers of type A  [8, 9, 10]\n",
      "pH is 6.0\n",
      "observed particle numbers of type A  [9, 10]\n",
      "pH is 6.2\n",
      "observed particle numbers of type A  [9, 10]\n"
     ]
    }
   ],
   "source": [
    "# empty lists as placeholders for collecting data\n",
    "numAs = []; # number of A- species observed at each sample\n",
    "degrees_of_dissociation = []\n",
    "std_dev_degree_of_dissociation = []\n",
    "histograms = []\n",
    "histogram_edges = range(0,N0+1)\n",
    "\n",
    "# collect the data\n",
    "for pH in pHs:\n",
    "    print(\"pH is {:.1f}\".format(pH))\n",
    "    RE.constant_pH = pH\n",
    "    RE.reaction(100 * N0) # pre-equilibration to the new pH\n",
    "    numAs_current = []; # temporary data storage for a given pH\n",
    "    for i in range(num_samples):\n",
    "        RE.reaction(N0 + 1) # should be at least one reaction attempt per particle\n",
    "        numAs_current.append(system.number_of_particles(type=TYPE_A))\n",
    "    print(\"observed particle numbers of type A \", sorted(set(numAs_current)))\n",
    "    histogram = np.bincount(np.array(numAs_current).astype(int), minlength=N0 + 1)\n",
    "    histograms.append(histogram / float(len(numAs_current)))\n",
    "    numAs.append(numAs_current) # \n",
    "    degrees_of_dissociation.append(np.mean(numAs) / N0)\n",
    "    std_dev_degree_of_dissociation.append(np.std(numAs, ddof=1) / N0)\n",
    "    if(abs(pH - 1.0) < 1e-4):\n",
    "        print(\"acceptance rate dissociation\", RE.get_acceptance_rate_reaction(0))\n",
    "        print(\"acceptance rate association\", RE.get_acceptance_rate_reaction(1))"
   ]
  },
  {
   "cell_type": "markdown",
   "metadata": {},
   "source": [
    "## 3 Results\n",
    "\n",
    "Finally we plot our results and compare them to the analytical results obtained from the Henderson-Hasselbalch equation.\n",
    "\n",
    "### 3.1 Statistical Uncertainty\n",
    "\n",
    "The molecular simulation produces a sequence of snapshots of the system, that \n",
    "constitute a Markov chain. It is a sequence of realizations of a random process, where\n",
    "the next value in the sequence depends on the preceding one. Therefore,\n",
    "the subsequent values are correlated. To estimate statistical error of the averages\n",
    "determined in the simulation, one needs to correct for the correlations.\n",
    "\n",
    "Here, we will use a rudimentary way of correcting for correlations, termed the binning method.\n",
    "We refer the reader to specialized literature for a more sophisticated discussion [cite Janke]. The general idea is to group a long sequence of correlated values into a rather small number of blocks, and compute an average per each block. If the blocks are big enough, they\n",
    "can be considered uncorrelated, and one can apply the formula for standard error of the mean of uncorrelated values. If the number of blocks is small, then they are uncorrelated but the obtained error estimates has a high uncertainty. If the number of blocks is high, then they are too short to be uncorrelated, and the obtained error estimates are systematically lower than the correct value. Therefore, the method works well only if the sample size is much greater than the autocorrelation time.\n",
    "\n",
    "In the example below, we use a fixed number of 8 blocks to obtain the error estimates. To check for consistency, we estimate the autocorrelation time, and print a warning message if some blocks contain less than 100 uncorrelated values. Intentionally, we make our simulation slightly too short, so that it does not produce enough uncorrelated samples. We encourage the reader to vary the number of blocks or the number of samples to see how the estimated error changes with these parameters."
   ]
  },
  {
   "cell_type": "code",
   "execution_count": 4,
   "metadata": {},
   "outputs": [
    {
     "name": "stdout",
     "output_type": "stream",
     "text": [
      "block_size: 3\n"
     ]
    },
    {
     "data": {
      "image/png": "[encoded data removed]",
      "text/plain": [
       "<matplotlib.figure.Figure at 0x7f40743fc2e8>"
      ]
     },
     "metadata": {},
     "output_type": "display_data"
    }
   ],
   "source": [
    "# statistical analysis of the results\n",
    "numAs=np.array(numAs)\n",
    "block=0;\n",
    "n_blocks=16; \n",
    "# this number of blocks is recommended by Janke as a reasonable compromise\n",
    "# between the conflicing requirements on block size and number of blocks\n",
    "block_size=int(numAs.shape[1]/n_blocks);\n",
    "print(\"block_size:\", block_size);\n",
    "block_average=np.zeros((n_blocks,numAs.shape[0])); # initialize the array of per-block averages\n",
    "# calculate averages per each block\n",
    "for block in range(0,n_blocks):\n",
    "    block_average[block]=np.average(numAs[:,block*block_size:(block+1)*block_size],axis=1)\n",
    "\n",
    "# calculate the average and average of the square\n",
    "av_numAs=np.average(block_average,axis=0)\n",
    "av2_numAs=np.average(numAs*numAs,axis=1);\n",
    "# calculate the variance of the block averages\n",
    "block_var=np.var(block_average,axis=0);\n",
    "# calculate standard error of the mean\n",
    "err_numAs=np.sqrt(block_var/(n_blocks-1));\n",
    "\n",
    "# calculate the ionization degree\n",
    "av_alpha=av_numAs/N0;\n",
    "err_alpha=err_numAs/N0;\n",
    "# the reference data from Henderson-Hasselbalch equation\n",
    "def ideal_alpha(pH, pK):\n",
    "    return 1. / (1 + 10**(pK - pH))\n",
    "\n",
    "\n",
    "# plot the simulation results compared with the ideal titration curve\n",
    "plt.figure(figsize=(10, 6), dpi=80)\n",
    "plt.errorbar(pHs - pK, av_alpha, err_alpha, marker='o', linestyle='none',\\\n",
    "             label=r\"simulation\")\n",
    "pHs2 = np.linspace(pHmin, pHmax, num=50)\n",
    "plt.plot(pHs2 - pK, ideal_alpha(pHs2, pK), label=r\"ideal\")\n",
    "plt.xlabel('pH-p$K$', fontsize=16)\n",
    "plt.ylabel(r'$\\alpha$', fontsize=16)\n",
    "plt.legend(fontsize=16)\n",
    "plt.show()"
   ]
  },
  {
   "cell_type": "markdown",
   "metadata": {},
   "source": [
    "The simulation results very well compare with the analytical solution of Henderson-Hasselbalch equation. There are only minor deviations, and the estimated errors are small too.\n",
    "\n",
    "It is useful to check whether the estimated errors are consistent with the assumptions that were used to obtain them. To do this, we follow [Janke2000] to estimate the number of uncorrelated samples per block, and check whether each block contains a sufficient number of uncorrelated samples (we choose 10 uncorrelated samples per block as the threshold value)."
   ]
  },
  {
   "cell_type": "code",
   "execution_count": 5,
   "metadata": {
    "scrolled": false
   },
   "outputs": [
    {
     "name": "stdout",
     "output_type": "stream",
     "text": [
      "av =  [0.10416667 0.125      0.35416667 0.5        1.3125     2.04166667\n",
      " 3.6875     4.70833333 6.47916667 7.95833333 8.5625     9.3125\n",
      " 9.66666667 9.83333333 9.9375    ]\n",
      "err =  [0.0398928  0.05989961 0.09845449 0.10971343 0.21401962 0.20609913\n",
      " 0.13076962 0.2685265  0.27211236 0.18972446 0.22302373 0.09363419\n",
      " 0.09128709 0.06804138 0.03359274]\n",
      "tau =  [0.42843233 0.82501663 0.78976837 0.82539683 0.93371673 0.85552771\n",
      " 0.14965909 0.79690448 0.50194432 0.47862722 3.28319725 0.20682947\n",
      " 0.38793103 0.41841004 0.25527737]\n",
      "uncorrelated samples per block:\n",
      "block_size/tau =  [ 7.00227273  3.63629032  3.79858209  3.63461538  3.21296589  3.50660763\n",
      " 20.04555838  3.76456661  5.9767585   6.26792605  0.91374346 14.50470297\n",
      "  7.73333333  7.17       11.75192308]\n",
      "\n",
      "Warning: some blocks may contain less than  10.0 uncorrelated samples.\n",
      "Your error estimated may be unreliable.\n",
      "Please, check them using a more sophisticated method or run a longer simulation.\n",
      "? block_size/tau > threshold ? : [False False False False False False  True False False False False  True\n",
      " False False  True]\n"
     ]
    }
   ],
   "source": [
    "# estimate autocorrelation time using the formula given by Janke\n",
    "# this assumes that the errors have been correctly estimated\n",
    "tau=np.zeros(av_numAs.shape);\n",
    "for val in range(0,av_numAs.shape[0]):\n",
    "    if (av_numAs[val] == 0): \n",
    "        tau[val]=0.0;\n",
    "    else:\n",
    "        tau[val]=0.5*block_size*n_blocks/(n_blocks-1)*block_var[val]/(av2_numAs[val]-av_numAs[val]*av_numAs[val]);\n",
    "print(\"av = \", av_numAs);\n",
    "print(\"err = \", err_numAs);\n",
    "print(\"tau = \", tau);\n",
    "\n",
    "# check if the blocks contain enough data for reliable error estimates\n",
    "print(\"uncorrelated samples per block:\\nblock_size/tau = \",\\\n",
    "      block_size/tau);\n",
    "threshold=10.; # block size should be much greater than the correlation time\n",
    "if(np.any(block_size/tau<threshold)):\n",
    "    print(\"\\nWarning: some blocks may contain less than \", threshold, \"uncorrelated samples.\"\\\n",
    "          \"\\nYour error estimated may be unreliable.\"\\\n",
    "          \"\\nPlease, check them using a more sophisticated method or run a longer simulation.\")\n",
    "    print(\"? block_size/tau > threshold ? :\", block_size/tau>threshold);\n",
    "else:\n",
    "    print(\"\\nAll blocks seem to contain more than \", threshold, \"uncorrelated samples.\\\n",
    "    Error estimates should be OK.\");\n"
   ]
  },
  {
   "cell_type": "markdown",
   "metadata": {},
   "source": [
    "To look in more details at the statistical accurady, it is useful to plot the deviations from the analytical result. This provides another way to check the consistency of error estimates.  About 68% of the results should be within the error bar from the reference, whereas 95% of the results should be within two times the error bar. Indeed, if you plot the deviations by running the script below, you should observe that most of the results are within one error bar from the analytical solution, a smaller fraction  of the results is slightly further than one error bar, and one or two might be about two error bars apart.\n",
    "\n",
    "Try increasing the number of samples of in the simulaition to see how the estimated error changes, and whether the consistency is sitll satisfied."
   ]
  },
  {
   "cell_type": "code",
   "execution_count": 6,
   "metadata": {
    "scrolled": true
   },
   "outputs": [
    {
     "data": {
      "image/png": "[encoded data removed]",
      "text/plain": [
       "<matplotlib.figure.Figure at 0x7f4045825390>"
      ]
     },
     "metadata": {},
     "output_type": "display_data"
    }
   ],
   "source": [
    "# plot the deviations from the ideal result\n",
    "plt.figure(figsize=(10, 6), dpi=80)\n",
    "plt.ylim((-0.05,0.05))\n",
    "plt.errorbar(pHs - pK, av_alpha-ideal_alpha(pHs, pK),\\\n",
    "             err_alpha, marker='o', linestyle='none', label=r\"simulation\")\n",
    "plt.plot(pHs - pK, 0.0*ideal_alpha(pHs, pK), label=r\"ideal\")\n",
    "plt.xlabel('pH-p$K$', fontsize=16)\n",
    "plt.ylabel(r'$\\alpha - \\alpha_{ideal}$', fontsize=16)\n",
    "plt.legend(fontsize=16)\n",
    "plt.show()"
   ]
  },
  {
   "cell_type": "markdown",
   "metadata": {},
   "source": [
    "## References\n"
   ]
  }
 ],
 "metadata": {
  "kernelspec": {
   "display_name": "Python 3",
   "language": "python",
   "name": "python3"
  },
  "language_info": {
   "codemirror_mode": {
    "name": "ipython",
    "version": 3
   },
   "file_extension": ".py",
   "mimetype": "text/x-python",
   "name": "python",
   "nbconvert_exporter": "python",
   "pygments_lexer": "ipython3",
   "version": "3.6.5"
  }
 },
 "nbformat": 4,
 "nbformat_minor": 2
}
