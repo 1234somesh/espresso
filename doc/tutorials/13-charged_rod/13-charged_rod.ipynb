{
 "cells": [
  {
   "cell_type": "code",
   "execution_count": null,
   "metadata": {},
   "outputs": [],
   "source": [
    "from espressomd import System, interactions, electrostatics\n",
    "from espressomd.io.writer import vtf\n",
    "\n",
    "import numpy as np\n",
    "%matplotlib inline\n",
    "import matplotlib.pyplot as plt\n"
   ]
  },
  {
   "cell_type": "markdown",
   "metadata": {},
   "source": [
    "Theory: this notebook uses p3m, but the focus is on ion condensation rather than electrostatics methods. For the summer school, this will be the first tutorial using electrostatics so we might have to reuse some of the theory from 02-charged_system"
   ]
  },
  {
   "cell_type": "code",
   "execution_count": null,
   "metadata": {},
   "outputs": [],
   "source": [
    "\n",
    "# Rod length\n",
    "rod_length = 25.\n",
    "\n",
    "# line charge density of the rod \n",
    "line_charge_dens =  2\n",
    "\n",
    "# rod radius\n",
    "rod_radius = 1.0\n",
    "\n",
    "# Bjerrum length\n",
    "bjerrum_length = 1.0\n",
    "\n",
    "# ion diameter\n",
    "ion_diameter = 1.0\n",
    "\n",
    "# valency of the counterions\n",
    "ion_valency = 1\n",
    "\n",
    "# number of beads of the rod\n",
    "N_rod_beads = 50\n",
    "\n",
    "\n",
    "# accuracy of p3m algorithm \n",
    "p3m_accuracy =  1e-3;"
   ]
  },
  {
   "cell_type": "code",
   "execution_count": null,
   "metadata": {},
   "outputs": [],
   "source": [
    "# particle types \n",
    "rod_type = 1\n",
    "ion_type = 2\n",
    "\n",
    "# total charge of the rod\n",
    "total_rod_charge = line_charge_dens*rod_length\n",
    "\n",
    "# charge per rod bead\n",
    "rod_charge_per_bead = -total_rod_charge/N_rod_beads\n",
    "\n",
    "# number of counterions\n",
    "N_ions = int(total_rod_charge/ion_valency)\n",
    "\n",
    "#TODO assert neutrality\n",
    "\n",
    "\n",
    "system = System(box_l=3*[rod_length])\n",
    "\n",
    "system.time_step = 0.01\n",
    "system.cell_system.skin = 0.4\n",
    "\n",
    "system.thermostat.set_langevin(kT=1.0, gamma=0.5, seed=3)\n",
    "\n"
   ]
  },
  {
   "cell_type": "code",
   "execution_count": null,
   "metadata": {},
   "outputs": [],
   "source": [
    "wca_epsilon = 1.0\n",
    "\n",
    "#ion-ion interaction\n",
    "system.non_bonded_inter[ion_type,ion_type].wca.set_params(\n",
    "      epsilon=wca_epsilon, sigma=ion_diameter)\n",
    "\n",
    "# ion-rod interaction\n",
    "system.non_bonded_inter[ion_type,rod_type].wca.set_params(\n",
    "      epsilon=wca_epsilon, sigma=ion_diameter/2. + rod_radius)"
   ]
  },
  {
   "cell_type": "code",
   "execution_count": null,
   "metadata": {},
   "outputs": [],
   "source": [
    "for idx in range(N_rod_beads):\n",
    "    system.part.add(pos=[rod_length/2.,rod_length/2.,idx/N_rod_beads], type=rod_type, q=rod_charge_per_bead, fix=3*[True])\n",
    "#TODO: comment on fix\n",
    "\n",
    "for _ in range(N_ions):\n",
    "    system.part.add(pos=np.random.random(3) * system.box_l, type=ion_type, q=ion_valency)\n"
   ]
  },
  {
   "cell_type": "code",
   "execution_count": null,
   "metadata": {},
   "outputs": [],
   "source": [
    "force_cap=1\n",
    "system.force_cap = force_cap\n",
    "\n",
    "for i in range(4000):\n",
    "    system.integrator.run(200)\n",
    "    dist=system.analysis.min_dist(p1=[ion_type],p2=[ion_type, rod_type])\n",
    "    print( f\"Warm up step {i}: min_dist={dist} force_cap={force_cap}\")\n",
    "    force_cap = force_cap + 1.\n",
    "    system.force_cap = force_cap\n",
    "    \n",
    "    if (dist >= ion_diameter):\n",
    "        break\n",
    "\n",
    "# Remove capping of LJ-interactions.\n",
    "system.force_cap = 0\n"
   ]
  },
  {
   "cell_type": "code",
   "execution_count": null,
   "metadata": {},
   "outputs": [],
   "source": [
    "p3m = electrostatics.P3M(prefactor=bjerrum_length, accuracy=p3m_accuracy)\n",
    "system.actors.add(p3m)\n",
    "\n",
    "\n"
   ]
  },
  {
   "cell_type": "code",
   "execution_count": null,
   "metadata": {},
   "outputs": [],
   "source": [
    "def integrate_calc_observables(system, N_frames, steps_per_frame, ion_type):\n",
    "    energies = []\n",
    "    radial_distances = []\n",
    "    \n",
    "    ions = system.part.select(type=ion_type)\n",
    "    system_center = np.array(system.box_l)/2.\n",
    "    \n",
    "    for _ in range(N_frames):\n",
    "        # run run the simulation for a few steps\n",
    "        system.integrator.run(steps_per_frame)\n",
    "\n",
    "        energies.append(system.analysis.energy()['total'])\n",
    "        \n",
    "        for ion in ions:\n",
    "            radial_distances.append(np.linalg.norm(ion.pos_folded[0:2]-system_center[0:2]))\n",
    "    \n",
    "    return energies, radial_distances\n",
    "\n",
    "\n"
   ]
  },
  {
   "cell_type": "code",
   "execution_count": null,
   "metadata": {},
   "outputs": [],
   "source": [
    "# run and look at energies to see how long it takes until equilibration and what the fluctuation timescale is\n",
    "\n",
    "# MD frames to go\n",
    "N_frames = 100\n",
    "\n",
    "# number of timesteps per frame\n",
    "steps_per_frame = 100\n",
    "\n",
    "energies, distances = integrate_calc_observables(system,N_frames,steps_per_frame, ion_type)\n"
   ]
  },
  {
   "cell_type": "code",
   "execution_count": null,
   "metadata": {},
   "outputs": [],
   "source": [
    "#save the positions to visualize\n",
    "vsf_filename = f\"ion_condensation.vsf\"\n",
    "vcf_filename = f\"ion_condensation.vcf\"\n",
    "with open(vsf_filename, 'w') as vsf_file:\n",
    "    vtf.writevsf(system, vsf_file, types='all')\n",
    "with open(vcf_filename, 'w') as vcf_file:    \n",
    "    vtf.writevcf(system, vcf_file, types='all')"
   ]
  },
  {
   "cell_type": "code",
   "execution_count": null,
   "metadata": {},
   "outputs": [],
   "source": [
    "fig1 = plt.figure()\n",
    "plt.plot(energies)\n",
    "plt.xlabel('time frames')\n",
    "plt.ylabel('system total energy')"
   ]
  },
  {
   "cell_type": "code",
   "execution_count": null,
   "metadata": {},
   "outputs": [],
   "source": [
    "# cumulative histogram of the distances to the rod\n",
    "# compare to PB?\n",
    "# compare different charges on the rod?\n",
    "\n",
    "log_bins=np.logspace(np.log10(0.8*rod_radius), np.log10(rod_length),num=50)\n",
    "hist, bins = np.histogram(distances, bins=log_bins)\n",
    "cum_hist = np.cumsum(hist)\n",
    "cum_hist =cum_hist/cum_hist[-1]\n",
    "\n",
    "fig2 = plt.figure()\n",
    "plt.plot(log_bins[1:],cum_hist)\n",
    "ax = plt.gca()\n",
    "ax.set_xscale('log')\n",
    "plt.xlabel('r')\n",
    "plt.ylabel('P(r)')"
   ]
  }
 ],
 "metadata": {
  "kernelspec": {
   "display_name": "Python 3",
   "language": "python",
   "name": "python3"
  },
  "language_info": {
   "codemirror_mode": {
    "name": "ipython",
    "version": 3
   },
   "file_extension": ".py",
   "mimetype": "text/x-python",
   "name": "python",
   "nbconvert_exporter": "python",
   "pygments_lexer": "ipython3",
   "version": "3.6.9"
  }
 },
 "nbformat": 4,
 "nbformat_minor": 4
}
