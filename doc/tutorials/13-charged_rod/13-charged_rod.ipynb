{
 "cells": [
  {
   "cell_type": "markdown",
   "metadata": {},
   "source": [
    "# Tutorial 2: Charged Systems: Counterion Condensation"
   ]
  },
  {
   "cell_type": "markdown",
   "metadata": {},
   "source": [
    "## Introduction\n",
    "\n",
    "In this tutorial, we simulate a charged system consisting of a fixed charged rod with ions around it. This setup represents a simplified model for polyelectrolyte gels. We will investigate the condensation of ions onto the oppositely charged rod and compare the results to a meanfield analytical solution obtained from Poisson-Boltzmann (PB) theory.\n",
    "Finally we will go beyond the expected applicability of PB and add additional salt ions to observe an overcharging effect.\n",
    "\n",
    "In general the tutorial follows \"Deserno, Markus, Christian Holm, and Sylvio May. \"Fraction of condensed counterions around a charged rod: Comparison of Poisson− Boltzmann theory and computer simulations. Macromolecules 33.1 (2000): 199-206.\", se we refer to that publication for further reading."
   ]
  },
  {
   "cell_type": "code",
   "execution_count": 1,
   "metadata": {},
   "outputs": [],
   "source": [
    "from espressomd import System, interactions, electrostatics\n",
    "\n",
    "import numpy as np\n",
    "from scipy import optimize\n",
    "%matplotlib inline\n",
    "import matplotlib.pyplot as plt\n"
   ]
  },
  {
   "cell_type": "markdown",
   "metadata": {},
   "source": [
    "# System setup\n",
    "\n",
    "After importing the necessary **ESPResSo** features and external modules, we define the cubical system geometry and some physical parameters (which define our unit system)."
   ]
  },
  {
   "cell_type": "code",
   "execution_count": 2,
   "metadata": {},
   "outputs": [],
   "source": [
    "\n",
    "# system parameters\n",
    "rod_length = 24.\n",
    "bjerrum_length = 1.0\n",
    "kT = 1.\n",
    "# we assume a unit system where the elementary charge is 1\n",
    "\n",
    "system = System(box_l=3*[rod_length])\n",
    "system.time_step = 0.01\n",
    "system.cell_system.skin = 0.4"
   ]
  },
  {
   "cell_type": "markdown",
   "metadata": {},
   "source": [
    "We will build the charged rod from individual particles that are fixed in space. With this, we can use the particle-based electrostatics methods of **ESPResSo**. For analysis, we give the rod particles a different type than the counterions."
   ]
  },
  {
   "cell_type": "code",
   "execution_count": null,
   "metadata": {},
   "outputs": [],
   "source": [
    "# interaction parameters\n",
    "wca_epsilon = 1.0\n",
    "ion_diameter = 1.0\n",
    "rod_radius = 1.0\n",
    "# particle types \n",
    "rod_type = 1\n",
    "counterion_type = 2"
   ]
  },
  {
   "cell_type": "markdown",
   "metadata": {
    "solution2": "hidden",
    "solution2_first": true
   },
   "source": [
    "# Exercise:\n",
    "* Setup the purely repulsive Weeks-Chandler-Anderson (WCA) interaction [TODO: link docu] between the ions and between the ions and the rod particles. Use the parameters introduced in the cell above."
   ]
  },
  {
   "cell_type": "markdown",
   "metadata": {
    "solution2": "hidden"
   },
   "source": [
    "```python\n",
    "#ion-ion interaction\n",
    "system.non_bonded_inter[counterion_type,counterion_type].wca.set_params(\n",
    "      epsilon=wca_epsilon, sigma=ion_diameter)\n",
    "\n",
    "# ion-rod interaction\n",
    "system.non_bonded_inter[counterion_type,rod_type].wca.set_params(\n",
    "      epsilon=wca_epsilon, sigma=ion_diameter/2. + rod_radius)\n",
    "```"
   ]
  },
  {
   "cell_type": "code",
   "execution_count": null,
   "metadata": {},
   "outputs": [],
   "source": []
  },
  {
   "cell_type": "markdown",
   "metadata": {
    "solution2": "hidden",
    "solution2_first": true
   },
   "source": [
    "Now we need to place the particles in the box\n",
    "\n",
    "# Exercise\n",
    "* implement a function to place the rod particles along the $x_3$ axis in the middle of the simulation box and the ions randomly distributed \n",
    "* Use the signature ``setup_rod_and_ions(system, ion_valency, counterion_type, rod_charge_dens, N_rod_beads, rod_type) ``\n",
    "* assign the rod particles and cointerions their correct ``type``\n",
    "* Give the counterions a charge according to their ``ion_valency``\n",
    "* Give the rod particles a charge such that the ``rod_charge_dens`` is uniformely distributed along the ``N_rod_beads`` individual particles\n",
    "* Fix the rod particles in space so they do not get moved if forces act upon them\n",
    "\n",
    "# Hint\n",
    "* Look into [TODO:link espresso particle properties] to find the keywords to set charges and fix particles"
   ]
  },
  {
   "cell_type": "markdown",
   "metadata": {
    "solution2": "hidden"
   },
   "source": [
    "```python\n",
    "def setup_rod_and_ions(system, ion_valency, counterion_type,\n",
    "                 rod_charge_dens, N_rod_beads, rod_type):\n",
    "    \n",
    "    # calculate charge of the single rod beads\n",
    "    total_rod_charge = rod_charge_dens*system.box_l[0]\n",
    "    rod_charge_per_bead = total_rod_charge/N_rod_beads\n",
    "    \n",
    "    # number of counterions\n",
    "    N_ions = int(total_rod_charge/ion_valency)\n",
    "    \n",
    "    for idx in range(N_rod_beads):\n",
    "        system.part.add(pos=[rod_length/2.,rod_length/2.,idx/N_rod_beads], \n",
    "                        type=rod_type, q=rod_charge_per_bead, fix=3*[True])\n",
    "\n",
    "    for _ in range(N_ions):\n",
    "        system.part.add(pos=np.random.random(3) * system.box_l, \n",
    "                        type=counterion_type, q=-ion_valency)\n",
    "```"
   ]
  },
  {
   "cell_type": "code",
   "execution_count": 6,
   "metadata": {},
   "outputs": [],
   "source": [
    "counterion_valency = 1\n",
    "rod_charge_dens = 1\n",
    "\n",
    "# number of beads that make up the rod\n",
    "N_rod_beads = 50\n",
    "\n",
    "setup_rod_and_ions(system, counterion_valency, counterion_type,\n",
    "             rod_charge_dens, N_rod_beads, rod_type)\n",
    "\n",
    "#check that the particle setup was done correctly\n",
    "assert(sum(system.part[:].q)==0)\n",
    "assert(np.all(system.part.select(type=rod_type).fix))"
   ]
  },
  {
   "cell_type": "markdown",
   "metadata": {},
   "source": [
    "Now we set up the electrostatics method to calculate the forces and energies from the longrange coulomb interaction. **ESPResSo** uses so-called <tt>actors</tt> for electrostatics, magnetostatics and hydrodynamics. This ensures that unphysical combinations of algorithms are avoided, for example simultaneous usage of two electrostatic interactions. Adding an actor to the system also activates the method and calls necessary initialization routines. Here, we define a P$^3$M object with parameters Bjerrum length and rms force error. This automatically starts a tuning function which tries to find optimal parameters for P$^3$M and prints them to the screen."
   ]
  },
  {
   "cell_type": "code",
   "execution_count": 7,
   "metadata": {},
   "outputs": [
    {
     "name": "stdout",
     "output_type": "stream",
     "text": [
      "P3M tune parameters: Accuracy goal = 1.00000e-03 prefactor = 1.00000e+00\n",
      "System: box_l = 2.40000e+01 # charged part = 74 Sum[q_i^2] = 3.55200e+01\n",
      "mesh cao r_cut_iL     alpha_L      err          rs_err     ks_err     time [ms]\n",
      "4    7   cao too large for this mesh\n",
      "8    7   2.67155e-01 7.17025e+00 9.94171e-04 7.071e-04 6.988e-04 0.39    \n",
      "8    6   2.69987e-01 7.08993e+00 9.95810e-04 7.071e-04 7.012e-04 0.31    \n",
      "8    5   2.77539e-01 6.88402e+00 9.96811e-04 7.071e-04 7.026e-04 0.26    \n",
      "8    4   2.95475e-01 6.43834e+00 9.96167e-04 7.071e-04 7.017e-04 0.22    \n",
      "8    3   3.37012e-01 5.59330e+00 9.94603e-04 7.071e-04 6.995e-04 0.22    \n",
      "8    2   4.83333e-01 3.79978e+00 1.09024e-03 7.071e-04 8.298e-04 accuracy not achieved\n",
      "10   3   2.79746e-01 6.82600e+00 9.97374e-04 7.071e-04 7.034e-04 0.24    \n",
      "10   2   3.37012e-01 5.59330e+00 1.54016e-03 7.071e-04 1.368e-03 accuracy not achieved\n",
      "10   4   2.45518e-01 7.84690e+00 9.93645e-04 7.071e-04 6.981e-04 0.25    \n",
      "10   5   2.30379e-01 8.39833e+00 9.93931e-04 7.071e-04 6.985e-04 0.30    \n",
      "10   6   2.22480e-01 8.71673e+00 9.95470e-04 7.071e-04 7.007e-04 0.34    \n",
      "10   7   2.18531e-01 8.88482e+00 9.96779e-04 7.071e-04 7.025e-04 0.42    \n",
      "12   3   2.40407e-01 8.02509e+00 9.97542e-04 7.071e-04 7.036e-04 0.28    \n",
      "12   2   2.79746e-01 6.82600e+00 1.71229e-03 7.071e-04 1.559e-03 accuracy not achieved\n",
      "12   4   2.10356e-01 9.25342e+00 9.94959e-04 7.071e-04 7.000e-04 0.30    \n",
      "12   5   1.97243e-01 9.91043e+00 9.98297e-04 7.071e-04 7.047e-04 0.35    \n",
      "12   6   1.90140e-01 1.03053e+01 9.98086e-04 7.071e-04 7.044e-04 0.39    \n",
      "12   7   1.86315e-01 1.05307e+01 9.93468e-04 7.071e-04 6.978e-04 0.48    \n",
      "14   3   2.11295e-01 9.20959e+00 9.99528e-04 7.071e-04 7.064e-04 0.36    \n",
      "14   2   2.40407e-01 8.02509e+00 1.85666e-03 7.071e-04 1.717e-03 accuracy not achieved\n",
      "14   4   1.85001e-01 1.06105e+01 9.86629e-04 7.071e-04 6.881e-04 0.39    \n",
      "14   5   1.73731e-01 1.13447e+01 9.84422e-04 7.071e-04 6.849e-04 0.44    \n",
      "14   6   1.67158e-01 1.18200e+01 9.87667e-04 7.071e-04 6.896e-04 0.48    \n",
      "14   7   1.63401e-01 1.21094e+01 9.83714e-04 7.071e-04 6.839e-04 0.57    \n",
      "16   3   1.89835e-01 1.03229e+01 9.90034e-04 7.071e-04 6.929e-04 0.46    \n",
      "16   2   2.11295e-01 9.20959e+00 1.98497e-03 7.071e-04 1.855e-03 accuracy not achieved\n",
      "16   4   1.65074e-01 1.19789e+01 9.85939e-04 7.071e-04 6.871e-04 0.48    \n",
      "16   5   1.54344e-01 1.28665e+01 9.97086e-04 7.071e-04 7.030e-04 0.53    \n",
      "16   6   1.48567e-01 1.33992e+01 9.98965e-04 7.071e-04 7.056e-04 0.58    \n",
      "16   7   1.45265e-01 1.37231e+01 9.90704e-04 7.071e-04 6.939e-04 0.67    \n",
      "20   3   1.57207e-01 1.26175e+01 9.96134e-04 7.071e-04 7.016e-04 0.78    \n",
      "20   2   1.89835e-01 1.03229e+01 1.69235e-03 7.071e-04 1.538e-03 accuracy not achieved\n",
      "20   4   1.35703e-01 1.47530e+01 9.99329e-04 7.071e-04 7.062e-04 0.77    \n",
      "20   5   1.27546e-01 1.57571e+01 9.91254e-04 7.071e-04 6.947e-04 0.81    \n",
      "20   6   1.23096e-01 1.63624e+01 9.83692e-04 7.071e-04 6.838e-04 0.85    \n",
      "20   7   1.20130e-01 1.67916e+01 9.79894e-04 7.071e-04 6.784e-04 0.92    \n",
      "22   3   1.35703e-01 1.47530e+01 1.19637e-03 7.071e-04 9.650e-04 accuracy not achieved\n",
      "22   4   1.25101e-01 1.60842e+01 9.97255e-04 7.071e-04 7.032e-04 1.16    \n",
      "22   5   1.17150e-01 1.72454e+01 9.99608e-04 7.071e-04 7.066e-04 1.20    \n",
      "22   6   1.12909e-01 1.79335e+01 9.96704e-04 7.071e-04 7.024e-04 1.25    \n",
      "22   7   1.10258e-01 1.83912e+01 9.90431e-04 7.071e-04 6.935e-04 1.34    \n",
      "24   3   1.25101e-01 1.60842e+01 1.22902e-03 7.071e-04 1.005e-03 accuracy not achieved\n",
      "24   4   1.16305e-01 1.73784e+01 9.90874e-04 7.071e-04 6.941e-04 1.34    \n",
      "24   5   1.09463e-01 1.85329e+01 9.73780e-04 7.071e-04 6.695e-04 1.40    \n",
      "24   6   1.05554e-01 1.92617e+01 9.68209e-04 7.071e-04 6.614e-04 1.44    \n",
      "24   7   1.02622e-01 1.98458e+01 9.76842e-04 7.071e-04 6.740e-04 1.52    \n",
      "26   3   1.16305e-01 1.73784e+01 1.25266e-03 7.071e-04 1.034e-03 accuracy not achieved\n",
      "26   4   1.09036e-01 1.86100e+01 9.77295e-04 7.071e-04 6.746e-04 1.92    \n",
      "26   5   1.01767e-01 2.00227e+01 9.84574e-04 7.071e-04 6.851e-04 2.02    \n",
      "26   6   9.81321e-02 2.08097e+01 9.78800e-04 7.071e-04 6.768e-04 2.32    \n",
      "26   7   9.54062e-02 2.14403e+01 9.87863e-04 7.071e-04 6.898e-04 2.21    \n",
      "28   3   1.09036e-01 1.86100e+01 1.26295e-03 7.071e-04 1.046e-03 accuracy not achieved\n",
      "28   4   1.02221e-01 1.99283e+01 9.78900e-04 7.071e-04 6.769e-04 2.10    \n",
      "28   5   9.54062e-02 2.14403e+01 9.84494e-04 7.071e-04 6.850e-04 2.15    \n",
      "28   6   9.19988e-02 2.22827e+01 9.78240e-04 7.071e-04 6.760e-04 2.25    \n",
      "28   7   8.94433e-02 2.29577e+01 9.87304e-04 7.071e-04 6.890e-04 2.28    \n",
      "32   3   1.02221e-01 1.99283e+01 1.09671e-03 7.071e-04 8.383e-04 accuracy not achieved\n",
      "32   4   9.10405e-02 2.25313e+01 9.80067e-04 7.071e-04 6.786e-04 2.75    \n",
      "32   5   8.46517e-02 2.43363e+01 9.95145e-04 7.071e-04 7.002e-04 2.82    \n",
      "32   6   8.14573e-02 2.53479e+01 9.95708e-04 7.071e-04 7.010e-04 2.85    \n",
      "32   7   7.98601e-02 2.58848e+01 9.74741e-04 7.071e-04 6.709e-04 2.89    \n",
      "\n",
      "resulting parameters: mesh: (8 8 8), cao: 3, r_cut_iL: 3.3701e-01,\n",
      "                      alpha_L: 5.5933e+00, accuracy: 9.9460e-04, time: 0.22\n",
      "\n"
     ]
    }
   ],
   "source": [
    "p3m_params = {'prefactor':kT*bjerrum_length,\n",
    "              'accuracy':1e-3}\n",
    "p3m = electrostatics.P3M(**p3m_params)\n",
    "system.actors.add(p3m)"
   ]
  },
  {
   "cell_type": "markdown",
   "metadata": {},
   "source": [
    "Before we can start the simulation, we need to remove the overlap between particles to avoid large forces which would crash the simulation. For this, we use the steepest descent integrator with a relative convergence criterium for forces and energies."
   ]
  },
  {
   "cell_type": "code",
   "execution_count": 8,
   "metadata": {},
   "outputs": [],
   "source": [
    "def remove_overlap(system, sd_params):   \n",
    "    #remove overlap by steepest descent\n",
    "    # Set up steepest descent integration\n",
    "    system.integrator.set_steepest_descent(f_max=0,\n",
    "                                           gamma=sd_params['damping'],\n",
    "                                           max_displacement=sd_params['max_displacement'])\n",
    "    \n",
    "    # Initialize integrator to obtain initial forces\n",
    "    system.integrator.run(0)\n",
    "    maxforce = np.max(np.linalg.norm(system.part[:].f, axis = 1))\n",
    "    energy = system.analysis.energy()['total']\n",
    "    \n",
    "    i = 0\n",
    "    while i < sd_params['max_steps']//sd_params['emstep']:\n",
    "        prev_maxforce = maxforce\n",
    "        prev_energy = energy\n",
    "        print(prev_energy)\n",
    "        system.integrator.run(sd_params['emstep'])\n",
    "        maxforce = np.max(np.linalg.norm(system.part[:].f, axis = 1))\n",
    "        relforce = np.abs((maxforce-prev_maxforce)/prev_maxforce)\n",
    "        energy = system.analysis.energy()['total']\n",
    "        relener = np.abs((energy-prev_energy)/prev_energy)\n",
    "        print(\"minimization step: {:4.0f}\\tmax. rel. force change:{:+3.3e}\\trel. energy change:{:+3.3e}\".format((i+1)*sd_params['emstep'],relforce, relener))\n",
    "        if relforce < sd_params['f_tol'] or relener < sd_params['e_tol']:\n",
    "            break\n",
    "        i += 1\n",
    "        \n",
    "    system.integrator.set_vv()"
   ]
  },
  {
   "cell_type": "code",
   "execution_count": 9,
   "metadata": {},
   "outputs": [
    {
     "name": "stdout",
     "output_type": "stream",
     "text": [
      "1986.477497636263\n",
      "minimization step:   10\tmax. rel. force change:+5.136e-07\trel. energy change:+3.102e-04\n"
     ]
    }
   ],
   "source": [
    "#steepest descent params\n",
    "STEEPEST_DESCENT_PARAMS = {'f_tol':1e-2,\n",
    "                          'e_tol':1e-5,\n",
    "                          'damping':30,\n",
    "                          'max_steps':10000,\n",
    "                          'max_displacement':0.01,\n",
    "                          'emstep':10}\n",
    "\n",
    "remove_overlap(system,STEEPEST_DESCENT_PARAMS)"
   ]
  },
  {
   "cell_type": "markdown",
   "metadata": {},
   "source": [
    "After the overlap is removed, we activate a thermostat to simulate the system at a given temperature."
   ]
  },
  {
   "cell_type": "code",
   "execution_count": 10,
   "metadata": {},
   "outputs": [],
   "source": [
    "langevin_params = {'kT':kT,\n",
    "                   'gamma':0.5,\n",
    "                   'seed':42}\n",
    "system.thermostat.set_langevin(**langevin_params)"
   ]
  },
  {
   "cell_type": "markdown",
   "metadata": {},
   "source": [
    "Now we are ready to start the integration loop. As we are interested in the condensation of counterions on the rod, the physical quantity of interest is the density $\\rho(r)$ of charges around the rod, where $r$ is the distance from the rod. We need many samples (frames) to calculate the density from histograms.\n",
    "The samples should be taken from an equilibrated system and not be correlated to each other.\n",
    "\n",
    "# Exercise\n",
    "* Write a function to integrate the system and return the total energy and the radial distance of the ions from the rod\n",
    "* Use the signature ``integrate_calc_observables(system, N_frames, steps_per_frame, ion_types)``\n",
    "* ``N_frames`` is the total number of samples taken from the system\n",
    "* ``steps_per_frame`` is the the number of integration steps between consecutive frames\n",
    "* ``ion_types`` is a list of types for which the radial distances should be calculated. For the moment we only have counterions, but later we will also add additional salt ions for which we would like to calculate the density\n",
    "* return a list of the total system energy as well as a dictionary of the radial positions sorted by ion type, e.g. ``radial_distances[counterion_type] = [1.1,4.5,2.7,...]``\n",
    "\n",
    "# Hints\n",
    "* We are only interested in the distance from the rod, so the "
   ]
  },
  {
   "cell_type": "code",
   "execution_count": 11,
   "metadata": {},
   "outputs": [],
   "source": [
    "def integrate_calc_observables(system, N_frames, steps_per_frame, ion_types):\n",
    "    energies = []\n",
    "    radial_distances = []\n",
    "    \n",
    "    particles_by_type = {}\n",
    "    radial_distances = {}\n",
    "    for ion_type in ion_types:\n",
    "        particles_by_type[ion_type] = system.part.select(type=ion_type)\n",
    "        radial_distances[ion_type] = []\n",
    "    \n",
    "    system_center = np.array(system.box_l)/2.\n",
    "    \n",
    "    for _ in range(N_frames):\n",
    "        # run run the simulation for a few steps\n",
    "        system.integrator.run(steps_per_frame)\n",
    "\n",
    "        energies.append(system.analysis.energy()['total'])\n",
    "        \n",
    "        for ion_type, ions in particles_by_type.items():\n",
    "            for ion in ions:\n",
    "                radial_distances[ion_type].append(np.linalg.norm(ion.pos_folded[0:2]-system_center[0:2]))\n",
    "    \n",
    "    return energies, radial_distances\n",
    "\n",
    "\n"
   ]
  },
  {
   "cell_type": "code",
   "execution_count": 12,
   "metadata": {},
   "outputs": [],
   "source": [
    "# before we do a run to produce histogram data, we look at energies to see how long it takes until equilibration and what the fluctuation timescale is\n",
    "\n",
    "# number of samples taken\n",
    "N_frames = 100\n",
    "\n",
    "# number of timesteps per frame\n",
    "steps_per_frame = 300\n",
    "energies, _ = integrate_calc_observables(system, N_frames, \n",
    "                                       steps_per_frame, [counterion_type])"
   ]
  },
  {
   "cell_type": "code",
   "execution_count": 13,
   "metadata": {},
   "outputs": [
    {
     "data": {
      "text/plain": [
       "Text(0, 0.5, 'system total energy')"
      ]
     },
     "execution_count": 13,
     "metadata": {},
     "output_type": "execute_result"
    },
    {
     "data": {
      "image/png": "[encoded data removed]",
      "text/plain": [
       "<Figure size 432x288 with 1 Axes>"
      ]
     },
     "metadata": {
      "needs_background": "light"
     },
     "output_type": "display_data"
    }
   ],
   "source": [
    "plt.ion()\n",
    "ts = np.linspace(0,N_frames*steps_per_frame, num = N_frames)\n",
    "fig1 = plt.figure()\n",
    "#plot time in time_steps so we can judge the number of warmup steps and the steps per frame for uncorrelated data\n",
    "plt.plot(ts, energies)\n",
    "plt.xlabel('time steps')\n",
    "plt.ylabel('system total energy')"
   ]
  },
  {
   "cell_type": "code",
   "execution_count": 14,
   "metadata": {},
   "outputs": [],
   "source": [
    "#use the plot to determine the warmup time and the appropriate number of steps per frame\n",
    "warmup_steps = 5000\n",
    "\n",
    "N_frames = 1000\n",
    "steps_per_frame = 200"
   ]
  },
  {
   "cell_type": "code",
   "execution_count": 15,
   "metadata": {},
   "outputs": [],
   "source": [
    "def clear_system(system):\n",
    "    system.thermostat.turn_off()\n",
    "    system.part.clear()\n",
    "    system.time = 0.\n",
    "    "
   ]
  },
  {
   "cell_type": "code",
   "execution_count": 16,
   "metadata": {},
   "outputs": [],
   "source": [
    "clear_system(system)"
   ]
  },
  {
   "cell_type": "code",
   "execution_count": 17,
   "metadata": {},
   "outputs": [],
   "source": [
    "#TODO replace this function by more intuitive behaviour of p3m.tune()\n",
    "def retune_p3m(p3m):\n",
    "    #reset p3m tunable parameters to default to force a retune\n",
    "    p3m_default_params = p3m.default_params()\n",
    "    p3m.tune(mesh = p3m_default_params['mesh'],\n",
    "             cao = p3m_default_params['cao'],\n",
    "             r_cut = 0,\n",
    "             #TODO change default value in interface\n",
    "             alpha = p3m_default_params['alpha'])"
   ]
  },
  {
   "cell_type": "code",
   "execution_count": 18,
   "metadata": {},
   "outputs": [
    {
     "name": "stdout",
     "output_type": "stream",
     "text": [
      "P3M tune parameters: Accuracy goal = 9.94603e-04 prefactor = 1.00000e+00\n",
      "System: box_l = 2.40000e+01 # charged part = 62 Sum[q_i^2] = 5.95200e+01\n",
      "mesh cao r_cut_iL     alpha_L      err          rs_err     ks_err     time [ms]\n",
      "4    7   cao too large for this mesh\n",
      "6    7   cao too large for this mesh\n",
      "10   7   2.54883e-01 8.13852e+00 9.85134e-04 7.033e-04 6.898e-04 0.56    \n",
      "10   6   2.60547e-01 7.95142e+00 9.83737e-04 7.033e-04 6.878e-04 0.38    \n",
      "10   5   2.70931e-01 7.62923e+00 9.89206e-04 7.033e-04 6.956e-04 0.29    \n",
      "10   4   2.91699e-01 7.05536e+00 9.88295e-04 7.033e-04 6.943e-04 0.25    \n",
      "10   3   3.42676e-01 5.94843e+00 9.93518e-04 7.033e-04 7.018e-04 0.24    \n",
      "10   2   4.83333e-01 4.12915e+00 1.34830e-03 7.033e-04 1.150e-03 accuracy not achieved\n",
      "12   3   2.94487e-01 6.98465e+00 9.91926e-04 7.033e-04 6.995e-04 0.30    \n",
      "12   2   3.42676e-01 5.94843e+00 2.09128e-03 7.033e-04 1.969e-03 accuracy not achieved\n",
      "12   4   2.48975e-01 8.34296e+00 9.92336e-04 7.033e-04 7.001e-04 0.30    \n",
      "12   5   2.31574e-01 9.00747e+00 9.89863e-04 7.033e-04 6.966e-04 0.34    \n",
      "12   6   2.22204e-01 9.40955e+00 9.89175e-04 7.033e-04 6.956e-04 0.38    \n",
      "12   7   2.16850e-01 9.65533e+00 9.87369e-04 7.033e-04 6.930e-04 0.44    \n",
      "14   3   2.58826e-01 8.00736e+00 9.92679e-04 7.033e-04 7.006e-04 0.36    \n",
      "14   2   2.94487e-01 6.98465e+00 2.26655e-03 7.033e-04 2.155e-03 accuracy not achieved\n",
      "14   4   2.17989e-01 9.60197e+00 9.91089e-04 7.033e-04 6.983e-04 0.38    \n",
      "14   5   2.02460e-01 1.03820e+01 9.92249e-04 7.033e-04 7.000e-04 0.41    \n",
      "14   6   1.94407e-01 1.08368e+01 9.88735e-04 7.033e-04 6.950e-04 0.46    \n",
      "14   7   1.89231e-01 1.11502e+01 9.91424e-04 7.033e-04 6.988e-04 0.53    \n",
      "16   3   2.31528e-01 9.00934e+00 9.92489e-04 7.033e-04 7.003e-04 0.46    \n",
      "16   2   2.58826e-01 8.00736e+00 2.42294e-03 7.033e-04 2.319e-03 accuracy not achieved\n",
      "16   4   1.94120e-01 1.08538e+01 9.91831e-04 7.033e-04 6.994e-04 0.48    \n",
      "16   5   1.80471e-01 1.17225e+01 9.86919e-04 7.033e-04 6.924e-04 0.52    \n",
      "16   6   1.72888e-01 1.22659e+01 9.92172e-04 7.033e-04 6.998e-04 0.56    \n",
      "16   7   1.68338e-01 1.26161e+01 9.91630e-04 7.033e-04 6.991e-04 0.64    \n",
      "18   3   2.09823e-01 9.99741e+00 9.92588e-04 7.033e-04 7.004e-04 0.73    \n",
      "18   2   2.31528e-01 9.00934e+00 2.55662e-03 7.033e-04 2.458e-03 accuracy not achieved\n",
      "18   4   1.75455e-01 1.20766e+01 9.88225e-04 7.033e-04 6.942e-04 0.76    \n",
      "18   5   1.62793e-01 1.30700e+01 9.86799e-04 7.033e-04 6.922e-04 0.75    \n",
      "18   6   1.56463e-01 1.36286e+01 9.79686e-04 7.033e-04 6.820e-04 0.78    \n",
      "18   7   1.51940e-01 1.40568e+01 9.88495e-04 7.033e-04 6.946e-04 0.87    \n",
      "22   3   1.77857e-01 1.19044e+01 9.87371e-04 7.033e-04 6.930e-04 1.18    \n",
      "22   2   2.09823e-01 9.99741e+00 2.20982e-03 7.033e-04 2.095e-03 accuracy not achieved\n",
      "22   4   1.47531e-01 1.45003e+01 9.84750e-04 7.033e-04 6.893e-04 1.55    \n",
      "22   5   1.36876e-01 1.56929e+01 9.76314e-04 7.033e-04 6.772e-04 1.40    \n",
      "22   6   1.31139e-01 1.64174e+01 9.79572e-04 7.033e-04 6.819e-04 1.43    \n",
      "22   7   1.27861e-01 1.68614e+01 9.72741e-04 7.033e-04 6.720e-04 1.49    \n",
      "24   3   1.65352e-01 1.28567e+01 9.87836e-04 7.033e-04 6.937e-04 1.50    \n",
      "24   2   1.77857e-01 1.19044e+01 2.85549e-03 7.033e-04 2.768e-03 accuracy not achieved\n",
      "24   4   1.36867e-01 1.56941e+01 9.82586e-04 7.033e-04 6.862e-04 1.50    \n",
      "24   5   1.26446e-01 1.70603e+01 9.85747e-04 7.033e-04 6.907e-04 1.42    \n",
      "24   6   1.21582e-01 1.77800e+01 9.75082e-04 7.033e-04 6.754e-04 1.43    \n",
      "24   7   1.18108e-01 1.83313e+01 9.82367e-04 7.033e-04 6.859e-04 1.51    \n",
      "26   3   1.26446e-01 1.70603e+01 1.87990e-03 7.033e-04 1.743e-03 accuracy not achieved\n",
      "26   4   1.26446e-01 1.70603e+01 1.01326e-03 7.033e-04 7.294e-04 accuracy not achieved\n",
      "26   5   1.17555e-01 1.84223e+01 9.94381e-04 7.033e-04 7.030e-04 1.89    \n",
      "26   6   1.13603e-01 1.90978e+01 9.64044e-04 7.033e-04 6.594e-04 1.93    \n",
      "26   7   1.10640e-01 1.96368e+01 9.61087e-04 7.033e-04 6.550e-04 2.04    \n",
      "28   3   1.17555e-01 1.84223e+01 1.96153e-03 7.033e-04 1.831e-03 accuracy not achieved\n",
      "28   4   1.17555e-01 1.84223e+01 1.04260e-03 7.033e-04 7.697e-04 accuracy not achieved\n",
      "28   5   1.10208e-01 1.97179e+01 9.91073e-04 7.033e-04 6.983e-04 2.16    \n",
      "28   6   1.05616e-01 2.06215e+01 9.91917e-04 7.033e-04 6.995e-04 2.24    \n",
      "28   7   1.02860e-01 2.12034e+01 9.89266e-04 7.033e-04 6.957e-04 2.29    \n",
      "30   3   1.10208e-01 1.97179e+01 2.01360e-03 7.033e-04 1.887e-03 accuracy not achieved\n",
      "30   4   1.10208e-01 1.97179e+01 1.05903e-03 7.033e-04 7.918e-04 accuracy not achieved\n",
      "30   5   1.04181e-01 2.09207e+01 9.73733e-04 7.033e-04 6.735e-04 2.70    \n",
      "30   6   9.98757e-02 2.18708e+01 9.71116e-04 7.033e-04 6.697e-04 2.85    \n",
      "30   7   9.72927e-02 2.24823e+01 9.67014e-04 7.033e-04 6.637e-04 2.91    \n",
      "\n",
      "resulting parameters: mesh: (10 10 10), cao: 3, r_cut_iL: 3.4268e-01,\n",
      "                      alpha_L: 5.9484e+00, accuracy: 9.9352e-04, time: 0.24\n",
      "\n",
      "1973.382291518281\n",
      "minimization step:   10\tmax. rel. force change:+1.408e-06\trel. energy change:+4.800e-04\n",
      "setup and warmup done, starting simulation\n",
      "simulation for parameters {'counterion_valency': 2, 'rod_charge_dens': 1} done\n",
      "\n",
      "P3M tune parameters: Accuracy goal = 9.93518e-04 prefactor = 1.00000e+00\n",
      "System: box_l = 2.40000e+01 # charged part = 74 Sum[q_i^2] = 3.55200e+01\n",
      "mesh cao r_cut_iL     alpha_L      err          rs_err     ks_err     time [ms]\n",
      "4    7   cao too large for this mesh\n",
      "8    7   2.68099e-01 7.14961e+00 9.81419e-04 7.025e-04 6.853e-04 0.35    \n",
      "8    6   2.70931e-01 7.06982e+00 9.83505e-04 7.025e-04 6.883e-04 0.28    \n",
      "8    5   2.78483e-01 6.86519e+00 9.85478e-04 7.025e-04 6.911e-04 0.25    \n",
      "8    4   2.96419e-01 6.42219e+00 9.86295e-04 7.025e-04 6.923e-04 0.20    \n",
      "8    3   3.37012e-01 5.59841e+00 9.93354e-04 7.025e-04 7.023e-04 0.21    \n",
      "8    2   4.83333e-01 3.80344e+00 1.08877e-03 7.025e-04 8.318e-04 accuracy not achieved\n",
      "10   4   2.45472e-01 7.85534e+00 9.93334e-04 7.025e-04 7.023e-04 0.23    \n",
      "10   3   2.80209e-01 6.82003e+00 9.92198e-04 7.025e-04 7.007e-04 0.23    \n",
      "10   5   2.30420e-01 8.40404e+00 9.92704e-04 7.025e-04 7.014e-04 0.27    \n",
      "10   2   2.96419e-01 6.42219e+00 2.11776e-03 7.025e-04 1.998e-03 accuracy not achieved\n",
      "12   4   2.10704e-01 9.24506e+00 9.89187e-04 7.025e-04 6.964e-04 0.28    \n",
      "12   3   2.40804e-01 8.01794e+00 9.92330e-04 7.025e-04 7.008e-04 0.27    \n",
      "12   5   1.97569e-01 9.90141e+00 9.92279e-04 7.025e-04 7.008e-04 0.32    \n",
      "12   2   2.80209e-01 6.82003e+00 1.70700e-03 7.025e-04 1.556e-03 accuracy not achieved\n",
      "14   4   1.85307e-01 1.06007e+01 9.80820e-04 7.025e-04 6.844e-04 0.35    \n",
      "14   3   2.12585e-01 9.15787e+00 9.83992e-04 7.025e-04 6.890e-04 0.33    \n",
      "14   5   1.74019e-01 1.13342e+01 9.78380e-04 7.025e-04 6.809e-04 0.39    \n",
      "14   2   2.40804e-01 8.01794e+00 1.85102e-03 7.025e-04 1.713e-03 accuracy not achieved\n",
      "16   4   1.65252e-01 1.19751e+01 9.81785e-04 7.025e-04 6.858e-04 0.44    \n",
      "16   3   1.90164e-01 1.03126e+01 9.84623e-04 7.025e-04 6.899e-04 0.43    \n",
      "16   5   1.55287e-01 1.27941e+01 9.76470e-04 7.025e-04 6.782e-04 0.50    \n",
      "16   2   2.12585e-01 9.15787e+00 1.95664e-03 7.025e-04 1.826e-03 accuracy not achieved\n",
      "20   4   1.35938e-01 1.47378e+01 9.93082e-04 7.025e-04 7.019e-04 0.74    \n",
      "20   3   1.57480e-01 1.26047e+01 9.90673e-04 7.025e-04 6.985e-04 0.71    \n",
      "20   5   1.27767e-01 1.57408e+01 9.84728e-04 7.025e-04 6.900e-04 0.78    \n",
      "20   2   1.90164e-01 1.03126e+01 1.68666e-03 7.025e-04 1.533e-03 accuracy not achieved\n",
      "22   4   1.25492e-01 1.60439e+01 9.86714e-04 7.025e-04 6.929e-04 1.15    \n",
      "22   3   1.45792e-01 1.36817e+01 9.85273e-04 7.025e-04 6.908e-04 1.17    \n",
      "22   5   1.17495e-01 1.72054e+01 9.88835e-04 7.025e-04 6.959e-04 1.23    \n",
      "22   2   1.57480e-01 1.26047e+01 2.25783e-03 7.025e-04 2.146e-03 accuracy not achieved\n",
      "24   4   1.16668e-01 1.73348e+01 9.80401e-04 7.025e-04 6.838e-04 1.36    \n",
      "24   3   1.25492e-01 1.60439e+01 1.21724e-03 7.025e-04 9.940e-04 accuracy not achieved\n",
      "24   5   1.08825e-01 1.86630e+01 9.92618e-04 7.025e-04 7.013e-04 1.41    \n",
      "24   6   1.04903e-01 1.94037e+01 9.88664e-04 7.025e-04 6.956e-04 1.45    \n",
      "24   7   1.02942e-01 1.97958e+01 9.65422e-04 7.025e-04 6.622e-04 1.53    \n",
      "26   4   1.08465e-01 1.87287e+01 9.92220e-04 7.025e-04 7.007e-04 1.83    \n",
      "26   3   1.16668e-01 1.73348e+01 1.24057e-03 7.025e-04 1.022e-03 accuracy not achieved\n",
      "26   5   1.02084e-01 1.99722e+01 9.73329e-04 7.025e-04 6.737e-04 1.91    \n",
      "26   6   9.84386e-02 2.07572e+01 9.67359e-04 7.025e-04 6.650e-04 1.95    \n",
      "26   7   9.57042e-02 2.13862e+01 9.76142e-04 7.025e-04 6.777e-04 2.06    \n",
      "28   4   1.02533e-01 1.98796e+01 9.68776e-04 7.025e-04 6.671e-04 2.12    \n",
      "28   3   1.08465e-01 1.87287e+01 1.28548e-03 7.025e-04 1.077e-03 accuracy not achieved\n",
      "28   5   9.57540e-02 2.13744e+01 9.71460e-04 7.025e-04 6.710e-04 2.17    \n",
      "28   6   9.23645e-02 2.22064e+01 9.63869e-04 7.025e-04 6.599e-04 2.20    \n",
      "28   7   8.98224e-02 2.28727e+01 9.71626e-04 7.025e-04 6.712e-04 2.30    \n",
      "32   4   9.13185e-02 2.24759e+01 9.69868e-04 7.025e-04 6.687e-04 2.75    \n",
      "32   3   1.02533e-01 1.98796e+01 1.08689e-03 7.025e-04 8.293e-04 accuracy not achieved\n",
      "32   5   8.49102e-02 2.42764e+01 9.83751e-04 7.025e-04 6.886e-04 2.76    \n",
      "32   6   8.17061e-02 2.52854e+01 9.83962e-04 7.025e-04 6.889e-04 2.86    \n",
      "32   7   8.01040e-02 2.58211e+01 9.63297e-04 7.025e-04 6.591e-04 2.90    \n",
      "\n",
      "resulting parameters: mesh: (8 8 8), cao: 4, r_cut_iL: 2.9642e-01,\n",
      "                      alpha_L: 6.4222e+00, accuracy: 9.8630e-04, time: 0.20\n",
      "\n",
      "1980.970652231699\n",
      "minimization step:   10\tmax. rel. force change:+7.446e-07\trel. energy change:+4.206e-04\n"
     ]
    },
    {
     "name": "stdout",
     "output_type": "stream",
     "text": [
      "setup and warmup done, starting simulation\n",
      "simulation for parameters {'counterion_valency': 1, 'rod_charge_dens': 2} done\n",
      "\n"
     ]
    }
   ],
   "source": [
    "#run the system with different parameter sets but same manning parameter\n",
    "runs = [{'params':{'counterion_valency':2, 'rod_charge_dens':1},\n",
    "         'distances':None},\n",
    "        {'params':{'counterion_valency':1, 'rod_charge_dens':2},\n",
    "         'distances':None}\n",
    "       ]\n",
    "\n",
    "for run in runs:\n",
    "    setup_rod_and_ions(system, run['params']['counterion_valency'], counterion_type,\n",
    "                 run['params']['rod_charge_dens'], N_rod_beads, rod_type)\n",
    "    retune_p3m(p3m)\n",
    "    remove_overlap(system, STEEPEST_DESCENT_PARAMS)\n",
    "    system.thermostat.set_langevin(**langevin_params)\n",
    "    system.integrator.run(warmup_steps)\n",
    "    print('setup and warmup done, starting simulation')\n",
    "    energies, distances = integrate_calc_observables(system, N_frames, \n",
    "                                       steps_per_frame, [counterion_type])\n",
    "    clear_system(system)\n",
    "    run['distances'] = distances[counterion_type]\n",
    "    print('simulation for parameters {} done\\n'.format(run['params']))"
   ]
  },
  {
   "cell_type": "code",
   "execution_count": 19,
   "metadata": {},
   "outputs": [],
   "source": [
    "#Q: why does the second simulation take much longer?\n",
    "#A: double the charge, half the valency => 4x more ions to be integrated"
   ]
  },
  {
   "cell_type": "code",
   "execution_count": 20,
   "metadata": {},
   "outputs": [],
   "source": [
    "def calc_cum_hist(values, bins, normalize = True):\n",
    "    hist, bins = np.histogram(values, bins=log_bins)\n",
    "    cum_hist = np.cumsum(hist)\n",
    "    if normalize:\n",
    "        cum_hist = cum_hist/cum_hist[-1]\n",
    "    return cum_hist"
   ]
  },
  {
   "cell_type": "code",
   "execution_count": 21,
   "metadata": {},
   "outputs": [
    {
     "data": {
      "text/plain": [
       "Text(0, 0.5, 'P(r)')"
      ]
     },
     "execution_count": 21,
     "metadata": {},
     "output_type": "execute_result"
    },
    {
     "data": {
      "image/png": "[encoded data removed]",
      "text/plain": [
       "<Figure size 432x288 with 1 Axes>"
      ]
     },
     "metadata": {
      "needs_background": "light"
     },
     "output_type": "display_data"
    }
   ],
   "source": [
    "log_bins=np.logspace(np.log10(rod_radius+ion_diameter/2.), np.log10(rod_length/2.),num=30)\n",
    "\n",
    "fig, ax = plt.subplots()\n",
    "for run in runs:\n",
    "    cum_hist = calc_cum_hist(run['distances'], log_bins)\n",
    "    ax.plot(log_bins[1:],cum_hist, label = 'lambda = {}, nu = {}'.format(run['params']['rod_charge_dens'], \n",
    "                                                                          run['params']['counterion_valency']))\n",
    "    \n",
    "ax.set_xscale('log')\n",
    "ax.legend()\n",
    "plt.xlabel('r')\n",
    "plt.ylabel('P(r)')"
   ]
  },
  {
   "cell_type": "code",
   "execution_count": 22,
   "metadata": {},
   "outputs": [],
   "source": [
    "def eq_to_solve_for_gamma(gamma, manning_parameter, rod_radius, max_radius):\n",
    "    #eq 7 - eq 6 from 10.1021/ma990897o\n",
    "    return gamma*np.log(max_radius/rod_radius) - np.arctan(1/gamma) + np.arctan((1-manning_parameter)/gamma)\n",
    "\n",
    "def calc_manning_radius(gamma,max_radius):\n",
    "    #eq 7 from 10.1021/ma990897o\n",
    "    return max_radius*np.exp(-np.arctan(1./gamma)/gamma)  \n",
    "\n",
    "def calc_PB_probability(r, manning_parameter, gamma, manning_radius):\n",
    "    #eq 8 and 9 from 10.1021/ma990897o\n",
    "    return 1./manning_parameter + gamma/manning_parameter * np.tan(gamma*np.log(r/manning_radius))\n"
   ]
  },
  {
   "cell_type": "code",
   "execution_count": 23,
   "metadata": {},
   "outputs": [
    {
     "data": {
      "image/png": "[encoded data removed]",
      "text/plain": [
       "<Figure size 432x288 with 1 Axes>"
      ]
     },
     "execution_count": 23,
     "metadata": {},
     "output_type": "execute_result"
    }
   ],
   "source": [
    "rod_charge_density = runs[0]['params']['rod_charge_dens']\n",
    "ion_valency = runs[0]['params']['counterion_valency']\n",
    "manning_parameter_times_valency = bjerrum_length*rod_charge_density*ion_valency\n",
    "#for multivalent ions, the manning parameter xi has to be multiplied by the valency.\n",
    "#the result therefore depends only on the product of rod_charge_dens and ion_velancy, so we only need one curve\n",
    "\n",
    "gamma = optimize.fsolve(eq_to_solve_for_gamma, 1, args = (manning_parameter_times_valency,rod_radius+ion_diameter/2.,rod_length/2.))\n",
    "manning_radius = calc_manning_radius(gamma, rod_length/2.)\n",
    "\n",
    "PB_probability = calc_PB_probability(log_bins, manning_parameter_times_valency,gamma, manning_radius)\n",
    "\n",
    "\n",
    "ax.plot(log_bins, PB_probability, label = f'PB xi*nu = {manning_parameter_times_valency}')\n",
    "ax.legend()\n",
    "ax.set_xscale('linear')\n",
    "fig"
   ]
  },
  {
   "cell_type": "code",
   "execution_count": 24,
   "metadata": {},
   "outputs": [],
   "source": [
    "# overcharging through added salt"
   ]
  },
  {
   "cell_type": "code",
   "execution_count": 25,
   "metadata": {},
   "outputs": [],
   "source": [
    "def add_salt(system, anion_params, cation_params):        \n",
    "    for _ in range(anion_params['number']):\n",
    "        system.part.add(pos=np.random.random(3) * system.box_l, \n",
    "                        type=anion_params['type'], q=-anion_params['valency'])\n",
    "        \n",
    "    for _ in range(cation_params['number']):\n",
    "        system.part.add(pos=np.random.random(3) * system.box_l, \n",
    "                        type=cation_params['type'], q=cation_params['valency'])\n",
    "    "
   ]
  },
  {
   "cell_type": "code",
   "execution_count": 32,
   "metadata": {},
   "outputs": [],
   "source": [
    "anion_params = {'type':3,\n",
    "                'valency':2,\n",
    "                'number':500}\n",
    "cation_params = {'type':4,\n",
    "                 'valency':2,\n",
    "                 'number':500}\n",
    "rod_length = 62.5\n",
    "\n",
    "total_anion_charge = -anion_params['number']*anion_params['valency']\n",
    "total_cation_charge = cation_params['number']*cation_params['valency']\n",
    "assert( abs(total_anion_charge+ total_cation_charge)/total_cation_charge < 1e-10)\n",
    "\n",
    "counterion_valency = 1 \n",
    "rod_charge_dens = 1\n",
    "\n",
    "all_ion_types = [counterion_type, anion_params['type'],cation_params['type'] ]\n",
    "\n",
    "#set interactions of salt with the rod and all ions\n",
    "for salt_type in [anion_params['type'], cation_params['type']]:\n",
    "    system.non_bonded_inter[salt_type,rod_type].wca.set_params(\n",
    "          epsilon=wca_epsilon, sigma=ion_diameter/2. + rod_radius)\n",
    "    for ion_type in all_ion_types:\n",
    "        system.non_bonded_inter[salt_type,ion_type].wca.set_params(\n",
    "          epsilon=wca_epsilon, sigma=ion_diameter)\n",
    "    \n",
    "\n"
   ]
  },
  {
   "cell_type": "code",
   "execution_count": 33,
   "metadata": {},
   "outputs": [
    {
     "name": "stdout",
     "output_type": "stream",
     "text": [
      "P3M tune parameters: Accuracy goal = 9.79494e-04 prefactor = 1.00000e+00\n",
      "System: box_l = 1.20000e+01 # charged part = 262 Sum[q_i^2] = 8.14880e+02\n",
      "mesh cao r_cut_iL     alpha_L      err          rs_err     ks_err     time [ms]\n",
      "6    7   cao too large for this mesh\n",
      "8    7   4.66667e-01 5.78902e+00 6.26342e-03 6.926e-04 6.225e-03 accuracy not achieved\n",
      "10   7   4.66667e-01 5.78902e+00 1.07985e-03 6.926e-04 8.285e-04 accuracy not achieved\n",
      "10   7   4.66667e-01 5.78902e+00 1.07985e-03 6.926e-04 8.285e-04 accuracy not achieved\n",
      "12   7   4.01953e-01 6.75531e+00 9.77325e-04 6.926e-04 6.895e-04 2.08    \n",
      "12   6   4.23828e-01 6.39513e+00 9.73198e-04 6.926e-04 6.837e-04 1.94    \n",
      "12   5   4.66667e-01 5.78902e+00 9.74087e-04 6.926e-04 6.849e-04 2.10    \n",
      "12   4   4.66667e-01 5.78902e+00 2.22585e-03 6.926e-04 2.115e-03 accuracy not achieved\n",
      "12   6   4.23828e-01 6.39513e+00 9.73198e-04 6.926e-04 6.837e-04 1.92    \n",
      "12   5   4.23828e-01 6.39513e+00 1.60219e-03 6.926e-04 1.445e-03 accuracy not achieved\n",
      "12   7   4.02306e-01 6.74919e+00 9.72648e-04 6.926e-04 6.829e-04 2.03    \n",
      "14   6   3.68366e-01 7.39303e+00 9.69684e-04 6.926e-04 6.787e-04 1.63    \n",
      "14   5   4.05617e-01 6.69224e+00 9.78844e-04 6.926e-04 6.917e-04 1.71    \n",
      "14   7   3.49327e-01 7.80990e+00 9.72070e-04 6.926e-04 6.821e-04 1.68    \n",
      "16   6   3.25918e-01 8.39033e+00 9.70576e-04 6.926e-04 6.799e-04 1.42    \n",
      "16   5   3.59733e-01 7.57651e+00 9.77778e-04 6.926e-04 6.902e-04 1.40    \n",
      "16   7   3.08651e-01 8.87583e+00 9.77657e-04 6.926e-04 6.900e-04 1.56    \n",
      "16   4   3.68366e-01 7.39303e+00 2.03707e-03 6.926e-04 1.916e-03 accuracy not achieved\n",
      "16   5   3.59733e-01 7.57651e+00 9.77778e-04 6.926e-04 6.902e-04 1.38    \n",
      "16   4   3.59733e-01 7.57651e+00 2.30483e-03 6.926e-04 2.198e-03 accuracy not achieved\n",
      "16   6   3.25305e-01 8.40666e+00 9.79385e-04 6.926e-04 6.925e-04 1.40    \n",
      "16   7   3.09145e-01 8.86115e+00 9.68986e-04 6.926e-04 6.777e-04 1.54    \n",
      "18   5   3.23900e-01 8.44435e+00 9.73352e-04 6.926e-04 6.839e-04 1.45    \n",
      "18   4   3.59733e-01 7.57651e+00 1.39924e-03 6.926e-04 1.216e-03 accuracy not achieved\n",
      "18   6   2.92283e-01 9.38987e+00 9.75473e-04 6.926e-04 6.869e-04 1.48    \n",
      "18   7   2.76826e-01 9.93204e+00 9.79491e-04 6.926e-04 6.926e-04 1.66    \n",
      "18   5   3.23900e-01 8.44435e+00 9.73352e-04 6.926e-04 6.839e-04 1.47    \n",
      "18   4   3.23900e-01 8.44435e+00 2.31815e-03 6.926e-04 2.212e-03 accuracy not achieved\n",
      "18   6   2.92269e-01 9.39033e+00 9.75693e-04 6.926e-04 6.872e-04 1.49    \n",
      "18   7   2.77086e-01 9.92239e+00 9.74310e-04 6.926e-04 6.853e-04 1.68    \n",
      "20   5   2.94167e-01 9.32774e+00 9.78221e-04 6.926e-04 6.908e-04 1.37    \n",
      "20   4   3.23900e-01 8.44435e+00 1.47581e-03 6.926e-04 1.303e-03 accuracy not achieved\n",
      "20   6   2.65699e-01 1.03620e+01 9.70055e-04 6.926e-04 6.792e-04 1.46    \n",
      "20   7   2.51782e-01 1.09541e+01 9.66688e-04 6.926e-04 6.744e-04 1.67    \n",
      "22   5   2.70036e-01 1.01901e+01 9.77139e-04 6.926e-04 6.893e-04 1.71    \n",
      "22   4   2.94167e-01 9.32774e+00 1.56037e-03 6.926e-04 1.398e-03 accuracy not achieved\n",
      "22   6   2.43032e-01 1.13617e+01 9.78622e-04 6.926e-04 6.914e-04 1.94    \n",
      "22   7   2.30392e-01 1.20060e+01 9.70974e-04 6.926e-04 6.805e-04 2.05    \n",
      "22   5   2.70036e-01 1.01901e+01 9.77139e-04 6.926e-04 6.893e-04 1.71    \n",
      "22   4   2.70036e-01 1.01901e+01 2.38001e-03 6.926e-04 2.277e-03 accuracy not achieved\n",
      "22   6   2.43138e-01 1.13566e+01 9.76579e-04 6.926e-04 6.885e-04 1.83    \n",
      "22   7   2.30480e-01 1.20013e+01 9.68914e-04 6.926e-04 6.776e-04 2.04    \n",
      "24   5   2.49994e-01 1.10350e+01 9.72490e-04 6.926e-04 6.827e-04 1.93    \n",
      "24   4   2.70036e-01 1.01901e+01 1.62652e-03 6.926e-04 1.472e-03 accuracy not achieved\n",
      "24   6   2.24678e-01 1.23214e+01 9.72929e-04 6.926e-04 6.833e-04 1.99    \n",
      "24   7   2.12548e-01 1.30482e+01 9.72308e-04 6.926e-04 6.824e-04 2.22    \n",
      "24   5   2.49994e-01 1.10350e+01 9.72490e-04 6.926e-04 6.827e-04 1.90    \n",
      "24   4   2.49994e-01 1.10350e+01 2.38528e-03 6.926e-04 2.283e-03 accuracy not achieved\n",
      "24   6   2.24604e-01 1.23256e+01 9.74462e-04 6.926e-04 6.855e-04 2.00    \n",
      "24   7   2.12886e-01 1.30268e+01 9.63729e-04 6.926e-04 6.701e-04 2.23    \n",
      "26   5   2.32417e-01 1.18980e+01 9.75285e-04 6.926e-04 6.866e-04 2.35    \n",
      "26   4   2.49994e-01 1.10350e+01 1.67816e-03 6.926e-04 1.529e-03 accuracy not achieved\n",
      "26   6   2.08980e-01 1.32783e+01 9.68652e-04 6.926e-04 6.772e-04 2.49    \n",
      "26   7   1.97261e-01 1.40934e+01 9.75992e-04 6.926e-04 6.876e-04 2.67    \n",
      "28   5   2.17891e-01 1.27180e+01 9.67352e-04 6.926e-04 6.753e-04 2.75    \n",
      "28   4   2.32417e-01 1.18980e+01 1.74031e-03 6.926e-04 1.597e-03 accuracy not achieved\n",
      "28   6   1.95194e-01 1.42476e+01 9.70087e-04 6.926e-04 6.792e-04 2.95    \n",
      "28   7   1.84299e-01 1.51178e+01 9.72993e-04 6.926e-04 6.834e-04 3.16    \n",
      "28   5   2.17891e-01 1.27180e+01 9.67352e-04 6.926e-04 6.753e-04 2.92    \n",
      "28   4   2.17891e-01 1.27180e+01 2.40518e-03 6.926e-04 2.303e-03 accuracy not achieved\n",
      "28   6   1.94910e-01 1.42690e+01 9.76821e-04 6.926e-04 6.888e-04 2.98    \n",
      "28   7   1.84696e-01 1.50842e+01 9.61366e-04 6.926e-04 6.667e-04 2.95    \n",
      "30   5   2.04272e-01 1.35943e+01 9.75744e-04 6.926e-04 6.873e-04 3.31    \n",
      "30   4   2.17891e-01 1.27180e+01 1.77252e-03 6.926e-04 1.632e-03 accuracy not achieved\n",
      "30   6   1.82994e-01 1.52291e+01 9.76039e-04 6.926e-04 6.877e-04 3.37    \n",
      "30   7   1.72780e-01 1.61591e+01 9.77068e-04 6.926e-04 6.892e-04 3.64    \n",
      "30   5   2.04272e-01 1.35943e+01 9.75744e-04 6.926e-04 6.873e-04 3.20    \n",
      "30   4   2.04272e-01 1.35943e+01 2.45293e-03 6.926e-04 2.353e-03 accuracy not achieved\n",
      "30   6   1.83526e-01 1.51835e+01 9.62792e-04 6.926e-04 6.688e-04 3.18    \n",
      "30   7   1.73153e-01 1.61232e+01 9.65282e-04 6.926e-04 6.724e-04 3.43    \n",
      "32   5   1.83526e-01 1.51835e+01 1.20863e-03 6.926e-04 9.905e-04 accuracy not achieved\n",
      "32   6   1.72772e-01 1.61599e+01 9.68258e-04 6.926e-04 6.766e-04 3.24    \n",
      "32   7   1.62736e-01 1.71894e+01 9.78155e-04 6.926e-04 6.907e-04 3.55    \n",
      "34   5   1.72772e-01 1.61599e+01 1.24430e-03 6.926e-04 1.034e-03 accuracy not achieved\n",
      "34   6   1.63324e-01 1.71255e+01 9.71252e-04 6.926e-04 6.809e-04 7.20    \n",
      "34   7   1.53875e-01 1.82117e+01 9.77566e-04 6.926e-04 6.899e-04 7.48    \n",
      "\n",
      "resulting parameters: mesh: (20 20 20), cao: 5, r_cut_iL: 2.9417e-01,\n",
      "                      alpha_L: 9.3277e+00, accuracy: 9.7822e-04, time: 1.37\n",
      "\n",
      "138170.40920384874\n",
      "minimization step:   10\tmax. rel. force change:+9.955e-01\trel. energy change:+9.916e-01\n",
      "1160.0477071361026\n",
      "minimization step:   20\tmax. rel. force change:+8.347e-01\trel. energy change:+7.300e-01\n",
      "313.2330362783372\n",
      "minimization step:   30\tmax. rel. force change:+7.641e-01\trel. energy change:+4.483e-01\n",
      "172.80315847361464\n",
      "minimization step:   40\tmax. rel. force change:+7.808e-04\trel. energy change:+3.624e-01\n",
      "setup and warmup done, starting simulation\n",
      "simulation done\n"
     ]
    }
   ],
   "source": [
    "clear_system(system)\n",
    "system.box_l = 3*[rod_length]\n",
    "setup_rod_and_ions(system, counterion_valency, counterion_type,\n",
    "                   rod_charge_dens, N_rod_beads, rod_type)\n",
    "add_salt(system, anion_params, cation_params)\n",
    "retune_p3m(p3m)\n",
    "remove_overlap(system, STEEPEST_DESCENT_PARAMS)\n",
    "system.thermostat.set_langevin(**langevin_params)\n",
    "system.integrator.run(warmup_steps)\n",
    "print('setup and warmup done, starting simulation')\n",
    "energies, distances = integrate_calc_observables(system, N_frames, \n",
    "                                   steps_per_frame, all_ion_types)\n",
    "print('simulation done')\n"
   ]
  },
  {
   "cell_type": "code",
   "execution_count": 34,
   "metadata": {},
   "outputs": [
    {
     "data": {
      "image/png": "[encoded data removed]",
      "text/plain": [
       "<Figure size 432x288 with 1 Axes>"
      ]
     },
     "metadata": {
      "needs_background": "light"
     },
     "output_type": "display_data"
    },
    {
     "data": {
      "image/png": "[encoded data removed]",
      "text/plain": [
       "<Figure size 432x288 with 1 Axes>"
      ]
     },
     "metadata": {
      "needs_background": "light"
     },
     "output_type": "display_data"
    }
   ],
   "source": [
    "#do not normalize the histograms because there are a different number of the ion types\n",
    "counterion_hist = calc_cum_hist(distances[counterion_type], log_bins, normalize = False)\n",
    "anion_hist = calc_cum_hist(distances[anion_params['type']], log_bins, normalize = False)\n",
    "cation_hist = calc_cum_hist(distances[cation_params['type']], log_bins, normalize = False)\n",
    "\n",
    "charge_hist = cation_params['valency'] * cation_hist - anion_params['valency'] * anion_hist - counterion_valency * counterion_hist\n",
    "charge_hist = charge_hist/charge_hist[-1]\n",
    "#we know the system in total is neutral, so we can normalize the total histogram to the rod charge\n",
    "\n",
    "\n",
    "fig2, ax2 = plt.subplots()\n",
    "#normalize the histogram by the rod charge\n",
    "ax2.plot(log_bins[1:], charge_hist)\n",
    "ax2.set_xscale('log')\n",
    "plt.xlabel('r')\n",
    "plt.ylabel('P(r)')\n",
    "\n",
    "fig = plt.figure()\n",
    "plt.plot(energies)\n",
    "plt.show()\n"
   ]
  },
  {
   "cell_type": "code",
   "execution_count": null,
   "metadata": {},
   "outputs": [],
   "source": []
  }
 ],
 "metadata": {
  "kernelspec": {
   "display_name": "Python 3",
   "language": "python",
   "name": "python3"
  },
  "language_info": {
   "codemirror_mode": {
    "name": "ipython",
    "version": 3
   },
   "file_extension": ".py",
   "mimetype": "text/x-python",
   "name": "python",
   "nbconvert_exporter": "python",
   "pygments_lexer": "ipython3",
   "version": "3.6.9"
  }
 },
 "nbformat": 4,
 "nbformat_minor": 4
}
