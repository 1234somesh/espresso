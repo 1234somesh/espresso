{
 "cells": [
  {
   "cell_type": "code",
   "execution_count": null,
   "metadata": {},
   "outputs": [],
   "source": [
    "from espressomd import System, interactions, electrostatics\n",
    "from espressomd.io.writer import vtf\n",
    "\n",
    "import numpy as np\n",
    "from scipy import optimize\n",
    "%matplotlib inline\n",
    "import matplotlib.pyplot as plt\n"
   ]
  },
  {
   "cell_type": "markdown",
   "metadata": {},
   "source": [
    "Theory: this notebook introduces electrostatics methods (it will replace the current tutorial for charged systems). The physical goal is to study counterion condensation around a charged rod (simple cell model for a polyelectrolyte) and recreate some of the results from \"Deserno, Markus, Christian Holm, and Sylvio May. \"Fraction of condensed counterions around a charged rod: Comparison of Poisson− Boltzmann theory and computer simulations.\" Macromolecules 33.1 (2000): 199-206.\""
   ]
  },
  {
   "cell_type": "code",
   "execution_count": null,
   "metadata": {},
   "outputs": [],
   "source": [
    "\n",
    "# system parameters\n",
    "rod_length = 24.\n",
    "\n",
    "# number of beads that make up the rod\n",
    "N_rod_beads = 50\n",
    "\n",
    "bjerrum_length = 1.0\n",
    "kT = 1.\n",
    "\n",
    "\n",
    "\n"
   ]
  },
  {
   "cell_type": "code",
   "execution_count": null,
   "metadata": {},
   "outputs": [],
   "source": [
    "system = System(box_l=3*[rod_length])\n",
    "system.time_step = 0.01\n",
    "system.cell_system.skin = 0.4"
   ]
  },
  {
   "cell_type": "code",
   "execution_count": null,
   "metadata": {},
   "outputs": [],
   "source": [
    "wca_epsilon = 1.0\n",
    "ion_diameter = 1.0\n",
    "rod_radius = 1.0\n",
    "\n",
    "# particle types \n",
    "rod_type = 1\n",
    "counterion_type = 2\n",
    "\n",
    "#ion-ion interaction\n",
    "system.non_bonded_inter[counterion_type,counterion_type].wca.set_params(\n",
    "      epsilon=wca_epsilon, sigma=ion_diameter)\n",
    "\n",
    "# ion-rod interaction\n",
    "system.non_bonded_inter[counterion_type,rod_type].wca.set_params(\n",
    "      epsilon=wca_epsilon, sigma=ion_diameter/2. + rod_radius)"
   ]
  },
  {
   "cell_type": "code",
   "execution_count": null,
   "metadata": {},
   "outputs": [],
   "source": [
    "def setup_rod_and_ions(system, ion_valency, counterion_type,\n",
    "                 rod_line_charge, N_rod_beads, rod_type):\n",
    "    \n",
    "    # calculate charge of the single rod beads\n",
    "    total_rod_charge = rod_charge_dens*system.box_l[0]\n",
    "    rod_charge_per_bead = total_rod_charge/N_rod_beads\n",
    "    \n",
    "    # number of counterions\n",
    "    N_ions = int(total_rod_charge/ion_valency)\n",
    "    \n",
    "    assert(abs((total_rod_charge-N_ions*ion_valency)/total_rod_charge)<1e-8)\n",
    "    \n",
    "    for idx in range(N_rod_beads):\n",
    "        system.part.add(pos=[rod_length/2.,rod_length/2.,idx/N_rod_beads], \n",
    "                        type=rod_type, q=rod_charge_per_bead, fix=3*[True])\n",
    "\n",
    "    for _ in range(N_ions):\n",
    "        system.part.add(pos=np.random.random(3) * system.box_l, \n",
    "                        type=counterion_type, q=-ion_valency)\n",
    "    "
   ]
  },
  {
   "cell_type": "code",
   "execution_count": null,
   "metadata": {},
   "outputs": [],
   "source": [
    "counterion_valency = 2\n",
    "rod_charge_dens = 1\n",
    "\n",
    "\n",
    "\n",
    "setup_rod_and_ions(system, counterion_valency, counterion_type,\n",
    "             rod_charge_dens, N_rod_beads, rod_type)"
   ]
  },
  {
   "cell_type": "code",
   "execution_count": null,
   "metadata": {},
   "outputs": [],
   "source": [
    "p3m_params = {'prefactor':kT*bjerrum_length,\n",
    "              'accuracy':1e-3}\n",
    "p3m = electrostatics.P3M(**p3m_params)\n",
    "system.actors.add(p3m)"
   ]
  },
  {
   "cell_type": "code",
   "execution_count": null,
   "metadata": {},
   "outputs": [],
   "source": [
    "def remove_overlap(system, sd_params):   \n",
    "    #remove overlap by steepest descent\n",
    "    # Set up steepest descent integration\n",
    "    system.integrator.set_steepest_descent(f_max=sd_params['f_max'],\n",
    "                                           gamma=sd_params['damping'],\n",
    "                                           max_displacement=sd_params['max_displacement'])\n",
    "    \n",
    "    # Initialize integrator to obtain initial forces\n",
    "    system.integrator.run(0)\n",
    "    maxforce = np.max(np.linalg.norm(system.part[:].f))\n",
    "    energy = system.analysis.energy()['total']\n",
    "    \n",
    "    i = 0\n",
    "    while i < sd_params['max_steps']//sd_params['emstep']:\n",
    "        prev_maxforce = maxforce\n",
    "        prev_energy = energy\n",
    "        print(prev_energy)\n",
    "        system.integrator.run(sd_params['emstep'])\n",
    "        maxforce = np.max(np.linalg.norm(system.part[:].f))\n",
    "        relforce = np.abs((maxforce-prev_maxforce)/prev_maxforce)\n",
    "        energy = system.analysis.energy()['total']\n",
    "        relener = np.abs((energy-prev_energy)/prev_energy)\n",
    "        print(\"minimization step: {:4.0f}\\tmax. rel. force change:{:+3.3e}\\trel. energy change:{:+3.3e}\".format((i+1)*sd_params['emstep'],relforce, relener))\n",
    "        if relforce < sd_params['f_tol'] or relener < sd_params['e_tol']:\n",
    "            break\n",
    "        i += 1\n",
    "        \n",
    "    system.integrator.set_vv()"
   ]
  },
  {
   "cell_type": "code",
   "execution_count": null,
   "metadata": {},
   "outputs": [],
   "source": [
    "#steepest descent params\n",
    "STEEPEST_DESCENT_PARAMS = {'f_tol':1e-2,\n",
    "                          'e_tol':1e-5,\n",
    "                          'f_max':0,\n",
    "                          'damping':30,\n",
    "                          'max_steps':10000,\n",
    "                          'max_displacement':0.01,\n",
    "                          'emstep':10}\n",
    "\n",
    "remove_overlap(system,STEEPEST_DESCENT_PARAMS)"
   ]
  },
  {
   "cell_type": "code",
   "execution_count": null,
   "metadata": {},
   "outputs": [],
   "source": [
    "langevin_params = {'kT':kT,\n",
    "                   'gamma':0.5,\n",
    "                   'seed':42}\n",
    "system.thermostat.set_langevin(**langevin_params)"
   ]
  },
  {
   "cell_type": "code",
   "execution_count": null,
   "metadata": {},
   "outputs": [],
   "source": [
    "def integrate_calc_observables(system, N_frames, steps_per_frame, ion_types):\n",
    "    energies = []\n",
    "    radial_distances = []\n",
    "    \n",
    "    particles_by_type = {}\n",
    "    radial_distances = {}\n",
    "    for ion_type in ion_types:\n",
    "        particles_by_type[ion_type] = system.part.select(type=ion_type)\n",
    "        radial_distances[ion_type] = []\n",
    "    \n",
    "    system_center = np.array(system.box_l)/2.\n",
    "    \n",
    "    for _ in range(N_frames):\n",
    "        # run run the simulation for a few steps\n",
    "        system.integrator.run(steps_per_frame)\n",
    "\n",
    "        energies.append(system.analysis.energy()['total'])\n",
    "        \n",
    "        for ion_type, ions in particles_by_type.items():\n",
    "            for ion in ions:\n",
    "                radial_distances[ion_type].append(np.linalg.norm(ion.pos_folded[0:2]-system_center[0:2]))\n",
    "    \n",
    "    return energies, radial_distances\n",
    "\n",
    "\n"
   ]
  },
  {
   "cell_type": "code",
   "execution_count": null,
   "metadata": {},
   "outputs": [],
   "source": [
    "# run and look at energies to see how long it takes until equilibration and what the fluctuation timescale is\n",
    "\n",
    "# MD frames to go\n",
    "N_frames = 100\n",
    "\n",
    "# number of timesteps per frame\n",
    "steps_per_frame = 100\n",
    "energies, distances = integrate_calc_observables(system, N_frames, \n",
    "                                       steps_per_frame, [counterion_type])"
   ]
  },
  {
   "cell_type": "code",
   "execution_count": null,
   "metadata": {},
   "outputs": [],
   "source": [
    "def clear_system(system):\n",
    "    system.thermostat.turn_off()\n",
    "    system.part.clear()\n",
    "    system.time = 0.\n",
    "    "
   ]
  },
  {
   "cell_type": "code",
   "execution_count": null,
   "metadata": {},
   "outputs": [],
   "source": [
    "clear_system(system)"
   ]
  },
  {
   "cell_type": "code",
   "execution_count": null,
   "metadata": {},
   "outputs": [],
   "source": [
    "fig1 = plt.figure()\n",
    "#todo plot vs time step so steps_per_frame can be tuned\n",
    "plt.plot(energies)\n",
    "plt.xlabel('time frames')\n",
    "plt.ylabel('system total energy')"
   ]
  },
  {
   "cell_type": "code",
   "execution_count": null,
   "metadata": {},
   "outputs": [],
   "source": [
    "#use the plot to determine the warmup time and the appropriate number of steps per frame\n",
    "warmup_steps = 100\n",
    "\n",
    "N_frames = 200\n",
    "steps_per_frame = 100#*200"
   ]
  },
  {
   "cell_type": "code",
   "execution_count": null,
   "metadata": {},
   "outputs": [],
   "source": [
    "#TODO replace this function by more intuitive behaviour of p3m.tune()\n",
    "def retune_p3m(p3m):\n",
    "    #reset p3m tunable parameters to default to force a retune\n",
    "    p3m_default_params = p3m.default_params()\n",
    "    p3m.tune(mesh = p3m_default_params['mesh'],\n",
    "             cao = p3m_default_params['cao'],\n",
    "             r_cut = 0,\n",
    "             #TODO change default value in interface\n",
    "             alpha = p3m_default_params['alpha'])"
   ]
  },
  {
   "cell_type": "code",
   "execution_count": null,
   "metadata": {},
   "outputs": [],
   "source": [
    "#run the system with different parameter sets but same manning parameter\n",
    "runs = [{'params':{'counterion_valency':2, 'rod_charge_dens':1},\n",
    "         'distances':None},\n",
    "        {'params':{'counterion_valency':1, 'rod_charge_dens':2},\n",
    "         'distances':None}\n",
    "       ]\n",
    "\n",
    "for run in runs:\n",
    "    setup_rod_and_ions(system, run['params']['counterion_valency'], counterion_type,\n",
    "                 run['params']['rod_charge_dens'], N_rod_beads, rod_type)\n",
    "    retune_p3m(p3m)\n",
    "    remove_overlap(system, STEEPEST_DESCENT_PARAMS)\n",
    "    system.thermostat.set_langevin(**langevin_params)\n",
    "    \n",
    "    energies, distances = integrate_calc_observables(system, N_frames, \n",
    "                                       steps_per_frame, [counterion_type])\n",
    "    clear_system(system)\n",
    "    run['distances'] = distances[counterion_type]\n",
    "    print('simulation for parameters {} done\\n'.format(run['params']))"
   ]
  },
  {
   "cell_type": "code",
   "execution_count": null,
   "metadata": {},
   "outputs": [],
   "source": [
    "def calc_cum_hist(values, bins):\n",
    "    hist, bins = np.histogram(values, bins=log_bins)\n",
    "    cum_hist = np.cumsum(hist)\n",
    "    return cum_hist/cum_hist[-1]"
   ]
  },
  {
   "cell_type": "code",
   "execution_count": null,
   "metadata": {},
   "outputs": [],
   "source": [
    "log_bins=np.logspace(np.log10(rod_radius), np.log10(rod_length),num=30)\n",
    "\n",
    "fig, ax = plt.subplots()\n",
    "for run in runs:\n",
    "    cum_hist = calc_cum_hist(run['distances'], log_bins)\n",
    "    ax.plot(log_bins[1:],cum_hist, label = 'lambda = {}, nu = {}'.format(run['params']['rod_charge_dens'], \n",
    "                                                                          run['params']['counterion_valency']))\n",
    "    \n",
    "ax.set_xscale('log')\n",
    "ax.legend()\n",
    "plt.xlabel('r')\n",
    "plt.ylabel('P(r)')"
   ]
  },
  {
   "cell_type": "code",
   "execution_count": null,
   "metadata": {},
   "outputs": [],
   "source": [
    "def eq_to_solve_for_gamma(gamma, manning_parameter, rod_radius, rod_length):\n",
    "    #eq 7 - eq 6 from 10.1021/ma990897o\n",
    "    return gamma*np.log(rod_length/rod_radius) - np.arctan(1/gamma) + np.arctan((1-manning_parameter)/gamma)\n",
    "\n",
    "def calc_manning_radius(gamma,rod_length):\n",
    "    #eq 7 from 10.1021/ma990897o\n",
    "    return rod_length*np.exp(-np.arctan(1./gamma)/gamma)  \n",
    "\n",
    "def calc_PB_probability(r, manning_parameter, gamma, manning_radius):\n",
    "    #eq 8 and 9 from 10.1021/ma990897o\n",
    "    return 1./manning_parameter + gamma/manning_parameter * np.tan(gamma*np.log(r/manning_radius))\n"
   ]
  },
  {
   "cell_type": "code",
   "execution_count": null,
   "metadata": {},
   "outputs": [],
   "source": [
    "rod_charge_density = 2\n",
    "ion_valency = 1\n",
    "manning_parameter_times_valency = bjerrum_length*rod_charge_density*ion_valency\n",
    "#for multivalent ions, the manning parameter xi has to be multiplied by the valency.\n",
    "#the result therefore depends only on the product of rod_charge_dens and ion_velancy, so we only need one curve\n",
    "\n",
    "gamma = optimize.fsolve(eq_to_solve_for_gamma, 1, args = (manning_parameter_times_valency,rod_radius,rod_length))\n",
    "manning_radius = calc_manning_radius(gamma, rod_length)\n",
    "\n",
    "PB_probability = calc_PB_probability(log_bins, manning_parameter_times_valency,gamma, manning_radius)\n",
    "\n",
    "\n",
    "ax.plot(log_bins, PB_probability, label = f'PB xi*nu = {manning_parameter_times_valency}')\n",
    "ax.legend()\n",
    "fig"
   ]
  },
  {
   "cell_type": "code",
   "execution_count": null,
   "metadata": {},
   "outputs": [],
   "source": [
    "# overcharging through added salt"
   ]
  },
  {
   "cell_type": "code",
   "execution_count": null,
   "metadata": {},
   "outputs": [],
   "source": [
    "def add_salt(system, anion_params, cation_params):        \n",
    "    for _ in range(anion_params['number']):\n",
    "        system.part.add(pos=np.random.random(3) * system.box_l, \n",
    "                        type=anion_params['type'], q=-anion_params['valency'])\n",
    "        \n",
    "    for _ in range(cation_params['number']):\n",
    "        system.part.add(pos=np.random.random(3) * system.box_l, \n",
    "                        type=cation_params['type'], q=cation_params['valency'])\n",
    "    "
   ]
  },
  {
   "cell_type": "code",
   "execution_count": null,
   "metadata": {},
   "outputs": [],
   "source": [
    "anion_params = {'type':3,\n",
    "                'valency':1,\n",
    "                'number':10}\n",
    "cation_params = {'type':4,\n",
    "                 'valency':1,\n",
    "                 'number':10}\n",
    "\n",
    "total_anion_charge = -anion_params['number']*anion_params['valency']\n",
    "total_cation_charge = cation_params['number']*cation_params['valency']\n",
    "assert( abs(total_anion_charge+ total_cation_charge)/total_cation_charge < 1e-10)\n",
    "\n",
    "counterion_valency = 1\n",
    "rod_charge_dens = 2\n",
    "\n",
    "all_ion_types = [counterion_type, anion_params['type'],cation_params['type'] ]\n",
    "\n",
    "#set interactions of salt with the rod and all ions\n",
    "for salt_type in [anion_params['type'], cation_params['type']]:\n",
    "    system.non_bonded_inter[salt_type,rod_type].wca.set_params(\n",
    "          epsilon=wca_epsilon, sigma=ion_diameter/2. + rod_radius)\n",
    "    for ion_type in all_ion_types:\n",
    "        system.non_bonded_inter[salt_type,ion_type].wca.set_params(\n",
    "          epsilon=wca_epsilon, sigma=ion_diameter)\n",
    "    \n",
    "\n"
   ]
  },
  {
   "cell_type": "code",
   "execution_count": null,
   "metadata": {},
   "outputs": [],
   "source": [
    "clear_system(system)\n",
    "setup_rod_and_ions(system, counterion_valency, counterion_type,\n",
    "                   rod_charge_dens, N_rod_beads, rod_type)\n",
    "add_salt(system, anion_params, cation_params)\n",
    "retune_p3m(p3m)\n",
    "remove_overlap(system, STEEPEST_DESCENT_PARAMS)\n",
    "system.thermostat.set_langevin(**langevin_params)\n",
    "\n",
    "energies, distances = integrate_calc_observables(system, N_frames, \n",
    "                                   steps_per_frame, all_ion_types)\n"
   ]
  },
  {
   "cell_type": "code",
   "execution_count": null,
   "metadata": {},
   "outputs": [],
   "source": [
    "counterion_hist = calc_cum_hist(distances[counterion_type], log_bins)\n",
    "anion_hist = calc_cum_hist(distances[anion_params['type']], log_bins)\n",
    "cation_hist = calc_cum_hist(distances[cation_params['type']], log_bins)\n",
    "\n",
    "charge_hist = cation_params['valency'] * cation_hist - anion_params['valency'] * anion_hist - counterion_valency * counterion_hist\n",
    "\n",
    "fig2, ax2 = plt.subplots()\n",
    "#flip the histogram (couterions are negative, but the plot looks nicer pn the positive axis)\n",
    "ax2.plot(log_bins[1:], -charge_hist)\n",
    "ax2.set_xscale('log')\n",
    "plt.xlabel('r')\n",
    "plt.ylabel('P(r)')\n",
    "\n"
   ]
  }
 ],
 "metadata": {
  "kernelspec": {
   "display_name": "Python 3",
   "language": "python",
   "name": "python3"
  },
  "language_info": {
   "codemirror_mode": {
    "name": "ipython",
    "version": 3
   },
   "file_extension": ".py",
   "mimetype": "text/x-python",
   "name": "python",
   "nbconvert_exporter": "python",
   "pygments_lexer": "ipython3",
   "version": "3.6.9"
  }
 },
 "nbformat": 4,
 "nbformat_minor": 4
}
