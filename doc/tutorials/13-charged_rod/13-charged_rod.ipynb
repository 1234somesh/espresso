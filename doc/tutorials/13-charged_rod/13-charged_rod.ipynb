{
 "cells": [
  {
   "cell_type": "code",
   "execution_count": 1,
   "metadata": {},
   "outputs": [],
   "source": [
    "from espressomd import System, interactions, electrostatics\n",
    "from espressomd.io.writer import vtf\n",
    "\n",
    "import numpy as np\n",
    "from scipy import optimize\n",
    "%matplotlib inline\n",
    "import matplotlib.pyplot as plt\n"
   ]
  },
  {
   "cell_type": "markdown",
   "metadata": {},
   "source": [
    "Theory: this notebook introduces electrostatics methods (it will replace the current tutorial for charged systems). The physical goal is to study counterion condensation around a charged rod (simple cell model for a polyelectrolyte) and recreate some of the results from \"Deserno, Markus, Christian Holm, and Sylvio May. \"Fraction of condensed counterions around a charged rod: Comparison of Poisson− Boltzmann theory and computer simulations.\" Macromolecules 33.1 (2000): 199-206.\""
   ]
  },
  {
   "cell_type": "code",
   "execution_count": 2,
   "metadata": {},
   "outputs": [],
   "source": [
    "\n",
    "# system parameters\n",
    "rod_length = 24.\n",
    "bjerrum_length = 1.0\n",
    "kT = 1.\n",
    "\n",
    "#this tutorial assumes a unit system in which the elementary charge is 1"
   ]
  },
  {
   "cell_type": "code",
   "execution_count": 3,
   "metadata": {},
   "outputs": [],
   "source": [
    "system = System(box_l=3*[rod_length])\n",
    "system.time_step = 0.01\n",
    "system.cell_system.skin = 0.4"
   ]
  },
  {
   "cell_type": "code",
   "execution_count": 4,
   "metadata": {},
   "outputs": [],
   "source": [
    "wca_epsilon = 1.0\n",
    "ion_diameter = 1.0\n",
    "rod_radius = 1.0\n",
    "\n",
    "# particle types \n",
    "rod_type = 1\n",
    "counterion_type = 2\n",
    "\n",
    "#ion-ion interaction\n",
    "system.non_bonded_inter[counterion_type,counterion_type].wca.set_params(\n",
    "      epsilon=wca_epsilon, sigma=ion_diameter)\n",
    "\n",
    "# ion-rod interaction\n",
    "system.non_bonded_inter[counterion_type,rod_type].wca.set_params(\n",
    "      epsilon=wca_epsilon, sigma=ion_diameter/2. + rod_radius)"
   ]
  },
  {
   "cell_type": "code",
   "execution_count": 5,
   "metadata": {},
   "outputs": [],
   "source": [
    "def setup_rod_and_ions(system, ion_valency, counterion_type,\n",
    "                 rod_line_charge, N_rod_beads, rod_type):\n",
    "    \n",
    "    # calculate charge of the single rod beads\n",
    "    total_rod_charge = rod_charge_dens*system.box_l[0]\n",
    "    rod_charge_per_bead = total_rod_charge/N_rod_beads\n",
    "    \n",
    "    # number of counterions\n",
    "    N_ions = int(total_rod_charge/ion_valency)\n",
    "    \n",
    "    assert(abs((total_rod_charge-N_ions*ion_valency)/total_rod_charge)<1e-8)\n",
    "    \n",
    "    for idx in range(N_rod_beads):\n",
    "        system.part.add(pos=[rod_length/2.,rod_length/2.,idx/N_rod_beads], \n",
    "                        type=rod_type, q=rod_charge_per_bead, fix=3*[True])\n",
    "\n",
    "    for _ in range(N_ions):\n",
    "        system.part.add(pos=np.random.random(3) * system.box_l, \n",
    "                        type=counterion_type, q=-ion_valency)\n",
    "    "
   ]
  },
  {
   "cell_type": "code",
   "execution_count": 6,
   "metadata": {},
   "outputs": [],
   "source": [
    "counterion_valency = 1\n",
    "rod_charge_dens = 1\n",
    "\n",
    "# number of beads that make up the rod\n",
    "N_rod_beads = 50\n",
    "\n",
    "\n",
    "setup_rod_and_ions(system, counterion_valency, counterion_type,\n",
    "             rod_charge_dens, N_rod_beads, rod_type)"
   ]
  },
  {
   "cell_type": "code",
   "execution_count": 7,
   "metadata": {},
   "outputs": [
    {
     "name": "stdout",
     "output_type": "stream",
     "text": [
      "P3M tune parameters: Accuracy goal = 1.00000e-03 prefactor = 1.00000e+00\n",
      "System: box_l = 2.40000e+01 # charged part = 74 Sum[q_i^2] = 3.55200e+01\n",
      "mesh cao r_cut_iL     alpha_L      err          rs_err     ks_err     time [ms]\n",
      "4    7   cao too large for this mesh\n",
      "8    7   2.67155e-01 7.17025e+00 9.94171e-04 7.071e-04 6.988e-04 0.59    \n",
      "8    6   2.69987e-01 7.08993e+00 9.95810e-04 7.071e-04 7.012e-04 0.31    \n",
      "8    5   2.77539e-01 6.88402e+00 9.96811e-04 7.071e-04 7.026e-04 0.26    \n",
      "8    4   2.95475e-01 6.43834e+00 9.96167e-04 7.071e-04 7.017e-04 0.22    \n",
      "8    3   3.37012e-01 5.59330e+00 9.94603e-04 7.071e-04 6.995e-04 0.22    \n",
      "8    2   4.83333e-01 3.79978e+00 1.09024e-03 7.071e-04 8.298e-04 accuracy not achieved\n",
      "10   4   2.45268e-01 7.85546e+00 9.96622e-04 7.071e-04 7.023e-04 0.25    \n",
      "10   3   2.79894e-01 6.82216e+00 9.96133e-04 7.071e-04 7.016e-04 0.23    \n",
      "10   5   2.30263e-01 8.40285e+00 9.95529e-04 7.071e-04 7.008e-04 0.29    \n",
      "10   2   2.95475e-01 6.43834e+00 2.13250e-03 7.071e-04 2.012e-03 accuracy not achieved\n",
      "12   4   2.10467e-01 9.24822e+00 9.93397e-04 7.071e-04 6.977e-04 0.30    \n",
      "12   3   2.40534e-01 8.02058e+00 9.96302e-04 7.071e-04 7.019e-04 0.28    \n",
      "12   5   1.97347e-01 9.90487e+00 9.96588e-04 7.071e-04 7.023e-04 0.34    \n",
      "12   2   2.79894e-01 6.82216e+00 1.71010e-03 7.071e-04 1.557e-03 accuracy not achieved\n",
      "14   4   1.85098e-01 1.06045e+01 9.85083e-04 7.071e-04 6.858e-04 0.39    \n",
      "14   3   2.11406e-01 9.20441e+00 9.98283e-04 7.071e-04 7.047e-04 0.36    \n",
      "14   5   1.73823e-01 1.13383e+01 9.82750e-04 7.071e-04 6.825e-04 0.43    \n",
      "14   2   2.40534e-01 8.02058e+00 1.85420e-03 7.071e-04 1.714e-03 accuracy not achieved\n",
      "16   4   1.64335e-01 1.20362e+01 9.99477e-04 7.071e-04 7.064e-04 0.48    \n",
      "16   3   1.89110e-01 1.03651e+01 9.98928e-04 7.071e-04 7.056e-04 0.46    \n",
      "16   5   1.54426e-01 1.28593e+01 9.95331e-04 7.071e-04 7.005e-04 0.53    \n",
      "16   2   2.11406e-01 9.20441e+00 1.98228e-03 7.071e-04 1.852e-03 accuracy not achieved\n",
      "20   4   1.35923e-01 1.47276e+01 9.94321e-04 7.071e-04 6.991e-04 0.81    \n",
      "20   3   1.57345e-01 1.26058e+01 9.94108e-04 7.071e-04 6.987e-04 0.78    \n",
      "20   5   1.27797e-01 1.57242e+01 9.84710e-04 7.071e-04 6.853e-04 0.85    \n",
      "20   2   1.89110e-01 1.03651e+01 1.70793e-03 7.071e-04 1.555e-03 accuracy not achieved\n",
      "22   4   1.25384e-01 1.60456e+01 9.90283e-04 7.071e-04 6.933e-04 1.18    \n",
      "22   3   1.45053e-01 1.37445e+01 9.98444e-04 7.071e-04 7.049e-04 1.13    \n",
      "22   5   1.17394e-01 1.72073e+01 9.92450e-04 7.071e-04 6.964e-04 1.27    \n",
      "22   2   1.57345e-01 1.26058e+01 2.25973e-03 7.071e-04 2.146e-03 accuracy not achieved\n",
      "24   4   1.16155e-01 1.74021e+01 9.94835e-04 7.071e-04 6.998e-04 1.41    \n",
      "24   3   1.34854e-01 1.48517e+01 9.99205e-04 7.071e-04 7.060e-04 1.38    \n",
      "24   5   1.08789e-01 1.86547e+01 9.94423e-04 7.071e-04 6.992e-04 1.48    \n",
      "24   2   1.45053e-01 1.37445e+01 2.34733e-03 7.071e-04 2.238e-03 accuracy not achieved\n",
      "26   4   1.08515e-01 1.87047e+01 9.91732e-04 7.071e-04 6.954e-04 1.98    \n",
      "26   3   1.26425e-01 1.59054e+01 9.94028e-04 7.071e-04 6.986e-04 2.02    \n",
      "26   5   1.01667e-01 2.00435e+01 9.87893e-04 7.071e-04 6.899e-04 1.98    \n",
      "26   6   9.79795e-02 2.08440e+01 9.84195e-04 7.071e-04 6.846e-04 2.15    \n",
      "26   7   9.53457e-02 2.14548e+01 9.90135e-04 7.071e-04 6.931e-04 2.17    \n",
      "28   4   1.01733e-01 2.00297e+01 9.93446e-04 7.071e-04 6.978e-04 2.12    \n",
      "28   3   1.08515e-01 1.87047e+01 1.28287e-03 7.071e-04 1.070e-03 accuracy not achieved\n",
      "28   5   9.57984e-02 2.13473e+01 9.70862e-04 7.071e-04 6.653e-04 2.16    \n",
      "28   6   9.15595e-02 2.23960e+01 9.95200e-04 7.071e-04 7.003e-04 2.22    \n",
      "28   7   8.98640e-02 2.28439e+01 9.70839e-04 7.071e-04 6.652e-04 2.29    \n",
      "32   4   9.06058e-02 2.26458e+01 9.94728e-04 7.071e-04 6.996e-04 2.71    \n",
      "32   3   1.01733e-01 2.00297e+01 1.11128e-03 7.071e-04 8.573e-04 accuracy not achieved\n",
      "32   5   8.50422e-02 2.42179e+01 9.79262e-04 7.071e-04 6.775e-04 2.77    \n",
      "32   6   8.18631e-02 2.52149e+01 9.77873e-04 7.071e-04 6.755e-04 2.92    \n",
      "32   7   7.94787e-02 2.60163e+01 9.91971e-04 7.071e-04 6.957e-04 2.97    \n",
      "\n",
      "resulting parameters: mesh: (8 8 8), cao: 4, r_cut_iL: 2.9548e-01,\n",
      "                      alpha_L: 6.4383e+00, accuracy: 9.9617e-04, time: 0.22\n",
      "\n"
     ]
    }
   ],
   "source": [
    "p3m_params = {'prefactor':kT*bjerrum_length,\n",
    "              'accuracy':1e-3}\n",
    "p3m = electrostatics.P3M(**p3m_params)\n",
    "system.actors.add(p3m)"
   ]
  },
  {
   "cell_type": "code",
   "execution_count": 8,
   "metadata": {},
   "outputs": [],
   "source": [
    "def remove_overlap(system, sd_params):   \n",
    "    #remove overlap by steepest descent\n",
    "    # Set up steepest descent integration\n",
    "    system.integrator.set_steepest_descent(f_max=0,\n",
    "                                           gamma=sd_params['damping'],\n",
    "                                           max_displacement=sd_params['max_displacement'])\n",
    "    \n",
    "    # Initialize integrator to obtain initial forces\n",
    "    system.integrator.run(0)\n",
    "    maxforce = np.max(np.linalg.norm(system.part[:].f, axis = 1))\n",
    "    energy = system.analysis.energy()['total']\n",
    "    \n",
    "    i = 0\n",
    "    while i < sd_params['max_steps']//sd_params['emstep']:\n",
    "        prev_maxforce = maxforce\n",
    "        prev_energy = energy\n",
    "        print(prev_energy)\n",
    "        system.integrator.run(sd_params['emstep'])\n",
    "        maxforce = np.max(np.linalg.norm(system.part[:].f, axis = 1))\n",
    "        relforce = np.abs((maxforce-prev_maxforce)/prev_maxforce)\n",
    "        energy = system.analysis.energy()['total']\n",
    "        relener = np.abs((energy-prev_energy)/prev_energy)\n",
    "        print(\"minimization step: {:4.0f}\\tmax. rel. force change:{:+3.3e}\\trel. energy change:{:+3.3e}\".format((i+1)*sd_params['emstep'],relforce, relener))\n",
    "        if relforce < sd_params['f_tol'] or relener < sd_params['e_tol']:\n",
    "            break\n",
    "        i += 1\n",
    "        \n",
    "    system.integrator.set_vv()"
   ]
  },
  {
   "cell_type": "code",
   "execution_count": 9,
   "metadata": {},
   "outputs": [
    {
     "name": "stdout",
     "output_type": "stream",
     "text": [
      "1987.2271703882295\n",
      "minimization step:   10\tmax. rel. force change:+9.267e-07\trel. energy change:+4.259e-04\n"
     ]
    }
   ],
   "source": [
    "#steepest descent params\n",
    "STEEPEST_DESCENT_PARAMS = {'f_tol':1e-2,\n",
    "                          'e_tol':1e-5,\n",
    "                          'damping':30,\n",
    "                          'max_steps':10000,\n",
    "                          'max_displacement':0.01,\n",
    "                          'emstep':10}\n",
    "\n",
    "remove_overlap(system,STEEPEST_DESCENT_PARAMS)"
   ]
  },
  {
   "cell_type": "code",
   "execution_count": 10,
   "metadata": {},
   "outputs": [],
   "source": [
    "langevin_params = {'kT':kT,\n",
    "                   'gamma':0.5,\n",
    "                   'seed':42}\n",
    "system.thermostat.set_langevin(**langevin_params)"
   ]
  },
  {
   "cell_type": "code",
   "execution_count": 11,
   "metadata": {},
   "outputs": [],
   "source": [
    "#introduce ion_types as an iterable here already. \n",
    "#For this part it could be an int, but we will add additional salt ions later\n",
    "\n",
    "def integrate_calc_observables(system, N_frames, steps_per_frame, ion_types):\n",
    "    energies = []\n",
    "    radial_distances = []\n",
    "    \n",
    "    particles_by_type = {}\n",
    "    radial_distances = {}\n",
    "    for ion_type in ion_types:\n",
    "        particles_by_type[ion_type] = system.part.select(type=ion_type)\n",
    "        radial_distances[ion_type] = []\n",
    "    \n",
    "    system_center = np.array(system.box_l)/2.\n",
    "    \n",
    "    for _ in range(N_frames):\n",
    "        # run run the simulation for a few steps\n",
    "        system.integrator.run(steps_per_frame)\n",
    "\n",
    "        energies.append(system.analysis.energy()['total'])\n",
    "        \n",
    "        for ion_type, ions in particles_by_type.items():\n",
    "            for ion in ions:\n",
    "                radial_distances[ion_type].append(np.linalg.norm(ion.pos_folded[0:2]-system_center[0:2]))\n",
    "    \n",
    "    return energies, radial_distances\n",
    "\n",
    "\n"
   ]
  },
  {
   "cell_type": "code",
   "execution_count": 12,
   "metadata": {},
   "outputs": [],
   "source": [
    "# before we do a run to produce histogram data, we look at energies to see how long it takes until equilibration and what the fluctuation timescale is\n",
    "\n",
    "# number of samples taken\n",
    "N_frames = 100\n",
    "\n",
    "# number of timesteps per frame\n",
    "steps_per_frame = 300\n",
    "energies, _ = integrate_calc_observables(system, N_frames, \n",
    "                                       steps_per_frame, [counterion_type])"
   ]
  },
  {
   "cell_type": "code",
   "execution_count": 13,
   "metadata": {},
   "outputs": [
    {
     "data": {
      "text/plain": [
       "Text(0, 0.5, 'system total energy')"
      ]
     },
     "execution_count": 13,
     "metadata": {},
     "output_type": "execute_result"
    },
    {
     "data": {
      "image/png": "[encoded data removed]",
      "text/plain": [
       "<Figure size 432x288 with 1 Axes>"
      ]
     },
     "metadata": {
      "needs_background": "light"
     },
     "output_type": "display_data"
    }
   ],
   "source": [
    "plt.ion()\n",
    "ts = np.linspace(0,N_frames*steps_per_frame, num = N_frames)\n",
    "fig1 = plt.figure()\n",
    "#plot time in time_steps so we can judge the number of warmup steps and the steps per frame for uncorrelated data\n",
    "plt.plot(ts, energies)\n",
    "plt.xlabel('time steps')\n",
    "plt.ylabel('system total energy')"
   ]
  },
  {
   "cell_type": "code",
   "execution_count": 23,
   "metadata": {},
   "outputs": [],
   "source": [
    "#use the plot to determine the warmup time and the appropriate number of steps per frame\n",
    "warmup_steps = 5000\n",
    "\n",
    "N_frames = 1000\n",
    "steps_per_frame = 200"
   ]
  },
  {
   "cell_type": "code",
   "execution_count": 24,
   "metadata": {},
   "outputs": [],
   "source": [
    "def clear_system(system):\n",
    "    system.thermostat.turn_off()\n",
    "    system.part.clear()\n",
    "    system.time = 0.\n",
    "    "
   ]
  },
  {
   "cell_type": "code",
   "execution_count": 25,
   "metadata": {},
   "outputs": [],
   "source": [
    "clear_system(system)"
   ]
  },
  {
   "cell_type": "code",
   "execution_count": 26,
   "metadata": {},
   "outputs": [],
   "source": [
    "#TODO replace this function by more intuitive behaviour of p3m.tune()\n",
    "def retune_p3m(p3m):\n",
    "    #reset p3m tunable parameters to default to force a retune\n",
    "    p3m_default_params = p3m.default_params()\n",
    "    p3m.tune(mesh = p3m_default_params['mesh'],\n",
    "             cao = p3m_default_params['cao'],\n",
    "             r_cut = 0,\n",
    "             #TODO change default value in interface\n",
    "             alpha = p3m_default_params['alpha'])"
   ]
  },
  {
   "cell_type": "code",
   "execution_count": 27,
   "metadata": {},
   "outputs": [
    {
     "name": "stdout",
     "output_type": "stream",
     "text": [
      "P3M tune parameters: Accuracy goal = 9.93425e-04 prefactor = 1.00000e+00\n",
      "System: box_l = 2.40000e+01 # charged part = 62 Sum[q_i^2] = 5.95200e+01\n",
      "mesh cao r_cut_iL     alpha_L      err          rs_err     ks_err     time [ms]\n",
      "4    7   cao too large for this mesh\n",
      "6    7   cao too large for this mesh\n",
      "10   7   2.54883e-01 8.13964e+00 9.85042e-04 7.025e-04 6.906e-04 0.40    \n",
      "10   6   2.60547e-01 7.95252e+00 9.83617e-04 7.025e-04 6.885e-04 0.33    \n",
      "10   5   2.70931e-01 7.63029e+00 9.89064e-04 7.025e-04 6.963e-04 0.37    \n",
      "10   4   2.91699e-01 7.05635e+00 9.88106e-04 7.025e-04 6.949e-04 0.25    \n",
      "10   3   3.42676e-01 5.94928e+00 9.93236e-04 7.025e-04 7.022e-04 0.25    \n",
      "10   2   4.83333e-01 4.12977e+00 1.34822e-03 7.025e-04 1.151e-03 accuracy not achieved\n",
      "12   3   2.94487e-01 6.98562e+00 9.91635e-04 7.025e-04 6.999e-04 0.28    \n",
      "12   2   3.42676e-01 5.94928e+00 2.09171e-03 7.025e-04 1.970e-03 accuracy not achieved\n",
      "12   4   2.48975e-01 8.34411e+00 9.92152e-04 7.025e-04 7.007e-04 0.30    \n",
      "12   5   2.31574e-01 9.00869e+00 9.89724e-04 7.025e-04 6.972e-04 0.35    \n",
      "12   6   2.22204e-01 9.41083e+00 9.89059e-04 7.025e-04 6.963e-04 0.38    \n",
      "12   7   2.16850e-01 9.65663e+00 9.87269e-04 7.025e-04 6.937e-04 0.45    \n",
      "14   3   2.58826e-01 8.00846e+00 9.92383e-04 7.025e-04 7.010e-04 0.37    \n",
      "14   2   2.94487e-01 6.98562e+00 2.26706e-03 7.025e-04 2.155e-03 accuracy not achieved\n",
      "14   4   2.17989e-01 9.60326e+00 9.90900e-04 7.025e-04 6.989e-04 0.38    \n",
      "14   5   2.02460e-01 1.03834e+01 9.92114e-04 7.025e-04 7.006e-04 0.42    \n",
      "14   6   1.94407e-01 1.08383e+01 9.88616e-04 7.025e-04 6.956e-04 0.46    \n",
      "14   7   1.89231e-01 1.11517e+01 9.91325e-04 7.025e-04 6.995e-04 0.53    \n",
      "16   3   2.31528e-01 9.01057e+00 9.92188e-04 7.025e-04 7.007e-04 0.46    \n",
      "16   2   2.58826e-01 8.00846e+00 2.42353e-03 7.025e-04 2.319e-03 accuracy not achieved\n",
      "16   4   1.94120e-01 1.08552e+01 9.91640e-04 7.025e-04 6.999e-04 0.44    \n",
      "16   5   1.80471e-01 1.17240e+01 9.86775e-04 7.025e-04 6.930e-04 0.49    \n",
      "16   6   1.72888e-01 1.22675e+01 9.92060e-04 7.025e-04 7.005e-04 0.52    \n",
      "16   7   1.68338e-01 1.26178e+01 9.91528e-04 7.025e-04 6.998e-04 0.58    \n",
      "18   3   1.94120e-01 1.08552e+01 1.22174e-03 7.025e-04 9.996e-04 accuracy not achieved\n",
      "18   4   1.75163e-01 1.20994e+01 9.93293e-04 7.025e-04 7.023e-04 0.69    \n",
      "18   5   1.63030e-01 1.30517e+01 9.81437e-04 7.025e-04 6.854e-04 0.73    \n",
      "18   6   1.56206e-01 1.36540e+01 9.85748e-04 7.025e-04 6.916e-04 0.78    \n",
      "18   7   1.52414e-01 1.40126e+01 9.76354e-04 7.025e-04 6.781e-04 0.84    \n",
      "22   3   1.75163e-01 1.20994e+01 1.02217e-03 7.025e-04 7.426e-04 accuracy not achieved\n",
      "22   4   1.47794e-01 1.44750e+01 9.79061e-04 7.025e-04 6.820e-04 1.15    \n",
      "22   5   1.36846e-01 1.56986e+01 9.76940e-04 7.025e-04 6.789e-04 1.18    \n",
      "22   6   1.30688e-01 1.64793e+01 9.92811e-04 7.025e-04 7.016e-04 1.24    \n",
      "22   7   1.27267e-01 1.69465e+01 9.90864e-04 7.025e-04 6.988e-04 1.32    \n",
      "24   3   1.47794e-01 1.44750e+01 1.35165e-03 7.025e-04 1.155e-03 accuracy not achieved\n",
      "24   4   1.36825e-01 1.57012e+01 9.83323e-04 7.025e-04 6.881e-04 1.33    \n",
      "24   5   1.26433e-01 1.70643e+01 9.85965e-04 7.025e-04 6.919e-04 1.39    \n",
      "24   6   1.21237e-01 1.78356e+01 9.85880e-04 7.025e-04 6.917e-04 1.43    \n",
      "24   7   1.18350e-01 1.82942e+01 9.74232e-04 7.025e-04 6.750e-04 1.56    \n",
      "26   3   1.36825e-01 1.57012e+01 1.39794e-03 7.025e-04 1.209e-03 accuracy not achieved\n",
      "26   4   1.27204e-01 1.69553e+01 9.93402e-04 7.025e-04 7.024e-04 1.83    \n",
      "26   5   1.17584e-01 1.84199e+01 9.93319e-04 7.025e-04 7.023e-04 1.88    \n",
      "26   6   1.12773e-01 1.92483e+01 9.92074e-04 7.025e-04 7.005e-04 1.91    \n",
      "26   7   1.10101e-01 1.97405e+01 9.79746e-04 7.025e-04 6.830e-04 2.03    \n",
      "28   3   1.27204e-01 1.69553e+01 1.45075e-03 7.025e-04 1.269e-03 accuracy not achieved\n",
      "28   4   1.19254e-01 1.81482e+01 9.93299e-04 7.025e-04 7.023e-04 2.13    \n",
      "28   5   1.10310e-01 1.97012e+01 9.87461e-04 7.025e-04 6.940e-04 2.17    \n",
      "28   6   1.06335e-01 2.04773e+01 9.65503e-04 7.025e-04 6.624e-04 2.19    \n",
      "28   7   1.03353e-01 2.10996e+01 9.70105e-04 7.025e-04 6.691e-04 2.28    \n",
      "30   3   1.19254e-01 1.81482e+01 1.48485e-03 7.025e-04 1.308e-03 accuracy not achieved\n",
      "30   4   1.12732e-01 1.92557e+01 9.81055e-04 7.025e-04 6.849e-04 2.62    \n",
      "30   5   1.04347e-01 2.08881e+01 9.67876e-04 7.025e-04 6.658e-04 2.65    \n",
      "30   6   9.96888e-02 2.19167e+01 9.78182e-04 7.025e-04 6.807e-04 2.71    \n",
      "30   7   9.68937e-02 2.25825e+01 9.83128e-04 7.025e-04 6.878e-04 2.79    \n",
      "\n",
      "resulting parameters: mesh: (10 10 10), cao: 3, r_cut_iL: 3.4268e-01,\n",
      "                      alpha_L: 5.9493e+00, accuracy: 9.9324e-04, time: 0.25\n",
      "\n",
      "1979.8649315842154\n",
      "minimization step:   10\tmax. rel. force change:+2.423e-06\trel. energy change:+4.639e-04\n",
      "setup and warmup done, starting simulation\n",
      "simulation for parameters {'counterion_valency': 2, 'rod_charge_dens': 1} done\n",
      "\n",
      "P3M tune parameters: Accuracy goal = 9.93236e-04 prefactor = 1.00000e+00\n",
      "System: box_l = 2.40000e+01 # charged part = 74 Sum[q_i^2] = 3.55200e+01\n",
      "mesh cao r_cut_iL     alpha_L      err          rs_err     ks_err     time [ms]\n",
      "4    7   cao too large for this mesh\n",
      "8    7   2.68099e-01 7.14989e+00 9.81402e-04 7.023e-04 6.855e-04 0.35    \n",
      "8    6   2.70931e-01 7.07009e+00 9.83485e-04 7.023e-04 6.885e-04 0.28    \n",
      "8    5   2.78483e-01 6.86546e+00 9.85449e-04 7.023e-04 6.913e-04 0.24    \n",
      "8    4   2.96419e-01 6.42244e+00 9.86256e-04 7.023e-04 6.924e-04 0.20    \n",
      "8    3   3.37956e-01 5.58190e+00 9.86778e-04 7.023e-04 6.932e-04 0.20    \n",
      "8    2   4.83333e-01 3.80360e+00 1.08870e-03 7.023e-04 8.319e-04 accuracy not achieved\n",
      "10   4   2.46051e-01 7.83592e+00 9.86446e-04 7.023e-04 6.927e-04 0.23    \n",
      "10   3   2.80209e-01 6.82029e+00 9.92142e-04 7.023e-04 7.008e-04 0.20    \n",
      "10   5   2.30420e-01 8.40436e+00 9.92676e-04 7.023e-04 7.015e-04 0.27    \n",
      "10   2   2.96419e-01 6.42244e+00 2.11790e-03 7.023e-04 1.998e-03 accuracy not achieved\n",
      "12   4   2.10704e-01 9.24540e+00 9.89149e-04 7.023e-04 6.965e-04 0.27    \n",
      "12   3   2.40804e-01 8.01825e+00 9.92273e-04 7.023e-04 7.010e-04 0.26    \n",
      "12   5   1.97569e-01 9.90178e+00 9.92251e-04 7.023e-04 7.009e-04 0.31    \n",
      "12   2   2.80209e-01 6.82029e+00 1.70707e-03 7.023e-04 1.556e-03 accuracy not achieved\n",
      "14   4   1.85307e-01 1.06011e+01 9.80778e-04 7.023e-04 6.846e-04 0.35    \n",
      "14   3   2.12585e-01 9.15822e+00 9.83930e-04 7.023e-04 6.891e-04 0.32    \n",
      "14   5   1.74019e-01 1.13346e+01 9.78345e-04 7.023e-04 6.811e-04 0.39    \n",
      "14   2   2.40804e-01 8.01825e+00 1.85111e-03 7.023e-04 1.713e-03 accuracy not achieved\n",
      "16   4   1.65252e-01 1.19755e+01 9.81744e-04 7.023e-04 6.860e-04 0.44    \n",
      "16   3   1.90164e-01 1.03130e+01 9.84560e-04 7.023e-04 6.900e-04 0.42    \n",
      "16   5   1.55287e-01 1.27945e+01 9.76435e-04 7.023e-04 6.784e-04 0.48    \n",
      "16   2   2.12585e-01 9.15822e+00 1.95675e-03 7.023e-04 1.826e-03 accuracy not achieved\n",
      "20   4   1.35938e-01 1.47384e+01 9.93044e-04 7.023e-04 7.021e-04 0.74    \n",
      "20   3   1.57480e-01 1.26052e+01 9.90610e-04 7.023e-04 6.986e-04 0.70    \n",
      "20   5   1.27767e-01 1.57413e+01 9.84696e-04 7.023e-04 6.902e-04 0.78    \n",
      "20   2   1.90164e-01 1.03130e+01 1.68672e-03 7.023e-04 1.534e-03 accuracy not achieved\n",
      "22   4   1.25492e-01 1.60445e+01 9.86673e-04 7.023e-04 6.930e-04 1.15    \n",
      "22   3   1.45792e-01 1.36822e+01 9.85207e-04 7.023e-04 6.909e-04 1.13    \n",
      "22   5   1.17495e-01 1.72060e+01 9.88805e-04 7.023e-04 6.960e-04 1.21    \n",
      "22   2   1.57480e-01 1.26052e+01 2.25797e-03 7.023e-04 2.146e-03 accuracy not achieved\n",
      "24   4   1.16747e-01 1.73229e+01 9.78317e-04 7.023e-04 6.811e-04 1.34    \n",
      "24   3   1.35541e-01 1.47842e+01 9.85958e-04 7.023e-04 6.920e-04 1.38    \n",
      "24   5   1.09344e-01 1.85697e+01 9.76454e-04 7.023e-04 6.784e-04 1.46    \n",
      "24   2   1.45792e-01 1.36822e+01 2.31927e-03 7.023e-04 2.210e-03 accuracy not achieved\n",
      "26   4   1.08538e-01 1.87158e+01 9.90062e-04 7.023e-04 6.978e-04 1.92    \n",
      "26   3   1.16747e-01 1.73229e+01 1.23788e-03 7.023e-04 1.019e-03 accuracy not achieved\n",
      "26   5   1.02154e-01 1.99585e+01 9.71052e-04 7.023e-04 6.706e-04 2.00    \n",
      "26   6   9.85055e-02 2.07429e+01 9.65037e-04 7.023e-04 6.618e-04 2.06    \n",
      "26   7   9.57692e-02 2.13715e+01 9.73740e-04 7.023e-04 6.745e-04 2.14    \n",
      "28   4   1.01755e-01 2.00415e+01 9.91777e-04 7.023e-04 7.003e-04 2.15    \n",
      "28   3   1.08538e-01 1.87158e+01 1.28261e-03 7.023e-04 1.073e-03 accuracy not achieved\n",
      "28   5   9.58191e-02 2.13597e+01 9.69181e-04 7.023e-04 6.679e-04 2.25    \n",
      "28   6   9.24273e-02 2.21912e+01 9.61552e-04 7.023e-04 6.568e-04 2.31    \n",
      "28   7   8.98834e-02 2.28570e+01 9.69234e-04 7.023e-04 6.679e-04 2.37    \n",
      "32   4   9.06254e-02 2.26589e+01 9.93046e-04 7.023e-04 7.021e-04 2.82    \n",
      "32   3   1.01755e-01 2.00415e+01 1.10996e-03 7.023e-04 8.595e-04 accuracy not achieved\n",
      "32   5   8.50607e-02 2.42317e+01 9.77641e-04 7.023e-04 6.801e-04 3.83    \n",
      "32   6   8.18808e-02 2.52292e+01 9.76305e-04 7.023e-04 6.782e-04 2.92    \n",
      "32   7   7.94960e-02 2.60310e+01 9.90542e-04 7.023e-04 6.985e-04 2.90    \n",
      "\n",
      "resulting parameters: mesh: (8 8 8), cao: 4, r_cut_iL: 2.9642e-01,\n",
      "                      alpha_L: 6.4224e+00, accuracy: 9.8626e-04, time: 0.20\n",
      "\n",
      "1981.9935147032947\n",
      "minimization step:   10\tmax. rel. force change:+6.291e-07\trel. energy change:+3.333e-04\n"
     ]
    },
    {
     "name": "stdout",
     "output_type": "stream",
     "text": [
      "setup and warmup done, starting simulation\n",
      "simulation for parameters {'counterion_valency': 1, 'rod_charge_dens': 2} done\n",
      "\n"
     ]
    }
   ],
   "source": [
    "#run the system with different parameter sets but same manning parameter\n",
    "runs = [{'params':{'counterion_valency':2, 'rod_charge_dens':1},\n",
    "         'distances':None},\n",
    "        {'params':{'counterion_valency':1, 'rod_charge_dens':2},\n",
    "         'distances':None}\n",
    "       ]\n",
    "\n",
    "for run in runs:\n",
    "    setup_rod_and_ions(system, run['params']['counterion_valency'], counterion_type,\n",
    "                 run['params']['rod_charge_dens'], N_rod_beads, rod_type)\n",
    "    retune_p3m(p3m)\n",
    "    remove_overlap(system, STEEPEST_DESCENT_PARAMS)\n",
    "    system.thermostat.set_langevin(**langevin_params)\n",
    "    system.integrator.run(warmup_steps)\n",
    "    print('setup and warmup done, starting simulation')\n",
    "    energies, distances = integrate_calc_observables(system, N_frames, \n",
    "                                       steps_per_frame, [counterion_type])\n",
    "    clear_system(system)\n",
    "    run['distances'] = distances[counterion_type]\n",
    "    print('simulation for parameters {} done\\n'.format(run['params']))"
   ]
  },
  {
   "cell_type": "code",
   "execution_count": 28,
   "metadata": {},
   "outputs": [],
   "source": [
    "#Q: why does the second simulation take much longer?\n",
    "#A: double the charge, half the valency => 4x more ions to be integrated"
   ]
  },
  {
   "cell_type": "code",
   "execution_count": 55,
   "metadata": {},
   "outputs": [],
   "source": [
    "def calc_cum_hist(values, bins, normalize = True):\n",
    "    hist, bins = np.histogram(values, bins=log_bins)\n",
    "    cum_hist = np.cumsum(hist)\n",
    "    if normalize:\n",
    "        cum_hist = cum_hist/cum_hist[-1]\n",
    "    return cum_hist"
   ]
  },
  {
   "cell_type": "code",
   "execution_count": 39,
   "metadata": {},
   "outputs": [
    {
     "data": {
      "text/plain": [
       "Text(0, 0.5, 'P(r)')"
      ]
     },
     "execution_count": 39,
     "metadata": {},
     "output_type": "execute_result"
    },
    {
     "data": {
      "image/png": "[encoded data removed]",
      "text/plain": [
       "<Figure size 432x288 with 1 Axes>"
      ]
     },
     "metadata": {
      "needs_background": "light"
     },
     "output_type": "display_data"
    }
   ],
   "source": [
    "log_bins=np.logspace(np.log10(rod_radius+ion_diameter/2.), np.log10(rod_length/2.),num=30)\n",
    "\n",
    "fig, ax = plt.subplots()\n",
    "for run in runs:\n",
    "    cum_hist = calc_cum_hist(run['distances'], log_bins)\n",
    "    ax.plot(log_bins[1:],cum_hist, label = 'lambda = {}, nu = {}'.format(run['params']['rod_charge_dens'], \n",
    "                                                                          run['params']['counterion_valency']))\n",
    "    \n",
    "ax.set_xscale('log')\n",
    "ax.legend()\n",
    "plt.xlabel('r')\n",
    "plt.ylabel('P(r)')"
   ]
  },
  {
   "cell_type": "code",
   "execution_count": 40,
   "metadata": {},
   "outputs": [],
   "source": [
    "def eq_to_solve_for_gamma(gamma, manning_parameter, rod_radius, max_radius):\n",
    "    #eq 7 - eq 6 from 10.1021/ma990897o\n",
    "    return gamma*np.log(max_radius/rod_radius) - np.arctan(1/gamma) + np.arctan((1-manning_parameter)/gamma)\n",
    "\n",
    "def calc_manning_radius(gamma,max_radius):\n",
    "    #eq 7 from 10.1021/ma990897o\n",
    "    return max_radius*np.exp(-np.arctan(1./gamma)/gamma)  \n",
    "\n",
    "def calc_PB_probability(r, manning_parameter, gamma, manning_radius):\n",
    "    #eq 8 and 9 from 10.1021/ma990897o\n",
    "    return 1./manning_parameter + gamma/manning_parameter * np.tan(gamma*np.log(r/manning_radius))\n"
   ]
  },
  {
   "cell_type": "code",
   "execution_count": 45,
   "metadata": {},
   "outputs": [
    {
     "data": {
      "image/png": "[encoded data removed]",
      "text/plain": [
       "<Figure size 432x288 with 1 Axes>"
      ]
     },
     "execution_count": 45,
     "metadata": {},
     "output_type": "execute_result"
    }
   ],
   "source": [
    "rod_charge_density = runs[0]['params']['rod_charge_dens']\n",
    "ion_valency = runs[0]['params']['counterion_valency']\n",
    "manning_parameter_times_valency = bjerrum_length*rod_charge_density*ion_valency\n",
    "#for multivalent ions, the manning parameter xi has to be multiplied by the valency.\n",
    "#the result therefore depends only on the product of rod_charge_dens and ion_velancy, so we only need one curve\n",
    "\n",
    "gamma = optimize.fsolve(eq_to_solve_for_gamma, 1, args = (manning_parameter_times_valency,rod_radius+ion_diameter/2.,rod_length/2.))\n",
    "manning_radius = calc_manning_radius(gamma, rod_length/2.)\n",
    "\n",
    "PB_probability = calc_PB_probability(log_bins, manning_parameter_times_valency,gamma, manning_radius)\n",
    "\n",
    "\n",
    "ax.plot(log_bins, PB_probability, label = f'PB xi*nu = {manning_parameter_times_valency}')\n",
    "ax.legend()\n",
    "ax.set_xscale('linear')\n",
    "fig"
   ]
  },
  {
   "cell_type": "code",
   "execution_count": 46,
   "metadata": {},
   "outputs": [],
   "source": [
    "# overcharging through added salt"
   ]
  },
  {
   "cell_type": "code",
   "execution_count": 47,
   "metadata": {},
   "outputs": [],
   "source": [
    "def add_salt(system, anion_params, cation_params):        \n",
    "    for _ in range(anion_params['number']):\n",
    "        system.part.add(pos=np.random.random(3) * system.box_l, \n",
    "                        type=anion_params['type'], q=-anion_params['valency'])\n",
    "        \n",
    "    for _ in range(cation_params['number']):\n",
    "        system.part.add(pos=np.random.random(3) * system.box_l, \n",
    "                        type=cation_params['type'], q=cation_params['valency'])\n",
    "    "
   ]
  },
  {
   "cell_type": "code",
   "execution_count": 71,
   "metadata": {},
   "outputs": [],
   "source": [
    "anion_params = {'type':3,\n",
    "                'valency':2,\n",
    "                'number':300}\n",
    "cation_params = {'type':4,\n",
    "                 'valency':2,\n",
    "                 'number':300}\n",
    "\n",
    "total_anion_charge = -anion_params['number']*anion_params['valency']\n",
    "total_cation_charge = cation_params['number']*cation_params['valency']\n",
    "assert( abs(total_anion_charge+ total_cation_charge)/total_cation_charge < 1e-10)\n",
    "\n",
    "counterion_valency = 1 \n",
    "rod_charge_dens = 1\n",
    "\n",
    "all_ion_types = [counterion_type, anion_params['type'],cation_params['type'] ]\n",
    "\n",
    "#set interactions of salt with the rod and all ions\n",
    "for salt_type in [anion_params['type'], cation_params['type']]:\n",
    "    system.non_bonded_inter[salt_type,rod_type].wca.set_params(\n",
    "          epsilon=wca_epsilon, sigma=ion_diameter/2. + rod_radius)\n",
    "    for ion_type in all_ion_types:\n",
    "        system.non_bonded_inter[salt_type,ion_type].wca.set_params(\n",
    "          epsilon=wca_epsilon, sigma=ion_diameter)\n",
    "    \n",
    "\n"
   ]
  },
  {
   "cell_type": "code",
   "execution_count": 72,
   "metadata": {},
   "outputs": [
    {
     "name": "stdout",
     "output_type": "stream",
     "text": [
      "P3M tune parameters: Accuracy goal = 9.64898e-04 prefactor = 1.00000e+00\n",
      "System: box_l = 2.40000e+01 # charged part = 674 Sum[q_i^2] = 2.43552e+03\n",
      "mesh cao r_cut_iL     alpha_L      err          rs_err     ks_err     time [ms]\n",
      "10   7   4.20085e-01 6.11650e+00 9.60822e-04 6.823e-04 6.765e-04 9.10    \n",
      "10   6   4.38965e-01 5.84367e+00 9.62716e-04 6.823e-04 6.792e-04 8.82    \n",
      "10   5   4.73893e-01 5.39719e+00 9.60810e-04 6.823e-04 6.765e-04 10.10   \n",
      "10   4   4.83333e-01 5.28779e+00 1.67294e-03 6.823e-04 1.527e-03 accuracy not achieved\n",
      "12   6   3.72091e-01 6.93707e+00 9.63431e-04 6.823e-04 6.802e-04 5.95    \n",
      "12   5   4.02099e-01 6.40067e+00 9.61529e-04 6.823e-04 6.775e-04 6.63    \n",
      "12   7   3.56659e-01 7.24872e+00 9.57051e-04 6.823e-04 6.711e-04 5.96    \n",
      "14   6   3.23400e-01 8.02342e+00 9.64023e-04 6.823e-04 6.810e-04 4.50    \n",
      "14   5   3.50289e-01 7.38551e+00 9.58306e-04 6.823e-04 6.729e-04 4.90    \n",
      "14   7   3.10318e-01 8.37445e+00 9.53394e-04 6.823e-04 6.659e-04 4.68    \n",
      "16   6   2.86765e-01 9.08874e+00 9.57522e-04 6.823e-04 6.718e-04 3.69    \n",
      "16   5   3.10135e-01 8.37958e+00 9.63908e-04 6.823e-04 6.809e-04 3.77    \n",
      "16   7   2.74763e-01 9.50063e+00 9.53227e-04 6.823e-04 6.657e-04 4.02    \n",
      "16   4   3.23400e-01 8.02342e+00 1.57473e-03 6.823e-04 1.419e-03 accuracy not achieved\n",
      "18   6   2.57640e-01 1.01560e+01 9.56017e-04 6.823e-04 6.697e-04 3.38    \n",
      "18   5   2.78923e-01 9.35378e+00 9.63825e-04 6.823e-04 6.808e-04 3.37    \n",
      "18   7   2.46438e-01 1.06348e+01 9.58963e-04 6.823e-04 6.739e-04 3.78    \n",
      "18   4   2.86765e-01 9.08874e+00 1.70840e-03 6.823e-04 1.566e-03 accuracy not achieved\n",
      "22   5   2.33162e-01 1.12630e+01 9.57951e-04 6.823e-04 6.724e-04 3.04    \n",
      "22   4   2.77834e-01 9.39181e+00 9.60548e-04 6.823e-04 6.761e-04 3.54    \n",
      "22   6   2.14640e-01 1.22716e+01 9.53157e-04 6.823e-04 6.656e-04 3.30    \n",
      "22   7   2.04834e-01 1.28807e+01 9.64036e-04 6.823e-04 6.811e-04 3.75    \n",
      "24   5   2.15857e-01 1.21999e+01 9.53304e-04 6.823e-04 6.658e-04 3.04    \n",
      "24   4   2.33162e-01 1.12630e+01 1.37373e-03 6.823e-04 1.192e-03 accuracy not achieved\n",
      "24   6   1.98552e-01 1.33031e+01 9.45984e-04 6.823e-04 6.553e-04 3.22    \n",
      "24   7   1.89445e-01 1.39661e+01 9.54582e-04 6.823e-04 6.676e-04 3.75    \n",
      "26   5   2.00680e-01 1.31570e+01 9.56180e-04 6.823e-04 6.699e-04 3.34    \n",
      "26   4   2.15857e-01 1.21999e+01 1.41535e-03 6.823e-04 1.240e-03 accuracy not achieved\n",
      "26   6   1.83816e-01 1.44092e+01 9.64078e-04 6.823e-04 6.811e-04 3.60    \n",
      "26   7   1.76227e-01 1.50523e+01 9.48148e-04 6.823e-04 6.584e-04 4.15    \n",
      "28   5   1.87354e-01 1.41275e+01 9.63330e-04 6.823e-04 6.801e-04 3.55    \n",
      "28   4   2.00680e-01 1.31570e+01 1.46566e-03 6.823e-04 1.297e-03 accuracy not achieved\n",
      "28   6   1.72459e-01 1.53929e+01 9.45855e-04 6.823e-04 6.551e-04 3.82    \n",
      "28   7   1.64620e-01 1.61525e+01 9.47991e-04 6.823e-04 6.582e-04 4.35    \n",
      "30   5   1.76376e-01 1.50391e+01 9.56756e-04 6.823e-04 6.707e-04 3.90    \n",
      "30   4   1.87354e-01 1.41275e+01 1.52088e-03 6.823e-04 1.359e-03 accuracy not achieved\n",
      "30   6   1.61739e-01 1.64506e+01 9.50706e-04 6.823e-04 6.621e-04 4.17    \n",
      "30   7   1.54420e-01 1.72584e+01 9.50410e-04 6.823e-04 6.616e-04 4.73    \n",
      "34   5   1.57774e-01 1.68788e+01 9.51995e-04 6.823e-04 6.639e-04 7.86    \n",
      "34   4   1.76376e-01 1.50391e+01 1.22802e-03 6.823e-04 1.021e-03 accuracy not achieved\n",
      "34   6   1.43994e-01 1.85534e+01 9.58541e-04 6.823e-04 6.733e-04 8.27    \n",
      "34   7   1.37794e-01 1.94182e+01 9.43592e-04 6.823e-04 6.518e-04 8.89    \n",
      "\n",
      "resulting parameters: mesh: (22 22 22), cao: 5, r_cut_iL: 2.3316e-01,\n",
      "                      alpha_L: 1.1263e+01, accuracy: 9.5795e-04, time: 3.04\n",
      "\n",
      "336219539815.3839\n",
      "minimization step:   10\tmax. rel. force change:+1.000e+00\trel. energy change:+1.000e+00\n",
      "51236.28631803016\n",
      "minimization step:   20\tmax. rel. force change:+9.993e-01\trel. energy change:+9.708e-01\n",
      "1497.7802400690766\n",
      "minimization step:   30\tmax. rel. force change:+1.791e-05\trel. energy change:+1.399e-01\n",
      "setup and warmup done, starting simulation\n",
      "simulation done\n"
     ]
    }
   ],
   "source": [
    "clear_system(system)\n",
    "setup_rod_and_ions(system, counterion_valency, counterion_type,\n",
    "                   rod_charge_dens, N_rod_beads, rod_type)\n",
    "add_salt(system, anion_params, cation_params)\n",
    "retune_p3m(p3m)\n",
    "remove_overlap(system, STEEPEST_DESCENT_PARAMS)\n",
    "system.thermostat.set_langevin(**langevin_params)\n",
    "system.integrator.run(warmup_steps)\n",
    "print('setup and warmup done, starting simulation')\n",
    "energies, distances = integrate_calc_observables(system, N_frames, \n",
    "                                   steps_per_frame, all_ion_types)\n",
    "print('simulation done')\n"
   ]
  },
  {
   "cell_type": "code",
   "execution_count": 75,
   "metadata": {},
   "outputs": [
    {
     "data": {
      "text/plain": [
       "Text(0, 0.5, 'P(r)')"
      ]
     },
     "execution_count": 75,
     "metadata": {},
     "output_type": "execute_result"
    },
    {
     "data": {
      "image/png": "[encoded data removed]",
      "text/plain": [
       "<Figure size 432x288 with 1 Axes>"
      ]
     },
     "metadata": {
      "needs_background": "light"
     },
     "output_type": "display_data"
    }
   ],
   "source": [
    "#do not normalize the histograms because there are a different number of the ion types\n",
    "counterion_hist = calc_cum_hist(distances[counterion_type], log_bins, normalize = False)\n",
    "anion_hist = calc_cum_hist(distances[anion_params['type']], log_bins, normalize = False)\n",
    "cation_hist = calc_cum_hist(distances[cation_params['type']], log_bins, normalize = False)\n",
    "\n",
    "charge_hist = cation_params['valency'] * cation_hist - anion_params['valency'] * anion_hist - counterion_valency * counterion_hist\n",
    "charge_hist = charge_hist/charge_hist[-1]\n",
    "#we know the system in total is neutral, so we can normalize the total histogram to the rod charge\n",
    "\n",
    "\n",
    "fig2, ax2 = plt.subplots()\n",
    "#normalize the histogram by the rod charge\n",
    "ax2.plot(log_bins[1:], charge_hist)\n",
    "ax2.set_xscale('log')\n",
    "plt.xlabel('r')\n",
    "plt.ylabel('P(r)')\n",
    "\n"
   ]
  },
  {
   "cell_type": "code",
   "execution_count": null,
   "metadata": {},
   "outputs": [],
   "source": [
    "#theoretical curve for the salt\n"
   ]
  },
  {
   "cell_type": "code",
   "execution_count": 74,
   "metadata": {},
   "outputs": [],
   "source": [
    "def calc_mu_from_y(rs,ys,valency):\n",
    "    integrand = rs*np.exp(-valency*ys)\n",
    "    integral = scipy.integrate.simps(integrand, x=rs)\n",
    "    r_max = rs[-1]\n",
    "    #V = 2*np.pi*r_max**2, integration over angle yields 2*np.pi\n",
    "    return np.log(1./r_max**2*integral)\n",
    "    "
   ]
  },
  {
   "cell_type": "code",
   "execution_count": null,
   "metadata": {},
   "outputs": [],
   "source": [
    "def calc_PBE_right_side(y, valencies, concentrations, chempots, prefactor=-4*np.pi):\n",
    "    #assumes that valencies_concentrations is a list of tuples of signed valencies, avg concentrations, chemical potentials\n",
    "    sum = 0.\n",
    "    for valency, concentration, chempots in zip(valencies, concentrations, chempots):\n",
    "        sum += valency*concentration*np.exp(-valency*y)/chempot\n",
    "    return prefactor*sum\n",
    "   "
   ]
  },
  {
   "cell_type": "code",
   "execution_count": null,
   "metadata": {},
   "outputs": [],
   "source": [
    "def calc_vector_PBE(y,r,valencies, concentrations, chempots):\n",
    "    #rewrite second order one component to first order two component vec(y) = [y, y']\n",
    "    return [y[1], calc_PBE_right_side(y, valencies, concentrations, chempots) - y[0]/r]\n"
   ]
  },
  {
   "cell_type": "code",
   "execution_count": null,
   "metadata": {},
   "outputs": [],
   "source": [
    "def root_target_fcn(chempots, valencies, concentrations):\n",
    "    #solve vector_PBE for y\n",
    "    #scipy rk4...\n",
    "    \n",
    "    chempot_from_y = []\n",
    "    for valency in valencies:\n",
    "        chempot_from_y.append(calc_mu_from_y(rs,ys,valency))\n",
    "    \n",
    "    return np.linalg.norm(chempots-chempots_from_y)"
   ]
  },
  {
   "cell_type": "code",
   "execution_count": null,
   "metadata": {},
   "outputs": [],
   "source": [
    "def calc_PB_probability_salt(rs,ys,valencies, concentrations, chempots, prefactor = 1):\n",
    "    integrand = 1\n",
    "    integral = 1\n",
    "    return prefactor*integral"
   ]
  }
 ],
 "metadata": {
  "kernelspec": {
   "display_name": "Python 3",
   "language": "python",
   "name": "python3"
  },
  "language_info": {
   "codemirror_mode": {
    "name": "ipython",
    "version": 3
   },
   "file_extension": ".py",
   "mimetype": "text/x-python",
   "name": "python",
   "nbconvert_exporter": "python",
   "pygments_lexer": "ipython3",
   "version": "3.6.9"
  }
 },
 "nbformat": 4,
 "nbformat_minor": 4
}
