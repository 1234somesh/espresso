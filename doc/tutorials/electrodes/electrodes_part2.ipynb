{
 "cells": [
  {
   "cell_type": "markdown",
   "metadata": {
    "deletable": true,
    "editable": true
   },
   "source": [
    "# Basic simulation of electrodes in ESPResSo part II:\n",
    "# Electrolyte capacitor and Poisson-Boltzmann theory"
   ]
  },
  {
   "cell_type": "markdown",
   "metadata": {
    "deletable": true,
    "editable": true
   },
   "source": [
    "## Prerequisites\n",
    "\n",
    "To work with this tutorial, you should be familiar with the following topics:\n",
    "\n",
    "1. Setting up and running simulations in ESPResSo - creating particles,\n",
    "   incorporating interactions.\n",
    "   If you are unfamiliar with this, you can go through the respective tutorial\n",
    "   in the `lennard_jones` folder.\n",
    "2. Basic knowledge of classical electrostatics:\n",
    "   Dipoles, surface and image charges.\n",
    "3. Reduced units and how to relate them to physical quantities, see the ESPResSo\n",
    "   [user guide](https://espressomd.github.io/doc/introduction.html#on-units)."
   ]
  },
  {
   "cell_type": "markdown",
   "metadata": {
    "deletable": true,
    "editable": true
   },
   "source": [
    "## Introduction\n",
    "\n",
    "Ionic liquid (IL) based capacitors have long been established as promising\n",
    "candidates in the area of efficient energy storage devices due to their\n",
    "extraordinary capacitance, which is why they are also termed super-capacitors.\n",
    "Typically, in these setups a fluid consisting of mobile charge carriers is\n",
    "placed between two electrodes and thus gets polarized upon application of an\n",
    "external potential formic an electric double layer at the interfaces\n",
    "<a href='#[1]'>[1]</a>.\n",
    "Electric double-layer capacitors (EDLCs) can be constructed of electrodes of\n",
    "various geometries and materials where energy is stored by potential driven\n",
    "adsorption of counterions on the surface of the electrodes and forming the\n",
    "double layer. \n",
    "Thus, conducting, high surface area electrode materials can further maximize the\n",
    "energy per volume.\n",
    "\n",
    "In this tutorial we are going to investigate the ionic layer formation between\n",
    "two conducting dielectric walls in presence of an applied voltage **ESPResSo**'s\n",
    "\"Electrostatic layer correction with image charges\" (ELC-IC) method\n",
    "<a href='#[1]'>[2]</a>.\n",
    "We employ a primitive model of an aqueous salt solution, where the solvent is\n",
    "treated implicitly as homogeneous dielectric background.\n",
    "Thus, within the limits of a mean-field treatment and for not too small slit\n",
    "widths, we can compare our findings against with the analytical Gouy-Chapmann\n",
    "solution for a single charged plane since additivity is assumed to hold if the\n",
    "potential of both walls is screened sufficiently.\n",
    "While this mean-field formalism properly describes the behavior of Coulomb\n",
    "fluids composed of monovalent ions at low concentrations in the vicinity of\n",
    "weakly charged interfaces, for strongly charged systems, where correlation and\n",
    "finite size effects begin to dominate, Poisson-Boltzmann theory falls\n",
    "inadequate.\n",
    "Our goal in this tutorial is to demonstrate how coarse grained implicit solvent\n",
    "simulations can corroborate on some of the approximations and hint on\n",
    "extensions/deviations.\n",
    "\n",
    "The inclusion of dielectric inhomogeneities appearing at the conducting\n",
    "interfaces demands to take into account image effects that involve the full\n",
    "solution of the Poisson equation on the fly.\n",
    "This is dealt in a computational cost-effective way using the ELC-IC method to\n",
    "treat the image charge effect in the presence of 2D dielectric bounding\n",
    "interfaces. "
   ]
  },
  {
   "cell_type": "markdown",
   "metadata": {
    "deletable": true,
    "editable": true
   },
   "source": [
    "## Theoretical Background \n",
    "\n",
    "### Poisson-Boltzmann Theory\n",
    "\n",
    "Charged surfaces in contact with a liquid containing free charges (ions) attract\n",
    "oppositely charged ions that form a diffusive electric double layer. \n",
    "The competition between electrostatic interactions and entropy of ions in\n",
    "solution determines the exact distribution of mobile ions close to charged\n",
    "membranes.\n",
    "Gouy <a href='#[1]'>[3]</a> and Chapman <a href='#[1]'>[4]</a> derived in the\n",
    "early 20th century the analytic solution for the case of a single planar wall\n",
    "withing the mean-field approximation of the Poisson Boltzmann (PB) equation. \n",
    "In the case of a monovalent electrolyte, double integrating the PB equation and\n",
    "employing the corresponding boundary conditions for the charged plane located at\n",
    "$z=0$ yields the electrostatic potential:\n",
    "$$\\psi(z) = -2\\ln\\left[\n",
    "    \\frac{1-\\tanh(\\psi_\\mathrm{s}/4)e^{-\\kappa_\\mathrm{D} z}}\n",
    "         {1+\\tanh(\\psi_\\mathrm{s}/4)e^{-\\kappa_\\mathrm{D}z}}  \\right].$$ \n",
    "Here, $\\psi_\\mathrm{s}=\\psi(z=0)=$ const is the surface potential considering\n",
    "that $\\psi(z\\rightarrow \\infty)=0$ and\n",
    "$\\kappa_\\mathrm{D} = \\lambda_\\mathrm{D}^{-1}$ is the inverse Debye screening length given by\n",
    "$$ \\lambda_\\mathrm{D} = \\left(\\frac{\\epsilon \\, k_{\\mathrm B} T}{\\sum_{j = 1}^N n_j^0 \\, q_j^2}\\right)^{1/2}, $$\n",
    "where $n_j^{(0)}$ and $q_j$ are the equilibrium number density and charge of the\n",
    "$j$-th ion species.\n",
    "For the monovalent salt this can conveniently be expressed in terms of the\n",
    "Bjerrum length $\\ell_\\mathrm{B}$ and the equilibrium salt concentration\n",
    "$\\rho^{(0)}=\\sum_j \\rho_j^{(0)}$,\n",
    "$$ \\lambda_{\\mathrm D} = \\left(4 \\pi \\, \\ell_\\mathrm{B} \\, \\rho^{(0)}/e\\right)^{-1/2} . $$\n",
    "\n",
    "The cationic and anionic density profiles then follow from the Boltzmann\n",
    "distribution as:\n",
    "$$n_{\\pm}(z)=n_\\pm^{(0)}\\left(\\frac{1\\pm\\gamma e^{-\\kappa_\\mathrm{D}z}}\n",
    "                                     {1\\mp\\gamma e^{-\\kappa_\\mathrm{D}z}} \\right)^2$$\n",
    "Here, $\\gamma$ is associated with the surface potential as\n",
    "$\\psi_\\mathrm{s}=-4\\tanh^{-1}(\\gamma)$.\n",
    "At large z, where the potential decays to zero, the ionic profiles tend to their\n",
    "bulk (reservoir) densities, $n_\\pm(\\infty) = n_\\pm^{(0)}$\n",
    "\n",
    "The relation between the surface potential and the surface charge induced on the\n",
    "electrode is given by the Grahame Equation <a href='#[1]'>[5]</a> :\n",
    "$$ \\sigma = \\sinh(\\phi_\\mathrm{s}/2) \\sqrt{\\frac{2 n_\\mathrm{b}}{\\pi \\ell_\\mathrm{B}}} $$\n",
    "The latter expression thus yields the differential capactitance\n",
    "$C=\\frac{\\mathrm{d}\\sigma}{\\mathrm{d}\\phi_\\mathrm{s}}$ within the mean-field\n",
    "solution for non-overlapping double layers."
   ]
  },
  {
   "cell_type": "markdown",
   "metadata": {
    "deletable": true,
    "editable": true
   },
   "source": [
    "## ELC-IC for 2D+h periodic systems with dielectric interfaces\n",
    "\n",
    "In this tutorial we employ a parallel plate capacitor setup with constant\n",
    "potential boundary conditions which needs to be treated appropriately by the\n",
    "electrostatics solver.\n",
    "To simulate two-dimensional a partially periodic system, we combine the efficient\n",
    "scaling behavior of three-dimensional mesh-based solvers (typically\n",
    "$\\mathcal{O}(N \\log N)$ for P3M) with the Electrostatic Layer Correction (ELC)\n",
    "<a href='#[1]'>[1]</a>.\n",
    "The latter accounts for the contributions from the periodic images in the\n",
    "constrained direction and its numerical cost grows linear with the number of\n",
    "point charges $N$, hence the performance overall depends on the underlying $3-D$\n",
    "Coulomb solver.\n",
    "Furthermore, ELC can be extended straightforward to implement metallic boundary\n",
    "conditions (or any other dielectric contrast) by using the method of image charges,\n",
    "which is referred to as the “Electrostatic Layer Correction with Image Charges”\n",
    "(ELC-IC) approach used in this tutorial.\n",
    "\n",
    "A voltage difference can be applied between the electrodes by following\n",
    "considerations:\n",
    "The total potential drop $\\Delta \\phi$ across the simulated system is readily\n",
    "obtained from the ion distribution and integrating twice over the one\n",
    "dimensional Poisson's equation:\n",
    "$$-\\epsilon_{0}\\epsilon_{r}\\phi_\\mathrm{ind}(z)=\\iint_{0}^{z}\\rho(z^{'})(z-z^{'})dz^{'} $$\n",
    "Here, the subscript 'ind' indicates that this is the potential due to the\n",
    "induced inhomogeneous charge distribution.\n",
    "In order to set up a constant potential difference $\\Delta \\phi$, a homogeneous\n",
    "electric field is superimposed such that\n",
    "$$ \\Delta \\phi = \\Delta \\phi_\\mathrm{ind} + \\Delta \\phi_\\mathrm{bat},$$\n",
    "where $\\Delta \\phi_\\mathrm{bat}$ corresponds to the potential of a (virtually)\n",
    "applied battery.\n",
    "In practice, the linear electric field in $E_z^\\mathrm{(bat)}=-\\phi_\\mathrm{bat}/L_z$\n",
    "in the $z$-direction normal to the surface that one needs to apply can be\n",
    "calculated straightforward as the corresponding contribution from the induced\n",
    "charges is known:\n",
    "$$ E_z^\\mathrm{(ind)} = \\frac{1}{\\epsilon_0 \\epsilon_r L^2 L_z} P_z$$\n",
    "Here, $L$ denotes the lateral system size, $L_z$ the distance between the plates\n",
    "and $P_z = \\sum_i q_i z_i$ is the total dipole moment in $z$-direction due to\n",
    "the charges $q_i$.\n",
    "Then, to maintain $\\Delta phi$, a force $F_z^\\mathrm{bat} = q E_z^\\mathrm{(bat)}$\n",
    "is applied on all charges.\n",
    "Since ELC already $P_z$, the constant potential correction requires no\n",
    "additional computational effort.\n",
    "\n",
    "*Note*: Apart from ELC-IC, **ESPResSo** also provides the ICC$\\star$ method\n",
    "<a *href='#[1]'>[2]</a> which employs ab iterative numerical scheme with\n",
    "discretized surface particles to solve the boundary integrals at the dieletcric\n",
    "interface.\n",
    "The tutorial on *Basic simulation of electrodes in ESPResSo part I* addresses this\n",
    "in detail."
   ]
  },
  {
   "cell_type": "markdown",
   "metadata": {
    "deletable": true,
    "editable": true
   },
   "source": [
    "## 1. System setup \n",
    "\n",
    "First we import all ESPResSo features and external modules"
   ]
  },
  {
   "cell_type": "code",
   "execution_count": null,
   "metadata": {
    "deletable": true,
    "editable": true
   },
   "outputs": [],
   "source": [
    "import espressomd\n",
    "import numpy as np\n",
    "rng = np.random.default_rng(42)\n",
    "\n",
    "import espressomd.electrostatics\n",
    "import espressomd.electrostatic_extensions\n",
    "from espressomd.interactions import *\n",
    "import espressomd.observables\n",
    "import espressomd.accumulators\n",
    "from espressomd import shapes\n",
    "\n",
    "espressomd.assert_features(['WCA', 'ELECTROSTATICS'])\n",
    "\n",
    "import matplotlib.pyplot as plt\n",
    "from scipy import constants as const\n",
    "from tqdm import tqdm\n",
    "from scipy.stats import sem"
   ]
  },
  {
   "cell_type": "markdown",
   "metadata": {
    "deletable": true,
    "editable": true
   },
   "source": [
    "We need to define system dimensions and some physical parameters related to\n",
    "length, time and energy scales of our system.\n",
    "As discussed in previous tutorials, all physical parameters are defined in terms\n",
    "of a length $\\sigma$, mass $m$ and time $t$ and unit of charge $q$.\n",
    "Since we are not explicitly interested in the dynamics of the system, we set the\n",
    "mass to $m=1$ (Particle mass) and time $t=0.01 \\tau$.\n",
    "For convenience, we choose the elementary charge as fundamental unit ($q=1e$)\n",
    "and $\\sigma = 1 \\,\\mathrm{nm}$.\n",
    "\n",
    "With this we can now define the fundamental parameters of our system:"
   ]
  },
  {
   "cell_type": "code",
   "execution_count": null,
   "metadata": {
    "deletable": true,
    "editable": true
   },
   "outputs": [],
   "source": [
    "# water at room temperature\n",
    "EPSILON_R = 78.4             # Relative dielectric constant of the water\n",
    "TEMPERATURE = 300.0          # Temperature in Kelvin\n",
    "BJERRUM_LENGTH = const.elementary_charge**2 / (4*np.pi*const.epsilon_0*EPSILON_R*const.Boltzmann*TEMPERATURE) / const.nano\n",
    "# BERRUM_LENGTH of water at room temperature is 0.71 nm; electrostatic prefactor passed to P3M KBT/e2                \n",
    "\n",
    "#Lennard-Jones  Parameters\n",
    "LJ_SIGMA = 0.3              # Particle size nanometers, not point-like\n",
    "LJ_EPSILON = 1.0\n",
    "HS_ION_SIZE = 2**(1/6) * LJ_SIGMA\n",
    "\n",
    "CONCENTRATION = 1e-2 # desired concentration 10 mmol/l\n",
    "DISTANCE = 10 # 10 Debye lengths\n",
    "N_IONPAIRS = 500\n",
    "\n",
    "POTENTIAL_DIFF = 5.0\n",
    "\n",
    "# Elementary charge \n",
    "q = np.array([1.0])  \n",
    "types = {\"Cation\": 0, \"Anion\": 1  ,\"Electrodes\": 2}\n",
    "charges = {\"Cation\": q[0], \"Anion\": -q[0]  }"
   ]
  },
  {
   "cell_type": "markdown",
   "metadata": {
    "deletable": true,
    "editable": true,
    "solution2": "hidden",
    "solution2_first": true
   },
   "source": [
    "### 1.1 Setting up the box dimensions and create system\n",
    "\n",
    "We want to make use of the optimal performance of **ESPResSo** in this tutorial,\n",
    "which is roughly at 1000 particles/core.\n",
    "Thus, we fixed above the number of ion pairs to `N_IONPAIRS = 500`.\n",
    "\n",
    "To be able to employ the analytical solution for the single plate also for the\n",
    "double layer capacitor setup, the two electrodes need to be sufficiently far\n",
    "away such that the additivity of the two surface potentials holds. In practice,\n",
    "a separation of $d=10\\lambda_\\mathrm{D}$ is a good choice, represented by \n",
    "`DISTANCE = 10`.\n",
    "\n",
    "Our choice of $c=10\\,\\mathrm{mmol}$ is a compromise between a sufficiently low\n",
    "concentration for the PB theory to hold and not too large distances $d$ such\n",
    "that the equilibration/diffusion of the ions is sufficiently fast\n",
    "(`CONCENTRATION = 1e-2`).\n",
    "\n",
    "Note that in order to obtain results that we can interpret easily, we explicitly\n",
    "set a unit system using nanometers as length-scale above.\n",
    "The corresponding ion size (`HS_ION_SIZE`) of about 0.33 nm is a\n",
    "typical value for a simple salt; this, however, is in sharp contrast to the\n",
    "mean-field assumption of point-like ions.\n",
    "The latter are not easily studied within Molecular Dynamics simulations due to\n",
    "the required small time steps and are better suited for Monte-Carlo type\n",
    "simulations.\n",
    "We instead focus here on analyzing deviations from PB theory due to the finite\n",
    "ion size.\n",
    "\n",
    "The first task now is to write a function \n",
    "`get_box_dimension(concentration, distance, n_ionpairs=N_IONPAIRS)`\n",
    "that returns the lateral and normal box lengths `box_l_xy` and `box_l_z` (in\n",
    "nanometers) for the given parameters.\n",
    "\n",
    "**Hint:** To account for the finite ion size and the wall interaction it is\n",
    "useful to define the effective separation $d^\\prime = d-2\\sigma$, such that the\n",
    "concentration is $\\rho = N/(A*d^\\prime)$.\n"
   ]
  },
  {
   "cell_type": "code",
   "execution_count": null,
   "metadata": {
    "deletable": true,
    "editable": true,
    "solution2": "hidden"
   },
   "outputs": [],
   "source": [
    "def get_box_dimension(concentration, distance, n_ionpairs=N_IONPAIRS):\n",
    "    \"\"\" For a given number of particles, determine the lateral area of the box\n",
    "    to match the desired concentration \"\"\"\n",
    "\n",
    "    # concentration is in mol/l, convert to 1/sigma**3\n",
    "    rho = concentration * (const.Avogadro / const.liter) * const.nano**3\n",
    "    debye_length = (4 * np.pi * BJERRUM_LENGTH * rho*2)**(-1./2) # desired Debye length in nm\n",
    "    l_z = distance * debye_length\n",
    "    \n",
    "    box_volume = n_ionpairs / rho\n",
    "    area = box_volume / (l_z - 2*HS_ION_SIZE) # account for finite ion size in density calculation\n",
    "    l_xy = np.sqrt(area)\n",
    "\n",
    "    return l_xy, l_z"
   ]
  },
  {
   "cell_type": "code",
   "execution_count": null,
   "metadata": {
    "deletable": true,
    "editable": true
   },
   "outputs": [],
   "source": []
  },
  {
   "cell_type": "code",
   "execution_count": null,
   "metadata": {
    "deletable": true,
    "editable": true
   },
   "outputs": [],
   "source": [
    "box_l_xy, box_l_z = get_box_dimension(CONCENTRATION,DISTANCE,N_IONPAIRS)\n",
    "\n",
    "# useful quantities for the following calculations\n",
    "DEBYE_LENGTH = box_l_z / DISTANCE # in units of nm\n",
    "rho = N_IONPAIRS / (box_l_xy*box_l_xy*box_l_z) # in units of 1/nm^3"
   ]
  },
  {
   "cell_type": "markdown",
   "metadata": {
    "deletable": true,
    "editable": true
   },
   "source": [
    "We now can create the **ESPResSo** system.\n",
    "\n",
    "Note that for ELC to work properly, we need to add a gap of `ELC_GAP` in the\n",
    "non-periodic direction.\n",
    "The precise value highly affects the performance due to the tuning of the P3M\n",
    "electrostatic solver.\n",
    "For $d=10\\lambda$ a value of `ELC_GAP = 6*box_l_z` is a good choice.\n",
    "\n",
    "We also set the time-step $dt = 0.01 \\tau$, which is limited by the choice of\n",
    "$\\sigma$ and $\\tau$ in the repulsive WCA interaction."
   ]
  },
  {
   "cell_type": "code",
   "execution_count": null,
   "metadata": {
    "deletable": true,
    "editable": true
   },
   "outputs": [],
   "source": [
    "ELC_GAP = 6*box_l_z\n",
    "system = espressomd.System(box_l=[box_l_xy, box_l_xy, box_l_z+ELC_GAP])\n",
    "system.time_step = 0.01"
   ]
  },
  {
   "cell_type": "markdown",
   "metadata": {
    "deletable": true,
    "editable": true,
    "solution2": "hidden",
    "solution2_first": true
   },
   "source": [
    "### 1.2 Set up the double-layer capacitor\n",
    "\n",
    "We now set up an electrolyte solution made of monovalent cations and anions\n",
    "between two metallic electrodes at constant potential. \n",
    "\n",
    "#### 1.2.1 Electrode walls \n",
    "\n",
    "First, we add two wall constraints at $z=0$ and $z=L_z$ to stop particles from\n",
    "crossing the boundaries and model the electrodes.\n",
    "\n",
    "Refer to \n",
    "[espressomd.constraints.ShapeBasedConstraint](https://espressomd.github.io/doc/espressomd.html#espressomd.constraints.ShapeBasedConstraint)\n",
    "and its\n",
    "[wall constraint](https://espressomd.github.io/doc/constraints.html?highlight=constraint#wall)\n",
    "in the documentation to set up constraints and the `types` dictionary for the\n",
    "particle type."
   ]
  },
  {
   "cell_type": "code",
   "execution_count": null,
   "metadata": {
    "deletable": true,
    "editable": true,
    "solution2": "hidden"
   },
   "outputs": [],
   "source": [
    "# Bottom wall, normal pointing in the +z direction \n",
    "floor = espressomd.shapes.Wall(normal=[0, 0, 1])\n",
    "c1 = system.constraints.add(\n",
    "    particle_type=types[\"Electrodes\"], penetrable=False, shape=floor)\n",
    "\n",
    "# Top wall, normal pointing in the -z direction\n",
    "ceil = espressomd.shapes.Wall(normal=[0, 0, -1],\n",
    "                              dist=-box_l_z)   \n",
    "c2 = system.constraints.add(\n",
    "    particle_type=types[\"Electrodes\"], penetrable=False, shape=ceil)"
   ]
  },
  {
   "cell_type": "code",
   "execution_count": null,
   "metadata": {
    "deletable": true,
    "editable": true
   },
   "outputs": [],
   "source": []
  },
  {
   "cell_type": "markdown",
   "metadata": {
    "deletable": true,
    "editable": true,
    "solution2": "hidden",
    "solution2_first": true
   },
   "source": [
    "#### 1.2.2 Add particles for the ions\n",
    "\n",
    "Now, place the ion pairs at random positions between the electrodes.\n",
    "\n",
    "Note, that unfavorable overlap can be avoided by placing the particles in the\n",
    "interval $[\\sigma, d-\\sigma]$ in the $z$-direction only."
   ]
  },
  {
   "cell_type": "code",
   "execution_count": null,
   "metadata": {
    "deletable": true,
    "editable": true,
    "solution2": "hidden"
   },
   "outputs": [],
   "source": [
    "offset=HS_ION_SIZE # avoid unfavorable overlap at close to the walls\n",
    "Init_part_btw_z1=0+offset \n",
    "Init_part_btw_z2=box_l_z-offset\n",
    "ion_pos=np.empty((3),dtype=float)\n",
    "\n",
    "for i in range (N_IONPAIRS):\n",
    "    ion_pos[0] = rng.random(1) * system.box_l[0]\n",
    "    ion_pos[1] = rng.random(1) * system.box_l[1]\n",
    "    ion_pos[2] = rng.random(1) * (Init_part_btw_z2-Init_part_btw_z1) + Init_part_btw_z1\n",
    "    system.part.add(pos=ion_pos, type=types[\"Cation\"]  , q=charges[\"Cation\"])\n",
    "    \n",
    "for i in range (N_IONPAIRS):\n",
    "    ion_pos[0] = rng.random(1) * system.box_l[0]\n",
    "    ion_pos[1] = rng.random(1) * system.box_l[1]\n",
    "    ion_pos[2] = rng.random(1) * (Init_part_btw_z2-Init_part_btw_z1) + Init_part_btw_z1\n",
    "    system.part.add(pos=ion_pos, type=types[\"Anion\"]  , q=charges[\"Anion\"])"
   ]
  },
  {
   "cell_type": "code",
   "execution_count": null,
   "metadata": {
    "deletable": true,
    "editable": true
   },
   "outputs": [],
   "source": []
  },
  {
   "cell_type": "markdown",
   "metadata": {
    "deletable": true,
    "editable": true,
    "solution2": "hidden",
    "solution2_first": true
   },
   "source": [
    "#### 1.2.3 Add interactions:\n",
    "For excluded volume interactions, we add a WCA potential. \n",
    "\n",
    "Refer to the documentation to set up the\n",
    "[WCA interaction](https://espressomd.github.io/doc/espressomd.html#espressomd.interactions.WCAInteraction) \n",
    "under [Non-bonded](https://espressomd.github.io/doc/inter_non-bonded.html)\n",
    "section.\n",
    "\n",
    "Add the corresponding interaction parameters to the system."
   ]
  },
  {
   "cell_type": "code",
   "execution_count": null,
   "metadata": {
    "deletable": true,
    "editable": true,
    "solution2": "hidden"
   },
   "outputs": [],
   "source": [
    "for  key, val in types.items():\n",
    "    for key1, val1 in types.items():\n",
    "        system.non_bonded_inter[val, val1].wca.set_params(epsilon=LJ_EPSILON, sigma=LJ_SIGMA)"
   ]
  },
  {
   "cell_type": "code",
   "execution_count": null,
   "metadata": {
    "deletable": true,
    "editable": true
   },
   "outputs": [],
   "source": []
  },
  {
   "cell_type": "markdown",
   "metadata": {
    "deletable": true,
    "editable": true,
    "solution2": "hidden",
    "solution2_first": true
   },
   "source": [
    "For the (2D+h) electrostatic with dielectrics we choose the ELC-IC with P3M.\n",
    "\n",
    "Refer the documentation to set up\n",
    "[ELCIC with P3M](https://espressomd.github.io/doc/electrostatics.html#electrostatic-layer-correction-elc)\n",
    "under the [electrostatics](https://espressomd.github.io/doc/electrostatics.html)\n",
    "section. \n",
    "\n",
    "As later we will study different potential drops between the electrodes, write a\n",
    "function that sets up the electrostatic solver for a given value\n",
    "`POTENTIAL_DIFF.`\n",
    "This function will take care of tuning the P3M and ELC parameters.\n",
    "For our purposes, an accuracy of $10^{-3}$ is sufficient.\n",
    "\n",
    "Write a function `setup_electrostatic_solver(potential_diff)` that\n",
    "returns the ELC instance."
   ]
  },
  {
   "cell_type": "code",
   "execution_count": null,
   "metadata": {
    "deletable": true,
    "editable": true,
    "solution2": "hidden"
   },
   "outputs": [],
   "source": [
    "def setup_electrostatic_solver(potential_diff):\n",
    "\n",
    "    delta_mid_top = -1.0   #(Fully metallic case both -1)                 \n",
    "    delta_mid_bot = -1.0\n",
    "\n",
    "    accuracy = 1e-3\n",
    "    check_accuracy = 1e-3\n",
    "    p3m = espressomd.electrostatics.P3M(prefactor=BJERRUM_LENGTH,\n",
    "                                        accuracy=accuracy, \n",
    "                                        tune=True,\n",
    "                                        )\n",
    "    \n",
    "    elc = espressomd.electrostatics.ELC(actor=p3m,\n",
    "                                        gap_size=ELC_GAP,\n",
    "                                        const_pot=True,\n",
    "                                        pot_diff=potential_diff,\n",
    "                                        maxPWerror=check_accuracy,\n",
    "                                        delta_mid_bot=delta_mid_bot,\n",
    "                                        delta_mid_top=delta_mid_top)\n",
    "    \n",
    "    return elc"
   ]
  },
  {
   "cell_type": "code",
   "execution_count": null,
   "metadata": {
    "deletable": true,
    "editable": true
   },
   "outputs": [],
   "source": []
  },
  {
   "cell_type": "markdown",
   "metadata": {
    "deletable": true,
    "editable": true
   },
   "source": [
    "Now add the solver to the system:"
   ]
  },
  {
   "cell_type": "code",
   "execution_count": null,
   "metadata": {
    "deletable": true,
    "editable": true
   },
   "outputs": [],
   "source": [
    "system.electrostatics.solver = setup_electrostatic_solver(POTENTIAL_DIFF)"
   ]
  },
  {
   "cell_type": "markdown",
   "metadata": {
    "deletable": true,
    "editable": true
   },
   "source": [
    "## 2. Equilibration\n",
    "\n",
    "### 2.1 Steepest descent\n",
    "\n",
    "Before we can start the simulation, we need to remove the overlap between\n",
    "particles to avoid large forces which would crash the simulation.\n",
    "\n",
    "For this, we use the steepest descent integrator with a relative convergence\n",
    "criterion for forces and energies.\n",
    "\n",
    "After steepest descent, we switch to a Velocity Verlet integrator and set up a\n",
    "Langevin thermostat.\n",
    "Note, that we only analyze static properties, thus the damping and temperature\n",
    "chosen here only determine the relaxation speed towards the equilibrium\n",
    "distribution."
   ]
  },
  {
   "cell_type": "code",
   "execution_count": null,
   "metadata": {
    "deletable": true,
    "editable": true
   },
   "outputs": [],
   "source": [
    "#  Relax the overlaps with steepest descent\n",
    "\n",
    "system.integrator.set_steepest_descent(f_max=10, gamma=50.0,\n",
    "                                       max_displacement=0.02)\n",
    "system.integrator.run(250)\n",
    "system.integrator.set_vv() # Switch bach to Velocity Verlet \n",
    "\n",
    "# Add thermostat \n",
    "thermostat_seed = np.random.randint(np.random.randint(1000000))\n",
    "system.thermostat.set_langevin(kT=1.0, gamma=0.1, seed=thermostat_seed)"
   ]
  },
  {
   "cell_type": "markdown",
   "metadata": {
    "deletable": true,
    "editable": true
   },
   "source": [
    "## Equilibrate the ion distribution\n",
    "\n",
    "Convergence after $t\\sim25$ time units, possible to run up to $t=100$ here...\n",
    "This is a total of 10.000 time steps (~1 minute)."
   ]
  },
  {
   "cell_type": "code",
   "execution_count": null,
   "metadata": {
    "deletable": true,
    "editable": true
   },
   "outputs": [],
   "source": [
    "# Equlibration parameters\n",
    "STEPS_PER_SAMPLE = 200\n",
    "N_SAMPLES_EQUIL = 50\n",
    "N_PART = 2* N_IONPAIRS\n",
    "\n",
    "times = np.zeros(N_SAMPLES_EQUIL)\n",
    "e_total = np.zeros_like(times)\n",
    "e_kin = np.zeros_like(times)\n",
    "\n",
    "for i in tqdm(range(N_SAMPLES_EQUIL)):\n",
    "    times[i] = system.time\n",
    "    energy = system.analysis.energy()\n",
    "    e_total[i] = energy['total']\n",
    "    e_kin[i] = energy['kinetic']\n",
    "    system.integrator.run(STEPS_PER_SAMPLE)"
   ]
  },
  {
   "cell_type": "code",
   "execution_count": null,
   "metadata": {
    "deletable": true,
    "editable": true
   },
   "outputs": [],
   "source": [
    "# Plot the convergence of the total energy\n",
    "plt.figure(figsize=(10, 6))\n",
    "plt.plot(times, e_total, label='total')\n",
    "plt.plot(times, e_kin, label='kinetic')\n",
    "plt.xlabel('t')\n",
    "plt.ylabel('E')\n",
    "plt.legend()\n",
    "plt.show()"
   ]
  },
  {
   "cell_type": "markdown",
   "metadata": {
    "deletable": true,
    "editable": true,
    "solution2": "hidden",
    "solution2_first": true
   },
   "source": [
    "## 3. Calculate and analyze ion profile\n",
    "\n",
    "### 3.1 Set up the density accumulators\n",
    "\n",
    "We now need to set up an \n",
    "[espressomd.observables.DensityProfile](https://espressomd.github.io/doc/espressomd.html#espressomd.observables.DensityProfile)\n",
    "observable to calculate the anion and cation density profiles.\n",
    "\n",
    "The time average is obtained through a\n",
    "[espressomd.accumulators.MeanVarianceCalculator](espressomd.accumulators.MeanVarianceCalculator).\n",
    "\n",
    "Write a function `setup_densityprofile_accumulators(bin_width)` that returns the\n",
    "`bin_centers` and the accumulators for both ion species in the $z$-range $[0,d]$.\n",
    "Since we are not estimating errors in this tutorial, the choice of `delta_N` is\n",
    "rather arbitrary and does not affect the results. In practice, a typical value is\n",
    "`delta_N=20`."
   ]
  },
  {
   "cell_type": "code",
   "execution_count": null,
   "metadata": {
    "deletable": true,
    "editable": true,
    "solution2": "hidden"
   },
   "outputs": [],
   "source": [
    "def setup_densityprofile_accumulators(bin_width):\n",
    "\n",
    "    Ion_id=[]\n",
    "    Cations = system.part.select(type=types[\"Cation\"])\n",
    "    Cations_id=[]\n",
    "    for i in Cations:\n",
    "        Cations_id.append(i.id)\n",
    "        Ion_id.append(i.id)\n",
    "        \n",
    "    Anions = system.part.select(type=types[\"Anion\"])\n",
    "    Anions_id=[]\n",
    "    for i in Anions:\n",
    "        Anions_id.append(i.id)\n",
    "        Ion_id.append(i.id)\n",
    "    \n",
    "    n_z_bins = int(np.round((system.box_l[2] - ELC_GAP) / bin_width))\n",
    "    \n",
    "    # Accumulator 1 : observable::Density_Profile\n",
    "    density_profile_cation = espressomd.observables.DensityProfile(ids=Cations_id,\n",
    "                                                           n_x_bins=1,\n",
    "                                                           n_y_bins=1,\n",
    "                                                           n_z_bins=n_z_bins,\n",
    "                                                           min_x=0,\n",
    "                                                           min_y=0,\n",
    "                                                           min_z=0,\n",
    "                                                           max_x=system.box_l[0],\n",
    "                                                           max_y=system.box_l[1],\n",
    "                                                           max_z=system.box_l[2] - ELC_GAP)\n",
    "    \n",
    "    density_accumulator_cation = espressomd.accumulators.MeanVarianceCalculator(obs=density_profile_cation, delta_N=20)\n",
    "    \n",
    "    \n",
    "    density_profile_anion = espressomd.observables.DensityProfile(ids=Anions_id,\n",
    "                                                           n_x_bins=1,\n",
    "                                                           n_y_bins=1,\n",
    "                                                           n_z_bins=n_z_bins,\n",
    "                                                           min_x=0,\n",
    "                                                           min_y=0,\n",
    "                                                           min_z=0,\n",
    "                                                           max_x=system.box_l[0],\n",
    "                                                           max_y=system.box_l[1],\n",
    "                                                           max_z=system.box_l[2] - ELC_GAP)\n",
    "    \n",
    "    density_accumulator_anion = espressomd.accumulators.MeanVarianceCalculator(obs=density_profile_anion, delta_N=20)\n",
    "\n",
    "    zs = density_profile_anion.bin_centers()[0, 0, :, 2]\n",
    "    \n",
    "    return zs, density_accumulator_cation, density_accumulator_anion"
   ]
  },
  {
   "cell_type": "code",
   "execution_count": null,
   "metadata": {
    "deletable": true,
    "editable": true
   },
   "outputs": [],
   "source": []
  },
  {
   "cell_type": "code",
   "execution_count": null,
   "metadata": {
    "deletable": true,
    "editable": true
   },
   "outputs": [],
   "source": [
    "zs, density_accumulator_cation, density_accumulator_anion = setup_densityprofile_accumulators(bin_width = DEBYE_LENGTH/10.)"
   ]
  },
  {
   "cell_type": "markdown",
   "metadata": {
    "deletable": true,
    "editable": true
   },
   "source": [
    "### 3.2 Run the simulation\n",
    "\n",
    "Now we take some measurement sampling the density profiles."
   ]
  },
  {
   "cell_type": "code",
   "execution_count": null,
   "metadata": {
    "deletable": true,
    "editable": true
   },
   "outputs": [],
   "source": [
    "N_SAMPLES_PROD = 10\n",
    "\n",
    "# Add the accumulators\n",
    "system.auto_update_accumulators.clear()\n",
    "system.auto_update_accumulators.add(density_accumulator_cation)\n",
    "system.auto_update_accumulators.add(density_accumulator_anion)\n",
    "    \n",
    "times=[]\n",
    "e_total=[]\n",
    "for tm in tqdm(range(N_SAMPLES_PROD)):\n",
    "    system.integrator.run(STEPS_PER_SAMPLE)\n",
    "    times.append( system.time)\n",
    "    energy = system.analysis.energy()\n",
    "    e_total.append( energy['total'])   \n",
    "\n",
    "cation_profile_mean = density_accumulator_cation.mean()[0, 0, :]\n",
    "anion_profile_mean = density_accumulator_anion.mean()[0, 0, :]"
   ]
  },
  {
   "cell_type": "markdown",
   "metadata": {
    "deletable": true,
    "editable": true
   },
   "source": [
    "### Compare to analytical prediction\n",
    "\n",
    "Since we assume pair-wise additivity, the total ion density follows from\n",
    "$$ \\rho (z) = \\rho_+(z) - \\rho_+ (d-z) + \\rho_-(z) - \\rho_-(d-z) .$$"
   ]
  },
  {
   "cell_type": "code",
   "execution_count": null,
   "metadata": {
    "deletable": true,
    "editable": true
   },
   "outputs": [],
   "source": [
    "def gouy_chapman_potential(x, debye_length, phi_0):\n",
    "    kappa = 1./debye_length\n",
    "    return 2*np.log((1 + np.tanh(1./4*(phi_0) * np.exp(-kappa*x))) \\\n",
    "                  / (1 - np.tanh(1./4*(phi_0) * np.exp(-kappa*x))))\n",
    "\n",
    "def gouy_chapman_density(x, c0, debye_length, phi_0):\n",
    "    phi = gouy_chapman_potential(x, debye_length, phi_0)\n",
    "    return c0/2. * np.exp(-phi)"
   ]
  },
  {
   "cell_type": "code",
   "execution_count": null,
   "metadata": {
    "deletable": true,
    "editable": true
   },
   "outputs": [],
   "source": [
    "plt.figure(figsize=(10, 6))\n",
    "plt.plot(zs, cation_profile_mean, color='b', label='cation')\n",
    "plt.plot(zs, anion_profile_mean, color='r', label='anion')\n",
    "plt.plot(zs, cation_profile_mean + anion_profile_mean, color='k', label='total')\n",
    "\n",
    "x = np.linspace(HS_ION_SIZE, box_l_z-HS_ION_SIZE, 100)\n",
    "plt.plot(x, (gouy_chapman_density(x, CONCENTRATION, DEBYE_LENGTH,-POTENTIAL_DIFF/2.) \\\n",
    "         + gouy_chapman_density(box_l_z-HS_ION_SIZE-x, CONCENTRATION, DEBYE_LENGTH,POTENTIAL_DIFF/2.))/2., color='r', ls='--')\n",
    "plt.plot(x, (gouy_chapman_density(box_l_z-HS_ION_SIZE-x, CONCENTRATION, DEBYE_LENGTH,-POTENTIAL_DIFF/2.) \\\n",
    "         + gouy_chapman_density(x, CONCENTRATION, DEBYE_LENGTH,POTENTIAL_DIFF/2.) )/2., color='b', ls='--')\n",
    "plt.plot(x, (gouy_chapman_density(x, CONCENTRATION, DEBYE_LENGTH,-POTENTIAL_DIFF/2.) \\\n",
    "         + gouy_chapman_density(box_l_z-HS_ION_SIZE-x, CONCENTRATION, DEBYE_LENGTH,POTENTIAL_DIFF/2.))/2 \\\n",
    "         + (gouy_chapman_density(box_l_z-HS_ION_SIZE-x, CONCENTRATION, DEBYE_LENGTH,-POTENTIAL_DIFF/2.) \\\n",
    "         + gouy_chapman_density(x, CONCENTRATION, DEBYE_LENGTH,POTENTIAL_DIFF/2.) )/2., color='k', ls='--', lw=2)\n",
    "\n",
    "plt.legend()\n",
    "plt.xlabel(r'$z\\,\\mathrm{[nm]}$')\n",
    "plt.ylabel(r'$\\rho(z)\\,\\mathrm{[mol/l]}$')\n",
    "plt.show()"
   ]
  },
  {
   "cell_type": "markdown",
   "metadata": {
    "deletable": true,
    "editable": true
   },
   "source": [
    "We now check how well the surface charge agrees with Graham equation.\n",
    "To this end we calculate \n",
    "$$\\sigma = \\int_0^{d/2} \\rho(z) \\,\\mathrm{d}z .$$"
   ]
  },
  {
   "cell_type": "code",
   "execution_count": null,
   "metadata": {
    "deletable": true,
    "editable": true
   },
   "outputs": [],
   "source": [
    "#Test sigma with Graham equation\n",
    "sigma_left = np.sum((cation_profile_mean-anion_profile_mean)[:int(len(zs)/2.)]) * (zs[1]-zs[0])\n",
    "sigma_right = np.sum((+cation_profile_mean-anion_profile_mean)[int(len(zs)/2.):]) * (zs[1]-zs[0])\n",
    "\n",
    "def graham_sigma(phi):\n",
    "    return np.sinh(phi/4.) * np.sqrt(2*rho/(np.pi*BJERRUM_LENGTH))\n",
    "sigma_graham = graham_sigma(POTENTIAL_DIFF)\n",
    "\n",
    "# sigma in e/nm^2\n",
    "print('simulation:', sigma_right, 'graham:', sigma_graham, 'relative:', sigma_right/sigma_graham)\n"
   ]
  },
  {
   "cell_type": "markdown",
   "metadata": {
    "deletable": true,
    "editable": true
   },
   "source": [
    "The electric field is readily obtained from the integral \n",
    "$$E(z) = \\int_0^{z} \\frac{1}{\\epsilon_0 \\epsilon_r} \\rho(z^\\prime) \\,\\mathrm{d}z^\\prime .$$"
   ]
  },
  {
   "cell_type": "code",
   "execution_count": null,
   "metadata": {
    "deletable": true,
    "editable": true
   },
   "outputs": [],
   "source": [
    "# plot the electric field\n",
    "f, ax = plt.subplots(figsize=(10, 6))\n",
    "\n",
    "dz_SI = (zs[1]-zs[0])*const.nano\n",
    "chargedensity = (cation_profile_mean-anion_profile_mean)*const.elementary_charge/const.nano**3 \n",
    "E_SI = 1/(EPSILON_R*const.epsilon_0)* np.cumsum(chargedensity*dz_SI)\n",
    "# integration constant: zero field in the center\n",
    "E_SI -= E_SI.min()\n",
    "E = E_SI / (const.elementary_charge / (const.Boltzmann * TEMPERATURE) / const.nano)\n",
    "ax2 = plt.twinx()\n",
    "\n",
    "ax.plot(zs,E_SI)\n",
    "ax2.plot(zs,E)\n",
    "ax.set_xlabel(r'$z\\,\\mathrm{[nm]}$')\n",
    "ax.set_ylabel(r'$E_\\mathrm{ind}\\,\\mathrm{[V/m]}$')\n",
    "ax2.set_ylabel(r'$E_\\mathrm{ind}\\,\\mathrm{[(k_\\mathrm{B}T/e)/nm]}$')\n",
    "plt.show()"
   ]
  },
  {
   "cell_type": "markdown",
   "metadata": {
    "deletable": true,
    "editable": true
   },
   "source": [
    "And the electric potential from $\\phi(z) = \\int_0^z -E(z^\\prime)\\,\\mathrm{d}z^\\prime$."
   ]
  },
  {
   "cell_type": "code",
   "execution_count": null,
   "metadata": {
    "deletable": true,
    "editable": true
   },
   "outputs": [],
   "source": [
    "# plot the elecrostatic potential\n",
    "f, ax = plt.subplots(figsize=(10, 6))\n",
    "ax2 = ax.twinx()\n",
    "phi_SI = -np.cumsum(E_SI*dz_SI)\n",
    "phi = phi_SI * (const.elementary_charge / (const.Boltzmann * TEMPERATURE))\n",
    "ax.plot(zs, phi_SI)\n",
    "ax2.plot(zs, phi)\n",
    "ax.set_xlabel(r'$z\\,\\mathrm{[nm]}$')\n",
    "ax.set_ylabel(r'$\\phi\\,[V]$')\n",
    "ax2.set_ylabel(r'$\\phi\\,[k_\\mathrm{B}T/e]$')\n",
    "ax2.axhline(-5, ls='--', color='k')\n",
    "ax.axhline(-5 / (const.elementary_charge / (const.Boltzmann * TEMPERATURE)))\n",
    "ax2.axhline(0, ls='--', color='k')\n",
    "ax.axhline(0 / (const.elementary_charge / (const.Boltzmann * TEMPERATURE)))\n",
    "ax.set_xlim(0, 10*DEBYE_LENGTH)\n",
    "plt.show()"
   ]
  },
  {
   "cell_type": "code",
   "execution_count": null,
   "metadata": {
    "deletable": true,
    "editable": true
   },
   "outputs": [],
   "source": [
    "measured_potential_difference = -(phi[-1]+phi[0])\n",
    "print('applied voltage', POTENTIAL_DIFF, 'measured voltage', measured_potential_difference,\n",
    "      'relative deviation:', 1-measured_potential_difference/POTENTIAL_DIFF)"
   ]
  },
  {
   "cell_type": "markdown",
   "metadata": {
    "deletable": true,
    "editable": true
   },
   "source": [
    "## 4. Differential capacitance\n",
    "\n",
    "With the above knowledge, we can now easily assess the \n",
    "differential capacitance of the system, i.e. change the applied voltage\n",
    "difference and determine the corresponding surface charge density."
   ]
  },
  {
   "cell_type": "code",
   "execution_count": null,
   "metadata": {
    "deletable": true,
    "editable": true
   },
   "outputs": [],
   "source": [
    "sigma_vs_phi = []\n",
    "MIN_PHI = 0.5\n",
    "MAX_PHI = 14\n",
    "N_PHI = 10\n",
    "N_SAMPLES_EQUIL_CAP = 5\n",
    "N_SAMPLES_CAP = 5\n",
    "\n",
    "# sample from high to low potential to improve sampling\n",
    "for potential_diff in tqdm(np.linspace(MIN_PHI, MAX_PHI, N_PHI)[::-1]):\n",
    "\n",
    "    system.electrostatics.solver = setup_electrostatic_solver(potential_diff)\n",
    "\n",
    "    times=[]\n",
    "    e_total=[]\n",
    "    sigmas = []\n",
    "    for tm in range(N_SAMPLES_EQUIL_CAP):\n",
    "        system.integrator.run(STEPS_PER_SAMPLE)\n",
    "        times.append( system.time)\n",
    "        energy = system.analysis.energy()\n",
    "        e_total.append( energy['total'])   \n",
    "\n",
    "    for tm in range(N_SAMPLES_CAP):\n",
    "\n",
    "        zs, density_accumulator_cation, density_accumulator_anion = setup_densityprofile_accumulators(bin_width = DEBYE_LENGTH/10.)\n",
    "\n",
    "        system.auto_update_accumulators.clear()\n",
    "        system.auto_update_accumulators.add(density_accumulator_cation)\n",
    "        system.auto_update_accumulators.add(density_accumulator_anion)\n",
    "\n",
    "        system.integrator.run(STEPS_PER_SAMPLE)\n",
    "        times.append( system.time)\n",
    "        energy = system.analysis.energy()\n",
    "        e_total.append( energy['total'])  \n",
    "\n",
    "        cation_profile_mean = density_accumulator_cation.mean()[0, 0, :]\n",
    "        anion_profile_mean = density_accumulator_anion.mean()[0, 0, :]\n",
    "\n",
    "        sigmas.append(np.sum((cation_profile_mean-anion_profile_mean)[:int(len(zs)/2.)]) * (zs[1]-zs[0]))\n",
    "\n",
    "    sigma_vs_phi.append([potential_diff, np.mean(sigmas), sem(sigmas)]) "
   ]
  },
  {
   "cell_type": "code",
   "execution_count": null,
   "metadata": {
    "deletable": true,
    "editable": true
   },
   "outputs": [],
   "source": [
    "f, ax = plt.subplots(figsize=(10, 6))\n",
    "sigma_vs_phi = np.array(sigma_vs_phi)\n",
    "x = np.linspace(0,sigma_vs_phi[:,0].max()*1.3)\n",
    "phi_SI = sigma_vs_phi[:,0] / (const.elementary_charge / (const.Boltzmann * TEMPERATURE))\n",
    "plt.errorbar(-sigma_vs_phi[:,1]*const.elementary_charge/const.nano**2, phi_SI, xerr=sigma_vs_phi[:,2]*const.elementary_charge/const.nano**2, fmt='o',label='Sim')\n",
    "plt.plot(graham_sigma(x)*const.elementary_charge/const.nano**2,\n",
    "        x / (const.elementary_charge / (const.Boltzmann * TEMPERATURE)), label='Graham')\n",
    "x = np.linspace(0,ax.get_ylim()[1])\n",
    "plt.plot(EPSILON_R*const.epsilon_0*x/2/(DEBYE_LENGTH*const.nano),x, label='linear PB', ls='--')\n",
    "plt.xlabel(r'$\\sigma\\,\\mathrm{[C/m^2]}$')\n",
    "plt.ylabel(r'$\\Psi_0\\,\\mathrm{[V]}$')\n",
    "plt.legend()\n",
    "plt.show()"
   ]
  },
  {
   "cell_type": "markdown",
   "metadata": {
    "deletable": true,
    "editable": true
   },
   "source": [
    "## References\n",
    "\n",
    "<a id='[1]'></a>[1] Conway, B. E. Electrochemical Supercapacitors; Springer US: Boston, MA, 1999. https://doi.org/10.1007/978-1-4757-3058-6.\n",
    "\n",
    "<a id='[2]'></a>[2] Tyagi, S.; Arnold, A.; Holm, C. Electrostatic Layer Correction with Image Charges: A Linear Scaling Method to Treat Slab 2D+h Systems with Dielectric Interfaces. J. Chem. Phys. 2008, 129 (20), 204102. https://doi.org/10.1063/1.3021064.\n",
    "\n",
    "<a id='[3]'></a>[3] Gouy, G. Constitution of the Electric Charge at the Surface of an Electrolyte. J. phys 1910, 9 (4), 457–467.\n",
    "\n",
    "<a id='[4]'></a>[4] Chapman, D. L. A Contribution to the Theory of Electrocapillarity. The London, Edinburgh, and Dublin Philosophical Magazine and Journal of Science 1913, 25 (148), 475. https://doi.org/10.1080/14786440408634187.\n",
    "\n",
    "<a id='[5]'></a>[5] Grahame, D. C. The Electrical Double Layer and the Theory of Electrocapillarity. Chem. Rev. 1947, 41 (3), 441–501. https://doi.org/10.1021/cr60130a002.\n",
    "\n",
    "<a id='[6]'></a>[6] Tyagi, S.; Süzen, M.; Sega, M.; Barbosa, M.; Kantorovich, S. S.; Holm, C. An Iterative, Fast, Linear-Scaling Method for Computing Induced Charges on Arbitrary Dielectric Boundaries. J. Chem. Phys. 2010, 132 (15), 154112. https://doi.org/10.1063/1.3376011."
   ]
  }
 ],
 "metadata": {
  "kernelspec": {
   "display_name": "Python 3 (ipykernel)",
   "language": "python",
   "name": "python3"
  },
  "language_info": {
   "codemirror_mode": {
    "name": "ipython",
    "version": 3
   },
   "file_extension": ".py",
   "mimetype": "text/x-python",
   "name": "python",
   "nbconvert_exporter": "python",
   "pygments_lexer": "ipython3",
   "version": "3.11.5"
  }
 },
 "nbformat": 4,
 "nbformat_minor": 4
}
