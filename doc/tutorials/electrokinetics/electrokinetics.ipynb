{
 "cells": [
  {
   "cell_type": "markdown",
   "metadata": {},
   "source": [
    "In this tutorial we're looking at the electrokinetics feature of espresso, which allows to describe the motion of potentially charged chemical species solvated in a fluid on a continuum level. The govering equations are known as the Poisson-Nernst-Planck equation, which is the combination of the electrostatic Poisson equation and the dynamics of the chemical species described by the Nernst-Planck equation. For the advection we solve the incompressible Navier-Stokes equation. The total set of equations is given by\n",
    "\n",
    "\\begin{aligned}\n",
    "\\partial_{t} n_{i} &= - \\vec{\\nabla} \\cdot \\vec{j}_{i} \\\\\n",
    "\\vec{j}_{i} &= - D_{i} \\vec{\\nabla} n_{i} - \\frac{z_{i} e}{k_{B} T} n_{i} \\vec{\\nabla} \\phi + n_{i} \\vec{u} \\\\\n",
    "\\Delta \\phi &= \\frac{1}{4 \\pi \\epsilon_{0} \\epsilon_{\\mathrm{r}}} \\sum_{i} z_{i} e n_{i} \\\\\n",
    "\\rho (\\partial_{t} \\vec{u} + (\\vec{u} \\cdot \\vec{\\nabla}) \\vec{u}) &= - \\vec{\\nabla} p + \\eta \\Delta \\vec{u} + \\sum_{i} \\frac{k_{B} T}{D_{i}} \\vec{j}_{i} + \\vec{f}_{\\mathrm{ext}} \\\\\n",
    "\\vec{\\nabla} \\cdot \\vec{u} &= 0,\n",
    "\\end{aligned}\n",
    "\n",
    "where $n_{i}$ denotes the ion density of species $i$, $\\vec{j}_{i}$ the density flux, $D_{i}$ the diffusion coefficient, $z_{i}$ the valency, $e$ the elementary charge, $k_{B}$ the Boltzmann constant, $T$ the temperature, $\\phi$ the electrostatic potential, $\\epsilon_{0}$ the vacuum permittivity, $\\epsilon_{\\mathrm{r}}$ the relative permittivity, $\\rho$ the fluid density, $\\vec{u}$ the fluid velocity, $p$ the hydrostatic pressure, $\\eta$ the dynamic viscosity, and $\\vec{f}_{\\mathrm{ext}}$ an external force density."
   ]
  },
  {
   "cell_type": "markdown",
   "metadata": {},
   "source": [
    "# Advection-Diffusion equation in 2D"
   ]
  },
  {
   "cell_type": "markdown",
   "metadata": {},
   "source": [
    "The first system that is simulated in this tutorial is the simple advection-diffusion of a drop of uncharged chemical species in a constant velocity field. To keep the computation time small, we restrict ourselves to a 2D problem, but the algorithm is also capable of solving the 3D advection-diffusion equation. Furthermore, we can also skip solving the electrostatic-poisson equation, since there are is no charged species present. This system can be described by the diffusion-equation for the density of the chemical species, which reads\n",
    "\n",
    "\\begin{equation}\n",
    "\\partial_{t} n = D \\Delta n - \\vec{\\nabla} \\cdot (\\vec{v} n).\n",
    "\\end{equation}\n",
    "\n",
    "The fundamental solution of this partial diffential equation can easily be found in the case of a constant velocity field $\\vec{v}$ and a constant diffusion coefficient $D$. For a $d$-dimensional system, the solution of an inital droplet at the origin can be written as\n",
    "\n",
    "\\begin{equation}\n",
    "n(\\vec{x},t) = \\frac{1}{(4 \\pi D t)^{d/2}} \\exp \\left( - \\frac{(\\vec{x} - \\vec{v} t)^2}{4 D t} \\right).\n",
    "\\end{equation}\n",
    "\n",
    "After importing the necessary packages, we start by defining the necessary parameters for the simulation. Since the electrokinetics algorithm can be coupled to the lattice Boltzmann solver for the hydrodynamics, we use it's velocity field to provide a constant velocity field for the advction of the chemical species."
   ]
  },
  {
   "cell_type": "code",
   "execution_count": null,
   "metadata": {},
   "outputs": [],
   "source": [
    "import espressomd\n",
    "import espressomd.lb\n",
    "import espressomd.electrokinetics\n",
    "import espressomd.shapes\n",
    "\n",
    "espressomd.assert_features([\"WALBERLA\", \"WALBERLA_FFT\"])\n",
    "\n",
    "import tqdm\n",
    "import numpy as np\n",
    "\n",
    "import scipy.optimize\n",
    "\n",
    "import matplotlib as mpl\n",
    "import matplotlib.pyplot as plt\n",
    "import matplotlib.animation as animation\n",
    "import matplotlib.quiver\n",
    "\n",
    "import tempfile\n",
    "import base64\n",
    "\n",
    "plt.rcParams.update({'font.size': 16})"
   ]
  },
  {
   "cell_type": "code",
   "execution_count": null,
   "metadata": {},
   "outputs": [],
   "source": [
    "BOX_L = [80, 80, 1] \n",
    "AGRID = 1.0\n",
    "DIFFUSION_COEFFICIENT = 0.06\n",
    "TAU = 1.0\n",
    "EXT_FORCE_DENSITY = [0, 0, 0]\n",
    "FLUID_DENSITY = 1.0\n",
    "FLUID_VISCOSITY = 1.\n",
    "FLUID_VELOCITY = [0.04, 0.04, 0.0]\n",
    "KT = 1.0\n",
    "\n",
    "RUN_TIME = 200"
   ]
  },
  {
   "cell_type": "code",
   "execution_count": null,
   "metadata": {},
   "outputs": [],
   "source": [
    "system = espressomd.System(box_l=BOX_L)\n",
    "system.time_step = TAU\n",
    "system.cell_system.skin = 0.4"
   ]
  },
  {
   "cell_type": "markdown",
   "metadata": {},
   "source": [
    "The algorithm we are using is a grid based one, the same as the lattice Boltzmann algorithm. Therefore we start with defining a lattice, which will define the resolution of the grid we use to simulate our problem."
   ]
  },
  {
   "cell_type": "code",
   "execution_count": null,
   "metadata": {},
   "outputs": [],
   "source": [
    "lattice = espressomd.lb.LatticeWalberla(\n",
    "    n_ghost_layers=1, agrid=AGRID)"
   ]
  },
  {
   "cell_type": "markdown",
   "metadata": {},
   "source": [
    "Next we setup the lattice Boltzmann fluid, which we only use to provide the constant velocity field for our advection and add it to the `system`-object to be intergrated when running the integrator. Note that the value for `kT` is set to 0, because we only want the constant velocity field."
   ]
  },
  {
   "cell_type": "code",
   "execution_count": null,
   "metadata": {},
   "outputs": [],
   "source": [
    "lb = espressomd.lb.LBFluidWalberla(\n",
    "                lattice=lattice, density=FLUID_DENSITY, kinematic_viscosity=FLUID_VISCOSITY,\n",
    "                tau=TAU, ext_force_density=EXT_FORCE_DENSITY, kT=0.0, seed=42)\n",
    "lb[:, :, :].velocity = FLUID_VELOCITY\n",
    "system.lb = lb"
   ]
  },
  {
   "cell_type": "markdown",
   "metadata": {},
   "source": [
    "To use the electrokinetics-algorithm in espresso, one needs to create an instance of the `EKContainer`-object and give it both a `tau` and `solver`, which are the timestep and the poisson-solver, respectively.\n",
    "Since our species is uncharged, we don't need to solve the electrostatic Poisson-equation, so we can use the placeholder-class, which is called `EKNone`."
   ]
  },
  {
   "cell_type": "code",
   "execution_count": null,
   "metadata": {},
   "outputs": [],
   "source": [
    "eksolver = espressomd.electrokinetics.EKNone(lattice=lattice)\n",
    "system.ekcontainer = espressomd.electrokinetics.EKContainer(tau=TAU, solver=eksolver)"
   ]
  },
  {
   "cell_type": "markdown",
   "metadata": {},
   "source": [
    "Adding `EKSpecies` to this container will add them to be integrated by the integrator and optionally be used to calculate the charge-field used to solve the Poisson-equation.\n",
    "We create an uncharged chemical species and add it to the container to calculate the advection-diffusion. It is initialized with a density of `0.0` and only the diffusion and the advection of the species is enabled."
   ]
  },
  {
   "cell_type": "markdown",
   "metadata": {
    "solution2": "hidden",
    "solution2_first": true
   },
   "source": [
    "# Exercise:\n",
    "- Create an instance of the [`espressomd.electrokinetics.EKSpecies`]() and add it to the system with [`system.ekcontainer.add()`](https://espressomd.github.io/doc/espressomd.html#espressomd.electrokinetics.EKContainer.add). \n",
    "\n",
    "# Hint:\n",
    "- Use the defined values for `DIFFUSION_COEFFICIENT`, `KT` and `TAU`.\n",
    "- Enable both `advection` and `friction_coupling`.\n",
    "- Make sure to initialize the `density` with 0.0, and disable electrostatics by setting `valency` to 0.0 as well."
   ]
  },
  {
   "cell_type": "code",
   "execution_count": null,
   "metadata": {
    "solution2": "hidden"
   },
   "outputs": [],
   "source": [
    "species = espressomd.electrokinetics.EKSpecies(\n",
    "    lattice=lattice, density=0.0, kT=KT,\n",
    "    diffusion=DIFFUSION_COEFFICIENT, valency=0.0,\n",
    "    advection=True, friction_coupling=True,\n",
    "    ext_efield=[0., 0., 0.], tau=TAU)\n",
    "system.ekcontainer.add(species)"
   ]
  },
  {
   "cell_type": "markdown",
   "metadata": {},
   "source": [
    "To compare our simulation to the fundamental solution of the Advection-Diffusion equation, we need to approximate a delta-droplet, which can be done by having only a non-zero density at the center of the domain."
   ]
  },
  {
   "cell_type": "code",
   "execution_count": null,
   "metadata": {},
   "outputs": [],
   "source": [
    "system.ekcontainer[0][BOX_L[0] // 2, BOX_L[1] // 2, 0].density = 1.0"
   ]
  },
  {
   "cell_type": "markdown",
   "metadata": {},
   "source": [
    "Now everything is set and we can finally run the simulation by running the integrator."
   ]
  },
  {
   "cell_type": "code",
   "execution_count": null,
   "metadata": {},
   "outputs": [],
   "source": [
    "system.integrator.run(RUN_TIME)"
   ]
  },
  {
   "cell_type": "markdown",
   "metadata": {},
   "source": [
    "For the analytic solution we need the physical positions, which we need to calculated ourselves. This can be achieved using `np.meshgrid`. The advection is incooperated by a simple Galilei-transformation of the coordinate system."
   ]
  },
  {
   "cell_type": "code",
   "execution_count": null,
   "metadata": {},
   "outputs": [],
   "source": [
    "def density(pos: np.ndarray, time: int, D: float):\n",
    "    dim = pos.shape[-1]\n",
    "    return (4 * np.pi * D * time)**(-dim / 2) * np.exp(-np.sum(np.square(pos), axis=-1) / (4 * D * time))\n",
    "\n",
    "pos = np.zeros((*BOX_L[:2], 2))\n",
    "xpos = np.arange(-BOX_L[0] // 2, BOX_L[0] // 2)\n",
    "ypos = np.arange(-BOX_L[1] // 2, BOX_L[1] // 2)\n",
    "\n",
    "pos[..., 1], pos[..., 0] = np.meshgrid(xpos, ypos)\n",
    "\n",
    "# add the advection shift\n",
    "pos -= np.asarray(FLUID_VELOCITY[:2]) * TAU * RUN_TIME\n",
    "\n",
    "analytic_density = density(pos=pos, time=RUN_TIME*TAU, D=DIFFUSION_COEFFICIENT)\n",
    "# why is this necessary? dx=1, dt=1???\n",
    "analytic_density /= np.sum(analytic_density)"
   ]
  },
  {
   "cell_type": "markdown",
   "metadata": {},
   "source": [
    "To compare the results, we can plot the density as image-plots as well as only a diagonal slice of the density as a line-plot."
   ]
  },
  {
   "cell_type": "code",
   "execution_count": null,
   "metadata": {},
   "outputs": [],
   "source": [
    "fig, (ax1, ax2) = plt.subplots(ncols=2, nrows=1, figsize=(15, 7))\n",
    "\n",
    "ax1.imshow(system.ekcontainer[0][:, :, 0].density, origin=\"lower\", vmin=0, vmax=6e-3)\n",
    "ax1.set_title(\"simulation\")\n",
    "\n",
    "imshow = ax2.imshow(analytic_density, origin=\"lower\", vmin=0, vmax=6e-3)\n",
    "ax2.set_title(\"analytic\")\n",
    "fig.colorbar(imshow, ax=[ax1, ax2], shrink=0.8)"
   ]
  },
  {
   "cell_type": "code",
   "execution_count": null,
   "metadata": {},
   "outputs": [],
   "source": [
    "values_diagonal = np.diagonal(system.ekcontainer[0][:, :, 0].density)\n",
    "analytic_diagonal = np.diagonal(analytic_density)\n",
    "positions_diagonal = np.arange(len(values_diagonal)) * np.sqrt(2)\n",
    "\n",
    "fig = plt.figure(figsize=(8, 5))\n",
    "ax = fig.gca()\n",
    "\n",
    "ax.plot(positions_diagonal, values_diagonal, \"x\", label=\"simulation\")\n",
    "ax.plot(positions_diagonal, analytic_diagonal, label=\"analytic\")\n",
    "\n",
    "ax.set_xlabel(\"position\")\n",
    "ax.set_ylabel(\"density\")\n",
    "\n",
    "plt.legend()"
   ]
  },
  {
   "cell_type": "markdown",
   "metadata": {},
   "source": [
    "From the plot one can see that the position of the density-peak matches well. However, one also sees a slightly larger diffusive behavior than expected. The reason is the used discretization for the advection, which introduces an artifical diffusion to the system. This is a limitation of the algorithm, which is why it cannot be applied to pure advection problems."
   ]
  },
  {
   "cell_type": "code",
   "execution_count": null,
   "metadata": {},
   "outputs": [],
   "source": []
  },
  {
   "cell_type": "markdown",
   "metadata": {},
   "source": [
    "## Pressure-driven vs electroosmotic flow"
   ]
  },
  {
   "cell_type": "markdown",
   "metadata": {},
   "source": [
    "The next system in this tutorial is a simple slit pore, as depicted in Figure 1. It consists of an infinite plate capacitor with a electrolytic solution trapped in between. The plates of the capactior carry a constant surface charge and the counterions are solvated in the liquid. This setup will cause the ions to accumulate on the surface of the plates, forming a characteristic ion density profile, which can be solved in a mean-field manner using the Poisson-Boltzmann equation. Since the system is translational symmetric in the direction parallel to the plates, the equations for parallel and orthogonal direction will decouple. This also means that applying an external electric field in direction parallel to the plates will not change the distribution of the ions, but will result in a flow of the fluid. This characteristic flow profile is called electroomsotic flow.\n",
    "\n",
    "<figure>\n",
    "    <img src='figures/schlitzpore_3d.png' alt='missing' style=\\\"width: 500px;\\\"/>\n",
    "    <center>\n",
    "    <figcaption>Figure 1: Slit pore system and coordinate system used for the analytical calculations.</figcaption>\n",
    "    </center>\n",
    "</figure>"
   ]
  },
  {
   "cell_type": "markdown",
   "metadata": {},
   "source": [
    "Due to the symmetries of the system, it effectively reduces to a 1D problem. Analytically, this system can be described by the Poisson-Boltzmann equation:\n",
    "\n",
    "$$\n",
    "\\partial_{x}^2 \\phi(x) = \\frac{1}{\\epsilon_{0} \\epsilon_{\\mathrm{r}}} \\sum_{i} z_{i} e n_{i}(x) \\exp \\left( -\\frac{z_{i} e \\phi(x)}{k_{\\mathrm{B}} T} \\right)\n",
    "$$\n",
    "\n",
    "where $x$ is the normal-direction of the plates. Since we will only simulate a single ion species, the counterions, the sum only has a single summand. The analytic solution of the potential is then given by:\n",
    "\n",
    "\\begin{equation}\n",
    "\\phi(x) = -\\frac{k_{B}T}{z e} \\log \\left[ \\frac{C^2 \\epsilon_{0} \\epsilon_{\\mathrm{r}}}{2 k_{B}T } \\cos^{-2} \\left( \\frac{z e C}{2 k_{B} T} x \\right) \\right], \\qquad \\text{with } \\left\\| \\frac{z e C}{2 k_{B} T} \\right\\| < \\frac{\\pi}{2},\n",
    "\\end{equation}\n",
    "\n",
    "where $C$ is an integration constant that is to be determined by the boundary conditions. The ion density follows then from the potential and reads\n",
    "\n",
    "\\begin{equation}\n",
    "n(x) = \\frac{C^2 \\epsilon_{0} \\epsilon_{\\mathrm{r}}}{2 k_{B}T} \\cos^{-2} \\left( \\frac{z e C}{2 k_{B} T} x \\right).\n",
    "\\end{equation}\n",
    "\n",
    "To find the integration constant we can use that the total system has to be charge neutral, i.e. the total charge on the plates is counterbalanced by the counterions. This leads to the following equation\n",
    "\n",
    "\\begin{equation}\n",
    "C \\tan \\left( \\frac{z e d}{4 k_{B} T} C \\right) = - \\frac{e^2}{\\epsilon_{0} \\epsilon_{\\mathrm{r}}} \\sigma,\n",
    "\\end{equation}\n",
    "\n",
    "where $\\sigma$ is the surface charge density of the plates. This is a transcendental equation, which can be solved numerically to find $C$. The electric field in the system is then applied in the $y$-direction of the system.\n",
    "Fluid flow is described by the incompressible Navier-Stokes equation, which due to the symmetries of the system reduces to a one-dimensional problem, which reads\n",
    "\n",
    "\\begin{equation}\n",
    "\\frac{\\partial^2 v_{y}(x)}{\\partial x^2} = - \\frac{\\epsilon_{0} \\epsilon_{\\mathrm{r}} z e E C^2}{2 k_{B}T \\eta} \\cos^{-2}\\left( \\frac{q C}{2 k_{B} T} x \\right).\n",
    "\\end{equation}\n",
    "\n",
    "This equation can be solved analytically and the solution to it is given by\n",
    "\n",
    "\\begin{equation}\n",
    "v_{y}(x) = \\frac{2 \\epsilon_{0} \\epsilon_{\\mathrm{r}} k_{B} T E}{\\eta z e} \\log \\left( \\frac{\\cos \\left( \\frac{z e C}{2 k_{B} T} x \\right)}{\\cos \\left( \\frac{z e C}{2 k_{B} T} \\frac{d}{2} \\right)} \\right),\n",
    "\\end{equation}\n",
    "\n",
    "where $d$ denotes the distance between the two plates. Finally, the shear-stress of this problem is given by\n",
    "\n",
    "\\begin{equation}\n",
    "\\sigma(x) = \\mu \\frac{\\partial v_{y}(x)}{\\partial x}\n",
    "\\end{equation}\n",
    "\n",
    "This, together with the density profile, will then be compared to the analytical solution in the following."
   ]
  },
  {
   "cell_type": "code",
   "execution_count": null,
   "metadata": {},
   "outputs": [],
   "source": [
    "system.ekcontainer = None\n",
    "system.lb = None"
   ]
  },
  {
   "cell_type": "markdown",
   "metadata": {},
   "source": [
    "First the parameters for the simulation are specified."
   ]
  },
  {
   "cell_type": "code",
   "execution_count": null,
   "metadata": {},
   "outputs": [],
   "source": [
    "AGRID = 1.0\n",
    "TAU = 1.0\n",
    "KT = 2.0\n",
    "PERMITTIVITY = 0.28\n",
    "DIFFUSION_COEFFICIENT = 0.25\n",
    "VALENCY = 1.0\n",
    "VISCOSITY_DYNAMIC = 0.5\n",
    "DENSITY_FLUID = 1.0\n",
    "SURFACE_CHARGE_DENSITY = -0.05\n",
    "EXT_FORCE_DENSITY = [0.0, 0.01, 0.0]\n",
    "\n",
    "SINGLE_PRECISION = False\n",
    "\n",
    "padding = 1\n",
    "WIDTH = 200\n",
    "BOX_L = [WIDTH + 2 * padding, 1, 1]\n",
    "\n",
    "system.cell_system.skin = 0.4\n",
    "system.box_l = BOX_L\n",
    "system.time_step = TAU\n",
    "\n",
    "RUN_TIME = 600"
   ]
  },
  {
   "cell_type": "markdown",
   "metadata": {},
   "source": [
    "We can now set up the electrokinetics algorithm, which follows the pattern as in the first case, starting with the LB-method."
   ]
  },
  {
   "cell_type": "code",
   "execution_count": null,
   "metadata": {},
   "outputs": [],
   "source": [
    "lattice = espressomd.lb.LatticeWalberla(agrid=AGRID, n_ghost_layers=1)"
   ]
  },
  {
   "cell_type": "code",
   "execution_count": null,
   "metadata": {},
   "outputs": [],
   "source": [
    "viscosity_kinematic = VISCOSITY_DYNAMIC / DENSITY_FLUID\n",
    "lbf = espressomd.lb.LBFluidWalberla(lattice=lattice, density=DENSITY_FLUID, kinematic_viscosity=viscosity_kinematic, tau=TAU, single_precision=SINGLE_PRECISION)\n",
    "system.lb = lbf"
   ]
  },
  {
   "cell_type": "markdown",
   "metadata": {},
   "source": [
    "Since our species are going to carry a charge now, we need to solve the electrostatic Poisson-equation. For that, we have to specify a solver."
   ]
  },
  {
   "cell_type": "markdown",
   "metadata": {
    "solution2": "hidden",
    "solution2_first": true
   },
   "source": [
    "# Exercise: \n",
    "- Setup an Poissonsolver for the electrostatic interaction and create an instance of the [EKContainer](https://espressomd.github.io/doc/espressomd.html#espressomd.electrokinetics.EKContainer) object with it and `TAU`, which is set as a member of the system-class ([`system.ekcontainer`](https://espressomd.github.io/doc/espressomd.html#espressomd.system.System.ekcontainer)).\n",
    "\n",
    "# Hint:\n",
    "- Use an [EKFFT](https://espressomd.github.io/doc/espressomd.html#espressomd.electrokinetics.EKFFT)-object as the Poisson-solver."
   ]
  },
  {
   "cell_type": "code",
   "execution_count": null,
   "metadata": {
    "solution2": "hidden"
   },
   "outputs": [],
   "source": [
    "eksolver = espressomd.electrokinetics.EKFFT(lattice=lattice, permittivity=PERMITTIVITY, single_precision=SINGLE_PRECISION)\n",
    "\n",
    "system.ekcontainer = espressomd.electrokinetics.EKContainer(tau=TAU, solver=eksolver)"
   ]
  },
  {
   "cell_type": "markdown",
   "metadata": {},
   "source": [
    "To simulate this system, we will use two different ion species. The regular counterions, which are propagating in the system, and a species we will disable the propagation of. The latter one will be stationary and be used to describe the surface charge on the plates."
   ]
  },
  {
   "cell_type": "code",
   "execution_count": null,
   "metadata": {},
   "outputs": [],
   "source": [
    "ekspecies = espressomd.electrokinetics.EKSpecies(lattice=lattice, density=0.0, kT=KT, diffusion=DIFFUSION_COEFFICIENT, valency=VALENCY, advection=True, friction_coupling=True, ext_efield=EXT_FORCE_DENSITY, single_precision=SINGLE_PRECISION, tau=TAU)\n",
    "system.ekcontainer.add(ekspecies)\n",
    "\n",
    "ekwallcharge = espressomd.electrokinetics.EKSpecies(lattice=lattice, density=0.0, kT=KT, diffusion=0., valency=-VALENCY, advection=False, friction_coupling=False, ext_efield=[0, 0, 0], single_precision=SINGLE_PRECISION, tau=TAU)\n",
    "system.ekcontainer.add(ekwallcharge)"
   ]
  },
  {
   "cell_type": "markdown",
   "metadata": {},
   "source": [
    "Now we can distribute the ions in the domain. The counterions will be initialized with a homogeneous distribution, excluding the cells used as boundaries. The surface charge density is homogenously distributed in the boundary cells."
   ]
  },
  {
   "cell_type": "code",
   "execution_count": null,
   "metadata": {},
   "outputs": [],
   "source": [
    "density_counterions = -2.0 * SURFACE_CHARGE_DENSITY / WIDTH\n",
    "ekspecies[padding:-padding, :, :].density = density_counterions\n",
    "\n",
    "ekspecies[:padding, :, :].density = 0.0\n",
    "ekspecies[-padding:, :, :].density = 0.0\n",
    "\n",
    "ekwallcharge[:padding, :, :].density = -SURFACE_CHARGE_DENSITY / VALENCY / padding\n",
    "ekwallcharge[-padding:, :, :].density = -SURFACE_CHARGE_DENSITY / VALENCY / padding"
   ]
  },
  {
   "cell_type": "markdown",
   "metadata": {},
   "source": [
    "Up to now we only setup the domain, but haven't specified yet which boundary-conditions we want to enforce. For that we can use `shapes` in espresso, at which we can specify boundary conditions. Since our geometry consists of two walls, we can use them to specify our boundary conditions."
   ]
  },
  {
   "cell_type": "code",
   "execution_count": null,
   "metadata": {},
   "outputs": [],
   "source": [
    "wall_left = espressomd.shapes.Wall(normal=[1, 0, 0], dist=padding)\n",
    "wall_right = espressomd.shapes.Wall(normal=[-1, 0, 0], dist=-(padding + WIDTH))"
   ]
  },
  {
   "cell_type": "markdown",
   "metadata": {},
   "source": [
    "At both of them we specify No-Flux boundary conditions for the ion densities, so no fluxes will be allowed to enter or leave the wall. Furthermore, we specify a zero-density boundary condition for the species and a No-Slip boundary condition for the fluid flow."
   ]
  },
  {
   "cell_type": "code",
   "execution_count": null,
   "metadata": {},
   "outputs": [],
   "source": [
    "for shape_obj in (wall_left, wall_right):\n",
    "    ekspecies.add_boundary_from_shape(shape=shape_obj, value=[0., 0., 0.], boundary_type=espressomd.electrokinetics.FluxBoundary)\n",
    "    ekspecies.add_boundary_from_shape(shape=shape_obj, value=0.0, boundary_type=espressomd.electrokinetics.DensityBoundary)\n",
    "    lbf.add_boundary_from_shape(shape=shape_obj, velocity=[0., 0., 0.])"
   ]
  },
  {
   "cell_type": "markdown",
   "metadata": {},
   "source": [
    "Now we can finally integrate the system and extract the ion density profile, the fluid velocity profile as well as the pressure-tensor profile."
   ]
  },
  {
   "cell_type": "code",
   "execution_count": null,
   "metadata": {
    "scrolled": true
   },
   "outputs": [],
   "source": [
    "for i in tqdm.trange(100):\n",
    "    system.integrator.run(RUN_TIME)"
   ]
  },
  {
   "cell_type": "code",
   "execution_count": null,
   "metadata": {},
   "outputs": [],
   "source": [
    "mid_y = int(system.box_l[1] / (2 * AGRID))\n",
    "mid_z = int(system.box_l[2] / (2 * AGRID))\n",
    "density_eof = ekspecies[padding:-padding, mid_y, mid_z].density\n",
    "velocity_eof = lbf[padding:-padding, mid_y, mid_z].velocity[:, 1]\n",
    "pressure_tensor_eof = lbf[padding:-padding, mid_y, mid_z].pressure_tensor[:, 0, 1]\n",
    "\n",
    "positions = (np.arange(len(density_eof)) - WIDTH / 2 + 0.5) * AGRID"
   ]
  },
  {
   "cell_type": "markdown",
   "metadata": {},
   "source": [
    "For the comparison, we have to calculate the anlytic solution"
   ]
  },
  {
   "cell_type": "code",
   "execution_count": null,
   "metadata": {},
   "outputs": [],
   "source": [
    "def transcendental_equation(c, distance, kT, sigma, valency, permittivity) -> float:\n",
    "    elementary_charge = 1.0\n",
    "    return c * np.tan(valency * elementary_charge * distance / (4 * kT) * c) + sigma / permittivity\n",
    "\n",
    "solution = scipy.optimize.fsolve(func=transcendental_equation, x0=0.001, args=(WIDTH, KT, SURFACE_CHARGE_DENSITY, VALENCY, PERMITTIVITY))\n",
    "\n",
    "\n",
    "def eof_density(x, c, permittivity, elementary_charge, valency, kT):\n",
    "    return c**2 * permittivity / (2 * kT) / (np.cos(valency * elementary_charge * c / (2 * kT) * x))**2\n",
    "\n",
    "def eof_velocity(x, c, permittivity, elementary_charge, valency, kT, ext_field, distance, viscosity):\n",
    "    return 2 * kT * ext_field * permittivity / (viscosity * elementary_charge * valency) * np.log(np.cos(valency * elementary_charge * c / (2 * kT) * x) / np.cos(valency * elementary_charge * c / (2 * kT) * distance / 2))\n",
    "\n",
    "def eof_pressure_tensor(x, c, elementary_charge, valency, kT, ext_field, permittivity):\n",
    "    return permittivity * ext_field * c * np.tan(valency * elementary_charge * c / (2 * kT) * x)"
   ]
  },
  {
   "cell_type": "code",
   "execution_count": null,
   "metadata": {},
   "outputs": [],
   "source": [
    "analytic_density_eof = eof_density(x=positions, c=solution, permittivity=PERMITTIVITY, elementary_charge=1.0, valency=VALENCY, kT=KT)\n",
    "analytic_velocity_eof = eof_velocity(x=positions, c=solution, permittivity=PERMITTIVITY, elementary_charge=1.0, valency=VALENCY, kT=KT, ext_field=EXT_FORCE_DENSITY[1], distance=WIDTH, viscosity=VISCOSITY_DYNAMIC)\n",
    "analytic_pressure_tensor_eof = eof_pressure_tensor(x=positions, c=solution, elementary_charge=1.0, valency=VALENCY, kT=KT, ext_field=EXT_FORCE_DENSITY[1], permittivity=PERMITTIVITY)"
   ]
  },
  {
   "cell_type": "code",
   "execution_count": null,
   "metadata": {},
   "outputs": [],
   "source": [
    "fig1 = plt.figure(figsize=(16, 4.5))\n",
    "fig1.suptitle(\"electroosmotic flow\")\n",
    "\n",
    "ax = fig1.add_subplot(131)\n",
    "ax.plot(positions, density_eof, \"o\", mfc=\"none\", label=\"simulation\")\n",
    "ax.plot(positions, analytic_density_eof, label=\"analytic\")\n",
    "ax.set_xlabel(\"x-position\")\n",
    "ax.set_ylabel(\"Counter-ion density\")\n",
    "ax.ticklabel_format(axis=\"y\", style=\"scientific\", scilimits=(0, 0))\n",
    "ax.legend(loc=\"best\")\n",
    "\n",
    "ax = fig1.add_subplot(132)\n",
    "ax.plot(positions, velocity_eof, \"o\", mfc=\"none\", label=\"simulation\")\n",
    "ax.plot(positions, analytic_velocity_eof, label=\"analytic\")\n",
    "ax.set_xlabel(\"x-position\")\n",
    "ax.set_ylabel(\"Fluid velocity\")\n",
    "ax.ticklabel_format(axis=\"y\", style=\"scientific\", scilimits=(0, 0))\n",
    "ax.legend(loc=\"best\")\n",
    "\n",
    "ax = fig1.add_subplot(133)\n",
    "ax.plot(positions, pressure_tensor_eof, \"o\", mfc=\"none\", label=\"simulation\")\n",
    "ax.plot(positions, analytic_pressure_tensor_eof, label=\"analytic\")\n",
    "ax.set_xlabel(\"x-position\")\n",
    "ax.set_ylabel(\"Fluid shear stress xz\")\n",
    "ax.ticklabel_format(axis=\"y\", style=\"scientific\", scilimits=(0, 0))\n",
    "ax.legend(loc=\"best\")\n",
    "\n",
    "plt.tight_layout()\n",
    "plt.show()"
   ]
  },
  {
   "cell_type": "markdown",
   "metadata": {},
   "source": [
    "In the plots one can see that the analytic solution for the electroosmotic flow matches the simulation very well. "
   ]
  },
  {
   "cell_type": "markdown",
   "metadata": {},
   "source": [
    "To compare this result to a pressure-driven flow, we need to turn off the external electric field and enable a constant external force density on the fluid."
   ]
  },
  {
   "cell_type": "code",
   "execution_count": null,
   "metadata": {},
   "outputs": [],
   "source": [
    "EXT_FORCE_DENSITY = [0.0, 0.000004, 0.0]\n",
    "\n",
    "ekspecies.ext_efield = [0.0, 0.0, 0.0]\n",
    "lbf.ext_force_density = EXT_FORCE_DENSITY"
   ]
  },
  {
   "cell_type": "markdown",
   "metadata": {},
   "source": [
    "This new system can be integrated again and the exact same measurement as the one before are taken."
   ]
  },
  {
   "cell_type": "code",
   "execution_count": null,
   "metadata": {
    "scrolled": true
   },
   "outputs": [],
   "source": [
    "for i in tqdm.trange(50):\n",
    "    system.integrator.run(RUN_TIME)"
   ]
  },
  {
   "cell_type": "code",
   "execution_count": null,
   "metadata": {},
   "outputs": [],
   "source": [
    "density_pressure = ekspecies[padding:-padding, mid_y, mid_z].density\n",
    "velocity_pressure = lbf[padding:-padding, mid_y, mid_z].velocity[:, 1]\n",
    "pressure_tensor_pressure = lbf[padding:-padding, mid_y, mid_z].pressure_tensor[:, 0, 1]"
   ]
  },
  {
   "cell_type": "markdown",
   "metadata": {},
   "source": [
    "Again we can compare our solution to an anlytic solution, which is known as the Poiseuille flow between infinite parallel plates."
   ]
  },
  {
   "cell_type": "code",
   "execution_count": null,
   "metadata": {},
   "outputs": [],
   "source": [
    "def pressure_velocity(x, distance, ext_field, viscosity):\n",
    "    return ext_field / (2 * viscosity) * (distance**2 / 4 - x**2)\n",
    "\n",
    "def pressure_pressure_tensor(x, ext_field):\n",
    "    return ext_field * x"
   ]
  },
  {
   "cell_type": "code",
   "execution_count": null,
   "metadata": {},
   "outputs": [],
   "source": [
    "analytic_velocity_pressure = pressure_velocity(x=positions, distance=WIDTH, ext_field=EXT_FORCE_DENSITY[1], viscosity=VISCOSITY_DYNAMIC)\n",
    "analytic_pressure_tensor_pressure = pressure_pressure_tensor(x=positions, ext_field=EXT_FORCE_DENSITY[1])"
   ]
  },
  {
   "cell_type": "code",
   "execution_count": null,
   "metadata": {},
   "outputs": [],
   "source": [
    "fig1 = plt.figure(figsize=(16, 4.5))\n",
    "fig1.suptitle(\"pressure driven flow\")\n",
    "\n",
    "ax = fig1.add_subplot(131)\n",
    "ax.plot(positions, density_pressure, \"o\", mfc=\"none\", label=\"simulation\")\n",
    "ax.plot(positions, analytic_density_eof, label=\"analytic\")\n",
    "ax.set_xlabel(\"x-position\")\n",
    "ax.set_ylabel(\"counter-ion density\")\n",
    "ax.ticklabel_format(axis=\"y\", style=\"scientific\", scilimits=(0, 0))\n",
    "ax.legend(loc=\"best\")\n",
    "\n",
    "ax = fig1.add_subplot(132)\n",
    "ax.plot(positions, velocity_pressure, \"o\", mfc=\"none\", label=\"simulation\")\n",
    "ax.plot(positions, analytic_velocity_pressure, label=\"analytic\")\n",
    "ax.set_xlabel(\"x-position\")\n",
    "ax.set_ylabel(\"fluid velocity\")\n",
    "ax.ticklabel_format(axis=\"y\", style=\"scientific\", scilimits=(0, 0))\n",
    "ax.legend(loc=\"best\")\n",
    "\n",
    "ax = fig1.add_subplot(133)\n",
    "ax.plot(positions, pressure_tensor_pressure, \"o\", mfc=\"none\", label=\"simulation\")\n",
    "ax.plot(positions, analytic_pressure_tensor_pressure, label=\"analytic\")\n",
    "ax.set_xlabel(\"x-position\")\n",
    "ax.set_ylabel(\"fluid shear stress xz\")\n",
    "ax.ticklabel_format(axis=\"y\", style=\"scientific\", scilimits=(0, 0))\n",
    "ax.legend(loc=\"best\")\n",
    "\n",
    "plt.tight_layout()\n",
    "plt.show()"
   ]
  },
  {
   "cell_type": "markdown",
   "metadata": {},
   "source": [
    "As one can again see, the body force on the fluid did non alter the ion-density profile, and one can observe a good match for the parabolic fluid velocity."
   ]
  },
  {
   "cell_type": "markdown",
   "metadata": {},
   "source": [
    "To see the difference between the two types of flows, we plot the simulation data together in one plot."
   ]
  },
  {
   "cell_type": "code",
   "execution_count": null,
   "metadata": {
    "scrolled": true
   },
   "outputs": [],
   "source": [
    "fig1 = plt.figure(figsize=(16, 4.5))\n",
    "fig1.suptitle(\"electroosmotic - pressure driven flow comparison\")\n",
    "\n",
    "ax = fig1.add_subplot(131)\n",
    "ax.plot(positions, density_eof, \"o\", mfc=\"none\", label=\"eof\")\n",
    "ax.plot(positions, density_pressure, \"o\", mfc=\"none\", label=\"pressure\")\n",
    "ax.set_xlabel(\"x-position\")\n",
    "ax.set_ylabel(\"counter-ion density\")\n",
    "ax.ticklabel_format(axis=\"y\", style=\"scientific\", scilimits=(0, 0))\n",
    "ax.legend(loc=\"best\")\n",
    "\n",
    "ax = fig1.add_subplot(132)\n",
    "ax.plot(positions, velocity_eof, \"o\", mfc=\"none\", label=\"eof\")\n",
    "ax.plot(positions, velocity_pressure, \"o\", mfc=\"none\", label=\"pressure\")\n",
    "ax.set_xlabel(\"x-position\")\n",
    "ax.set_ylabel(\"fluid velocity\")\n",
    "ax.ticklabel_format(axis=\"y\", style=\"scientific\", scilimits=(0, 0))\n",
    "ax.legend(loc=\"best\")\n",
    "\n",
    "ax = fig1.add_subplot(133)\n",
    "ax.plot(positions, pressure_tensor_eof, \"o\", mfc=\"none\", label=\"eof\")\n",
    "ax.plot(positions, pressure_tensor_pressure, \"o\", mfc=\"none\", label=\"pressure\")\n",
    "ax.set_xlabel(\"x-position\")\n",
    "ax.set_ylabel(\"fluid shear stress xz\")\n",
    "ax.ticklabel_format(axis=\"y\", style=\"scientific\", scilimits=(0, 0))\n",
    "ax.legend(loc=\"best\")\n",
    "\n",
    "plt.tight_layout()\n",
    "plt.show()"
   ]
  },
  {
   "cell_type": "markdown",
   "metadata": {},
   "source": [
    "Looking at the fluid velocity plot, one can see that the electroosmotic flow profile flattens significantly faster towards the center of the channel when compared to the pressure driven flow. The reason for this is the accumulation of the counterion-density towards the plates of the system, where the driving electric field causes the highest force on the fluid, which decays towards the center of the channel. In contrast, the Poiseuille-flow is driven by a constant, uniform driving force."
   ]
  },
  {
   "cell_type": "markdown",
   "metadata": {},
   "source": [
    "# Kármán vortex street with a reactive species"
   ]
  },
  {
   "cell_type": "markdown",
   "metadata": {},
   "source": [
    "As a showcase for the algorithm, we are now simulating a [Kármán vortex street](https://en.wikipedia.org/wiki/K%C3%A1rm%C3%A1n_vortex_street).\n",
    "Our setup consists of rigid cylinders in a fast, unsteady fluid flow, which develops to a repeating pattern of swirling vorticies behind the obstacle.\n",
    "To showcase the reaction feature of the electrokinetics algorithm in espresso, we're adding several species to the system undergoing advection-diffusion, which is dominated by the downstream fluid flow in the channel.\n",
    "The reaction will be included as a bulk-reaction, which means that the reaction can happen anywhere, the only requirement is that both species are present in the same lattice-cell. When this occurs, parts of these species will undergo the reaction and will turn into the product. How much of the species will transform within each timestep is determined by the respective reaction rate and the overall structure of the reaction.\n"
   ]
  },
  {
   "cell_type": "code",
   "execution_count": null,
   "metadata": {},
   "outputs": [],
   "source": [
    "system.ekcontainer = None\n",
    "system.lb = None"
   ]
  },
  {
   "cell_type": "markdown",
   "metadata": {},
   "source": [
    "The system is again setup in the same manner as in the previous problem, defining the dimensions of the system as well as the `time_step`."
   ]
  },
  {
   "cell_type": "code",
   "execution_count": null,
   "metadata": {},
   "outputs": [],
   "source": [
    "BOX_L = [80, 30, 1] \n",
    "AGRID = 1.0\n",
    "DIFFUSION_COEFFICIENT = 0.01\n",
    "TAU = 0.01\n",
    "EXT_FORCE_DENSITY = [0.6, 0, 0]\n",
    "OBSTACLE_RADIUS = 5\n",
    "\n",
    "DENSITY_FLUID = 0.5\n",
    "VISCOSITY_KINEMATIC = 2.0\n",
    "KT = 1.0\n",
    "\n",
    "TOTAL_FRAMES = 200\n",
    "\n",
    "system.time_step = TAU\n",
    "system.cell_system.skin = 0.4\n",
    "system.box_l = BOX_L"
   ]
  },
  {
   "cell_type": "markdown",
   "metadata": {},
   "source": [
    "Since we're again using the LB/EK algorithm, we have to specify the grid, on which we want to solve our problem. For simplicity and for the sake of computation time, we restrict ourselves to a effectively 2D grid."
   ]
  },
  {
   "cell_type": "code",
   "execution_count": null,
   "metadata": {},
   "outputs": [],
   "source": [
    "lattice = espressomd.lb.LatticeWalberla(\n",
    "    n_ghost_layers=1, agrid=AGRID)\n",
    "\n",
    "lb = espressomd.lb.LBFluidWalberla(\n",
    "                lattice=lattice, density=DENSITY_FLUID, kinematic_viscosity=VISCOSITY_KINEMATIC,\n",
    "                tau=TAU, ext_force_density=EXT_FORCE_DENSITY, kT=KT, seed=42)\n",
    "system.lb = lb\n",
    "\n",
    "\n",
    "eksolver = espressomd.electrokinetics.EKNone(lattice=lattice)\n",
    "system.ekcontainer = espressomd.electrokinetics.EKContainer(tau=TAU, solver=eksolver)"
   ]
  },
  {
   "cell_type": "markdown",
   "metadata": {},
   "source": [
    "Now we can actually focus on the reactions, we want to include into our simulation. In this tutorial we choose the simple case of $A + B \\rightarrow C$, which means that equal parts of the educt species $A$ and $B$ can turn into the product species $C$.\n",
    "Espresso distinguishes between educts and products by the sign of the stoechiometric coefficients, where educts have negative coefficients and products positive coefficients. Intuitively this can be understood that when a reaction happens, the density of the educts will decrease, hence the stoechiometric coefficient is negative. The reaction rate constant $r$ is the rate at which the reaction happens which usually is temperature-dependent and the order $O_i$ for a species $i$ specifies to which order the reaction depends on the density of that species. Positive orders mean that the reaction is faster the more density of this species is present, for negative orders the reaction slows down with higher density.\n",
    "In general, this process can be written as $\\Gamma = r \\left[ A \\right]^{O_A} \\left[ B \\right]^{O_B} \\left[ C \\right]^{O_C}$, where $\\Gamma$ is known as the reaction rate. This is sometimes also called the [rate equation](https://en.wikipedia.org/wiki/Rate_equation).\n",
    "\n",
    "For our specific simulation this means that all stoechiometric coefficients are $-1$ for the educts and $1$ for the product. The order of the educts is $1$ and the order of the product is $0$. This means that the more amount of both educts is present, the more will react and the amount of product present won't influence the amount of product that will be produced."
   ]
  },
  {
   "cell_type": "code",
   "execution_count": null,
   "metadata": {},
   "outputs": [],
   "source": [
    "REACTION_RATE_CONSTANT = 0.1\n",
    "\n",
    "EDUCT_COEFFS = [1.0, 1.0]\n",
    "PRODUCT_COEFFS = [1]"
   ]
  },
  {
   "cell_type": "markdown",
   "metadata": {},
   "source": [
    "Now that we specified all coefficients for the reaction, we can setup all the necessary objects for the simulations.\n",
    "\n",
    "We create each involved species and directly specify their boundary-conditions for the domain-boundaries. We set the initial density of the species to 0 and also add Dirichlet boundary conditions of zero density at both the inlet and the outlet of the system."
   ]
  },
  {
   "cell_type": "code",
   "execution_count": null,
   "metadata": {},
   "outputs": [],
   "source": [
    "educt_species = []\n",
    "product_species = []\n",
    "reactants = []\n",
    "for coeff in EDUCT_COEFFS:\n",
    "    species = espressomd.electrokinetics.EKSpecies(\n",
    "        lattice=lattice, density=0.0, kT=KT,\n",
    "        diffusion=DIFFUSION_COEFFICIENT, valency=0.0,\n",
    "        advection=True, friction_coupling=True,\n",
    "        ext_efield=[0., 0., 0.], tau=TAU)\n",
    "    system.ekcontainer.add(species)\n",
    "    reactants.append(\n",
    "        espressomd.electrokinetics.EKReactant(\n",
    "            ekspecies=species,\n",
    "            stoech_coeff=-coeff,\n",
    "            order=coeff))\n",
    "    educt_species.append(species)\n",
    "    species[0,:,:].density_boundary = espressomd.electrokinetics.DensityBoundary(0.0)\n",
    "    species[-1,:,:].density_boundary = espressomd.electrokinetics.DensityBoundary(0.0)\n",
    "\n",
    "for coeff in PRODUCT_COEFFS:\n",
    "    species = espressomd.electrokinetics.EKSpecies(\n",
    "        lattice=lattice, density=0.0, diffusion=DIFFUSION_COEFFICIENT,\n",
    "        kT=KT, valency=0.0, advection=True, friction_coupling=True,\n",
    "        ext_efield=[0., 0., 0.], tau=TAU)\n",
    "    system.ekcontainer.add(species)\n",
    "    reactants.append(\n",
    "        espressomd.electrokinetics.EKReactant(\n",
    "            ekspecies=species,\n",
    "            stoech_coeff=coeff,\n",
    "            order=0.0))\n",
    "    product_species.append(species)\n",
    "    species[0,:,:].density_boundary = espressomd.electrokinetics.DensityBoundary(0.0)\n",
    "    species[-1,:,:].density_boundary = espressomd.electrokinetics.DensityBoundary(0.0)"
   ]
  },
  {
   "cell_type": "markdown",
   "metadata": {
    "solution2": "shown",
    "solution2_first": true
   },
   "source": [
    "# Exercise:\n",
    "- Create an instance of [`EKBulkReaction`](https://espressomd.github.io/doc/espressomd.html#espressomd.electrokinetics.EKBulkReaction) using the previously setup `reactants` and activate the reaction by adding it to [`system.ekcontainer.reactions`](https://espressomd.github.io/doc/espressomd.html#espressomd.electrokinetics.EKContainer.reactions).\n"
   ]
  },
  {
   "cell_type": "code",
   "execution_count": null,
   "metadata": {
    "solution2": "shown"
   },
   "outputs": [],
   "source": [
    "reaction = espressomd.electrokinetics.EKBulkReaction(\n",
    "    reactants=reactants, coefficient=REACTION_RATE_CONSTANT, lattice=lattice, tau=TAU)\n",
    "\n",
    "system.ekcontainer.reactions.add(reaction)"
   ]
  },
  {
   "cell_type": "markdown",
   "metadata": {},
   "source": [
    "The next thing to add to the system is the cylindrical boundaries, which act as the boundaries for the Kármán vorticies to form. These are placed close to the inlet of the system and also act as impenetrable boundaries for the species.\n",
    "Since espresso uses periodic-boundary conditions, we need to add a total of three cylinders to the system, which will form two complete cylinders in the periodic system."
   ]
  },
  {
   "cell_type": "code",
   "execution_count": null,
   "metadata": {},
   "outputs": [],
   "source": [
    "cylinder_centers = [\n",
    "    [BOX_L[0] // 10, 0, 1],\n",
    "    [BOX_L[0] // 10, BOX_L[1] // 2, 1],\n",
    "    [BOX_L[0] // 10, BOX_L[1], 1],    \n",
    "]\n",
    "\n",
    "shape_cylinder = []\n",
    "for cylinder_center in cylinder_centers:\n",
    "    shape_cylinder.append(espressomd.shapes.Cylinder(\n",
    "        center=cylinder_center,\n",
    "        axis=[0, 0, 1],\n",
    "        length=BOX_L[2],\n",
    "        radius=OBSTACLE_RADIUS,\n",
    "    ))\n",
    "\n",
    "for shape in shape_cylinder:\n",
    "  lb.add_boundary_from_shape(shape)\n",
    "  for spec in (*educt_species, *product_species):\n",
    "    spec.add_boundary_from_shape(shape, value=[0,0,0], boundary_type=espressomd.electrokinetics.FluxBoundary)\n",
    "    spec.add_boundary_from_shape(shape, value=0., boundary_type=espressomd.electrokinetics.DensityBoundary)"
   ]
  },
  {
   "cell_type": "markdown",
   "metadata": {},
   "source": [
    "Up to this point there is no species present anywhere in the system and also no way for it to enter the system. Since the reaction is irreversible in our setup, we need to introduce some density of both the educt species to the system.\n",
    "For that we setup two additional Dirichlet boundary conditions in the domain, where we fix the species density to a constant, non-zero value. This is done in such a way, that these two sources are spatially separated and only upon diffusion of the species through the channel, they will be able to react with each other. "
   ]
  },
  {
   "cell_type": "code",
   "execution_count": null,
   "metadata": {},
   "outputs": [],
   "source": [
    "source_boundary = espressomd.electrokinetics.DensityBoundary(10.0)\n",
    "source_x_pos = BOX_L[1] // 20\n",
    "\n",
    "educt_species[0][source_x_pos,BOX_L[1]//4-1:BOX_L[1]//4+1,:].density_boundary = source_boundary\n",
    "educt_species[1][source_x_pos,3*(BOX_L[1]//4)-1:3*(BOX_L[1]//4)+1,:].density_boundary = source_boundary"
   ]
  },
  {
   "cell_type": "markdown",
   "metadata": {},
   "source": [
    "With this, the system is now finally complete and we can start the integration. To see the system evolve, we will render a movie from the timeseries of the system. For that we have to setup some helper functions for the plotting, which are beyond the scope of this tutorial."
   ]
  },
  {
   "cell_type": "code",
   "execution_count": null,
   "metadata": {},
   "outputs": [],
   "source": [
    "VIDEO_TAG = \"\"\"<video controls>\n",
    " <source src=\"data:video/x-m4v;base64,{0}\" type=\"video/mp4\">\n",
    " Your browser does not support the video tag.\n",
    "</video>\"\"\"\n",
    "\n",
    "# set ignore 'divide' and 'invalid' errors\n",
    "# these occur when plotting the flowfield containing a zero velocity\n",
    "np.seterr(divide='ignore', invalid='ignore')\n",
    "\n",
    "def anim_to_html(anim):\n",
    "    if not hasattr(anim, '_encoded_video'):\n",
    "        with tempfile.NamedTemporaryFile(suffix='.mp4') as f:\n",
    "            anim.save(f.name, fps=20, extra_args=['-vcodec', 'libx264'])\n",
    "            with open(f.name, \"rb\") as g:\n",
    "                video = g.read()\n",
    "        anim._encoded_video = base64.b64encode(video).decode('ascii')\n",
    "        plt.close(anim._fig)\n",
    "    return VIDEO_TAG.format(anim._encoded_video)\n",
    "\n",
    "animation.Animation._repr_html_ = anim_to_html"
   ]
  },
  {
   "cell_type": "code",
   "execution_count": null,
   "metadata": {
    "scrolled": true
   },
   "outputs": [],
   "source": [
    "box_width = lattice.shape[1]\n",
    "box_height = lattice.shape[0]\n",
    "\n",
    "boundary_mask = lb[:, :, 0].boundary != None\n",
    "\n",
    "progress_bar = tqdm.tqdm(total=TOTAL_FRAMES)\n",
    "\n",
    "cmap = mpl.cm.get_cmap(\"viridis\").copy()\n",
    "cmap.set_bad(color=\"gray\")\n",
    "cmap_quiver = mpl.cm.get_cmap(\"binary\").copy()\n",
    "cmap_quiver.set_bad(color=\"gray\")\n",
    "\n",
    "# setup figure and prepare axes\n",
    "fig = plt.figure(figsize=(20, 10))\n",
    "gs = fig.add_gridspec(1, 4, wspace=0.1)\n",
    "ax1 = plt.subplot(gs[0])\n",
    "ax2 = plt.subplot(gs[1], sharey=ax1)\n",
    "ax3 = plt.subplot(gs[2], sharey=ax1)\n",
    "ax4 = plt.subplot(gs[3], sharey=ax1)\n",
    "\n",
    "# set the background color for the quiver plot\n",
    "bg_colors = np.copy(boundary_mask).astype(float)\n",
    "bg_colors[boundary_mask] = np.NaN\n",
    "ax4.imshow(bg_colors, cmap=cmap_quiver)\n",
    "\n",
    "for ax, title in zip(\n",
    "    [ax1, ax2, ax3, ax4],\n",
    "    [\"educt 1\", \"educt 2\", \"product\", \"fluid velocity\"]\n",
    "):\n",
    "    ax.set_title(title)\n",
    "    ax.set_xlim((0, box_width))\n",
    "    ax.set_ylim((0, box_height))\n",
    "\n",
    "# create meshgrid for quiver plot\n",
    "xs = np.arange(box_width)\n",
    "ys = np.arange(box_height)\n",
    "X, Y = np.meshgrid(xs, ys)\n",
    "\n",
    "flowfield = lb[:, :, 0].velocity\n",
    "quiver = ax4.quiver(X, Y, flowfield[..., 1], flowfield[..., 0], scale=100)\n",
    "\n",
    "def draw_frame(frame):\n",
    "    system.integrator.run(100)\n",
    "    \n",
    "    flowfield = np.copy(lb[:, :, 0].velocity)\n",
    "    e1 = np.copy(educt_species[0][:, :, 0].density)\n",
    "    e2 = np.copy(educt_species[1][:, :, 0].density)\n",
    "    p = np.copy(product_species[0][:, :, 0].density)\n",
    "    \n",
    "    # apply the mask for the boundary\n",
    "    e1[boundary_mask] = np.NaN\n",
    "    e2[boundary_mask] = np.NaN\n",
    "    p[boundary_mask] = np.NaN\n",
    "    flowfield[boundary_mask] = np.NaN\n",
    "\n",
    "\n",
    "    ax1.imshow(e1, cmap=cmap)\n",
    "    ax2.imshow(e2, cmap=cmap)\n",
    "    ax3.imshow(p, cmap=cmap)\n",
    "    quiver.set_UVC(flowfield[..., 1], flowfield[..., 0])\n",
    "    \n",
    "    progress_bar.update()\n",
    "    \n",
    "\n",
    "animation.FuncAnimation(fig, draw_frame, frames=range(TOTAL_FRAMES), interval=300)"
   ]
  },
  {
   "cell_type": "markdown",
   "metadata": {},
   "source": [
    "Looking at the movie of the species densities one can see that the fluid flow is advecting the educt species from their source locations past the cylinders into the system, which is when they start to mix and react, such that the product will form. The density of the product is then increasing towards the outflow-location of the channel, at which it will then be deleted because of our zero-density boundary condition."
   ]
  },
  {
   "cell_type": "code",
   "execution_count": null,
   "metadata": {},
   "outputs": [],
   "source": []
  }
 ],
 "metadata": {
  "kernelspec": {
   "display_name": "Python 3 (ipykernel)",
   "language": "python",
   "name": "python3"
  },
  "language_info": {
   "codemirror_mode": {
    "name": "ipython",
    "version": 3
   },
   "file_extension": ".py",
   "mimetype": "text/x-python",
   "name": "python",
   "nbconvert_exporter": "python",
   "pygments_lexer": "ipython3",
   "version": "3.10.12"
  }
 },
 "nbformat": 4,
 "nbformat_minor": 2
}
