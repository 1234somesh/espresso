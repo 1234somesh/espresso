{
 "cells": [
  {
   "cell_type": "markdown",
   "metadata": {},
   "source": [
    "# Langevin dynamics"
   ]
  },
  {
   "cell_type": "markdown",
   "metadata": {},
   "source": [
    "## Introduction\n",
    "\n",
    "In this tutorial, you are going to learn about Langevin dynamics. It is a very easy and therefore widely used technique for two main reasons:\n",
    "* As a thermostat. You can use Langevin dynamics to run the system at a certain temperature, including the expected fluctuations of the total energy.\n",
    "* To include hydrodynamic interactions of suspended particles with the solvent.\n",
    "\n",
    "In reality, you will always do both: Langevin thermostats will always include hydrodynamic friction.\n",
    "\n",
    "Let's consider a single spherical colloidal particle in a fluid. Due to the absence of further particles and external fields, this particle experiences Brownian motion as a result of the interaction with the solvent molecules. While structural relaxation times for molecular fluids are of the order of $10^{-14}s$, relevant time scales for Brownian particles are known to be in the order of $10^{-9}s$. The distinction between slow and fast degrees of freedom allows to describe the motion of the colloidal particle in terms of the Langevin equation. This equation of motion describes the apparent random movement of the particle in the fluid and is given by \n",
    "\\begin{equation}\n",
    "    m\\dot{{\\bf v}}(t)=-\\gamma {\\bf v}(t)+{\\bf f}(t).\n",
    "    \\tag{1}\n",
    "\\end{equation}\n",
    "where $m$ denotes the particle mass and ${\\bf v}(t)$ its velocity. Equation (1) arises from Newton's equation of motion considering that the interaction of the spherical Brownian particle with the solvent has two contributions: 1- a friction force, which is proportional to the velocity of the particle, for not too large velocities, with proportionality constant equal to the friction constant $\\gamma$; and 2- a rapidly varying force ${\\bf f}(t)$ with the time due to the the random collisions of the solvent molecules with the surface of the Brownian particle.\n",
    "\n",
    "For a macroscopically large spherical particle, $\\gamma$ is given by the Stokes' law\n",
    "\\begin{equation}\n",
    "    \\gamma = 6\\pi\\eta_0a,\n",
    "\\end{equation}\n",
    "with $\\eta_0$ the shear viscosity of the fluid and $a$ the radius of the Brownian particle. The ensemble average of the fluctuating force ${\\bf f}(t)$ vanishes, \n",
    "\\begin{equation}\n",
    "    \\langle {\\bf f}(t)\\rangle = 0,\n",
    "\\end{equation}\n",
    "since the systematic interaction with the fluid is made explicit in the friction term. Owing to the separation in time scales, there is no correlation between impacts in any distinct time intervals. Thus, the second moments of ${\\bf f}$ satisfy \n",
    "\\begin{equation}\n",
    "    \\langle f_i(t)f_j(t')\\rangle =2\\gamma k_\\text{B}T \\delta_{i,j}\\delta(t-t'),\n",
    "\\end{equation}\n",
    "where one can see that the strength of the fluctuation force depends on the friction coefficient and the system temperature. \n",
    "\n",
    "Since only ensemble averaged properties of ${\\bf f}$ are specified, it make no sense to look at a single deterministic solution of Eq. (1), but ensemble averaged quantities that characterize the dynamics of the spherical Brownian particle. The simplest quantity is the so-called mean square displacement (MSD) after time $\\tau$\n",
    "\\begin{equation}\n",
    "    \\mathrm{MSD}(\\tau)=\\langle |{\\bf r}(t+\\tau)-{\\bf r}(t)|^2\\rangle.\n",
    "\\end{equation}\n",
    "From integration of  Eq. (1) and considering that ${\\bf v}(t)=\\dot{{\\bf r}}(t)$, one can obtain that\n",
    "\\begin{equation}\n",
    "    \\mathrm{MSD}(\\tau)=6D\\tau\n",
    "\\end{equation}\n",
    "for $\\tau\\gg m/\\gamma$, where the diffusion coefficient $D$ is defined as\n",
    "\\begin{equation}\n",
    "    D=\\frac{k_\\text{B}T}{\\gamma}.\n",
    "\\end{equation}"
   ]
  },
  {
   "cell_type": "markdown",
   "metadata": {},
   "source": [
    "## 1. Setting up the observable"
   ]
  },
  {
   "cell_type": "markdown",
   "metadata": {
    "solution2": "hidden",
    "solution2_first": true
   },
   "source": [
    "Write a function with signature `correlator_msd(pid, tau_max)` that returns a\n",
    "mean-squared displacement correlator that is updated every time step. For help, you can refer to the documentation of [<tt>observables and correlators<tt>](https://espressomd.github.io/doc/analysis.html#observables-and-correlators)."
   ]
  },
  {
   "cell_type": "markdown",
   "metadata": {
    "solution2": "hidden"
   },
   "source": [
    "```python\n",
    "def correlator_msd(pids, tau_max):\n",
    "    pos = espressomd.observables.ParticlePositions(ids=pids)\n",
    "    pos_cor = espressomd.accumulators.Correlator(\n",
    "        obs1=pos, tau_lin=16, tau_max=tau_max, delta_N=1,\n",
    "        corr_operation=\"square_distance_componentwise\", compress1=\"discard1\")\n",
    "    return pos_cor\n",
    "```"
   ]
  },
  {
   "cell_type": "code",
   "execution_count": null,
   "metadata": {},
   "outputs": [],
   "source": []
  },
  {
   "cell_type": "markdown",
   "metadata": {},
   "source": [
    "## 2. Simulating Brownian motion"
   ]
  },
  {
   "cell_type": "markdown",
   "metadata": {},
   "source": [
    "We will simulate the diffusion of a single particle that is coupled to an implicit solvent."
   ]
  },
  {
   "cell_type": "code",
   "execution_count": null,
   "metadata": {},
   "outputs": [],
   "source": [
    "import numpy as np\n",
    "import logging\n",
    "import sys\n",
    "\n",
    "import espressomd\n",
    "import espressomd.accumulators\n",
    "import espressomd.observables\n",
    "\n",
    "logging.basicConfig(level=logging.INFO, stream=sys.stdout)\n",
    "\n",
    "# Constants\n",
    "KT = 1.1\n",
    "STEPS = 400000\n",
    "\n",
    "# System setup\n",
    "system = espressomd.System(box_l=[16] * 3)\n",
    "system.time_step = 0.01\n",
    "system.cell_system.skin = 0.4\n",
    "\n",
    "a_particle = system.part.add(pos=[0, 0, 0])\n",
    "\n",
    "# Run for different friction coefficients\n",
    "gammas = [1.0, 2.0, 4.0, 10.0]\n",
    "tau_results = []\n",
    "msd_results = []\n",
    "\n",
    "for gamma in gammas:\n",
    "    system.auto_update_accumulators.clear()\n",
    "    system.thermostat.turn_off()\n",
    "    system.thermostat.set_langevin(kT=KT, gamma=gamma, seed=42)\n",
    "\n",
    "    logging.info(\"Equilibrating the system.\")\n",
    "    system.integrator.run(1000)\n",
    "    logging.info(\"Equilibration finished.\")\n",
    "\n",
    "    # Setup observable correlator\n",
    "    correlator = correlator_msd([a_particle.id], STEPS)\n",
    "    system.auto_update_accumulators.add(correlator)\n",
    "\n",
    "    logging.info(\"Sampling started for gamma = {}.\".format(gamma))\n",
    "    system.integrator.run(STEPS)\n",
    "    correlator.finalize()\n",
    "    tau_results.append(correlator.lag_times())\n",
    "    msd_results.append(np.sum(correlator.result().reshape([-1, 3]), axis=1))\n",
    "\n",
    "logging.info(\"Sampling finished.\")"
   ]
  },
  {
   "cell_type": "markdown",
   "metadata": {},
   "source": [
    "## 3. Data analysis\n",
    "### 3.1 Plotting the results"
   ]
  },
  {
   "cell_type": "code",
   "execution_count": null,
   "metadata": {},
   "outputs": [],
   "source": [
    "%matplotlib notebook\n",
    "import matplotlib.pyplot as plt\n",
    "\n",
    "plt.rcParams.update({'font.size': 22})\n",
    "\n",
    "plt.figure(figsize=(10, 10))\n",
    "plt.xlabel(r'$\\tau$ [$\\Delta t$]')\n",
    "plt.ylabel(r'MSD [$\\sigma^2$]')\n",
    "for index, (tau, msd) in enumerate(zip(tau_results, msd_results)):\n",
    "    # We skip the first entry since it's zero by definition and cannot be displayed\n",
    "    # in a loglog plot. Furthermore, we only look at the first 100 entries due to\n",
    "    # the high variance for larger lag times.\n",
    "    plt.loglog(tau[1:100], msd[1:100], label=r'$\\gamma=${:.1f}'.format(gammas[index]))\n",
    "    plt.loglog(tau[1:100], 6*KT/gammas[index]*tau[1:100], \"--\", color=\"black\", alpha=0.2, label=\"theory\")\n",
    "plt.legend()\n",
    "plt.show()"
   ]
  },
  {
   "cell_type": "markdown",
   "metadata": {},
   "source": [
    "### 3.2 Calculating the diffusion coefficient\n",
    "\n",
    "In this script an implicit solvent and a single particle are created and thermalized.\n",
    "The random forces on the particle will cause the particle to move.\n",
    "The mean squared displacement is calculated during the simulation via a multiple-tau\n",
    "correlator. \n",
    "Can you give an explanation for the quadratic time dependency for short times?"
   ]
  },
  {
   "cell_type": "markdown",
   "metadata": {},
   "source": [
    "The MSD of a Brownian motion can be decomposed in three main regimes [1]:\n",
    "* for short lag times $\\tau < \\tau_p$, the particle motion is not\n",
    "  significantly impeded by solvent collisions: it's in the ballistic mode\n",
    "  (collision-free regime) where $\\operatorname{MSD}(t) \\sim (k_BT / \\gamma) t^2$\n",
    "* for long lag times $\\tau > \\tau_f$, the particle motion is determined by\n",
    "  numerous collisions with the solvent: it's in the diffusive mode where\n",
    "  $\\operatorname{MSD}(t) \\sim 6t$\n",
    "* for lag times between $\\tau_p$ and $\\tau_f$, there is a crossover mode\n",
    "\n",
    "The values $\\tau_p$ and $\\tau_f$ can be obtained manually through visual\n",
    "inspection of the MSD plot, or more accurately by non-linear fitting [2].\n",
    "\n",
    "Here, we are interested in the diffusion constant. Hence, we can ignore the\n",
    "ballistic regime and look at the diffusive regime in more detail."
   ]
  },
  {
   "cell_type": "markdown",
   "metadata": {},
   "source": [
    "Use the function [<tt>curve_fit()</tt>](https://docs.scipy.org/doc/scipy/reference/generated/scipy.optimize.curve_fit.html) from the module <tt>scipy.optimize</tt> to produce a fit for the linear regime and determine the diffusion coefficients for the different $\\gamma$s."
   ]
  },
  {
   "cell_type": "markdown",
   "metadata": {},
   "source": [
    "For large $t$ the diffusion coefficient can be expressed as:\n",
    "\n",
    "$$6D = \\lim_{t\\to\\infty} \\frac{\\partial \\operatorname{MSD}(t)}{\\partial t}$$\n",
    "\n",
    "which is simply the slope of the MSD in the diffusive mode."
   ]
  },
  {
   "cell_type": "code",
   "execution_count": null,
   "metadata": {},
   "outputs": [],
   "source": [
    "import scipy.optimize\n",
    "\n",
    "\n",
    "def linear(x, a, b):\n",
    "    return a * x + b\n",
    "\n",
    "\n",
    "# cutoffs for the diffusive regime (different for each gamma value)\n",
    "tau_f_values = [24, 22, 20, 17]\n",
    "# cutoff for the data series (larger lag times have larger variance due to undersampling)\n",
    "cutoff_limit = 90\n",
    "\n",
    "diffusion_results = []\n",
    "\n",
    "plt.figure(figsize=(10, 8))\n",
    "plt.xlabel(r'$\\tau$ [$\\Delta t$]')\n",
    "plt.ylabel(r'MSD [$\\sigma^2$]')\n",
    "for index, (tau_f, tau, msd) in enumerate(zip(tau_f_values, tau_results, msd_results)):\n",
    "    (a, b), _ = scipy.optimize.curve_fit(linear, tau[tau_f:cutoff_limit], msd[tau_f:cutoff_limit])\n",
    "    x = np.linspace(tau[tau_f], tau[cutoff_limit - 1], 50)\n",
    "    p = plt.plot(x, linear(x, a, b), '-')\n",
    "    plt.plot(tau[tau_f:cutoff_limit], msd[tau_f:cutoff_limit], 'o', color=p[0].get_color(),\n",
    "             label=r'$\\gamma=${:.1f}'.format(gammas[index]))\n",
    "    diffusion_results.append(a / 6)\n",
    "\n",
    "plt.legend()\n",
    "plt.show()"
   ]
  },
  {
   "cell_type": "markdown",
   "metadata": {},
   "source": [
    "Calculate the diffusion coefficient for all cases and plot them as a function of $\\gamma$. What relation do you observe?"
   ]
  },
  {
   "cell_type": "markdown",
   "metadata": {},
   "source": [
    "In the diffusive mode, one can derive $D = k_BT / \\gamma$ from the Stokes–Einstein relation [3]."
   ]
  },
  {
   "cell_type": "code",
   "execution_count": null,
   "metadata": {},
   "outputs": [],
   "source": [
    "plt.figure(figsize=(10, 8))\n",
    "plt.xlabel(r'$\\gamma$')\n",
    "plt.ylabel('Diffusion coefficient [$\\sigma^2/t$]')\n",
    "x = np.linspace(0.9 * min(gammas), 1.1 * max(gammas), 50)\n",
    "y = KT / x\n",
    "plt.plot(x, y, '-', label=r'$k_BT\\gamma^{-1}$')\n",
    "plt.plot(gammas, diffusion_results, 'o', label='D')\n",
    "plt.legend()\n",
    "plt.show()"
   ]
  },
  {
   "cell_type": "markdown",
   "metadata": {},
   "source": [
    "## References\n",
    "\n",
    "[1] R. Huang, I. Chavez, K. Taute, et al. Direct observation of the full transition from ballistic to diffusive Brownian motion in a liquid. *Nature Phys.*, 7, 2011. doi:[10.1038/nphys1953](https://doi.org/10.1038/nphys1953)  \n",
    "[2] M. K. Riahi, I. A. Qattan, J. Hassan, D. Homouz, Identifying short- and long-time modes of the mean-square displacement: An improved nonlinear fitting approach. *AIP Advances*, 9:055112, 2019. doi:[10.1063/1.5098051](https://doi.org/10.1063/1.5098051)  \n",
    "[3] R. Huang, I. Chavez, K. Taute, et al. Direct observation of the full transition from ballistic to diffusive Brownian motion in a liquid. *Nature Phys.*, 7, 2011. doi:[10.1038/nphys1953](https://doi.org/10.1038/nphys1953)  "
   ]
  }
 ],
 "metadata": {
  "kernelspec": {
   "display_name": "Python 3",
   "language": "python",
   "name": "python3"
  },
  "language_info": {
   "codemirror_mode": {
    "name": "ipython",
    "version": 3
   },
   "file_extension": ".py",
   "mimetype": "text/x-python",
   "name": "python",
   "nbconvert_exporter": "python",
   "pygments_lexer": "ipython3",
   "version": "3.8.5"
  }
 },
 "nbformat": 4,
 "nbformat_minor": 1
}
