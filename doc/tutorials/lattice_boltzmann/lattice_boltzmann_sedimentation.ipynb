{
 "cells": [
  {
   "cell_type": "markdown",
   "metadata": {},
   "source": [
    "# Sedimentation in a Fluid"
   ]
  },
  {
   "cell_type": "markdown",
   "metadata": {},
   "source": [
    "The purpose of this tutorial is to demonstrate how hydrodynamic interactions can have a dramatic impact on the overall dynamics of a molecular dynamics (MD) system.\n",
    "\n",
    "We will set up a simple semi-two-dimensional system of sedimenting particles and simulate it first with Langevin dynamics.\n",
    "Susequently, the system will be coupled to a lattice-Boltzmann fluid instead.\n",
    "\n",
    "Both scenarios will then be compared by visualizing the data."
   ]
  },
  {
   "cell_type": "code",
   "execution_count": null,
   "metadata": {},
   "outputs": [],
   "source": [
    "import espressomd\n",
    "import espressomd.lb\n",
    "import espressomd.lbboundaries\n",
    "import espressomd.shapes\n",
    "\n",
    "# imports for data handling, plotting, and progress bar\n",
    "import numpy as np\n",
    "import matplotlib.pyplot as plt\n",
    "from tqdm import tqdm"
   ]
  },
  {
   "cell_type": "markdown",
   "metadata": {},
   "source": [
    "We intend to use a purely repulsive WCA interaction potential for the particles, with the following parameters:"
   ]
  },
  {
   "cell_type": "code",
   "execution_count": null,
   "metadata": {},
   "outputs": [],
   "source": [
    "lj_sigma = 1\n",
    "lj_epsilon = 1\n",
    "lj_cutoff = 2**(1. / 6) * lj_sigma"
   ]
  },
  {
   "cell_type": "markdown",
   "metadata": {},
   "source": [
    "The intiial particles positions will be chosen to form a two-dimensional hexagonal Bravais lattice structure.\n",
    "The spacing we use is large enough for the particles not to interact initially. If particles are positioned closer particles would rearrange to minimize the interaction energy, breaking up the initial structure.\n",
    "We setup the simulation box such that the particle structure is periodically repeated in $x$-direction."
   ]
  },
  {
   "cell_type": "code",
   "execution_count": null,
   "metadata": {},
   "outputs": [],
   "source": [
    "def hexagonal_lattice(n_rows=5, parts_per_row=5, spacing=1):\n",
    "    positions = np.array([[x + 0.12 + (0.5 if y % 2 == 1 else 0),\n",
    "                           y * np.sqrt(3) / 2, 0]\n",
    "                          for x in range(parts_per_row)\n",
    "                          for y in range(n_rows)]) * spacing\n",
    "    return positions"
   ]
  },
  {
   "cell_type": "markdown",
   "metadata": {},
   "source": [
    "Now, we are ready to define the system parameters and initialize the simulation system.\n",
    "\n",
    "**possible task: set up WCA potential**"
   ]
  },
  {
   "cell_type": "code",
   "execution_count": null,
   "metadata": {},
   "outputs": [],
   "source": [
    "# parameters\n",
    "\n",
    "# lattice spacing and number of lattice rows to use\n",
    "spacing = lj_cutoff\n",
    "n_rows = 10\n",
    "\n",
    "# system size in units of lattice spacing\n",
    "n_height = 40\n",
    "n_width = 20\n",
    "n_depth = 2\n",
    "\n",
    "# resulting box geometry\n",
    "box_height = n_height * spacing\n",
    "box_width = n_width * spacing\n",
    "box_depth = n_depth * spacing\n",
    "\n",
    "# system setup\n",
    "system = espressomd.System(box_l=[box_width, box_height, box_depth])\n",
    "system.time_step = 0.01\n",
    "system.cell_system.skin = 0.4\n",
    "\n",
    "# add non-bonded WCA interaction\n",
    "system.non_bonded_inter[0, 0].lennard_jones.set_params(\n",
    "    epsilon=lj_epsilon, sigma=lj_sigma, cutoff=lj_cutoff, shift=\"auto\")"
   ]
  },
  {
   "cell_type": "markdown",
   "metadata": {},
   "source": [
    "We add a wall constraint on bottom and top of the simulation box, respectively.\n",
    "\n",
    "**possible task: set up WCA wall constaint (wall shapes provided)**"
   ]
  },
  {
   "cell_type": "code",
   "execution_count": null,
   "metadata": {},
   "outputs": [],
   "source": [
    "# create wall shapes bottom (b) and top (t)\n",
    "wall_shape_b = espressomd.shapes.Wall(normal=[0, 1, 0], dist=1)\n",
    "wall_shape_t = espressomd.shapes.Wall(\n",
    "    normal=[0, -1, 0], dist=-(box_height - 1))\n",
    "\n",
    "# add wall constraints\n",
    "for wall_shape in [wall_shape_b, wall_shape_t]:\n",
    "    system.constraints.add(shape=wall_shape, particle_type=0)"
   ]
  },
  {
   "cell_type": "code",
   "execution_count": null,
   "metadata": {},
   "outputs": [],
   "source": [
    "# prepare for sampling\n",
    "sampling_steps = 700\n",
    "\n",
    "initial_positions = hexagonal_lattice(n_rows, n_width, spacing)\n",
    "# total number of particles\n",
    "n_parts = n_rows * n_width\n",
    "assert initial_positions.shape == (n_parts, 3)\n",
    "\n",
    "# we introduce a small imperfection into the initial lattice structure\n",
    "initial_positions[-1, 0] -= 0.3 * spacing\n",
    "\n",
    "# shift initial positions to the top\n",
    "y_max = np.amax(initial_positions[:, 1])\n",
    "initial_positions += (box_height - 1 - lj_cutoff) - y_max\n",
    "\n",
    "# data structures to hold particle trajectories\n",
    "data_lv = np.full((sampling_steps, n_parts, 3), np.nan)\n",
    "data_lb = np.full_like(data_lv, np.nan)"
   ]
  },
  {
   "cell_type": "markdown",
   "metadata": {},
   "source": [
    "We will set an external force acting on all particles. You can take this to model the effect of gravity, for example."
   ]
  },
  {
   "cell_type": "code",
   "execution_count": null,
   "metadata": {},
   "outputs": [],
   "source": [
    "f_gravity = [0, -3, 0]"
   ]
  },
  {
   "cell_type": "markdown",
   "metadata": {},
   "source": [
    "Now, we start with sampling using the Langevin thermostat (with temperature $T=0$).\n",
    "\n",
    "**possible tasks: set Langevin thermostat, add particles**"
   ]
  },
  {
   "cell_type": "code",
   "execution_count": null,
   "metadata": {},
   "outputs": [],
   "source": [
    "# Langevin simulation\n",
    "system.thermostat.set_langevin(kT=0., gamma=15, seed=12)\n",
    "\n",
    "parts = system.part.add(pos=initial_positions, ext_force=[f_gravity] * n_parts)\n",
    "\n",
    "system.integrator.run(0)\n",
    "\n",
    "for step in tqdm(range(sampling_steps)):\n",
    "    data_lv[step, :] = parts.pos_folded    \n",
    "    system.integrator.run(25)\n",
    "data_lv[-1, :] = parts.pos_folded\n"
   ]
  },
  {
   "cell_type": "markdown",
   "metadata": {},
   "source": [
    "Now we want to sample the same system, but with a coupled lattice-Boltzmann fluid. We first reset the particles to their initial positions and remove any particle velocities.\n",
    "Then we set up the LB fluid. The wall constraints that were previously added have to be also registered as LB boundaries.\n",
    "\n",
    "**possible tasks: set up LB fluid, add lbboundaries**"
   ]
  },
  {
   "cell_type": "code",
   "execution_count": null,
   "metadata": {},
   "outputs": [],
   "source": [
    "# LB simulation cleanup and setup\n",
    "parts.pos = initial_positions\n",
    "parts.v = [0, 0, 0]\n",
    "system.thermostat.turn_off()\n",
    "\n",
    "lbf = espressomd.lb.LBFluid(agrid=spacing, dens=1.0, visc=1.0, tau=system.time_step, kT=0)\n",
    "system.actors.add(lbf)\n",
    "system.thermostat.set_lb(LB_fluid=lbf, seed=123, gamma=15)\n",
    "\n",
    "# add LB boundaries at walls\n",
    "for wall_shape in [wall_shape_b, wall_shape_t]:\n",
    "    no_slip_wall = espressomd.lbboundaries.LBBoundary(\n",
    "        shape=wall_shape, velocity=[0, 0, 0])\n",
    "    system.lbboundaries.add(no_slip_wall)"
   ]
  },
  {
   "cell_type": "code",
   "execution_count": null,
   "metadata": {},
   "outputs": [],
   "source": [
    "# numpy array to hold flowfield data\n",
    "data_flowfield = np.full((sampling_steps, n_height, n_width, 3), np.nan)\n",
    "\n",
    "# return n_x x n_x array of lattice velocities, averaged in z-direction \n",
    "def mean_flowfield(xs=n_width, ys=n_height, zs=n_depth):\n",
    "    dataframe = np.array([[[lbf[x, y, z].velocity for z in range(zs)] for x in range(xs)] \n",
    "                          for y in range(ys)])\n",
    "    return np.mean(dataframe, axis=2)\n",
    "\n",
    "for step in tqdm(range(sampling_steps)):\n",
    "    data_lb[step, :] = parts.pos_folded\n",
    "    data_flowfield[step, :] = mean_flowfield()    \n",
    "    system.integrator.run(25)\n",
    "data_lb[-1, :] = parts.pos_folded\n",
    "data_flowfield[-1, :] = mean_flowfield()"
   ]
  },
  {
   "cell_type": "markdown",
   "metadata": {},
   "source": [
    "Now let's visualize the data. First some imports and definitions for inline visualization."
   ]
  },
  {
   "cell_type": "code",
   "execution_count": null,
   "metadata": {},
   "outputs": [],
   "source": [
    "import matplotlib.animation as animation\n",
    "import tempfile\n",
    "import base64\n",
    "\n",
    "from matplotlib.quiver import Quiver\n",
    "\n",
    "VIDEO_TAG = \"\"\"<video controls>\n",
    " <source src=\"data:video/x-m4v;base64,{0}\" type=\"video/mp4\">\n",
    " Your browser does not support the video tag.\n",
    "</video>\"\"\"\n",
    "\n",
    "\n",
    "def anim_to_html(anim):\n",
    "    if not hasattr(anim, '_encoded_video'):\n",
    "        with tempfile.NamedTemporaryFile(suffix='.mp4') as f:\n",
    "            anim.save(f.name, fps=20, extra_args=['-vcodec', 'libx264'])\n",
    "            with open(f.name, \"rb\") as g:\n",
    "                video = g.read()\n",
    "        anim._encoded_video = base64.b64encode(video).decode('ascii')\n",
    "        plt.close(anim._fig)\n",
    "    return VIDEO_TAG.format(anim._encoded_video)\n",
    "\n",
    "\n",
    "animation.Animation._repr_html_ = anim_to_html\n",
    "\n",
    "# set ignore 'divide' and 'invalid' errors\n",
    "# these occur when plotting the flowfield containing a zero velocity\n",
    "np.seterr(divide='ignore', invalid='ignore')"
   ]
  },
  {
   "cell_type": "markdown",
   "metadata": {},
   "source": [
    "And now the actual visualization code."
   ]
  },
  {
   "cell_type": "code",
   "execution_count": null,
   "metadata": {},
   "outputs": [],
   "source": [
    "# setup figure and prepare axes\n",
    "fig = plt.figure(figsize=(2 * 5, 5 / box_width * box_height))\n",
    "gs = fig.add_gridspec(1, 2, wspace=0.1)\n",
    "(ax1, ax2) = gs.subplots(sharey=True)\n",
    "\n",
    "ax1.set_title(\"Langevin\")\n",
    "ax1.set_xlim((0, box_width))\n",
    "ax1.set_ylim((0, box_height))\n",
    "\n",
    "ax2.set_title(\"LB Fluid\")\n",
    "ax2.set_xlim((0, box_width))\n",
    "ax2.set_ylim((0, box_height))\n",
    "\n",
    "# draw walls\n",
    "for ax in [ax1, ax2]:\n",
    "    ax.hlines((1, box_height-1), 0, box_width, color=\"gray\")\n",
    "\n",
    "# create meshgrid for quiver plot\n",
    "xs = np.array([x for x in range(n_width)]) * spacing\n",
    "ys = np.array([y for y in range(n_height)]) * spacing\n",
    "X, Y = np.meshgrid(xs, ys)\n",
    "\n",
    "# initialize plot objects\n",
    "lb_ff = ax2.quiver(X, Y, data_flowfield[0, :, :, 0],\n",
    "                   data_flowfield[0, :, :, 1])\n",
    "lb_particles, = ax2.plot([], [], 'o')\n",
    "lv_particles, = ax1.plot([], [], 'o')\n",
    "\n",
    "def draw_frame(t):\n",
    "    # manually remove Quivers from ax2\n",
    "    for artist in ax2.get_children():\n",
    "        if isinstance(artist, Quiver):\n",
    "            artist.remove()\n",
    "    \n",
    "    # draw new quivers\n",
    "    lb_ff = ax2.quiver(X, Y, data_flowfield[t, :, :, 0],\n",
    "                       data_flowfield[t, :, :, 1])\n",
    "    \n",
    "    # draw particles\n",
    "    lv_particles.set_data(data_lv[t, :, 0], data_lv[t, :, 1])\n",
    "    lb_particles.set_data(data_lb[t, :, 0], data_lb[t, :, 1])\n",
    "\n",
    "    return [lv_particles, lb_particles, lb_ff]\n",
    "\n",
    "animation.FuncAnimation(fig, draw_frame, frames=sampling_steps, blit=True, interval=0, repeat=False)"
   ]
  }
 ],
 "metadata": {
  "kernelspec": {
   "display_name": "Python 3",
   "language": "python",
   "name": "python3"
  },
  "language_info": {
   "codemirror_mode": {
    "name": "ipython",
    "version": 3
   },
   "file_extension": ".py",
   "mimetype": "text/x-python",
   "name": "python",
   "nbconvert_exporter": "python",
   "pygments_lexer": "ipython3",
   "version": "3.9.12"
  }
 },
 "nbformat": 4,
 "nbformat_minor": 1
}
