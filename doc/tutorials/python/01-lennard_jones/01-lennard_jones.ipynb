{
 "metadata": {
  "name": "",
  "signature": "sha256:ca9c56e938804464167e77f877abc5549e6f9063e63fa74c1f85db87465d1bf0"
 },
 "nbformat": 3,
 "nbformat_minor": 0,
 "worksheets": [
  {
   "cells": [
    {
     "cell_type": "markdown",
     "metadata": {},
     "source": [
      "Lennard-Jones Liquid\n",
      "-----------"
     ]
    },
    {
     "cell_type": "code",
     "collapsed": false,
     "input": [],
     "language": "python",
     "metadata": {},
     "outputs": []
    }
   ],
   "metadata": {}
  }
 ]
}