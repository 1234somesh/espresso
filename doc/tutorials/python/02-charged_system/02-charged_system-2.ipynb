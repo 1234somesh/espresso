{
 "metadata": {
  "name": "",
  "signature": "sha256:15f548020b82ecbf41ccb874428883b71a2be20824271796f92bcbd4402cd14a"
 },
 "nbformat": 3,
 "nbformat_minor": 0,
 "worksheets": [
  {
   "cells": [
    {
     "cell_type": "heading",
     "level": 1,
     "metadata": {},
     "source": [
      "Tutorial 2: A Simple Charged System, Part 2"
     ]
    },
    {
     "cell_type": "heading",
     "level": 2,
     "metadata": {},
     "source": [
      "7 2D Electrostatics and Constraints"
     ]
    },
    {
     "cell_type": "markdown",
     "metadata": {},
     "source": [
      "In this section, we use the parametrized NaCl system from the last task to simulate a molten salt in a\n",
      "parallel plate capacitor with and without applied electric field. We have to extend our simulation by several aspects:"
     ]
    },
    {
     "cell_type": "heading",
     "level": 3,
     "metadata": {},
     "source": [
      "Confinement"
     ]
    },
    {
     "cell_type": "markdown",
     "metadata": {},
     "source": [
      "**ESPResSo** features a number of basic shapes like cylinders, walls or spheres to simulate confined systems.\n",
      "Here, we use to walls at $z = 0$ and $z = L_z$ for the parallel plate setup ($L_z$: Box length in z-direction)"
     ]
    },
    {
     "cell_type": "heading",
     "level": 3,
     "metadata": {},
     "source": [
      "2D-Electrostatics"
     ]
    },
    {
     "cell_type": "markdown",
     "metadata": {},
     "source": [
      "**ESPResSo** also has a number of ways to account for the unwanted electrostatic interaction in the now non-periodic z-dimension.\n",
      "We use the 3D-periodic P$^3$M algorithm in combination with the \\emph{Electrostatic Layer Correction} (ELC). \n",
      "ELC subtracts the forces caused by the periodic images in the z-dimension. Another way would be to use the explicit 2D-electrostatics algorithm\n",
      "MMM2D, also available in **ESPResSo**."
     ]
    },
    {
     "cell_type": "heading",
     "level": 3,
     "metadata": {},
     "source": [
      "Electric Field"
     ]
    },
    {
     "cell_type": "markdown",
     "metadata": {},
     "source": [
      "The simple geometry of the system allows us to treat an electric field in z-direction as a homogeneous force.\n",
      "Note that we use inert walls here and don't take into account the dielectric contrast caused by metal electrodes."
     ]
    },
    {
     "cell_type": "heading",
     "level": 3,
     "metadata": {},
     "source": [
      "Parameters"
     ]
    },
    {
     "cell_type": "markdown",
     "metadata": {},
     "source": [
      "For our molten NaCl, we use a temperature $100 \\ \\mathrm{K}$ above the melting point ($1198.3 \\ \\mathrm{K}$) \n",
      "and an approximated density of $\\rho = 1.1138 \\ \\mathrm{u \\mathring{A}}$$^{-3}$ found in Janz, G. J., Thermodynamic and Transport Properties of Molten Salts: Correlation Equations for Critically Evaluated Density, Surface Tension,\n",
      "Electrical Conductance, and Viscosity Data, *J. Phys. Chem. Ref. Data, 17*, Suppl. 2, 1988.\n",
      "\n",
      "Let's walk through the python script. We need additional imports for the wall shapes and the ELC algorithm:"
     ]
    },
    {
     "cell_type": "code",
     "collapsed": false,
     "input": [
      "\n",
      "\n",
      "from espressomd import System, assert_features, electrostatics, electrostatic_extensions\n",
      "from espressomd.shapes import Wall\n",
      "import espressomd\n",
      "import numpy"
     ],
     "language": "python",
     "metadata": {},
     "outputs": [],
     "prompt_number": 1
    },
    {
     "cell_type": "markdown",
     "metadata": {},
     "source": [
      "If we target a liquid system, we should not set up the particles in a lattice, \n",
      "as this introduces unwanted structure in the starting configuration.\n",
      "We define our system size by the number of particles and the density.\n",
      "The system parameters lead to the following values:"
     ]
    },
    {
     "cell_type": "code",
     "collapsed": false,
     "input": [
      "required_features = [\"EXTERNAL_FORCES\", \"CONSTRAINTS\", \"MASS\", \"ELECTROSTATICS\", \"LENNARD_JONES\"]\n",
      "espressomd.assert_features(required_features)\n",
      "print(espressomd.features())\n",
      "\n",
      "# System parameters\n",
      "n_part = 1000\n",
      "n_ionpairs = n_part/2\n",
      "density = 1.1138\n",
      "time_step = 0.001823\n",
      "temp = 1198.3\n",
      "gamma = 50\n",
      "#l_bjerrum = 0.885^2 * e^2/(4*pi*epsilon_0*k_B*T)\n",
      "l_bjerrum = 130878.0 / temp\n",
      "wall_margin = 0.5\n",
      "Ez = 0\n",
      "\n",
      "num_steps_equilibration = 3000\n",
      "num_configs = 200\n",
      "integ_steps_per_config = 100"
     ],
     "language": "python",
     "metadata": {},
     "outputs": [
      {
       "output_type": "stream",
       "stream": "stdout",
       "text": [
        "['BOND_ANGLE', 'BOND_CONSTRAINT', 'CUDA', 'EK_BOUNDARIES', 'ELECTROKINETICS', 'ELECTROSTATICS', 'EXCLUSIONS', 'EXTERNAL_FORCES', 'FFTW', 'GSL', 'H5MD', 'LATTICE', 'LB', 'LB_BOUNDARIES', 'LB_BOUNDARIES_GPU', 'LB_GPU', 'LENNARD_JONES', 'LENNARD_JONES_GENERIC', 'MASS', 'P3M', 'PARTIAL_PERIODIC']\n"
       ]
      }
     ],
     "prompt_number": 2
    },
    {
     "cell_type": "markdown",
     "metadata": {},
     "source": [
      "We save the force field parameters in python dictionaries, now with parameters for the walls:"
     ]
    },
    {
     "cell_type": "code",
     "collapsed": false,
     "input": [
      "# Particle parameters\n",
      "types       = {\"Cl\":          0, \"Na\": 1, \"Electrode\": 2}\n",
      "numbers     = {\"Cl\": n_ionpairs, \"Na\": n_ionpairs}\n",
      "charges     = {\"Cl\":       -1.0, \"Na\": 1.0}\n",
      "lj_sigmas   = {\"Cl\":       3.85, \"Na\": 2.52,  \"Electrode\": 3.37}\n",
      "lj_epsilons = {\"Cl\":     192.45, \"Na\": 17.44, \"Electrode\": 24.72}\n",
      "\n",
      "lj_cuts     = {\"Cl\":        3.0 * lj_sigmas[\"Cl\"], \n",
      "               \"Na\":        3.0 * lj_sigmas[\"Na\"],\n",
      "               \"Electrode\": 3.0 * lj_sigmas[\"Electrode\"]}\n",
      "\n",
      "masses      = {\"Cl\":  35.453, \"Na\": 22.99, \"Electrode\": 12.01}"
     ],
     "language": "python",
     "metadata": {},
     "outputs": [],
     "prompt_number": 3
    },
    {
     "cell_type": "markdown",
     "metadata": {},
     "source": [
      "To finally calculate the box size, we take into account the diameter of the electrode interaction.\n",
      "Additionally, ELC needs a particle-free gap in the z-direction behind the wall."
     ]
    },
    {
     "cell_type": "code",
     "collapsed": false,
     "input": [
      "# Setup System\n",
      "box_l = (n_ionpairs * sum(masses.values()) / density)**(1. / 3.)\n",
      "box_z = box_l + 2.0 * (lj_sigmas[\"Electrode\"]+wall_margin)\n",
      "elc_gap = box_z * 0.15\n",
      "system = System(box_l=[box_l,box_l, box_z+elc_gap])\n",
      "system.seed=42\n",
      "box_volume = numpy.prod([box_l,box_l, box_z])\n",
      "\n",
      "system.periodicity = [1, 1, 1]\n",
      "system.time_step = time_step\n",
      "system.cell_system.skin = 0.3\n",
      "system.thermostat.set_langevin(kT=temp, gamma=gamma)"
     ],
     "language": "python",
     "metadata": {},
     "outputs": [],
     "prompt_number": 4
    },
    {
     "cell_type": "markdown",
     "metadata": {},
     "source": [
      "In the next snippet, we add the walls to our system. Our constraint takes two arguments: \n",
      "First the <tt>shape</tt>, in our case a simple plane defined by its normal vector and the distance from the origin, \n",
      "second the <tt>particle_type</tt>, which is used to set up the interaction between particles and constraints."
     ]
    },
    {
     "cell_type": "code",
     "collapsed": false,
     "input": [
      "# Walls   \n",
      "system.constraints.add(shape=Wall(dist=wall_margin,\n",
      "            normal=[0,0,1]),particle_type=types[\"Electrode\"])\n",
      "system.constraints.add(shape=Wall(dist=-(box_z-wall_margin),\n",
      "            normal=[0,0,-1]),particle_type=types[\"Electrode\"])"
     ],
     "language": "python",
     "metadata": {},
     "outputs": [
      {
       "metadata": {},
       "output_type": "pyout",
       "prompt_number": 5,
       "text": [
        "<espressomd.constraints.ScriptInterfaceHelper at 0x2ba8a9ccae20>"
       ]
      }
     ],
     "prompt_number": 5
    },
    {
     "cell_type": "markdown",
     "metadata": {},
     "source": [
      "Now we place the particles at random position without overlap with the walls:"
     ]
    },
    {
     "cell_type": "code",
     "collapsed": false,
     "input": [
      "# Place particles\n",
      "for i in range(int(n_ionpairs)):\n",
      "    p = numpy.random.random(3)*box_l\n",
      "    p[2] += lj_sigmas[\"Electrode\"]\n",
      "    system.part.add(id=len(system.part), \n",
      "                    type=types[\"Cl\"],  pos=p, q=charges[\"Cl\"], mass=masses[\"Cl\"])\n",
      "for i in range(int(n_ionpairs)):\n",
      "    p = numpy.random.random(3)*box_l\n",
      "    p[2] += lj_sigmas[\"Electrode\"]\n",
      "    system.part.add(id=len(system.part), \n",
      "                    type=types[\"Na\"],  pos=p, q=charges[\"Na\"], mass=masses[\"Na\"])"
     ],
     "language": "python",
     "metadata": {},
     "outputs": [],
     "prompt_number": 6
    },
    {
     "cell_type": "markdown",
     "metadata": {},
     "source": [
      "The scheme to set up the Lennard-Jones interaction is the same as before, \n",
      "extended by the Electrode-Ion interactions:"
     ]
    },
    {
     "cell_type": "code",
     "collapsed": false,
     "input": [
      "# Lennard-Jones interactions parameters \n",
      "\n",
      "def combination_rule_epsilon(rule, eps1, eps2):\n",
      "    if rule==\"Lorentz\":\n",
      "        return (eps1*eps2)**0.5\n",
      "    else:\n",
      "        return ValueError(\"No combination rule defined\")\n",
      "\n",
      "def combination_rule_sigma(rule, sig1, sig2):\n",
      "    if rule==\"Berthelot\":\n",
      "        return (sig1+sig2)*0.5\n",
      "    else:\n",
      "        return ValueError(\"No combination rule defined\")\n",
      "\n",
      "for s in [[\"Cl\", \"Na\"], [\"Cl\", \"Cl\"], [\"Na\", \"Na\"], [\"Na\", \"Electrode\"], [\"Cl\", \"Electrode\"]]:\n",
      "        lj_sig = combination_rule_sigma(\"Berthelot\", \n",
      "                lj_sigmas[s[0]], lj_sigmas[s[1]])\n",
      "        lj_cut = combination_rule_sigma(\"Berthelot\", \n",
      "                lj_cuts[s[0]], lj_cuts[s[1]])\n",
      "        lj_eps = combination_rule_epsilon(\"Lorentz\", \n",
      "                lj_epsilons[s[0]],lj_epsilons[s[1]])\n",
      "\n",
      "        system.non_bonded_inter[types[s[0]], types[s[1]]].lennard_jones.set_params(\n",
      "epsilon=lj_eps, sigma=lj_sig, cutoff=lj_cut, shift=\"auto\")"
     ],
     "language": "python",
     "metadata": {},
     "outputs": [],
     "prompt_number": 7
    },
    {
     "cell_type": "markdown",
     "metadata": {},
     "source": [
      "Next is the Lennard-Jones Equilibration: Here we use an alternative way to get rid of the overlap: \\es features a routine for energy\n",
      "minimization with similar features as in the manual implementation used before. Basically it \n",
      "caps the forces and limits the displacement during integration."
     ]
    },
    {
     "cell_type": "code",
     "collapsed": false,
     "input": [
      "energy = system.analysis.energy()\n",
      "print(\"Before Minimization: E_total=\", energy['total'])\n",
      "system.minimize_energy.init(f_max = 10, gamma = 10, max_steps = 2000,\n",
      "                            max_displacement= 0.1)\n",
      "system.minimize_energy.minimize()\n",
      "energy = system.analysis.energy()\n",
      "print(\"After Minimization: E_total=\", energy['total'])"
     ],
     "language": "python",
     "metadata": {},
     "outputs": [
      {
       "output_type": "stream",
       "stream": "stdout",
       "text": [
        "('Before Minimization: E_total=', 1.1481419909766226e+17)\n",
        "('After Minimization: E_total=', 37407.77849457589)"
       ]
      },
      {
       "output_type": "stream",
       "stream": "stdout",
       "text": [
        "\n"
       ]
      }
     ],
     "prompt_number": 8
    },
    {
     "cell_type": "markdown",
     "metadata": {},
     "source": [
      "As described, we use P$^3$M in combination with ELC to account for the 2D-periodicity. \n",
      "ELC is also added to the <tt>actors</tt> of the system and takes *gap size* and *maximum\n",
      "pairwise errors* as arguments."
     ]
    },
    {
     "cell_type": "code",
     "collapsed": false,
     "input": [
      "%%capture\n",
      "\n",
      "# Tuning Electrostatics\n",
      "p3m = electrostatics.P3M(prefactor=l_bjerrum*temp, \n",
      "        accuracy=1e-2)\n",
      "system.actors.add(p3m)\n",
      "elc = electrostatic_extensions.ELC(gap_size = elc_gap, \n",
      "        maxPWerror = 1e-3)\n",
      "system.actors.add(elc)"
     ],
     "language": "python",
     "metadata": {},
     "outputs": [],
     "prompt_number": 9
    },
    {
     "cell_type": "markdown",
     "metadata": {},
     "source": [
      "For now, our electric field is zero, but we want to switch it on later.\n",
      "Here we run over all particles and set an external force on the charges caused \n",
      "by the field:"
     ]
    },
    {
     "cell_type": "code",
     "collapsed": false,
     "input": [
      "for p in system.part:\n",
      "    p.ext_force = [0,0,Ez * p.q]"
     ],
     "language": "python",
     "metadata": {},
     "outputs": [],
     "prompt_number": 10
    },
    {
     "cell_type": "markdown",
     "metadata": {},
     "source": [
      "This is followed by our standard temperature equilibration:"
     ]
    },
    {
     "cell_type": "code",
     "collapsed": false,
     "input": [
      "# Temperature Equilibration\n",
      "system.time = 0.0\n",
      "for i in range(int(num_steps_equilibration/100)):\n",
      "    energy = system.analysis.energy()\n",
      "    temp_measured = energy['kinetic'] / ((3.0 / 2.0) * n_part)\n",
      "    print(\"t={0:.1f}, E_total={1:.2f}, E_coulomb={2:.2f}, T={3:.4f}\".format(system.time,\n",
      "                                                                            energy['total'], energy['coulomb'], temp_measured))\n",
      "    system.integrator.run(100)"
     ],
     "language": "python",
     "metadata": {},
     "outputs": [
      {
       "output_type": "stream",
       "stream": "stdout",
       "text": [
        "t=0.0, E_total=-6487451.86, E_coulomb=-6524859.63, T=0.0000\n",
        "t=0.2, E_total=-14783341.12, E_coulomb=-32558689.89, T=8848.9351"
       ]
      },
      {
       "output_type": "stream",
       "stream": "stdout",
       "text": [
        "\n",
        "t=0.4, E_total=-20774984.16, E_coulomb=-33329957.13, T=5797.3063"
       ]
      },
      {
       "output_type": "stream",
       "stream": "stdout",
       "text": [
        "\n",
        "t=0.5, E_total=-24645058.48, E_coulomb=-34209691.95, T=4411.8633"
       ]
      },
      {
       "output_type": "stream",
       "stream": "stdout",
       "text": [
        "\n",
        "t=0.7, E_total=-27422953.00, E_coulomb=-35089971.42, T=3237.1721"
       ]
      },
      {
       "output_type": "stream",
       "stream": "stdout",
       "text": [
        "\n",
        "t=0.9, E_total=-29087675.78, E_coulomb=-35444005.67, T=2708.4215"
       ]
      },
      {
       "output_type": "stream",
       "stream": "stdout",
       "text": [
        "\n",
        "t=1.1, E_total=-30291755.31, E_coulomb=-35935337.61, T=2302.0753"
       ]
      },
      {
       "output_type": "stream",
       "stream": "stdout",
       "text": [
        "\n",
        "t=1.3, E_total=-31190697.72, E_coulomb=-35983672.46, T=1897.7747"
       ]
      },
      {
       "output_type": "stream",
       "stream": "stdout",
       "text": [
        "\n",
        "t=1.5, E_total=-31761285.82, E_coulomb=-36318188.12, T=1724.3404"
       ]
      },
      {
       "output_type": "stream",
       "stream": "stdout",
       "text": [
        "\n",
        "t=1.6, E_total=-32279343.98, E_coulomb=-36569086.91, T=1558.4961"
       ]
      },
      {
       "output_type": "stream",
       "stream": "stdout",
       "text": [
        "\n",
        "t=1.8, E_total=-32635367.86, E_coulomb=-36436360.52, T=1408.6811"
       ]
      },
      {
       "output_type": "stream",
       "stream": "stdout",
       "text": [
        "\n",
        "t=2.0, E_total=-32861583.59, E_coulomb=-36712238.29, T=1393.9036"
       ]
      },
      {
       "output_type": "stream",
       "stream": "stdout",
       "text": [
        "\n",
        "t=2.2, E_total=-33032419.94, E_coulomb=-36672676.13, T=1337.8614"
       ]
      },
      {
       "output_type": "stream",
       "stream": "stdout",
       "text": [
        "\n",
        "t=2.4, E_total=-33146385.05, E_coulomb=-36666933.07, T=1275.7026"
       ]
      },
      {
       "output_type": "stream",
       "stream": "stdout",
       "text": [
        "\n",
        "t=2.6, E_total=-33297738.44, E_coulomb=-36803655.81, T=1218.0160"
       ]
      },
      {
       "output_type": "stream",
       "stream": "stdout",
       "text": [
        "\n",
        "t=2.7, E_total=-33315293.15, E_coulomb=-36964025.00, T=1235.6743"
       ]
      },
      {
       "output_type": "stream",
       "stream": "stdout",
       "text": [
        "\n",
        "t=2.9, E_total=-33357764.06, E_coulomb=-37010618.86, T=1230.2675"
       ]
      },
      {
       "output_type": "stream",
       "stream": "stdout",
       "text": [
        "\n",
        "t=3.1, E_total=-33348963.07, E_coulomb=-37036549.73, T=1243.2904"
       ]
      },
      {
       "output_type": "stream",
       "stream": "stdout",
       "text": [
        "\n",
        "t=3.3, E_total=-33339427.11, E_coulomb=-36914695.36, T=1255.7483"
       ]
      },
      {
       "output_type": "stream",
       "stream": "stdout",
       "text": [
        "\n",
        "t=3.5, E_total=-33337288.84, E_coulomb=-36890853.44, T=1232.4514"
       ]
      },
      {
       "output_type": "stream",
       "stream": "stdout",
       "text": [
        "\n",
        "t=3.6, E_total=-33389105.44, E_coulomb=-36996144.24, T=1246.2436"
       ]
      },
      {
       "output_type": "stream",
       "stream": "stdout",
       "text": [
        "\n",
        "t=3.8, E_total=-33438068.34, E_coulomb=-36819344.22, T=1167.4128"
       ]
      },
      {
       "output_type": "stream",
       "stream": "stdout",
       "text": [
        "\n",
        "t=4.0, E_total=-33387700.76, E_coulomb=-36875299.18, T=1185.4533"
       ]
      },
      {
       "output_type": "stream",
       "stream": "stdout",
       "text": [
        "\n",
        "t=4.2, E_total=-33366982.75, E_coulomb=-36888225.64, T=1240.1643"
       ]
      },
      {
       "output_type": "stream",
       "stream": "stdout",
       "text": [
        "\n",
        "t=4.4, E_total=-33433594.07, E_coulomb=-37023482.83, T=1222.4344"
       ]
      },
      {
       "output_type": "stream",
       "stream": "stdout",
       "text": [
        "\n",
        "t=4.6, E_total=-33418452.53, E_coulomb=-37061027.97, T=1203.2292"
       ]
      },
      {
       "output_type": "stream",
       "stream": "stdout",
       "text": [
        "\n",
        "t=4.7, E_total=-33506897.51, E_coulomb=-37022232.99, T=1197.6270"
       ]
      },
      {
       "output_type": "stream",
       "stream": "stdout",
       "text": [
        "\n",
        "t=4.9, E_total=-33459771.11, E_coulomb=-37021792.46, T=1194.4083"
       ]
      },
      {
       "output_type": "stream",
       "stream": "stdout",
       "text": [
        "\n",
        "t=5.1, E_total=-33548287.65, E_coulomb=-37057073.72, T=1186.7169"
       ]
      },
      {
       "output_type": "stream",
       "stream": "stdout",
       "text": [
        "\n",
        "t=5.3, E_total=-33541260.88, E_coulomb=-36895582.56, T=1179.6063"
       ]
      },
      {
       "output_type": "stream",
       "stream": "stdout",
       "text": [
        "\n"
       ]
      }
     ],
     "prompt_number": 11
    },
    {
     "cell_type": "markdown",
     "metadata": {},
     "source": [
      "In the integration loop, we like to measure the density profile for both ion species along the z-direction.\n",
      "We use a simple histogram analysis to accumulate the density data. Integration takes a while."
     ]
    },
    {
     "cell_type": "code",
     "collapsed": false,
     "input": [
      "# Integration\n",
      "bins=100\n",
      "z_dens_na = numpy.zeros(bins)\n",
      "z_dens_cl = numpy.zeros(bins)\n",
      "system.time = 0.0\n",
      "cnt = 0\n",
      "\n",
      "for i in range(num_configs):\n",
      "    energy = system.analysis.energy()\n",
      "    temp_measured = energy['kinetic'] / ((3.0 / 2.0) * n_part)\n",
      "    system.integrator.run(integ_steps_per_config)\n",
      "\n",
      "    for p in system.part:\n",
      "        bz = int(p.pos[2]/box_z*bins)\n",
      "        if p.type == types[\"Na\"]:\n",
      "            z_dens_na[bz] += 1.0\n",
      "        elif p.type == types[\"Cl\"]:\n",
      "            z_dens_cl[bz] += 1.0\n",
      "    cnt += 1"
     ],
     "language": "python",
     "metadata": {},
     "outputs": []
    },
    {
     "cell_type": "markdown",
     "metadata": {},
     "source": [
      "Finally, we calculate the average, normalize the data with the bin volume and save it to\n",
      "a file using NumPy's <tt>savetxt</tt> command."
     ]
    },
    {
     "cell_type": "code",
     "collapsed": false,
     "input": [
      "# Analysis\n",
      "\n",
      "# Average / Normalize with Volume\n",
      "z_dens_na /= (cnt * box_volume/bins)\n",
      "z_dens_cl /= (cnt * box_volume/bins)\n",
      "z_values = numpy.linspace(0,box_l,num=bins)\n",
      "res = numpy.column_stack((z_values,z_dens_na,z_dens_cl))\n",
      "numpy.savetxt(\"z_density.data\",res,\n",
      "        header=\"#z rho_na(z) rho_cl(z)\")"
     ],
     "language": "python",
     "metadata": {},
     "outputs": []
    },
    {
     "cell_type": "markdown",
     "metadata": {},
     "source": [
      "Finally we can plot the density of the ions."
     ]
    },
    {
     "cell_type": "code",
     "collapsed": false,
     "input": [
      "%matplotlib inline\n",
      "import matplotlib.pyplot as plt\n",
      "plt.figure(figsize=(10,6), dpi=80)\n",
      "plt.plot(z_values,z_dens_na, label='Na')\n",
      "plt.plot(z_values,z_dens_cl, label='Cl')\n",
      "plt.xlabel('$z$', fontsize=20)\n",
      "plt.ylabel('Density', fontsize=20)\n",
      "plt.legend(fontsize=16)\n",
      "plt.show()"
     ],
     "language": "python",
     "metadata": {},
     "outputs": []
    },
    {
     "cell_type": "markdown",
     "metadata": {},
     "source": [
      "The resulting density plot is very noisy due to insufficient sampling, but should show a slight depletion of the smaller Na atoms\n",
      "at the walls. Now try to put in an electric field that represents an applied voltage of $15 \\ \\mathrm{V}$ between the walls and compare the results.\n",
      "The density data should show strong layering at the walls, decaying towards the system center.\n",
      "The complete script is at <tt>/doc/tutorials/python/02-charged_system/nacl_units_confined.py.</tt>\n",
      "In the interactive script <tt>nacl_units_confined_vis.py</tt>, you can increase/decrease the electric field with the keys *u/j* (at your own risk)."
     ]
    },
    {
     "cell_type": "markdown",
     "metadata": {},
     "source": [
      "<figure>\n",
      "    <img src='figures/nacl_units_confined.jpg' alt='missing' style=\"width: 800px;\"/>\n",
      "    <center>\n",
      "    <figcaption>Figure 4: Snapshot and densities along the z-Axis with applied electric field for the ion species.</figcaption>\n",
      "</figure>"
     ]
    },
    {
     "cell_type": "code",
     "collapsed": false,
     "input": [],
     "language": "python",
     "metadata": {},
     "outputs": []
    }
   ],
   "metadata": {}
  }
 ]
}