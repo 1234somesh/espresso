{
 "cells": [
  {
   "cell_type": "markdown",
   "metadata": {},
   "source": [
    "# Excess Chemical Potential of a Salt Solution: Widom Particle Insertion Method\n",
    "\n",
    "## Table of Contents\n",
    "* [Introduction](#Introduction)\n",
    "* [Widom Particle Insertion Method](#Widom-Particle-Insertion-Method)\n",
    "* [Simulation Setup](#Simulation-Setup)\n",
    "* [Production Run and Comparison with Analytical Theory](#Production-Run-and-Comparison-with-Analytical-Theory)\n",
    "* [Further Exercises](#Further-Exercises)\n",
    "* [References](#References)"
   ]
  },
  {
   "cell_type": "markdown",
   "metadata": {},
   "source": [
    "## Introduction\n",
    "\n",
    "The combination of Monte Carlo and Molecular Dynamic simulations offers many possibilities beyond using each technique solely on their own.\n",
    "In general, MD simulations are restricted to relatively small time scales and, depending on the modeled interactions, to rather small particle numbers as well.\n",
    "However, they have the advantage of computing collective particle movements with the correct dynamics.\n",
    "The time between two MD steps is bound by the fastest motion of the system of interest (for all-atom MD, those are atomic vibrations).\n",
    "\n",
    "MC simulations, on the other hand, do not have such limitations.\n",
    "Even nonphysical moves can be considered, still leading to results with correct thermodynamic properties.\n",
    "However, no valuable information of the system's dynamics can be obtained.\n",
    "The combination of MD and MC moves allows us to mimic any ensemble.\n",
    "\n",
    "In this tutorial, you will compute the chemical potential of a monovalent salt solution by using a combination of MD and MC techniques.\n",
    "The chemical potential is important for simulating chemical equilibria and systems where particles can be exchanged with an external reservoir, which is too large to be simulated explicitly, or between two subsystems."
   ]
  },
  {
   "cell_type": "markdown",
   "metadata": {},
   "source": [
    "## Widom Particle Insertion Method\n",
    "\n",
    "In a pure MD simulation, there is no direct way to access the chemical potential, since it is related to changes in the particle number, which is fixed in an MD simulation.\n",
    "In 1963, Widom proposed a MC scheme to measure the chemical potential in a system using trial particle insertions <a href='#[1]'>[1]</a>.\n",
    "\n",
    "The chemical potential for species $\\alpha$ is defined as\n",
    "\\begin{equation}\n",
    "  \\mu_{\\alpha} = \\left(\\frac{\\partial G}{\\partial N_\\alpha} \\right)_{p,T,N_{\\beta\\neq\\alpha}} = \\left(\\frac{\\partial F}{\\partial N_\\alpha}\\right)_{V,T,N_{\\beta\\neq\\alpha}} \\quad .\\tag{1}\n",
    "  \\label{eq:chem_pot_def}\n",
    "\\end{equation}\n",
    "It corresponds to the difference in the Helmholtz free energy $F$ or Gibbs free energy $G$ for bringing a particle from infinity into the system, or equally for removing one particle, thus changing the particle number $N_\\alpha$.\n",
    "\n",
    "The canonical partition function is defined as\n",
    "\\begin{equation}\n",
    "  Z(N,V,T)=\\frac{V^N}{\\Lambda^{3N}N!} \\int_{\\left[0,1\\right]^{3N}}\\exp\\left(-\\beta U\\left(\\left\\{\\boldsymbol{s}^i\\right\\}\\right)\\right)\\,\\mathrm{d}\\boldsymbol{s}^1\\ldots\\mathrm{d}\\boldsymbol{s}^N  \\quad ,\\tag{2}\n",
    "  \\label{eq:partition_function}\n",
    "\\end{equation}\n",
    "where V is the volume, $\\Lambda=h/\\sqrt{2\\pi m k_\\mathrm{B}T}$ the thermal wavelength, $\\beta$ the inverse temperature, $U$ the interaction potential and $\\boldsymbol{s}^i$ the rescaled (dimensionless) particle coordinates.\n",
    "\n",
    "The Helmholtz free energy $F$ can be computed from the partition function: $F=-k_BT\\ln\\left(Z(N,V,T)\\right)$.\n",
    "For sufficiently large N, the following relation approximates the chemical potential:\n",
    "\\begin{align}\n",
    "  \\mu & = -k_\\mathrm{B}T \\ln\\left(\\frac{Z(N+1,V,T)}{Z(N,V,T)}\\right) \\label{eq:mu_limit_largeN}\\\\\n",
    "      & = \\mu_\\textrm{ideal}+\\mu_\\textrm{ex} \\nonumber\\\\\n",
    "      & = - k_\\mathrm{B}T\\ln\\left(\\frac{V}{\\Lambda^{3}(N+1)}\\right)+\\mu_\\textrm{ex}\\, , \\nonumber\\tag{3}\n",
    "\\end{align}\n",
    "where $\\mu_\\textrm{ideal}$ depends only on the density of the system, so it is a constant for systems with different interactions but the same particle density.\n",
    "The interesting part is the excess chemical potential $\\mu_\\textrm{ex}$, which can be expressed in a form involving a canonical average:\n",
    "\\begin{equation}\n",
    "  \\mu-\\mu_\\textrm{ideal}=\\mu_\\textrm{ex}=-k_\\mathrm{B}T\\ln\\left(\\int_{\\left[0,1\\right]^{3}}\\langle\\exp(-\\beta\\Delta U)\\rangle\\,\\mathrm{d}\\boldsymbol{s}^{N+1}\\right)\\quad .\\tag{4}\n",
    "  \\label{eq:mu_ex}\n",
    "\\end{equation}\n",
    " \n",
    "In the above expression, $\\Delta U$ is the energy difference of the system before and after the insertion of a test particle at a random position.\n",
    "The value of the integral in this equation can be computed in a simulation in the canonical ensemble (e.g. using Langevin dynamics) by averaging over many configurations of the system (corresponding to the average $\\langle ...\\rangle$) and many positions of the trial insertion (corresponding to the integral).\n",
    "\n",
    "The system under consideration here consists of $N$ monovalent ion pairs in an implicit solvent with $\\epsilon_\\text{r} = 78$, which is a simple model (``restricted primitive model'') for an aqueous salt solution of e.g. NaCl.\n",
    "In order to avoid that particles overlap, the Weeks-Chandler-Andersen potential is used.\n",
    "In the unit system employed in the simulations, the following parameters will be used:\n",
    "\n",
    "\\begin{align*}\n",
    "\\lambda_b=2.0\\,,\\quad k_BT=1.0\\,,\\quad z_i=1.0\\,,\\quad N=N_i=50\n",
    "\\end{align*}\n",
    "\n",
    "Because the investigated system is a monovalent salt the concentrations (and thus, densities) of positive and negative ions are the same.\n",
    "The method of Widom insertion introduced can be used to calculate the excess chemical potential for this system.\n",
    "However, we can not calculate the excess chemical potential of a single ion (a quantitity that is also not accessible in experiments) but only that of an ion pair, which is given by\n",
    "\\begin{align}\n",
    " \\mu_\\textrm{ex}^\\textrm{pair} = \\mu_\\textrm{ex}^+ + \\mu_\\textrm{ex}^- =\n",
    "  \\mu-\\mu_\\textrm{ideal}=\\mu_\\textrm{ex}=-k_BT\\ln\\left(\\int_{\\left[0,1\\right]^{6}}\\langle\\exp(-\\beta\\Delta U)\\rangle \\mathrm{d}\\boldsymbol{s}_{+}^{N+1}\\mathrm{d}\\boldsymbol{s}_{-}^{N+1}\\right).\\tag{5}\n",
    "\\end{align}\n",
    "Always inserting ion pairs ensures the overall electroneutrality of the system and prevents a diverging electrostatic energy.\n"
   ]
  },
  {
   "cell_type": "markdown",
   "metadata": {},
   "source": [
    "# Simulation Setup\n",
    "\n",
    "In a first step, we import the required **ESPResSo** features as well as some additional python modules:"
   ]
  },
  {
   "cell_type": "code",
   "execution_count": 21,
   "metadata": {},
   "outputs": [],
   "source": [
    "import espressomd\n",
    "import espressomd.electrostatics\n",
    "from espressomd import reaction_methods\n",
    "\n",
    "espressomd.assert_features(['ELECTROSTATICS', 'P3M', 'WCA'])\n",
    "\n",
    "import tqdm\n",
    "import numpy as np\n",
    "%matplotlib inline\n",
    "import matplotlib.pyplot as plt\n",
    "\n",
    "np.random.seed(42)\n",
    "plt.rcParams.update({'font.size': 18})"
   ]
  },
  {
   "cell_type": "markdown",
   "metadata": {},
   "source": [
    "Next, we define the simulation units and set the parameters which define our system and the interactions:"
   ]
  },
  {
   "cell_type": "code",
   "execution_count": 22,
   "metadata": {},
   "outputs": [],
   "source": [
    "# units\n",
    "# we assume a unit system where the elementary charge, the thermal energy and the WCA length scale (sigma) are all 1\n",
    "sigma = 3.55e-10 # Sigma in SI units\n",
    "avo = 6.022e+23 # Avogadro's number in SI units\n",
    "PREF = 1/(10**3 * avo * sigma**3) # Prefactor to mol/L\n",
    "BJERRUM_LENGTH = 2.0\n",
    "\n",
    "# Weeks-Chandler-Andersen interaction\n",
    "LJ_EPSILON = 1.0\n",
    "LJ_SIGMA = 1.0\n",
    "\n",
    "# Langevin-Thermostat\n",
    "KT = 1.0\n",
    "GAMMA = 1.0\n",
    "\n",
    "# number of salt ion pairs\n",
    "N_ION_PAIRS = 50\n",
    "\n",
    "# particle types and charges\n",
    "types = {\n",
    "    \"Xplus\": 1, # Positive ions\n",
    "    \"Xminus\": 2, # Negative ions\n",
    "}\n",
    "\n",
    "charges = {\n",
    "    \"Xplus\": 1.0,\n",
    "    \"Xminus\": -1.0,\n",
    "}"
   ]
  },
  {
   "cell_type": "markdown",
   "metadata": {},
   "source": [
    "Now we are ready to set up the system. Because we will need to rescale the simulation box, we will initially only set up the short-range interactions.\n",
    "\n",
    "**Exercise:**\n",
    "* Set up a system with box length $10\\,\\sigma$, integrator time step $\\Delta t=0.01 \\,\\tau$ ($\\tau$ is the Lennard-Jones timescale, i.e. equal to 1 in the employed unit system) and Verlet skin width of $\\delta = 0.4\\sigma$\n",
    "* Add a total of ``N_ION_PAIRS`` ion pairs at random positions to the simulation box\n",
    "* Add a WCA interaction (purely repulsive Lennard-Jones interaction) between the particles\n",
    "\n",
    "**Hints:**\n",
    "* Refer to the documentation to find out how to set up the WCA interaction ([Non-bonded Interactions](https://espressomd.github.io/doc/inter_non-bonded.html))"
   ]
  },
  {
   "cell_type": "markdown",
   "metadata": {},
   "source": [
    "```python\n",
    "system = espressomd.System(box_l=3 * [10.0])\n",
    "\n",
    "system.time_step = 0.01\n",
    "system.cell_system.skin = 0.4\n",
    "\n",
    "system.part.add(type=[types[\"Xplus\"]]*N_ION_PAIRS, pos=np.random.rand(N_ION_PAIRS, 3) * 20.0, q = [charges[\"Xplus\"]]*N_ION_PAIRS)\n",
    "system.part.add(type=[types[\"Xminus\"]]*N_ION_PAIRS, pos=np.random.rand(N_ION_PAIRS, 3) * 20.0, q = [charges[\"Xminus\"]]*N_ION_PAIRS)\n",
    "\n",
    "for i in types:\n",
    "    for j in types:\n",
    "        system.non_bonded_inter[types[i], types[j]].wca.set_params(epsilon=LJ_EPSILON, sigma=LJ_SIGMA)\n",
    "```"
   ]
  },
  {
   "cell_type": "code",
   "execution_count": null,
   "metadata": {},
   "outputs": [],
   "source": []
  },
  {
   "cell_type": "markdown",
   "metadata": {},
   "source": [
    "**Exercise:**\n",
    "* Implement a function ``system_setup(c_salt_SI) `` that takes the desired salt concentration ``c_salt_SI`` in SI-units (mol/l) as an argument and rescales the simulation box accordingly\n",
    "* Afterwards, the function should also add the P3M actor to account for electrostatic interactions\n",
    "\n",
    "**Hints:**\n",
    "* Use the prefactor ``PREF `` defined above to convert the concentration from SI-units to the unit system employed in the simulation\n",
    "* An accuracy of $10^{-3}$ for the P$^3$M should be enough for this exercise"
   ]
  },
  {
   "cell_type": "markdown",
   "metadata": {},
   "source": [
    "```python\n",
    "def system_setup(c_salt_SI):\n",
    "    print(\"Salt concentration (in mol/l):\", c_salt_SI)\n",
    "    c_salt_sim = c_salt_SI / PREF\n",
    "    box_length = np.power(N_ION_PAIRS / c_salt_sim, 1.0/3.0)\n",
    "    \n",
    "    # rescale box\n",
    "    system.change_volume_and_rescale_particles(d_new=box_length)\n",
    "    print(\"Rescaled the simulation box.\")\n",
    "    \n",
    "    # add P3M\n",
    "    p3m = espressomd.electrostatics.P3M(prefactor=BJERRUM_LENGTH, accuracy=1e-3)\n",
    "    system.actors.add(p3m)\n",
    "    p3m_params = p3m.get_params()\n",
    "```"
   ]
  },
  {
   "cell_type": "code",
   "execution_count": null,
   "metadata": {},
   "outputs": [],
   "source": []
  },
  {
   "cell_type": "markdown",
   "metadata": {},
   "source": [
    "**Exercise:**\n",
    "* Implement a function ``warmup `` that removes potential overlaps between particles\n",
    "* After the overlaps have been removed, the integrator should be switched to Velocity-Verlet (with Langevin thermostat) in order to perform a warmup integration"
   ]
  },
  {
   "cell_type": "markdown",
   "metadata": {},
   "source": [
    "``` python\n",
    "def warmup():\n",
    "    system.integrator.set_steepest_descent(f_max=0, gamma=1e-3, max_displacement=0.01)\n",
    "    \n",
    "    print(\"Removing overlaps...\")\n",
    "    for i in range(100):\n",
    "        system.integrator.run(100)\n",
    "        \n",
    "    system.integrator.set_vv()\n",
    "    system.thermostat.set_langevin(kT=KT, gamma=GAMMA, seed=42)\n",
    "    \n",
    "    print(\"Running warmup integration...\")\n",
    "    for i in range(100):\n",
    "        system.integrator.run(1000)\n",
    "```"
   ]
  },
  {
   "cell_type": "code",
   "execution_count": null,
   "metadata": {},
   "outputs": [],
   "source": []
  },
  {
   "cell_type": "markdown",
   "metadata": {},
   "source": [
    "**Exercise:**\n",
    "* Add the functionality to perform Widom insertion moves. Make sure that you always insert an ion pair in order to conserve the electroneutrality of the system.\n",
    "\n",
    "\n",
    "**Hints:**\n",
    "* Refer to the documentation to find out how to set up Widom particle insertion ([Widom Insertion](https://https://espressomd.github.io/doc/reaction_methods.html#widom-insertion-for-homogeneous-systems))"
   ]
  },
  {
   "cell_type": "markdown",
   "metadata": {},
   "source": [
    "```python\n",
    "# add reaction for Widom particle insertion\n",
    "widom = espressomd.reaction_methods.WidomInsertion(kT=KT, seed=42)\n",
    "widom.add_reaction(reactant_types=[], reactant_coefficients=[], product_types=[types[\"Xplus\"], types[\"Xminus\"]], product_coefficients=[1, 1], default_charges={types[\"Xplus\"]: charges[\"Xplus\"], types[\"Xminus\"]: charges[\"Xminus\"]})\n",
    "widom.set_non_interacting_type(type=len(types)+1)\n",
    "```"
   ]
  },
  {
   "cell_type": "markdown",
   "metadata": {},
   "source": [
    "**Exercise:**\n",
    "* Implement a function ``calculate_excess_chemical_potential `` that performs Widom particle insertion and calculates the chemical potential at the end\n",
    "* After the sampling loop, the function should remove all actors and turn off the thermostat"
   ]
  },
  {
   "cell_type": "markdown",
   "metadata": {},
   "source": [
    "```python\n",
    "def calculate_excess_chemical_potential():\n",
    "    potential_energy_samples = []\n",
    "    \n",
    "    print(\"Sampling...\")\n",
    "    for i in tqdm.tqdm(range(500)):\n",
    "        system.integrator.run(100)\n",
    "        \n",
    "        for j in range(100):\n",
    "           potential_energy_samples.append(widom.calculate_particle_insertion_potential_energy(reaction_id=0)) \n",
    "        \n",
    "    excess_chemical_potential, error_excess_chemical_potential = widom.calculate_excess_chemical_potential(particle_insertion_potential_energy_samples=potential_energy_samples)\n",
    "    print(\"Done. Excess chemical potential:\", excess_chemical_potential, \"\\n\")\n",
    "    \n",
    "    system.actors.clear()\n",
    "    system.thermostat.turn_off()\n",
    "    return excess_chemical_potential, error_excess_chemical_potential\n",
    "```"
   ]
  },
  {
   "cell_type": "code",
   "execution_count": null,
   "metadata": {},
   "outputs": [],
   "source": []
  },
  {
   "cell_type": "markdown",
   "metadata": {},
   "source": [
    "# Production Run and Comparison with Analytical Theory"
   ]
  },
  {
   "cell_type": "markdown",
   "metadata": {},
   "source": [
    "Now we are ready to perform measurements of the excess chemical potential using the Widom particle insertion method.\n",
    "\n",
    "**Exercise:**\n",
    "* Perform chemical potential measurements using the Widom method at different salt concentrations $c_{\\text{salt}}\\in\\left\\{0.001\\,\\mathrm{M},\\, 0.003\\,\\mathrm{M},\\,0.01\\,\\mathrm{M},\\, 0.03\\,\\mathrm{M},\\,0.1\\,\\mathrm{M},\\, 0.3\\,\\mathrm{M}\\right\\}$\n",
    "* Plot the measured excess chemical potential as a function of $c_{\\text{salt}}$.\n",
    "* Explain the observed behaviour qualitatively\n",
    "* How do you expect the excess chemical potential to behave in the limit $c_{\\text{salt}}\\rightarrow 0$?\n",
    "\n",
    "**Hints:**\n",
    "* The plot of the excess chemical potential is best viewed on a logarithmically scaled $x$-axis"
   ]
  },
  {
   "cell_type": "markdown",
   "metadata": {},
   "source": [
    "```python\n",
    "salt_concentrations = [0.001, 0.003, 0.01, 0.03, 0.1, 0.3]\n",
    "excess_chemical_potentials = []\n",
    "import time\n",
    "start = time.time()\n",
    "for c_salt_SI in salt_concentrations:\n",
    "    system_setup(c_salt_SI)\n",
    "    warmup()\n",
    "    excess_chemical_potentials.append(calculate_excess_chemical_potential())\n",
    "end = time.time()\n",
    "print(\"Elapsed time:\", end-start)\n",
    "```"
   ]
  },
  {
   "cell_type": "code",
   "execution_count": null,
   "metadata": {},
   "outputs": [],
   "source": []
  },
  {
   "cell_type": "markdown",
   "metadata": {},
   "source": [
    "```python\n",
    "fig = plt.figure(figsize=(10, 8))\n",
    "plt.errorbar(salt_concentrations, np.asarray(excess_chemical_potentials)[:,0], yerr=np.asarray(excess_chemical_potentials)[:,1], linestyle=\"none\", marker=\"s\", markersize=10.0, label=r\"Widom Method\")\n",
    "plt.xlabel(r\"salt concentration $c_\\mathrm{{salt}}$ in mol/l\")\n",
    "plt.ylabel(\"excess chemical potential $\\mu_\\mathrm{{ex}}/k_\\mathrm{{B}}T$\")\n",
    "plt.xscale(\"log\")\n",
    "plt.xlim((6e-4, 0.6))\n",
    "plt.ylim((-0.8, 0.1))\n",
    "plt.legend()\n",
    "plt.show()\n",
    "```"
   ]
  },
  {
   "cell_type": "code",
   "execution_count": null,
   "metadata": {},
   "outputs": [],
   "source": []
  },
  {
   "cell_type": "markdown",
   "metadata": {},
   "source": [
    "There exists a number of analytical and phenomenological theories to describe \n",
    "the excess chemical potential of salt solutions using analytical expressions. Examples are the Debye-Hückel (DH) equation,\n",
    "\\begin{equation}\n",
    "\\mu_\\textrm{ex}^\\textrm{DH}=-2\\cdot k_\\mathrm{B}T\\cdot 1.17 \\frac{\\sqrt{c_\\mathrm{{salt}}/1\\,\\mathrm{M}}}{1+\\sqrt{c_\\mathrm{{salt}}/1\\,\\mathrm{M}}}\n",
    "\\end{equation}\n",
    "and the Davies equation,\n",
    "\\begin{equation}\n",
    "\\mu_\\textrm{ex}^\\textrm{Davies}=-2\\cdot k_\\mathrm{B}T\\cdot 1.17 \\left(\\frac{\\sqrt{c_\\mathrm{{salt}}/1\\,\\mathrm{M}}}{1+\\sqrt{c_\\mathrm{{salt}}/1\\,\\mathrm{M}}}-0.2\\cdot c_\\mathrm{{salt}}/1\\,\\mathrm{M}\\right)\n",
    "\\end{equation}\n",
    "which results from an empirical extension of the Debye-Hückel theory.\n",
    "\n",
    "**Exercise:**\n",
    "* Compare your simulation results with the Debye-Hückel theory and the Davies equation by plotting all three curves in a single plot"
   ]
  },
  {
   "cell_type": "markdown",
   "metadata": {},
   "source": [
    "```python\n",
    "def davies_equation(ionic_strength):\n",
    "    A = 0.51\n",
    "    mu_ex = - 2 * A * (np.sqrt(ionic_strength) / (1 + np.sqrt(ionic_strength)) - 0.2 * ionic_strength) / np.log10(np.exp(1))\n",
    "    return mu_ex\n",
    "\n",
    "def dh_equation(ionic_strength):\n",
    "    A = 0.51\n",
    "    mu_ex = - 2 * A * (np.sqrt(ionic_strength) / (1 + np.sqrt(ionic_strength))) / np.log10(np.exp(1))\n",
    "    return mu_ex\n",
    "\n",
    "concentration_range = np.logspace(-4, 0.0, num=500, base=10)\n",
    "\n",
    "fig = plt.figure(figsize=(10, 8))\n",
    "plt.plot(concentration_range, davies_equation(concentration_range), label=r\"Davies equation\", color=\"r\")\n",
    "plt.plot(concentration_range, dh_equation(concentration_range), label=r\"Debye-Hückel equation\", color=\"black\", linestyle=\"dashed\")\n",
    "plt.errorbar(salt_concentrations, np.asarray(excess_chemical_potentials)[:,0], yerr=np.asarray(excess_chemical_potentials)[:,1], linestyle=\"none\", marker=\"s\", markersize=10.0, label=r\"Widom Method\")\n",
    "plt.xlabel(r\"salt concentration $c_\\mathrm{{salt}}$ in mol/l\")\n",
    "plt.ylabel(\"excess chemical potential $\\mu_\\mathrm{{ex}}/k_\\mathrm{{B}}T$\")\n",
    "plt.xscale(\"log\")\n",
    "plt.xlim((6e-4, 0.6))\n",
    "plt.ylim((-0.8, 0.1))\n",
    "plt.legend()\n",
    "plt.show()\n",
    "```"
   ]
  },
  {
   "cell_type": "code",
   "execution_count": null,
   "metadata": {},
   "outputs": [],
   "source": []
  },
  {
   "cell_type": "markdown",
   "metadata": {},
   "source": [
    "# Further Exercises\n",
    "\n",
    "1. Derive equation (4) starting from the canonical partition function.\n",
    "2. What problems would you run into if you tried to use the Widom insertion method with large molecules (e.g. polymers) as test particles?"
   ]
  },
  {
   "cell_type": "markdown",
   "metadata": {},
   "source": [
    "# References"
   ]
  },
  {
   "cell_type": "markdown",
   "metadata": {},
   "source": [
    "<a id='[1]'></a>[1] B. Widom. Some topics in the theory of fluids. Journal of Chemical Physics, 39:2808,\n",
    "1963."
   ]
  }
 ],
 "metadata": {
  "kernelspec": {
   "display_name": "Python 3",
   "language": "python",
   "name": "python3"
  },
  "language_info": {
   "codemirror_mode": {
    "name": "ipython",
    "version": 3
   },
   "file_extension": ".py",
   "mimetype": "text/x-python",
   "name": "python",
   "nbconvert_exporter": "python",
   "pygments_lexer": "ipython3",
   "version": "3.8.10"
  }
 },
 "nbformat": 4,
 "nbformat_minor": 4
}
